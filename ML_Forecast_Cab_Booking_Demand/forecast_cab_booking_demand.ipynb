{
  "metadata": {
    "kernelspec": {
      "language": "python",
      "display_name": "Python 3",
      "name": "python3"
    },
    "language_info": {
      "name": "python",
      "version": "3.7.12",
      "mimetype": "text/x-python",
      "codemirror_mode": {
        "name": "ipython",
        "version": 3
      },
      "pygments_lexer": "ipython3",
      "nbconvert_exporter": "python",
      "file_extension": ".py"
    },
    "colab": {
      "provenance": [],
      "collapsed_sections": [
        "csL44u9JEQky",
        "8RQg3JnuEQk1",
        "hU4L-OF_EQk2",
        "9X3nj5ZwEQk4",
        "8EdxMo_CEQk5",
        "Rn3_-d3JEQk6",
        "iUcO-PfUEQk7",
        "2dhr0FBnEQlB",
        "a_te3gObEQlD",
        "4wWbs2BPnggs",
        "WGMlXsoyEQlE",
        "j2ZhVVGVEQlE",
        "M0n5gKiqerLo",
        "veJt6ixEEQlH"
      ]
    }
  },
  "nbformat_minor": 0,
  "nbformat": 4,
  "cells": [
    {
      "cell_type": "markdown",
      "source": [
        "# Project 1 Forecast Cab Booking\n",
        "\n",
        "[1. Import the required libraries and load the training and testing dataset \t](#1.-Import-the-required-libraries-and-load-the-training-and-testing-dataset)\n",
        "\n",
        "[2. Analyze the dataset and write your observations](#2.-Analyze-the-dataset-and-write-your-observations)\n",
        "                [a. Check the shape of the training and testing set ](#a.-check-the-shape-of-the-training-and-testing-set)\n",
        "[b. Print the data types of each column](#b.-Print-the-data-types-of-each-column)\\\n",
        "[c. Check the missing values present in the dataset ](#c.-Check-the-missing-values-present-in-the-dataset)\n",
        "                \n",
        "[3. Perform Feature Engineering: \t\t\t\t\t](#3.perform-feature-engineering:) \\\n",
        "[a. Create new columns date, hour, weekDay, month from datetime column](#a.-create-new-columns-date,-hour,-weekday,-month-from-datetime-column)\\\n",
        "[b. Coerce the datatype of season, holiday, workingday, and weather to category ](#b.-coerce-the-datatype-of-season,-holiday,-workingday,-and-weather-to-category)\\\n",
        "[c. Drop the datetime column as we have already extracted useful features from it ](#c.-drop-the-datetime-column-as-we-have-already-extracted-useful-features-from-it)"
      ],
      "metadata": {
        "id": "r1PFQAuqEQkv"
      }
    },
    {
      "cell_type": "markdown",
      "source": [
        "[4. Perform Outlier Analysis: ](#4.-perform-outlier-analysis:)\t\t\\\n",
        "[a. Plot Box plots across various features like season, hour of the day, working_day, etc to see if there are any Outlier and note down your inference ](#a.-plot-box-plots-across-various-features-like-season,-hour-of-the-day,-working_day,-etc-to-see-if-there-are-any-outlier-and-note-down-your-inference)\\\n",
        "[b. Remove the outliers present in the dataset ](#b.-remove-the-outliers-present-in-the-dataset)\n",
        "\n",
        "\n",
        "[5. Perform Correlation Analysis:](#5.-perform-correlation-analysis:)\t\t\t\t\t\\\n",
        "[a. Plot a correlation plot between 'total booking' and ['temp', 'atemp', 'humidity', 'windspeed']](#a.-plot-a-correlation-plot-between-'total-booking'-and-['temp',-'atemp',-'humidity',-'windspeed'])\\\n",
        "[b. Write down your inference in the markdown cell ](#b.-write-down-your-inference-in-the-markdown-cell)\n",
        "\n",
        "[6. Perform Data Visualization:](#6.-perform-data-visualization:)\n",
        "[a. Visualize distribution of data: total_booking column and plot the probability distribution plot for the column as well](#a.-visualize-distribution-of-data:-total_booking-column-and-plot-the-probability-distribution-plot-for-the-column-as-well)\\\n",
        "[b. Visualize total_booking vs (Month, Season, Hour, Weekday, Usertype)](#b.-visualize-total_booking-vs-(month,-season,-hour,-weekday,-usertype))\\\n",
        "[c. Use Histograms to plot all the continuous variables present in the data](#c.-use-histograms-to-plot-all-the-continuous-variables-present-in-the-data)\n",
        "\n",
        "[7. Convert the categorical variables into one hot vector](#7.-convert-the-categorical-variables-into-one-hot-vector)\n",
        "\n",
        "[8. Split your dataset for training and testing](#8.-split-your-dataset-for-training-and-testing)"
      ],
      "metadata": {
        "id": "BUi-qFwvyx8W"
      }
    },
    {
      "cell_type": "markdown",
      "source": [
        "\n",
        "[9. Fit various ml_models (Random Forest Regressor, Ada Boost Regressor, Bagging Regressor, SVR, and K-Neighbors Regressor)](#9.-fit-various-ml_models-(random-forest-regressor,-ada-boost-regressor,-bagging-regressor,-svr,-and-k-neighbors-regressor))\n",
        "\n",
        "[10. Display a Factor plot to visualize the RMSE values achieved by different modeling algorithm](#10.-display-a-factor-plot-to-visualize-the-rmse-values-achieved-by-different-modeling-algorithm)\n",
        "\n",
        "[11. Perform Hyper-parameter tuning on the best model using GridSearchCV and print the best parameters using model.best_params_](#11.-perform-hyper-parameter-tuning-on-the-best-model-using-gridsearchcv-and-print-the-best-parameters-using-model.best_params_)\n",
        "\n",
        "[12. Perform prediction on the test set and print the mean_squared_log_error](#12.-perform-prediction-on-the-test-set-and-print-the-mean_squared_log_error)"
      ],
      "metadata": {
        "id": "I_chLRniy2yw"
      }
    },
    {
      "cell_type": "markdown",
      "source": [
        "## Libraries and dataset\n",
        "**Required libraries**\n",
        "```\n",
        "gdown\n",
        "matplotlib\n",
        "seaborn\n",
        "numpy\n",
        "pandas\n",
        "scikit-learn\n",
        "scipy\n",
        "xgboost\n",
        "```\n",
        "\n",
        "**Uncomment the below cell to download the required libraries**"
      ],
      "metadata": {
        "id": "csL44u9JEQky"
      }
    },
    {
      "cell_type": "code",
      "source": [
        "# !pip install --upgrade --no-cache gdown\n",
        "# !pip install seaborn\n",
        "# !pip install -U scikit-learn\n",
        "# !pip install xgboost\n",
        "# !pip install matplotlib\n",
        "# !pip install numpy\n",
        "# !pip install opencv-python\n",
        "# !pip install pandas"
      ],
      "metadata": {
        "execution": {
          "iopub.status.busy": "2023-03-07T12:23:27.474709Z",
          "iopub.execute_input": "2023-03-07T12:23:27.475501Z",
          "iopub.status.idle": "2023-03-07T12:23:41.192596Z",
          "shell.execute_reply.started": "2023-03-07T12:23:27.475443Z",
          "shell.execute_reply": "2023-03-07T12:23:41.191276Z"
        },
        "trusted": true,
        "id": "02hlLaRPEQkz"
      },
      "execution_count": null,
      "outputs": []
    },
    {
      "cell_type": "code",
      "source": [
        "import os\n",
        "import gdown\n",
        "import zipfile\n",
        "\n",
        "# Set path to check for name.zip file\n",
        "path = \".\"\n",
        "\n",
        "# Check if file exists in path\n",
        "if os.path.exists(os.path.join(path, \"proj-1_data.zip\")):\n",
        "    # Unzip the file\n",
        "    with zipfile.ZipFile(os.path.join(path, \"proj-1_data.zip\"), 'r') as zip_ref:\n",
        "        zip_ref.extractall(path)\n",
        "else:\n",
        "    # Download the zip file using gdown id\n",
        "    # https://drive.google.com/file/d/1RyHFgBNFspb15YHJGGb1NMB9lbM-n_W1/view?usp=share_link\n",
        "    url = 'https://drive.google.com/uc?id=1RyHFgBNFspb15YHJGGb1NMB9lbM-n_W1'\n",
        "    output = os.path.join(path, \"proj-1_data.zip\")\n",
        "    gdown.download(url, output, quiet=True)\n",
        "    # Unzip the file\n",
        "    with zipfile.ZipFile(os.path.join(path, \"proj-1_data.zip\"), 'r') as zip_ref:\n",
        "        zip_ref.extractall(path)\n"
      ],
      "metadata": {
        "execution": {
          "iopub.status.busy": "2023-03-07T12:23:41.195697Z",
          "iopub.execute_input": "2023-03-07T12:23:41.196119Z",
          "iopub.status.idle": "2023-03-07T12:23:41.999866Z",
          "shell.execute_reply.started": "2023-03-07T12:23:41.196077Z",
          "shell.execute_reply": "2023-03-07T12:23:41.998325Z"
        },
        "trusted": true,
        "id": "r1BnoTIvEQk0"
      },
      "execution_count": null,
      "outputs": []
    },
    {
      "cell_type": "markdown",
      "source": [
        "## 1. Import the required libraries and load the training and testing dataset\n",
        "\n",
        "1. Import the required libraries."
      ],
      "metadata": {
        "id": "8RQg3JnuEQk1"
      }
    },
    {
      "cell_type": "code",
      "source": [
        "%cd proj-1/data"
      ],
      "metadata": {
        "execution": {
          "iopub.status.busy": "2023-03-07T12:23:42.001409Z",
          "iopub.execute_input": "2023-03-07T12:23:42.002006Z",
          "iopub.status.idle": "2023-03-07T12:23:42.011809Z",
          "shell.execute_reply.started": "2023-03-07T12:23:42.001965Z",
          "shell.execute_reply": "2023-03-07T12:23:42.010136Z"
        },
        "trusted": true,
        "colab": {
          "base_uri": "https://localhost:8080/"
        },
        "id": "7KnIYtBQEQk1",
        "outputId": "e5bdeeba-93ae-4a6b-d5cf-bc97b1b02a26"
      },
      "execution_count": null,
      "outputs": [
        {
          "output_type": "stream",
          "name": "stdout",
          "text": [
            "/content/proj-1/data\n"
          ]
        }
      ]
    },
    {
      "cell_type": "code",
      "source": [
        "# Importing required libraries\n",
        "import calendar\n",
        "import numpy as np\n",
        "import matplotlib.pyplot as plt\n",
        "import pandas as pd\n",
        "import seaborn as sns\n",
        "\n",
        "from datetime import datetime\n",
        "from scipy import stats\n",
        "from sklearn.model_selection import (train_test_split, GridSearchCV, RandomizedSearchCV)\n",
        "from sklearn.metrics import (mean_squared_error, mean_squared_log_error)\n",
        "from xgboost import XGBRFRegressor\n",
        "from sklearn.tree import DecisionTreeRegressor\n",
        "from sklearn.ensemble import GradientBoostingRegressor, RandomForestRegressor, AdaBoostRegressor, BaggingRegressor\n",
        "from sklearn.svm import SVR\n",
        "from sklearn.neighbors import KNeighborsRegressor\n",
        "\n",
        "%matplotlib inline\n",
        "sns.set_palette('cubehelix')"
      ],
      "metadata": {
        "id": "FQPAxXR2gZFs",
        "papermill": {
          "duration": 2.352319,
          "end_time": "2021-03-28T12:29:30.424612",
          "exception": false,
          "start_time": "2021-03-28T12:29:28.072293",
          "status": "completed"
        },
        "tags": [],
        "execution": {
          "iopub.status.busy": "2023-03-07T12:23:42.015687Z",
          "iopub.execute_input": "2023-03-07T12:23:42.016084Z",
          "iopub.status.idle": "2023-03-07T12:23:43.411663Z",
          "shell.execute_reply.started": "2023-03-07T12:23:42.016041Z",
          "shell.execute_reply": "2023-03-07T12:23:43.410242Z"
        },
        "trusted": true
      },
      "execution_count": null,
      "outputs": []
    },
    {
      "cell_type": "markdown",
      "source": [
        "2. Load the training.and testing data."
      ],
      "metadata": {
        "id": "AEtpyiZcEQk1"
      }
    },
    {
      "cell_type": "code",
      "source": [
        "# load the training and testing dataset\n",
        "train = pd.read_csv('train.csv')\n",
        "train_label = pd.read_csv('train_label.csv', header = None)\n",
        "test = pd.read_csv('test.csv')\n",
        "test_label = pd.read_csv('test_label.csv', header = None)"
      ],
      "metadata": {
        "id": "KO6ZSFb0gZlV",
        "papermill": {
          "duration": 0.219601,
          "end_time": "2021-03-28T12:29:30.777033",
          "exception": false,
          "start_time": "2021-03-28T12:29:30.557432",
          "status": "completed"
        },
        "tags": [],
        "execution": {
          "iopub.status.busy": "2023-03-07T12:23:43.413602Z",
          "iopub.execute_input": "2023-03-07T12:23:43.414145Z",
          "iopub.status.idle": "2023-03-07T12:23:43.457717Z",
          "shell.execute_reply.started": "2023-03-07T12:23:43.414088Z",
          "shell.execute_reply": "2023-03-07T12:23:43.456237Z"
        },
        "trusted": true
      },
      "execution_count": null,
      "outputs": []
    },
    {
      "cell_type": "markdown",
      "source": [
        "##  2. Analyze the dataset and write your observations\n",
        "### a. Check the shape of the training and testing set\n",
        "\n",
        "Calculate the shape of ```train```, ```train_label```, ```test``` and ```test_label```"
      ],
      "metadata": {
        "id": "hU4L-OF_EQk2"
      }
    },
    {
      "cell_type": "code",
      "source": [
        "print(f'Shape of the train:{train.shape}, train_label:{train_label.shape}, test:{test.shape}, test_label:{test_label.shape}')"
      ],
      "metadata": {
        "id": "H_Vv0MSci6Yk",
        "outputId": "eebf7f3a-3f87-4af4-f661-1b670708e1e6",
        "papermill": {
          "duration": 0.142123,
          "end_time": "2021-03-28T12:29:31.083978",
          "exception": false,
          "start_time": "2021-03-28T12:29:30.941855",
          "status": "completed"
        },
        "tags": [],
        "execution": {
          "iopub.status.busy": "2023-03-07T12:23:43.459863Z",
          "iopub.execute_input": "2023-03-07T12:23:43.460615Z",
          "iopub.status.idle": "2023-03-07T12:23:43.472669Z",
          "shell.execute_reply.started": "2023-03-07T12:23:43.460557Z",
          "shell.execute_reply": "2023-03-07T12:23:43.471449Z"
        },
        "trusted": true,
        "colab": {
          "base_uri": "https://localhost:8080/"
        }
      },
      "execution_count": null,
      "outputs": [
        {
          "output_type": "stream",
          "name": "stdout",
          "text": [
            "Shape of the train:(8708, 9), train_label:(8708, 1), test:(2178, 9), test_label:(2178, 1)\n"
          ]
        }
      ]
    },
    {
      "cell_type": "markdown",
      "source": [
        "### b. Print the data types of each column"
      ],
      "metadata": {
        "id": "rgISjNK9EQk2"
      }
    },
    {
      "cell_type": "code",
      "source": [
        "# Print the data types of each column\n",
        "print('Data types of columns:\\n', train.dtypes)"
      ],
      "metadata": {
        "execution": {
          "iopub.status.busy": "2023-03-07T12:23:43.474312Z",
          "iopub.execute_input": "2023-03-07T12:23:43.474738Z",
          "iopub.status.idle": "2023-03-07T12:23:43.501498Z",
          "shell.execute_reply.started": "2023-03-07T12:23:43.474698Z",
          "shell.execute_reply": "2023-03-07T12:23:43.499695Z"
        },
        "trusted": true,
        "colab": {
          "base_uri": "https://localhost:8080/"
        },
        "id": "g28PLKHFEQk3",
        "outputId": "9285b0dc-48c8-4940-944f-8ab9bdf90f5c"
      },
      "execution_count": null,
      "outputs": [
        {
          "output_type": "stream",
          "name": "stdout",
          "text": [
            "Data types of columns:\n",
            " datetime       object\n",
            "season         object\n",
            "holiday         int64\n",
            "workingday      int64\n",
            "weather        object\n",
            "temp          float64\n",
            "atemp         float64\n",
            "humidity        int64\n",
            "windspeed     float64\n",
            "dtype: object\n"
          ]
        }
      ]
    },
    {
      "cell_type": "markdown",
      "source": [
        "### c. Check the missing values present in the dataset\n",
        "\n",
        "Check if there are any missing values in the given dataset."
      ],
      "metadata": {
        "id": "OIrNanQHEQk3"
      }
    },
    {
      "cell_type": "code",
      "source": [
        "# Check if there are any missing values in the given dataset.\n",
        "print('Missing values in training set:\\n', train.isna().sum())\n",
        "print('Missing values in testing set:\\n', test.isna().sum())"
      ],
      "metadata": {
        "execution": {
          "iopub.status.busy": "2023-03-07T12:23:43.503309Z",
          "iopub.execute_input": "2023-03-07T12:23:43.504068Z",
          "iopub.status.idle": "2023-03-07T12:23:43.520910Z",
          "shell.execute_reply.started": "2023-03-07T12:23:43.504000Z",
          "shell.execute_reply": "2023-03-07T12:23:43.519238Z"
        },
        "trusted": true,
        "colab": {
          "base_uri": "https://localhost:8080/"
        },
        "id": "a9gQaycyEQk3",
        "outputId": "e1d9ed03-2e71-40bb-9f09-e50fafebffb7"
      },
      "execution_count": null,
      "outputs": [
        {
          "output_type": "stream",
          "name": "stdout",
          "text": [
            "Missing values in training set:\n",
            " datetime      0\n",
            "season        0\n",
            "holiday       0\n",
            "workingday    0\n",
            "weather       0\n",
            "temp          0\n",
            "atemp         0\n",
            "humidity      0\n",
            "windspeed     0\n",
            "dtype: int64\n",
            "Missing values in testing set:\n",
            " datetime      0\n",
            "season        0\n",
            "holiday       0\n",
            "workingday    0\n",
            "weather       0\n",
            "temp          0\n",
            "atemp         0\n",
            "humidity      0\n",
            "windspeed     0\n",
            "dtype: int64\n"
          ]
        }
      ]
    },
    {
      "cell_type": "code",
      "source": [
        "# Adding the data from train_label and test_label to the column Total_booking for the respective training and testing dataframes\n",
        "train['Total_booking']= train_label[0]\n",
        "test['Total_booking'] = test_label[0]"
      ],
      "metadata": {
        "id": "DAtiDZNki8xA",
        "papermill": {
          "duration": 0.152481,
          "end_time": "2021-03-28T12:29:31.364518",
          "exception": false,
          "start_time": "2021-03-28T12:29:31.212037",
          "status": "completed"
        },
        "tags": [],
        "execution": {
          "iopub.status.busy": "2023-03-07T12:23:43.522611Z",
          "iopub.execute_input": "2023-03-07T12:23:43.523383Z",
          "iopub.status.idle": "2023-03-07T12:23:43.540345Z",
          "shell.execute_reply.started": "2023-03-07T12:23:43.523305Z",
          "shell.execute_reply": "2023-03-07T12:23:43.538853Z"
        },
        "trusted": true
      },
      "execution_count": null,
      "outputs": []
    },
    {
      "cell_type": "code",
      "source": [
        "train.head()"
      ],
      "metadata": {
        "id": "FFRXLFw-jLDV",
        "outputId": "f2fdcb2e-7a7b-442b-eeec-0f9ff7480955",
        "papermill": {
          "duration": 0.16372,
          "end_time": "2021-03-28T12:29:31.657618",
          "exception": false,
          "start_time": "2021-03-28T12:29:31.493898",
          "status": "completed"
        },
        "tags": [],
        "execution": {
          "iopub.status.busy": "2023-03-07T12:23:43.541915Z",
          "iopub.execute_input": "2023-03-07T12:23:43.542289Z",
          "iopub.status.idle": "2023-03-07T12:23:43.584392Z",
          "shell.execute_reply.started": "2023-03-07T12:23:43.542251Z",
          "shell.execute_reply": "2023-03-07T12:23:43.582477Z"
        },
        "trusted": true,
        "colab": {
          "base_uri": "https://localhost:8080/",
          "height": 201
        }
      },
      "execution_count": null,
      "outputs": [
        {
          "output_type": "execute_result",
          "data": {
            "text/plain": [
              "           datetime  season  holiday  workingday              weather   temp  \\\n",
              "0    5/2/2012 19:00  Summer        0           1   Clear + Few clouds  22.14   \n",
              "1     9/5/2012 4:00    Fall        0           1   Clear + Few clouds  28.70   \n",
              "2    1/13/2011 9:00  Spring        0           1   Clear + Few clouds   5.74   \n",
              "3  11/18/2011 16:00  Winter        0           1   Clear + Few clouds  13.94   \n",
              "4   9/13/2011 13:00    Fall        0           1   Clear + Few clouds  30.34   \n",
              "\n",
              "    atemp  humidity  windspeed  Total_booking  \n",
              "0  25.760        77    16.9979            504  \n",
              "1  33.335        79    19.0012              5  \n",
              "2   6.060        50    22.0028            139  \n",
              "3  16.665        29     8.9981            209  \n",
              "4  33.335        51    19.0012            184  "
            ],
            "text/html": [
              "\n",
              "  <div id=\"df-57e4a39b-2ca0-4ce5-b3ea-4db4dd3fd988\">\n",
              "    <div class=\"colab-df-container\">\n",
              "      <div>\n",
              "<style scoped>\n",
              "    .dataframe tbody tr th:only-of-type {\n",
              "        vertical-align: middle;\n",
              "    }\n",
              "\n",
              "    .dataframe tbody tr th {\n",
              "        vertical-align: top;\n",
              "    }\n",
              "\n",
              "    .dataframe thead th {\n",
              "        text-align: right;\n",
              "    }\n",
              "</style>\n",
              "<table border=\"1\" class=\"dataframe\">\n",
              "  <thead>\n",
              "    <tr style=\"text-align: right;\">\n",
              "      <th></th>\n",
              "      <th>datetime</th>\n",
              "      <th>season</th>\n",
              "      <th>holiday</th>\n",
              "      <th>workingday</th>\n",
              "      <th>weather</th>\n",
              "      <th>temp</th>\n",
              "      <th>atemp</th>\n",
              "      <th>humidity</th>\n",
              "      <th>windspeed</th>\n",
              "      <th>Total_booking</th>\n",
              "    </tr>\n",
              "  </thead>\n",
              "  <tbody>\n",
              "    <tr>\n",
              "      <th>0</th>\n",
              "      <td>5/2/2012 19:00</td>\n",
              "      <td>Summer</td>\n",
              "      <td>0</td>\n",
              "      <td>1</td>\n",
              "      <td>Clear + Few clouds</td>\n",
              "      <td>22.14</td>\n",
              "      <td>25.760</td>\n",
              "      <td>77</td>\n",
              "      <td>16.9979</td>\n",
              "      <td>504</td>\n",
              "    </tr>\n",
              "    <tr>\n",
              "      <th>1</th>\n",
              "      <td>9/5/2012 4:00</td>\n",
              "      <td>Fall</td>\n",
              "      <td>0</td>\n",
              "      <td>1</td>\n",
              "      <td>Clear + Few clouds</td>\n",
              "      <td>28.70</td>\n",
              "      <td>33.335</td>\n",
              "      <td>79</td>\n",
              "      <td>19.0012</td>\n",
              "      <td>5</td>\n",
              "    </tr>\n",
              "    <tr>\n",
              "      <th>2</th>\n",
              "      <td>1/13/2011 9:00</td>\n",
              "      <td>Spring</td>\n",
              "      <td>0</td>\n",
              "      <td>1</td>\n",
              "      <td>Clear + Few clouds</td>\n",
              "      <td>5.74</td>\n",
              "      <td>6.060</td>\n",
              "      <td>50</td>\n",
              "      <td>22.0028</td>\n",
              "      <td>139</td>\n",
              "    </tr>\n",
              "    <tr>\n",
              "      <th>3</th>\n",
              "      <td>11/18/2011 16:00</td>\n",
              "      <td>Winter</td>\n",
              "      <td>0</td>\n",
              "      <td>1</td>\n",
              "      <td>Clear + Few clouds</td>\n",
              "      <td>13.94</td>\n",
              "      <td>16.665</td>\n",
              "      <td>29</td>\n",
              "      <td>8.9981</td>\n",
              "      <td>209</td>\n",
              "    </tr>\n",
              "    <tr>\n",
              "      <th>4</th>\n",
              "      <td>9/13/2011 13:00</td>\n",
              "      <td>Fall</td>\n",
              "      <td>0</td>\n",
              "      <td>1</td>\n",
              "      <td>Clear + Few clouds</td>\n",
              "      <td>30.34</td>\n",
              "      <td>33.335</td>\n",
              "      <td>51</td>\n",
              "      <td>19.0012</td>\n",
              "      <td>184</td>\n",
              "    </tr>\n",
              "  </tbody>\n",
              "</table>\n",
              "</div>\n",
              "      <button class=\"colab-df-convert\" onclick=\"convertToInteractive('df-57e4a39b-2ca0-4ce5-b3ea-4db4dd3fd988')\"\n",
              "              title=\"Convert this dataframe to an interactive table.\"\n",
              "              style=\"display:none;\">\n",
              "        \n",
              "  <svg xmlns=\"http://www.w3.org/2000/svg\" height=\"24px\"viewBox=\"0 0 24 24\"\n",
              "       width=\"24px\">\n",
              "    <path d=\"M0 0h24v24H0V0z\" fill=\"none\"/>\n",
              "    <path d=\"M18.56 5.44l.94 2.06.94-2.06 2.06-.94-2.06-.94-.94-2.06-.94 2.06-2.06.94zm-11 1L8.5 8.5l.94-2.06 2.06-.94-2.06-.94L8.5 2.5l-.94 2.06-2.06.94zm10 10l.94 2.06.94-2.06 2.06-.94-2.06-.94-.94-2.06-.94 2.06-2.06.94z\"/><path d=\"M17.41 7.96l-1.37-1.37c-.4-.4-.92-.59-1.43-.59-.52 0-1.04.2-1.43.59L10.3 9.45l-7.72 7.72c-.78.78-.78 2.05 0 2.83L4 21.41c.39.39.9.59 1.41.59.51 0 1.02-.2 1.41-.59l7.78-7.78 2.81-2.81c.8-.78.8-2.07 0-2.86zM5.41 20L4 18.59l7.72-7.72 1.47 1.35L5.41 20z\"/>\n",
              "  </svg>\n",
              "      </button>\n",
              "      \n",
              "  <style>\n",
              "    .colab-df-container {\n",
              "      display:flex;\n",
              "      flex-wrap:wrap;\n",
              "      gap: 12px;\n",
              "    }\n",
              "\n",
              "    .colab-df-convert {\n",
              "      background-color: #E8F0FE;\n",
              "      border: none;\n",
              "      border-radius: 50%;\n",
              "      cursor: pointer;\n",
              "      display: none;\n",
              "      fill: #1967D2;\n",
              "      height: 32px;\n",
              "      padding: 0 0 0 0;\n",
              "      width: 32px;\n",
              "    }\n",
              "\n",
              "    .colab-df-convert:hover {\n",
              "      background-color: #E2EBFA;\n",
              "      box-shadow: 0px 1px 2px rgba(60, 64, 67, 0.3), 0px 1px 3px 1px rgba(60, 64, 67, 0.15);\n",
              "      fill: #174EA6;\n",
              "    }\n",
              "\n",
              "    [theme=dark] .colab-df-convert {\n",
              "      background-color: #3B4455;\n",
              "      fill: #D2E3FC;\n",
              "    }\n",
              "\n",
              "    [theme=dark] .colab-df-convert:hover {\n",
              "      background-color: #434B5C;\n",
              "      box-shadow: 0px 1px 3px 1px rgba(0, 0, 0, 0.15);\n",
              "      filter: drop-shadow(0px 1px 2px rgba(0, 0, 0, 0.3));\n",
              "      fill: #FFFFFF;\n",
              "    }\n",
              "  </style>\n",
              "\n",
              "      <script>\n",
              "        const buttonEl =\n",
              "          document.querySelector('#df-57e4a39b-2ca0-4ce5-b3ea-4db4dd3fd988 button.colab-df-convert');\n",
              "        buttonEl.style.display =\n",
              "          google.colab.kernel.accessAllowed ? 'block' : 'none';\n",
              "\n",
              "        async function convertToInteractive(key) {\n",
              "          const element = document.querySelector('#df-57e4a39b-2ca0-4ce5-b3ea-4db4dd3fd988');\n",
              "          const dataTable =\n",
              "            await google.colab.kernel.invokeFunction('convertToInteractive',\n",
              "                                                     [key], {});\n",
              "          if (!dataTable) return;\n",
              "\n",
              "          const docLinkHtml = 'Like what you see? Visit the ' +\n",
              "            '<a target=\"_blank\" href=https://colab.research.google.com/notebooks/data_table.ipynb>data table notebook</a>'\n",
              "            + ' to learn more about interactive tables.';\n",
              "          element.innerHTML = '';\n",
              "          dataTable['output_type'] = 'display_data';\n",
              "          await google.colab.output.renderOutput(dataTable, element);\n",
              "          const docLink = document.createElement('div');\n",
              "          docLink.innerHTML = docLinkHtml;\n",
              "          element.appendChild(docLink);\n",
              "        }\n",
              "      </script>\n",
              "    </div>\n",
              "  </div>\n",
              "  "
            ]
          },
          "metadata": {},
          "execution_count": 10
        }
      ]
    },
    {
      "cell_type": "code",
      "source": [
        "test.head()"
      ],
      "metadata": {
        "id": "apPhQEC9jPsf",
        "outputId": "7b31bff6-c22d-4522-d0d8-2877f2bf86aa",
        "papermill": {
          "duration": 0.146824,
          "end_time": "2021-03-28T12:29:31.933936",
          "exception": false,
          "start_time": "2021-03-28T12:29:31.787112",
          "status": "completed"
        },
        "tags": [],
        "execution": {
          "iopub.status.busy": "2023-03-07T12:23:43.586172Z",
          "iopub.execute_input": "2023-03-07T12:23:43.587031Z",
          "iopub.status.idle": "2023-03-07T12:23:43.605339Z",
          "shell.execute_reply.started": "2023-03-07T12:23:43.586972Z",
          "shell.execute_reply": "2023-03-07T12:23:43.603910Z"
        },
        "trusted": true,
        "colab": {
          "base_uri": "https://localhost:8080/",
          "height": 201
        }
      },
      "execution_count": null,
      "outputs": [
        {
          "output_type": "execute_result",
          "data": {
            "text/plain": [
              "           datetime  season  holiday  workingday                  weather  \\\n",
              "0   5/10/2012 11:00  Summer        0           1       Clear + Few clouds   \n",
              "1     6/9/2012 7:00  Summer        0           0       Clear + Few clouds   \n",
              "2    3/6/2011 20:00  Spring        0           0   Light Snow, Light Rain   \n",
              "3  10/13/2011 11:00  Winter        0           1           Mist + Cloudy    \n",
              "4    6/2/2012 12:00  Summer        0           0       Clear + Few clouds   \n",
              "\n",
              "    temp   atemp  humidity  windspeed  Total_booking  \n",
              "0  21.32  25.000        48    35.0008            256  \n",
              "1  23.78  27.275        64     7.0015             87  \n",
              "2  11.48  12.120       100    27.9993             11  \n",
              "3  25.42  28.790        83     0.0000             84  \n",
              "4  25.42  31.060        43    23.9994            668  "
            ],
            "text/html": [
              "\n",
              "  <div id=\"df-52e33163-685b-4368-befd-e866ce0ad299\">\n",
              "    <div class=\"colab-df-container\">\n",
              "      <div>\n",
              "<style scoped>\n",
              "    .dataframe tbody tr th:only-of-type {\n",
              "        vertical-align: middle;\n",
              "    }\n",
              "\n",
              "    .dataframe tbody tr th {\n",
              "        vertical-align: top;\n",
              "    }\n",
              "\n",
              "    .dataframe thead th {\n",
              "        text-align: right;\n",
              "    }\n",
              "</style>\n",
              "<table border=\"1\" class=\"dataframe\">\n",
              "  <thead>\n",
              "    <tr style=\"text-align: right;\">\n",
              "      <th></th>\n",
              "      <th>datetime</th>\n",
              "      <th>season</th>\n",
              "      <th>holiday</th>\n",
              "      <th>workingday</th>\n",
              "      <th>weather</th>\n",
              "      <th>temp</th>\n",
              "      <th>atemp</th>\n",
              "      <th>humidity</th>\n",
              "      <th>windspeed</th>\n",
              "      <th>Total_booking</th>\n",
              "    </tr>\n",
              "  </thead>\n",
              "  <tbody>\n",
              "    <tr>\n",
              "      <th>0</th>\n",
              "      <td>5/10/2012 11:00</td>\n",
              "      <td>Summer</td>\n",
              "      <td>0</td>\n",
              "      <td>1</td>\n",
              "      <td>Clear + Few clouds</td>\n",
              "      <td>21.32</td>\n",
              "      <td>25.000</td>\n",
              "      <td>48</td>\n",
              "      <td>35.0008</td>\n",
              "      <td>256</td>\n",
              "    </tr>\n",
              "    <tr>\n",
              "      <th>1</th>\n",
              "      <td>6/9/2012 7:00</td>\n",
              "      <td>Summer</td>\n",
              "      <td>0</td>\n",
              "      <td>0</td>\n",
              "      <td>Clear + Few clouds</td>\n",
              "      <td>23.78</td>\n",
              "      <td>27.275</td>\n",
              "      <td>64</td>\n",
              "      <td>7.0015</td>\n",
              "      <td>87</td>\n",
              "    </tr>\n",
              "    <tr>\n",
              "      <th>2</th>\n",
              "      <td>3/6/2011 20:00</td>\n",
              "      <td>Spring</td>\n",
              "      <td>0</td>\n",
              "      <td>0</td>\n",
              "      <td>Light Snow, Light Rain</td>\n",
              "      <td>11.48</td>\n",
              "      <td>12.120</td>\n",
              "      <td>100</td>\n",
              "      <td>27.9993</td>\n",
              "      <td>11</td>\n",
              "    </tr>\n",
              "    <tr>\n",
              "      <th>3</th>\n",
              "      <td>10/13/2011 11:00</td>\n",
              "      <td>Winter</td>\n",
              "      <td>0</td>\n",
              "      <td>1</td>\n",
              "      <td>Mist + Cloudy</td>\n",
              "      <td>25.42</td>\n",
              "      <td>28.790</td>\n",
              "      <td>83</td>\n",
              "      <td>0.0000</td>\n",
              "      <td>84</td>\n",
              "    </tr>\n",
              "    <tr>\n",
              "      <th>4</th>\n",
              "      <td>6/2/2012 12:00</td>\n",
              "      <td>Summer</td>\n",
              "      <td>0</td>\n",
              "      <td>0</td>\n",
              "      <td>Clear + Few clouds</td>\n",
              "      <td>25.42</td>\n",
              "      <td>31.060</td>\n",
              "      <td>43</td>\n",
              "      <td>23.9994</td>\n",
              "      <td>668</td>\n",
              "    </tr>\n",
              "  </tbody>\n",
              "</table>\n",
              "</div>\n",
              "      <button class=\"colab-df-convert\" onclick=\"convertToInteractive('df-52e33163-685b-4368-befd-e866ce0ad299')\"\n",
              "              title=\"Convert this dataframe to an interactive table.\"\n",
              "              style=\"display:none;\">\n",
              "        \n",
              "  <svg xmlns=\"http://www.w3.org/2000/svg\" height=\"24px\"viewBox=\"0 0 24 24\"\n",
              "       width=\"24px\">\n",
              "    <path d=\"M0 0h24v24H0V0z\" fill=\"none\"/>\n",
              "    <path d=\"M18.56 5.44l.94 2.06.94-2.06 2.06-.94-2.06-.94-.94-2.06-.94 2.06-2.06.94zm-11 1L8.5 8.5l.94-2.06 2.06-.94-2.06-.94L8.5 2.5l-.94 2.06-2.06.94zm10 10l.94 2.06.94-2.06 2.06-.94-2.06-.94-.94-2.06-.94 2.06-2.06.94z\"/><path d=\"M17.41 7.96l-1.37-1.37c-.4-.4-.92-.59-1.43-.59-.52 0-1.04.2-1.43.59L10.3 9.45l-7.72 7.72c-.78.78-.78 2.05 0 2.83L4 21.41c.39.39.9.59 1.41.59.51 0 1.02-.2 1.41-.59l7.78-7.78 2.81-2.81c.8-.78.8-2.07 0-2.86zM5.41 20L4 18.59l7.72-7.72 1.47 1.35L5.41 20z\"/>\n",
              "  </svg>\n",
              "      </button>\n",
              "      \n",
              "  <style>\n",
              "    .colab-df-container {\n",
              "      display:flex;\n",
              "      flex-wrap:wrap;\n",
              "      gap: 12px;\n",
              "    }\n",
              "\n",
              "    .colab-df-convert {\n",
              "      background-color: #E8F0FE;\n",
              "      border: none;\n",
              "      border-radius: 50%;\n",
              "      cursor: pointer;\n",
              "      display: none;\n",
              "      fill: #1967D2;\n",
              "      height: 32px;\n",
              "      padding: 0 0 0 0;\n",
              "      width: 32px;\n",
              "    }\n",
              "\n",
              "    .colab-df-convert:hover {\n",
              "      background-color: #E2EBFA;\n",
              "      box-shadow: 0px 1px 2px rgba(60, 64, 67, 0.3), 0px 1px 3px 1px rgba(60, 64, 67, 0.15);\n",
              "      fill: #174EA6;\n",
              "    }\n",
              "\n",
              "    [theme=dark] .colab-df-convert {\n",
              "      background-color: #3B4455;\n",
              "      fill: #D2E3FC;\n",
              "    }\n",
              "\n",
              "    [theme=dark] .colab-df-convert:hover {\n",
              "      background-color: #434B5C;\n",
              "      box-shadow: 0px 1px 3px 1px rgba(0, 0, 0, 0.15);\n",
              "      filter: drop-shadow(0px 1px 2px rgba(0, 0, 0, 0.3));\n",
              "      fill: #FFFFFF;\n",
              "    }\n",
              "  </style>\n",
              "\n",
              "      <script>\n",
              "        const buttonEl =\n",
              "          document.querySelector('#df-52e33163-685b-4368-befd-e866ce0ad299 button.colab-df-convert');\n",
              "        buttonEl.style.display =\n",
              "          google.colab.kernel.accessAllowed ? 'block' : 'none';\n",
              "\n",
              "        async function convertToInteractive(key) {\n",
              "          const element = document.querySelector('#df-52e33163-685b-4368-befd-e866ce0ad299');\n",
              "          const dataTable =\n",
              "            await google.colab.kernel.invokeFunction('convertToInteractive',\n",
              "                                                     [key], {});\n",
              "          if (!dataTable) return;\n",
              "\n",
              "          const docLinkHtml = 'Like what you see? Visit the ' +\n",
              "            '<a target=\"_blank\" href=https://colab.research.google.com/notebooks/data_table.ipynb>data table notebook</a>'\n",
              "            + ' to learn more about interactive tables.';\n",
              "          element.innerHTML = '';\n",
              "          dataTable['output_type'] = 'display_data';\n",
              "          await google.colab.output.renderOutput(dataTable, element);\n",
              "          const docLink = document.createElement('div');\n",
              "          docLink.innerHTML = docLinkHtml;\n",
              "          element.appendChild(docLink);\n",
              "        }\n",
              "      </script>\n",
              "    </div>\n",
              "  </div>\n",
              "  "
            ]
          },
          "metadata": {},
          "execution_count": 11
        }
      ]
    },
    {
      "cell_type": "markdown",
      "source": [
        "## 3.Perform Feature Engineering:\n",
        "### a. Create new columns date, hour, weekDay, month from datetime column\n",
        "\n",
        "\n",
        "1. The function `pd.to datetime()` is used to transform the `datetime` column in both the training and testing datasets into a Pandas `datetime` object that can be handled using built-in Pandas methods.\n",
        "\n",
        "2. The next four lines of code extract new features from the `datetime` column and construct new columns in both the training and testing datasets for each of them:\n",
        "\n",
        "    a. `train['date'] = train['datetime'].`\n",
        "\n",
        "    `dt.date`: generates a new `date` column that just contains the date portion of the `datetime` object.\n",
        "\n",
        "    b. `train['hour'] = train['datetime'].`\n",
        "\n",
        "    `dt.hour`: generates a new `hour` column holding just the `datetime` object`s hour portion.\n",
        "\n",
        "    c. `train['weekDay'] = train['datetime']. `\n",
        "\n",
        "    `dt.weekday`: adds a new `weekDay` column to the `datetime` object that contains the day of the week (0=Monday, 1=Tuesday, etc.).\n",
        "\n",
        "    d. `train['month'] = train['datetime']. `\n",
        "\n",
        "    `dt.month`: adds a new`month` column that solely contains the month portion of the `datetime` object."
      ],
      "metadata": {
        "id": "9X3nj5ZwEQk4"
      }
    },
    {
      "cell_type": "code",
      "source": [
        "# New columns from date time columns\n",
        "train['date']= train.datetime.apply(lambda x : x.split()[0])\n",
        "train['hour']= train.datetime.apply(lambda x : x.split()[1].split(':')[0])\n",
        "train['weekday']= train.date.apply(lambda dateString : calendar.day_name[datetime.strptime(dateString,'%m/%d/%Y').weekday()])\n",
        "train['month']= train.date.apply(lambda dateString : calendar.month_name[datetime.strptime(dateString,'%m/%d/%Y').month])\n",
        "\n",
        "test['date']= test.datetime.apply(lambda x : x.split()[0])\n",
        "test['hour']= test.datetime.apply(lambda x : x.split()[1].split(':')[0])\n",
        "test['weekday']= test.date.apply(lambda dateString : calendar.day_name[datetime.strptime(dateString,'%m/%d/%Y').weekday()])\n",
        "test['month']= test.date.apply(lambda dateString : calendar.month_name[datetime.strptime(dateString,'%m/%d/%Y').month])"
      ],
      "metadata": {
        "id": "1QzZnPB4jVHu",
        "papermill": {
          "duration": 0.557881,
          "end_time": "2021-03-28T12:29:32.880782",
          "exception": false,
          "start_time": "2021-03-28T12:29:32.322901",
          "status": "completed"
        },
        "tags": [],
        "execution": {
          "iopub.status.busy": "2023-03-07T12:23:43.607255Z",
          "iopub.execute_input": "2023-03-07T12:23:43.607952Z",
          "iopub.status.idle": "2023-03-07T12:23:43.933056Z",
          "shell.execute_reply.started": "2023-03-07T12:23:43.607908Z",
          "shell.execute_reply": "2023-03-07T12:23:43.931876Z"
        },
        "trusted": true
      },
      "execution_count": null,
      "outputs": []
    },
    {
      "cell_type": "markdown",
      "source": [
        "### b. Coerce the datatype of season, holiday, workingday, and weather to category\n",
        "\n",
        "\n",
        "1. The following four lines of code utilise the `.astype('category')` function to transform the`season,` `holiday,` `workingday,` and `weather` columns in both the training and testing datasets into categorical variables. This minimises the dataset's memory use and assists the machine learning model in treating these columns as categorical variables rather than continuous variables.\n",
        "\n",
        "1. Finally, the last two lines of code are used to remove the old `datetime` column from both the training and testing datasets, since it is no longer required now that the new columns have been added.\n",
        "    "
      ],
      "metadata": {
        "id": "6BCnHkMeEQk5"
      }
    },
    {
      "cell_type": "code",
      "source": [
        "# Coercing the datatype of season, holiday,workingday, and weather to category\n",
        "train['season'] = train['season'].astype('category')\n",
        "train['holiday'] = train['holiday'].astype('category')\n",
        "train['workingday'] = train['workingday'].astype('category')\n",
        "train['weather'] = train['weather'].astype('category')\n",
        "\n",
        "test['season'] = test['season'].astype('category')\n",
        "test['holiday'] = test['holiday'].astype('category')\n",
        "test['workingday'] = test['workingday'].astype('category')\n",
        "test['weather'] = test['weather'].astype('category')"
      ],
      "metadata": {
        "execution": {
          "iopub.status.busy": "2023-03-07T12:23:43.941607Z",
          "iopub.execute_input": "2023-03-07T12:23:43.942043Z",
          "iopub.status.idle": "2023-03-07T12:23:43.967982Z",
          "shell.execute_reply.started": "2023-03-07T12:23:43.942000Z",
          "shell.execute_reply": "2023-03-07T12:23:43.966430Z"
        },
        "trusted": true,
        "id": "FVT_TXmYEQk5"
      },
      "execution_count": null,
      "outputs": []
    },
    {
      "cell_type": "markdown",
      "source": [
        "## c. Drop the datetime column as we have already extracted useful features from it"
      ],
      "metadata": {
        "id": "8EdxMo_CEQk5"
      }
    },
    {
      "cell_type": "code",
      "source": [
        "# Dropping the datetime column\n",
        "train = train.drop('datetime', axis=1)\n",
        "test = test.drop('datetime', axis=1)"
      ],
      "metadata": {
        "execution": {
          "iopub.status.busy": "2023-03-07T12:23:43.969569Z",
          "iopub.execute_input": "2023-03-07T12:23:43.969962Z",
          "iopub.status.idle": "2023-03-07T12:23:43.985513Z",
          "shell.execute_reply.started": "2023-03-07T12:23:43.969924Z",
          "shell.execute_reply": "2023-03-07T12:23:43.983812Z"
        },
        "trusted": true,
        "id": "kKlFfJG2EQk6"
      },
      "execution_count": null,
      "outputs": []
    },
    {
      "cell_type": "code",
      "source": [
        "train.head()"
      ],
      "metadata": {
        "id": "DxzdyC0Yj3So",
        "outputId": "8e47d084-98e2-46c3-cf26-5be404223c88",
        "papermill": {
          "duration": 0.169238,
          "end_time": "2021-03-28T12:29:33.180719",
          "exception": false,
          "start_time": "2021-03-28T12:29:33.011481",
          "status": "completed"
        },
        "tags": [],
        "execution": {
          "iopub.status.busy": "2023-03-07T12:23:43.986849Z",
          "iopub.execute_input": "2023-03-07T12:23:43.987262Z",
          "iopub.status.idle": "2023-03-07T12:23:44.014278Z",
          "shell.execute_reply.started": "2023-03-07T12:23:43.987221Z",
          "shell.execute_reply": "2023-03-07T12:23:44.012474Z"
        },
        "trusted": true,
        "colab": {
          "base_uri": "https://localhost:8080/",
          "height": 201
        }
      },
      "execution_count": null,
      "outputs": [
        {
          "output_type": "execute_result",
          "data": {
            "text/plain": [
              "   season holiday workingday              weather   temp   atemp  humidity  \\\n",
              "0  Summer       0          1   Clear + Few clouds  22.14  25.760        77   \n",
              "1    Fall       0          1   Clear + Few clouds  28.70  33.335        79   \n",
              "2  Spring       0          1   Clear + Few clouds   5.74   6.060        50   \n",
              "3  Winter       0          1   Clear + Few clouds  13.94  16.665        29   \n",
              "4    Fall       0          1   Clear + Few clouds  30.34  33.335        51   \n",
              "\n",
              "   windspeed  Total_booking        date hour    weekday      month  \n",
              "0    16.9979            504    5/2/2012   19  Wednesday        May  \n",
              "1    19.0012              5    9/5/2012    4  Wednesday  September  \n",
              "2    22.0028            139   1/13/2011    9   Thursday    January  \n",
              "3     8.9981            209  11/18/2011   16     Friday   November  \n",
              "4    19.0012            184   9/13/2011   13    Tuesday  September  "
            ],
            "text/html": [
              "\n",
              "  <div id=\"df-e8ba8fa2-fc75-4bf6-b589-d66cb01b3c64\">\n",
              "    <div class=\"colab-df-container\">\n",
              "      <div>\n",
              "<style scoped>\n",
              "    .dataframe tbody tr th:only-of-type {\n",
              "        vertical-align: middle;\n",
              "    }\n",
              "\n",
              "    .dataframe tbody tr th {\n",
              "        vertical-align: top;\n",
              "    }\n",
              "\n",
              "    .dataframe thead th {\n",
              "        text-align: right;\n",
              "    }\n",
              "</style>\n",
              "<table border=\"1\" class=\"dataframe\">\n",
              "  <thead>\n",
              "    <tr style=\"text-align: right;\">\n",
              "      <th></th>\n",
              "      <th>season</th>\n",
              "      <th>holiday</th>\n",
              "      <th>workingday</th>\n",
              "      <th>weather</th>\n",
              "      <th>temp</th>\n",
              "      <th>atemp</th>\n",
              "      <th>humidity</th>\n",
              "      <th>windspeed</th>\n",
              "      <th>Total_booking</th>\n",
              "      <th>date</th>\n",
              "      <th>hour</th>\n",
              "      <th>weekday</th>\n",
              "      <th>month</th>\n",
              "    </tr>\n",
              "  </thead>\n",
              "  <tbody>\n",
              "    <tr>\n",
              "      <th>0</th>\n",
              "      <td>Summer</td>\n",
              "      <td>0</td>\n",
              "      <td>1</td>\n",
              "      <td>Clear + Few clouds</td>\n",
              "      <td>22.14</td>\n",
              "      <td>25.760</td>\n",
              "      <td>77</td>\n",
              "      <td>16.9979</td>\n",
              "      <td>504</td>\n",
              "      <td>5/2/2012</td>\n",
              "      <td>19</td>\n",
              "      <td>Wednesday</td>\n",
              "      <td>May</td>\n",
              "    </tr>\n",
              "    <tr>\n",
              "      <th>1</th>\n",
              "      <td>Fall</td>\n",
              "      <td>0</td>\n",
              "      <td>1</td>\n",
              "      <td>Clear + Few clouds</td>\n",
              "      <td>28.70</td>\n",
              "      <td>33.335</td>\n",
              "      <td>79</td>\n",
              "      <td>19.0012</td>\n",
              "      <td>5</td>\n",
              "      <td>9/5/2012</td>\n",
              "      <td>4</td>\n",
              "      <td>Wednesday</td>\n",
              "      <td>September</td>\n",
              "    </tr>\n",
              "    <tr>\n",
              "      <th>2</th>\n",
              "      <td>Spring</td>\n",
              "      <td>0</td>\n",
              "      <td>1</td>\n",
              "      <td>Clear + Few clouds</td>\n",
              "      <td>5.74</td>\n",
              "      <td>6.060</td>\n",
              "      <td>50</td>\n",
              "      <td>22.0028</td>\n",
              "      <td>139</td>\n",
              "      <td>1/13/2011</td>\n",
              "      <td>9</td>\n",
              "      <td>Thursday</td>\n",
              "      <td>January</td>\n",
              "    </tr>\n",
              "    <tr>\n",
              "      <th>3</th>\n",
              "      <td>Winter</td>\n",
              "      <td>0</td>\n",
              "      <td>1</td>\n",
              "      <td>Clear + Few clouds</td>\n",
              "      <td>13.94</td>\n",
              "      <td>16.665</td>\n",
              "      <td>29</td>\n",
              "      <td>8.9981</td>\n",
              "      <td>209</td>\n",
              "      <td>11/18/2011</td>\n",
              "      <td>16</td>\n",
              "      <td>Friday</td>\n",
              "      <td>November</td>\n",
              "    </tr>\n",
              "    <tr>\n",
              "      <th>4</th>\n",
              "      <td>Fall</td>\n",
              "      <td>0</td>\n",
              "      <td>1</td>\n",
              "      <td>Clear + Few clouds</td>\n",
              "      <td>30.34</td>\n",
              "      <td>33.335</td>\n",
              "      <td>51</td>\n",
              "      <td>19.0012</td>\n",
              "      <td>184</td>\n",
              "      <td>9/13/2011</td>\n",
              "      <td>13</td>\n",
              "      <td>Tuesday</td>\n",
              "      <td>September</td>\n",
              "    </tr>\n",
              "  </tbody>\n",
              "</table>\n",
              "</div>\n",
              "      <button class=\"colab-df-convert\" onclick=\"convertToInteractive('df-e8ba8fa2-fc75-4bf6-b589-d66cb01b3c64')\"\n",
              "              title=\"Convert this dataframe to an interactive table.\"\n",
              "              style=\"display:none;\">\n",
              "        \n",
              "  <svg xmlns=\"http://www.w3.org/2000/svg\" height=\"24px\"viewBox=\"0 0 24 24\"\n",
              "       width=\"24px\">\n",
              "    <path d=\"M0 0h24v24H0V0z\" fill=\"none\"/>\n",
              "    <path d=\"M18.56 5.44l.94 2.06.94-2.06 2.06-.94-2.06-.94-.94-2.06-.94 2.06-2.06.94zm-11 1L8.5 8.5l.94-2.06 2.06-.94-2.06-.94L8.5 2.5l-.94 2.06-2.06.94zm10 10l.94 2.06.94-2.06 2.06-.94-2.06-.94-.94-2.06-.94 2.06-2.06.94z\"/><path d=\"M17.41 7.96l-1.37-1.37c-.4-.4-.92-.59-1.43-.59-.52 0-1.04.2-1.43.59L10.3 9.45l-7.72 7.72c-.78.78-.78 2.05 0 2.83L4 21.41c.39.39.9.59 1.41.59.51 0 1.02-.2 1.41-.59l7.78-7.78 2.81-2.81c.8-.78.8-2.07 0-2.86zM5.41 20L4 18.59l7.72-7.72 1.47 1.35L5.41 20z\"/>\n",
              "  </svg>\n",
              "      </button>\n",
              "      \n",
              "  <style>\n",
              "    .colab-df-container {\n",
              "      display:flex;\n",
              "      flex-wrap:wrap;\n",
              "      gap: 12px;\n",
              "    }\n",
              "\n",
              "    .colab-df-convert {\n",
              "      background-color: #E8F0FE;\n",
              "      border: none;\n",
              "      border-radius: 50%;\n",
              "      cursor: pointer;\n",
              "      display: none;\n",
              "      fill: #1967D2;\n",
              "      height: 32px;\n",
              "      padding: 0 0 0 0;\n",
              "      width: 32px;\n",
              "    }\n",
              "\n",
              "    .colab-df-convert:hover {\n",
              "      background-color: #E2EBFA;\n",
              "      box-shadow: 0px 1px 2px rgba(60, 64, 67, 0.3), 0px 1px 3px 1px rgba(60, 64, 67, 0.15);\n",
              "      fill: #174EA6;\n",
              "    }\n",
              "\n",
              "    [theme=dark] .colab-df-convert {\n",
              "      background-color: #3B4455;\n",
              "      fill: #D2E3FC;\n",
              "    }\n",
              "\n",
              "    [theme=dark] .colab-df-convert:hover {\n",
              "      background-color: #434B5C;\n",
              "      box-shadow: 0px 1px 3px 1px rgba(0, 0, 0, 0.15);\n",
              "      filter: drop-shadow(0px 1px 2px rgba(0, 0, 0, 0.3));\n",
              "      fill: #FFFFFF;\n",
              "    }\n",
              "  </style>\n",
              "\n",
              "      <script>\n",
              "        const buttonEl =\n",
              "          document.querySelector('#df-e8ba8fa2-fc75-4bf6-b589-d66cb01b3c64 button.colab-df-convert');\n",
              "        buttonEl.style.display =\n",
              "          google.colab.kernel.accessAllowed ? 'block' : 'none';\n",
              "\n",
              "        async function convertToInteractive(key) {\n",
              "          const element = document.querySelector('#df-e8ba8fa2-fc75-4bf6-b589-d66cb01b3c64');\n",
              "          const dataTable =\n",
              "            await google.colab.kernel.invokeFunction('convertToInteractive',\n",
              "                                                     [key], {});\n",
              "          if (!dataTable) return;\n",
              "\n",
              "          const docLinkHtml = 'Like what you see? Visit the ' +\n",
              "            '<a target=\"_blank\" href=https://colab.research.google.com/notebooks/data_table.ipynb>data table notebook</a>'\n",
              "            + ' to learn more about interactive tables.';\n",
              "          element.innerHTML = '';\n",
              "          dataTable['output_type'] = 'display_data';\n",
              "          await google.colab.output.renderOutput(dataTable, element);\n",
              "          const docLink = document.createElement('div');\n",
              "          docLink.innerHTML = docLinkHtml;\n",
              "          element.appendChild(docLink);\n",
              "        }\n",
              "      </script>\n",
              "    </div>\n",
              "  </div>\n",
              "  "
            ]
          },
          "metadata": {},
          "execution_count": 15
        }
      ]
    },
    {
      "cell_type": "markdown",
      "source": [
        "## 4. Perform Outlier Analysis:\n",
        "### a. Plot Box plots across various features like season, hour of the day, working_day, etc to see if there are any Outlier and note down your inference\n",
        "\n",
        "1. The next section of code generates box plots to visualise data outliers. A box plot depicts a numerical variable's distribution, including the median, quartiles, and any outliers.\n",
        "\n",
        "2. The `plt.figure(figsize=(20,10))` line generates a figure object 20 inches by 10 inches in size.\n",
        "\n",
        "3. The `plt.subplot(2,2,1)` line generates a grid of subplots with two rows and two columns and picks the first subplot for the box plot of the'season' variable against the 'Total booking' variable.\n",
        "\n",
        "4. For the first subplot, the`sns.boxplot(train['season']`, `train labels['Total booking'])` line generates a box plot of the'season' variable against the 'Total booking' variable.\n",
        "\n",
        "5. Repeat steps 4 and 5 for the remaining three subplots, where the variables 'hour,' 'workingday,' and 'weather' are plotted against the variable 'Total_booking'.\n",
        "\n",
        "6. The box plot figure is shown by the `plt.show()` line.\n",
        "\n",
        "7. The next piece of code generates box plots to show outliers in the variables 'temp', 'atemp', 'humidity', and 'windspeed'.\n",
        "\n",
        "8. Repeat steps 3–7 to construct a figure object 20 inches by 10 inches in size with a grid of two rows and two columns of subplots for each of the four variables.\n"
      ],
      "metadata": {
        "id": "Rn3_-d3JEQk6"
      }
    },
    {
      "cell_type": "code",
      "source": [
        "# Plotting box plots to visualize outliers Total_booking\n",
        "plt.figure(figsize=(20,10))\n",
        "plt.subplot(2,2,1)\n",
        "sns.boxplot(x=train['season'], y=train['Total_booking'])\n",
        "plt.subplot(2,2,2)\n",
        "sns.boxplot(x=train['hour'], y=train['Total_booking'])\n",
        "plt.subplot(2,2,3)\n",
        "sns.boxplot(x=train['workingday'], y=train['Total_booking'])\n",
        "plt.subplot(2,2,4)\n",
        "sns.boxplot(x=train['weather'], y=train['Total_booking'])\n",
        "plt.show()\n",
        "\n",
        "plt.figure(figsize=(20,10))\n",
        "plt.subplot(2,2,1)\n",
        "sns.boxplot(x=train['temp'])\n",
        "plt.subplot(2,2,2)\n",
        "sns.boxplot(x=train['atemp'])\n",
        "plt.subplot(2,2,3)\n",
        "sns.boxplot(x=train['humidity'])\n",
        "plt.subplot(2,2,4)\n",
        "sns.boxplot(x=train['windspeed'])\n",
        "plt.show()"
      ],
      "metadata": {
        "execution": {
          "iopub.status.busy": "2023-03-07T12:23:44.016062Z",
          "iopub.execute_input": "2023-03-07T12:23:44.016519Z",
          "iopub.status.idle": "2023-03-07T12:23:45.737918Z",
          "shell.execute_reply.started": "2023-03-07T12:23:44.016473Z",
          "shell.execute_reply": "2023-03-07T12:23:45.736451Z"
        },
        "trusted": true,
        "colab": {
          "base_uri": "https://localhost:8080/",
          "height": 1000
        },
        "id": "rST_iezTEQk6",
        "outputId": "c96b8bd8-b57f-475e-e96b-2b4643804991"
      },
      "execution_count": null,
      "outputs": [
        {
          "output_type": "display_data",
          "data": {
            "text/plain": [
              "<Figure size 1440x720 with 4 Axes>"
            ],
            "image/png": "[encoded data removed]"
          },
          "metadata": {
            "needs_background": "light"
          }
        },
        {
          "output_type": "display_data",
          "data": {
            "text/plain": [
              "<Figure size 1440x720 with 4 Axes>"
            ],
            "image/png": "[encoded data removed]"
          },
          "metadata": {
            "needs_background": "light"
          }
        }
      ]
    },
    {
      "cell_type": "markdown",
      "source": [
        "### b. Remove the outliers present in the dataset\n",
        "1. `train=train[(train['windspeed']=45)` & `(train['humidity']=100)]` line eliminates outliers from the variables 'windspeed' and 'humidity' in the 'train' dataset. The condition `(train['windspeed']=45)` & `(train['humidity']=100)` removes rows with a 'windspeed' value higher than 45 or a 'humidity' value greater than 100."
      ],
      "metadata": {
        "id": "IZF9-owuEQk7"
      }
    },
    {
      "cell_type": "code",
      "source": [
        "# Removing the outliers\n",
        "train = train[(train['windspeed']<=45) & (train['humidity']<=100)]"
      ],
      "metadata": {
        "execution": {
          "iopub.status.busy": "2023-03-07T12:23:45.739919Z",
          "iopub.execute_input": "2023-03-07T12:23:45.740315Z",
          "iopub.status.idle": "2023-03-07T12:23:45.748427Z",
          "shell.execute_reply.started": "2023-03-07T12:23:45.740274Z",
          "shell.execute_reply": "2023-03-07T12:23:45.747248Z"
        },
        "trusted": true,
        "id": "MHBGxVoZEQk7"
      },
      "execution_count": null,
      "outputs": []
    },
    {
      "cell_type": "markdown",
      "source": [
        "## 5. Perform Correlation Analysis:\n",
        "### a. Plot a correlation plot between 'total booking' and ['temp', 'atemp', 'humidity', 'windspeed']"
      ],
      "metadata": {
        "id": "iUcO-PfUEQk7"
      }
    },
    {
      "cell_type": "code",
      "source": [
        "sns.pairplot(train[['temp', 'atemp', 'humidity', 'windspeed'] ], diag_kind ='kde')"
      ],
      "metadata": {
        "id": "9VNZvfNHj3o5",
        "outputId": "da63f109-763f-4248-e8ce-2164a644b79a",
        "papermill": {
          "duration": 3.628139,
          "end_time": "2021-03-28T12:29:36.943411",
          "exception": false,
          "start_time": "2021-03-28T12:29:33.315272",
          "status": "completed"
        },
        "tags": [],
        "execution": {
          "iopub.status.busy": "2023-03-07T12:23:45.750456Z",
          "iopub.execute_input": "2023-03-07T12:23:45.751629Z",
          "iopub.status.idle": "2023-03-07T12:23:49.540978Z",
          "shell.execute_reply.started": "2023-03-07T12:23:45.751576Z",
          "shell.execute_reply": "2023-03-07T12:23:49.539427Z"
        },
        "trusted": true,
        "colab": {
          "base_uri": "https://localhost:8080/",
          "height": 742
        }
      },
      "execution_count": null,
      "outputs": [
        {
          "output_type": "execute_result",
          "data": {
            "text/plain": [
              "<seaborn.axisgrid.PairGrid at 0x7f367894a490>"
            ]
          },
          "metadata": {},
          "execution_count": 18
        },
        {
          "output_type": "display_data",
          "data": {
            "text/plain": [
              "<Figure size 720x720 with 20 Axes>"
            ],
            "image/png": "[encoded data removed]"
          },
          "metadata": {
            "needs_background": "light"
          }
        }
      ]
    },
    {
      "cell_type": "code",
      "source": [
        "sns.barplot(x = 'weather', y = 'Total_booking', data = train)"
      ],
      "metadata": {
        "id": "wX4uaCT5kLxJ",
        "outputId": "896501a7-b049-48a3-ccbb-43efe8c2ff1b",
        "papermill": {
          "duration": 0.476237,
          "end_time": "2021-03-28T12:29:37.563221",
          "exception": false,
          "start_time": "2021-03-28T12:29:37.086984",
          "status": "completed"
        },
        "tags": [],
        "execution": {
          "iopub.status.busy": "2023-03-07T12:23:49.542540Z",
          "iopub.execute_input": "2023-03-07T12:23:49.544221Z",
          "iopub.status.idle": "2023-03-07T12:23:49.971943Z",
          "shell.execute_reply.started": "2023-03-07T12:23:49.544148Z",
          "shell.execute_reply": "2023-03-07T12:23:49.970541Z"
        },
        "trusted": true,
        "colab": {
          "base_uri": "https://localhost:8080/",
          "height": 295
        }
      },
      "execution_count": null,
      "outputs": [
        {
          "output_type": "execute_result",
          "data": {
            "text/plain": [
              "<AxesSubplot:xlabel='weather', ylabel='Total_booking'>"
            ]
          },
          "metadata": {},
          "execution_count": 19
        },
        {
          "output_type": "display_data",
          "data": {
            "text/plain": [
              "<Figure size 432x288 with 1 Axes>"
            ],
            "image/png": "[encoded data removed]"
          },
          "metadata": {
            "needs_background": "light"
          }
        }
      ]
    },
    {
      "cell_type": "code",
      "source": [
        "sns.barplot(x = 'weekday', y = 'Total_booking', data = train)"
      ],
      "metadata": {
        "id": "HHRQPGonkQDV",
        "outputId": "4df50a07-181a-4362-b467-ea04c5785471",
        "papermill": {
          "duration": 0.640163,
          "end_time": "2021-03-28T12:29:38.350528",
          "exception": false,
          "start_time": "2021-03-28T12:29:37.710365",
          "status": "completed"
        },
        "tags": [],
        "execution": {
          "iopub.status.busy": "2023-03-07T12:23:49.973503Z",
          "iopub.execute_input": "2023-03-07T12:23:49.973901Z",
          "iopub.status.idle": "2023-03-07T12:23:50.515366Z",
          "shell.execute_reply.started": "2023-03-07T12:23:49.973863Z",
          "shell.execute_reply": "2023-03-07T12:23:50.513987Z"
        },
        "trusted": true,
        "colab": {
          "base_uri": "https://localhost:8080/",
          "height": 295
        }
      },
      "execution_count": null,
      "outputs": [
        {
          "output_type": "execute_result",
          "data": {
            "text/plain": [
              "<AxesSubplot:xlabel='weekday', ylabel='Total_booking'>"
            ]
          },
          "metadata": {},
          "execution_count": 20
        },
        {
          "output_type": "display_data",
          "data": {
            "text/plain": [
              "<Figure size 432x288 with 1 Axes>"
            ],
            "image/png": "[encoded data removed]"
          },
          "metadata": {
            "needs_background": "light"
          }
        }
      ]
    },
    {
      "cell_type": "code",
      "source": [
        "sns.barplot(x = 'month', y = 'Total_booking', data = train)"
      ],
      "metadata": {
        "id": "-Qpfqpa5kVG8",
        "outputId": "6c04ff00-60a9-4043-98bd-93f89d7a6761",
        "papermill": {
          "duration": 0.957316,
          "end_time": "2021-03-28T12:29:39.452841",
          "exception": false,
          "start_time": "2021-03-28T12:29:38.495525",
          "status": "completed"
        },
        "tags": [],
        "execution": {
          "iopub.status.busy": "2023-03-07T12:23:50.517149Z",
          "iopub.execute_input": "2023-03-07T12:23:50.517583Z",
          "iopub.status.idle": "2023-03-07T12:23:51.239885Z",
          "shell.execute_reply.started": "2023-03-07T12:23:50.517531Z",
          "shell.execute_reply": "2023-03-07T12:23:51.238855Z"
        },
        "trusted": true,
        "colab": {
          "base_uri": "https://localhost:8080/",
          "height": 295
        }
      },
      "execution_count": null,
      "outputs": [
        {
          "output_type": "execute_result",
          "data": {
            "text/plain": [
              "<AxesSubplot:xlabel='month', ylabel='Total_booking'>"
            ]
          },
          "metadata": {},
          "execution_count": 21
        },
        {
          "output_type": "display_data",
          "data": {
            "text/plain": [
              "<Figure size 432x288 with 1 Axes>"
            ],
            "image/png": "[encoded data removed]"
          },
          "metadata": {
            "needs_background": "light"
          }
        }
      ]
    },
    {
      "cell_type": "code",
      "source": [
        "sns.barplot(x = 'season', y = 'Total_booking', data = train)"
      ],
      "metadata": {
        "id": "qYxrk7LKkcQS",
        "outputId": "50aee0be-fa1e-4433-c8b0-8ca33b89e0c2",
        "papermill": {
          "duration": 0.482004,
          "end_time": "2021-03-28T12:29:40.085823",
          "exception": false,
          "start_time": "2021-03-28T12:29:39.603819",
          "status": "completed"
        },
        "tags": [],
        "execution": {
          "iopub.status.busy": "2023-03-07T12:23:51.241770Z",
          "iopub.execute_input": "2023-03-07T12:23:51.242145Z",
          "iopub.status.idle": "2023-03-07T12:23:51.788776Z",
          "shell.execute_reply.started": "2023-03-07T12:23:51.242110Z",
          "shell.execute_reply": "2023-03-07T12:23:51.785802Z"
        },
        "trusted": true,
        "colab": {
          "base_uri": "https://localhost:8080/",
          "height": 295
        }
      },
      "execution_count": null,
      "outputs": [
        {
          "output_type": "execute_result",
          "data": {
            "text/plain": [
              "<AxesSubplot:xlabel='season', ylabel='Total_booking'>"
            ]
          },
          "metadata": {},
          "execution_count": 22
        },
        {
          "output_type": "display_data",
          "data": {
            "text/plain": [
              "<Figure size 432x288 with 1 Axes>"
            ],
            "image/png": "[encoded data removed]"
          },
          "metadata": {
            "needs_background": "light"
          }
        }
      ]
    },
    {
      "cell_type": "code",
      "source": [
        "sns.jointplot(x=train.hour, y=train.Total_booking, kind='scatter')\n",
        "plt.show()"
      ],
      "metadata": {
        "id": "3QOrQs0Hkeqj",
        "outputId": "ad73cc63-3dc7-4382-ffef-aa2ad1df2fa6",
        "papermill": {
          "duration": 0.85112,
          "end_time": "2021-03-28T12:29:41.082625",
          "exception": false,
          "start_time": "2021-03-28T12:29:40.231505",
          "status": "completed"
        },
        "tags": [],
        "execution": {
          "iopub.status.busy": "2023-03-07T12:23:51.792640Z",
          "iopub.execute_input": "2023-03-07T12:23:51.793318Z",
          "iopub.status.idle": "2023-03-07T12:23:52.592453Z",
          "shell.execute_reply.started": "2023-03-07T12:23:51.793272Z",
          "shell.execute_reply": "2023-03-07T12:23:52.591041Z"
        },
        "trusted": true,
        "colab": {
          "base_uri": "https://localhost:8080/",
          "height": 440
        }
      },
      "execution_count": null,
      "outputs": [
        {
          "output_type": "display_data",
          "data": {
            "text/plain": [
              "<Figure size 432x432 with 3 Axes>"
            ],
            "image/png": "[encoded data removed]"
          },
          "metadata": {
            "needs_background": "light"
          }
        }
      ]
    },
    {
      "cell_type": "markdown",
      "source": [
        "### b. Write down your inference in the markdown cell\n",
        "\n",
        "1. **Sign of the correlation coefficient**:\n",
        "<table><thead><tr><th>Sign of the correlation coefficient</th><th></th></tr></thead><tbody><tr><td>Postitive (+ve)<br></td><td>'temp' and 'atemp'  (+0.98), 'temp' and 'Total_booking' <br>(+0.4), 'atemp' and 'Total_booking' <br>(+0.39), 'windspeed' and 'Total_booking' <br>(+0.94)</td></tr><tr><td>Negative (-ve)</td><td>'humidity' and 'temp' (−0.067), <br>'windspeed' and 'atemp' (−0.067),<br>'humidity' and 'atemp' (−0.045), <br>'windspeed' and 'temp' (−0.026), <br>'humidity' and 'windspeed' (−0.032),<br>'humidity' and 'Total_booking' (−0.031), <br>'temp' and 'windspeed' (−0.026)</td></tr></tbody></table>\n",
        "</table>\n",
        "\n",
        "2. **Strength of the correlation coefficient**:\n",
        "<table><thead><tr><th>Strength of the correlation coefficient</th><th></th></tr></thead><tbody><tr><td>Strong correlation coefficient</td><td>'temp' and 'temp' (0.98)<br>'windspeed' and 'Total_booking' (0.94)</td></tr><tr><td>Moderate correlation coefficient</td><td>'atemp' and 'Total_booking' <br>(0.39), <br>temp' and 'Total_booking' (0.4)</td></tr><tr><td>Weak correlation coefficient:</td><td>N/A</td></tr></tbody></table>                                                                 |\n",
        "\n",
        "3. In the matrix below, the lowest value is -0.032 for \"humidity\" and \"windspeed.\" And the strongest correlation is between \"atemp\" and \"temp,\" at 0.98.\n",
        "\n",
        "4. \"temp\" and \"atemp\" are highly correlated, which will cause multicollinearity. For the best outcome, we will have to remove these columns from the data.\n",
        "\n",
        "5. Based on this correlation, it is easy to find statistical significance. This can be done by calculating the p-value of the correlation coefficient. If the p-value is less than the significance level (typically 0.05), then the correlation coefficient is statistically significant."
      ],
      "metadata": {
        "id": "2MUuAF0rEQk-"
      }
    },
    {
      "cell_type": "code",
      "source": [
        "corrmat = train.corr()\n",
        "fig = plt.figure(figsize = (15,9))\n",
        "\n",
        "sns.heatmap(corrmat, cmap ='YlGnBu', annot = True, vmax = 1, square = True,vmin=-1)\n",
        "plt.show()"
      ],
      "metadata": {
        "id": "OOR4jjpYkuKE",
        "outputId": "cf05787e-df5b-4204-b5d8-9d565022b6f9",
        "papermill": {
          "duration": 0.83013,
          "end_time": "2021-03-28T12:29:42.060118",
          "exception": false,
          "start_time": "2021-03-28T12:29:41.229988",
          "status": "completed"
        },
        "tags": [],
        "execution": {
          "iopub.status.busy": "2023-03-07T12:23:52.593927Z",
          "iopub.execute_input": "2023-03-07T12:23:52.594307Z",
          "iopub.status.idle": "2023-03-07T12:23:52.993014Z",
          "shell.execute_reply.started": "2023-03-07T12:23:52.594269Z",
          "shell.execute_reply": "2023-03-07T12:23:52.991580Z"
        },
        "trusted": true,
        "colab": {
          "base_uri": "https://localhost:8080/",
          "height": 541
        }
      },
      "execution_count": null,
      "outputs": [
        {
          "output_type": "display_data",
          "data": {
            "text/plain": [
              "<Figure size 1080x648 with 2 Axes>"
            ],
            "image/png": "[encoded data removed]"
          },
          "metadata": {
            "needs_background": "light"
          }
        }
      ]
    },
    {
      "cell_type": "code",
      "source": [
        "train.isnull().sum()"
      ],
      "metadata": {
        "id": "GqPXrbHOlS6L",
        "outputId": "5c23a518-c5d2-4e5b-f85d-9e2946a6eb05",
        "papermill": {
          "duration": 0.170568,
          "end_time": "2021-03-28T12:29:42.679281",
          "exception": false,
          "start_time": "2021-03-28T12:29:42.508713",
          "status": "completed"
        },
        "tags": [],
        "execution": {
          "iopub.status.busy": "2023-03-07T12:23:52.994976Z",
          "iopub.execute_input": "2023-03-07T12:23:52.995501Z",
          "iopub.status.idle": "2023-03-07T12:23:53.009155Z",
          "shell.execute_reply.started": "2023-03-07T12:23:52.995460Z",
          "shell.execute_reply": "2023-03-07T12:23:53.007966Z"
        },
        "trusted": true,
        "colab": {
          "base_uri": "https://localhost:8080/"
        }
      },
      "execution_count": null,
      "outputs": [
        {
          "output_type": "execute_result",
          "data": {
            "text/plain": [
              "season           0\n",
              "holiday          0\n",
              "workingday       0\n",
              "weather          0\n",
              "temp             0\n",
              "atemp            0\n",
              "humidity         0\n",
              "windspeed        0\n",
              "Total_booking    0\n",
              "date             0\n",
              "hour             0\n",
              "weekday          0\n",
              "month            0\n",
              "dtype: int64"
            ]
          },
          "metadata": {},
          "execution_count": 25
        }
      ]
    },
    {
      "cell_type": "markdown",
      "source": [
        "OUTLIERS TREATMENT"
      ],
      "metadata": {
        "id": "sxcuBX0ulgZD",
        "papermill": {
          "duration": 0.142736,
          "end_time": "2021-03-28T12:29:42.970745",
          "exception": false,
          "start_time": "2021-03-28T12:29:42.828009",
          "status": "completed"
        },
        "tags": []
      }
    },
    {
      "cell_type": "code",
      "source": [
        "train.describe()"
      ],
      "metadata": {
        "id": "PcPp1MILlcfL",
        "outputId": "de4bc44b-1a78-413d-c207-19e45d3be0a0",
        "papermill": {
          "duration": 0.191237,
          "end_time": "2021-03-28T12:29:43.312898",
          "exception": false,
          "start_time": "2021-03-28T12:29:43.121661",
          "status": "completed"
        },
        "tags": [],
        "execution": {
          "iopub.status.busy": "2023-03-07T12:23:53.010711Z",
          "iopub.execute_input": "2023-03-07T12:23:53.011060Z",
          "iopub.status.idle": "2023-03-07T12:23:53.044345Z",
          "shell.execute_reply.started": "2023-03-07T12:23:53.011026Z",
          "shell.execute_reply": "2023-03-07T12:23:53.043055Z"
        },
        "trusted": true,
        "colab": {
          "base_uri": "https://localhost:8080/",
          "height": 291
        }
      },
      "execution_count": null,
      "outputs": [
        {
          "output_type": "execute_result",
          "data": {
            "text/plain": [
              "              temp        atemp     humidity    windspeed  Total_booking\n",
              "count  8700.000000  8700.000000  8700.000000  8700.000000    8700.000000\n",
              "mean     20.246554    23.660759    61.670690    12.810529     193.067586\n",
              "std       7.810736     8.495264    19.192713     8.119079     181.580056\n",
              "min       0.820000     0.760000     0.000000     0.000000       1.000000\n",
              "25%      13.940000    16.665000    46.000000     7.001500      43.000000\n",
              "50%      20.500000    24.240000    61.000000    12.998000     148.000000\n",
              "75%      26.240000    31.060000    77.000000    16.997900     286.000000\n",
              "max      41.000000    45.455000   100.000000    43.998900     977.000000"
            ],
            "text/html": [
              "\n",
              "  <div id=\"df-af0cb811-6af6-452d-b33b-1c14b72ef7f9\">\n",
              "    <div class=\"colab-df-container\">\n",
              "      <div>\n",
              "<style scoped>\n",
              "    .dataframe tbody tr th:only-of-type {\n",
              "        vertical-align: middle;\n",
              "    }\n",
              "\n",
              "    .dataframe tbody tr th {\n",
              "        vertical-align: top;\n",
              "    }\n",
              "\n",
              "    .dataframe thead th {\n",
              "        text-align: right;\n",
              "    }\n",
              "</style>\n",
              "<table border=\"1\" class=\"dataframe\">\n",
              "  <thead>\n",
              "    <tr style=\"text-align: right;\">\n",
              "      <th></th>\n",
              "      <th>temp</th>\n",
              "      <th>atemp</th>\n",
              "      <th>humidity</th>\n",
              "      <th>windspeed</th>\n",
              "      <th>Total_booking</th>\n",
              "    </tr>\n",
              "  </thead>\n",
              "  <tbody>\n",
              "    <tr>\n",
              "      <th>count</th>\n",
              "      <td>8700.000000</td>\n",
              "      <td>8700.000000</td>\n",
              "      <td>8700.000000</td>\n",
              "      <td>8700.000000</td>\n",
              "      <td>8700.000000</td>\n",
              "    </tr>\n",
              "    <tr>\n",
              "      <th>mean</th>\n",
              "      <td>20.246554</td>\n",
              "      <td>23.660759</td>\n",
              "      <td>61.670690</td>\n",
              "      <td>12.810529</td>\n",
              "      <td>193.067586</td>\n",
              "    </tr>\n",
              "    <tr>\n",
              "      <th>std</th>\n",
              "      <td>7.810736</td>\n",
              "      <td>8.495264</td>\n",
              "      <td>19.192713</td>\n",
              "      <td>8.119079</td>\n",
              "      <td>181.580056</td>\n",
              "    </tr>\n",
              "    <tr>\n",
              "      <th>min</th>\n",
              "      <td>0.820000</td>\n",
              "      <td>0.760000</td>\n",
              "      <td>0.000000</td>\n",
              "      <td>0.000000</td>\n",
              "      <td>1.000000</td>\n",
              "    </tr>\n",
              "    <tr>\n",
              "      <th>25%</th>\n",
              "      <td>13.940000</td>\n",
              "      <td>16.665000</td>\n",
              "      <td>46.000000</td>\n",
              "      <td>7.001500</td>\n",
              "      <td>43.000000</td>\n",
              "    </tr>\n",
              "    <tr>\n",
              "      <th>50%</th>\n",
              "      <td>20.500000</td>\n",
              "      <td>24.240000</td>\n",
              "      <td>61.000000</td>\n",
              "      <td>12.998000</td>\n",
              "      <td>148.000000</td>\n",
              "    </tr>\n",
              "    <tr>\n",
              "      <th>75%</th>\n",
              "      <td>26.240000</td>\n",
              "      <td>31.060000</td>\n",
              "      <td>77.000000</td>\n",
              "      <td>16.997900</td>\n",
              "      <td>286.000000</td>\n",
              "    </tr>\n",
              "    <tr>\n",
              "      <th>max</th>\n",
              "      <td>41.000000</td>\n",
              "      <td>45.455000</td>\n",
              "      <td>100.000000</td>\n",
              "      <td>43.998900</td>\n",
              "      <td>977.000000</td>\n",
              "    </tr>\n",
              "  </tbody>\n",
              "</table>\n",
              "</div>\n",
              "      <button class=\"colab-df-convert\" onclick=\"convertToInteractive('df-af0cb811-6af6-452d-b33b-1c14b72ef7f9')\"\n",
              "              title=\"Convert this dataframe to an interactive table.\"\n",
              "              style=\"display:none;\">\n",
              "        \n",
              "  <svg xmlns=\"http://www.w3.org/2000/svg\" height=\"24px\"viewBox=\"0 0 24 24\"\n",
              "       width=\"24px\">\n",
              "    <path d=\"M0 0h24v24H0V0z\" fill=\"none\"/>\n",
              "    <path d=\"M18.56 5.44l.94 2.06.94-2.06 2.06-.94-2.06-.94-.94-2.06-.94 2.06-2.06.94zm-11 1L8.5 8.5l.94-2.06 2.06-.94-2.06-.94L8.5 2.5l-.94 2.06-2.06.94zm10 10l.94 2.06.94-2.06 2.06-.94-2.06-.94-.94-2.06-.94 2.06-2.06.94z\"/><path d=\"M17.41 7.96l-1.37-1.37c-.4-.4-.92-.59-1.43-.59-.52 0-1.04.2-1.43.59L10.3 9.45l-7.72 7.72c-.78.78-.78 2.05 0 2.83L4 21.41c.39.39.9.59 1.41.59.51 0 1.02-.2 1.41-.59l7.78-7.78 2.81-2.81c.8-.78.8-2.07 0-2.86zM5.41 20L4 18.59l7.72-7.72 1.47 1.35L5.41 20z\"/>\n",
              "  </svg>\n",
              "      </button>\n",
              "      \n",
              "  <style>\n",
              "    .colab-df-container {\n",
              "      display:flex;\n",
              "      flex-wrap:wrap;\n",
              "      gap: 12px;\n",
              "    }\n",
              "\n",
              "    .colab-df-convert {\n",
              "      background-color: #E8F0FE;\n",
              "      border: none;\n",
              "      border-radius: 50%;\n",
              "      cursor: pointer;\n",
              "      display: none;\n",
              "      fill: #1967D2;\n",
              "      height: 32px;\n",
              "      padding: 0 0 0 0;\n",
              "      width: 32px;\n",
              "    }\n",
              "\n",
              "    .colab-df-convert:hover {\n",
              "      background-color: #E2EBFA;\n",
              "      box-shadow: 0px 1px 2px rgba(60, 64, 67, 0.3), 0px 1px 3px 1px rgba(60, 64, 67, 0.15);\n",
              "      fill: #174EA6;\n",
              "    }\n",
              "\n",
              "    [theme=dark] .colab-df-convert {\n",
              "      background-color: #3B4455;\n",
              "      fill: #D2E3FC;\n",
              "    }\n",
              "\n",
              "    [theme=dark] .colab-df-convert:hover {\n",
              "      background-color: #434B5C;\n",
              "      box-shadow: 0px 1px 3px 1px rgba(0, 0, 0, 0.15);\n",
              "      filter: drop-shadow(0px 1px 2px rgba(0, 0, 0, 0.3));\n",
              "      fill: #FFFFFF;\n",
              "    }\n",
              "  </style>\n",
              "\n",
              "      <script>\n",
              "        const buttonEl =\n",
              "          document.querySelector('#df-af0cb811-6af6-452d-b33b-1c14b72ef7f9 button.colab-df-convert');\n",
              "        buttonEl.style.display =\n",
              "          google.colab.kernel.accessAllowed ? 'block' : 'none';\n",
              "\n",
              "        async function convertToInteractive(key) {\n",
              "          const element = document.querySelector('#df-af0cb811-6af6-452d-b33b-1c14b72ef7f9');\n",
              "          const dataTable =\n",
              "            await google.colab.kernel.invokeFunction('convertToInteractive',\n",
              "                                                     [key], {});\n",
              "          if (!dataTable) return;\n",
              "\n",
              "          const docLinkHtml = 'Like what you see? Visit the ' +\n",
              "            '<a target=\"_blank\" href=https://colab.research.google.com/notebooks/data_table.ipynb>data table notebook</a>'\n",
              "            + ' to learn more about interactive tables.';\n",
              "          element.innerHTML = '';\n",
              "          dataTable['output_type'] = 'display_data';\n",
              "          await google.colab.output.renderOutput(dataTable, element);\n",
              "          const docLink = document.createElement('div');\n",
              "          docLink.innerHTML = docLinkHtml;\n",
              "          element.appendChild(docLink);\n",
              "        }\n",
              "      </script>\n",
              "    </div>\n",
              "  </div>\n",
              "  "
            ]
          },
          "metadata": {},
          "execution_count": 26
        }
      ]
    },
    {
      "cell_type": "code",
      "source": [
        "train.Total_booking.hist()"
      ],
      "metadata": {
        "id": "4F_HDx-9lpbf",
        "outputId": "903c2993-13e7-46ac-ff62-d5befa961c28",
        "papermill": {
          "duration": 0.362492,
          "end_time": "2021-03-28T12:29:43.834938",
          "exception": false,
          "start_time": "2021-03-28T12:29:43.472446",
          "status": "completed"
        },
        "tags": [],
        "execution": {
          "iopub.status.busy": "2023-03-07T12:23:53.046017Z",
          "iopub.execute_input": "2023-03-07T12:23:53.046405Z",
          "iopub.status.idle": "2023-03-07T12:23:53.365086Z",
          "shell.execute_reply.started": "2023-03-07T12:23:53.046369Z",
          "shell.execute_reply": "2023-03-07T12:23:53.363620Z"
        },
        "trusted": true,
        "colab": {
          "base_uri": "https://localhost:8080/",
          "height": 282
        }
      },
      "execution_count": null,
      "outputs": [
        {
          "output_type": "execute_result",
          "data": {
            "text/plain": [
              "<AxesSubplot:>"
            ]
          },
          "metadata": {},
          "execution_count": 27
        },
        {
          "output_type": "display_data",
          "data": {
            "text/plain": [
              "<Figure size 432x288 with 1 Axes>"
            ],
            "image/png": "[encoded data removed]"
          },
          "metadata": {
            "needs_background": "light"
          }
        }
      ]
    },
    {
      "cell_type": "code",
      "source": [
        "rev_stat=train.Total_booking.describe()\n",
        "print(rev_stat)\n",
        "# calculating interquartile range\n",
        "iqr=rev_stat['75%']-rev_stat['25%']\n",
        "upper=rev_stat['75%']+1.5*iqr\n",
        "lower=rev_stat['25%']-1.5*iqr\n",
        "print()\n",
        "print(f'The upper and lower bounds for suspected outliers are {lower} and {upper}')"
      ],
      "metadata": {
        "id": "jICRxU5dlvPw",
        "outputId": "bbc23e66-685b-4b5d-e17d-3183ad9fe753",
        "papermill": {
          "duration": 0.169095,
          "end_time": "2021-03-28T12:29:44.157757",
          "exception": false,
          "start_time": "2021-03-28T12:29:43.988662",
          "status": "completed"
        },
        "tags": [],
        "execution": {
          "iopub.status.busy": "2023-03-07T12:23:53.366732Z",
          "iopub.execute_input": "2023-03-07T12:23:53.367089Z",
          "iopub.status.idle": "2023-03-07T12:23:53.381386Z",
          "shell.execute_reply.started": "2023-03-07T12:23:53.367056Z",
          "shell.execute_reply": "2023-03-07T12:23:53.379846Z"
        },
        "trusted": true,
        "colab": {
          "base_uri": "https://localhost:8080/"
        }
      },
      "execution_count": null,
      "outputs": [
        {
          "output_type": "stream",
          "name": "stdout",
          "text": [
            "count    8700.000000\n",
            "mean      193.067586\n",
            "std       181.580056\n",
            "min         1.000000\n",
            "25%        43.000000\n",
            "50%       148.000000\n",
            "75%       286.000000\n",
            "max       977.000000\n",
            "Name: Total_booking, dtype: float64\n",
            "\n",
            "The upper and lower bounds for suspected outliers are -321.5 and 650.5\n"
          ]
        }
      ]
    },
    {
      "cell_type": "code",
      "source": [
        "outliers=train[train.Total_booking>upper].index.tolist()\n",
        "train[train.Total_booking>upper]"
      ],
      "metadata": {
        "id": "sfE4rM2KlzHE",
        "outputId": "b58a5baf-ec9a-4e14-fa9e-0e32bd4cc3c8",
        "papermill": {
          "duration": 0.364701,
          "end_time": "2021-03-28T12:29:44.676762",
          "exception": false,
          "start_time": "2021-03-28T12:29:44.312061",
          "status": "completed"
        },
        "tags": [],
        "scrolled": true,
        "execution": {
          "iopub.status.busy": "2023-03-07T12:23:53.382985Z",
          "iopub.execute_input": "2023-03-07T12:23:53.383386Z",
          "iopub.status.idle": "2023-03-07T12:23:53.415956Z",
          "shell.execute_reply.started": "2023-03-07T12:23:53.383335Z",
          "shell.execute_reply": "2023-03-07T12:23:53.414690Z"
        },
        "trusted": true,
        "colab": {
          "base_uri": "https://localhost:8080/",
          "height": 411
        }
      },
      "execution_count": null,
      "outputs": [
        {
          "output_type": "execute_result",
          "data": {
            "text/plain": [
              "      season holiday workingday              weather   temp   atemp  humidity  \\\n",
              "5       Fall       0          1   Clear + Few clouds  33.62  12.120        36   \n",
              "27    Summer       0          1   Clear + Few clouds  22.96  26.515        73   \n",
              "30      Fall       0          1   Clear + Few clouds  31.98  35.605        49   \n",
              "52    Summer       0          1   Clear + Few clouds  24.60  31.060        43   \n",
              "70    Summer       0          1   Clear + Few clouds  26.24  31.060        38   \n",
              "...      ...     ...        ...                  ...    ...     ...       ...   \n",
              "8478  Spring       0          1   Clear + Few clouds  18.04  21.970        82   \n",
              "8582  Winter       0          1       Mist + Cloudy   24.60  30.305        64   \n",
              "8676  Summer       0          0   Clear + Few clouds  26.24  31.060        36   \n",
              "8681    Fall       0          1       Mist + Cloudy   32.80  37.880        55   \n",
              "8695  Winter       0          1   Clear + Few clouds  20.50  24.240        39   \n",
              "\n",
              "      windspeed  Total_booking        date hour    weekday    month  \n",
              "5       22.0028            791   8/17/2012   17     Friday   August  \n",
              "27      15.0013            813    5/2/2012   18  Wednesday      May  \n",
              "30      12.9980            872   7/10/2012   17    Tuesday     July  \n",
              "52      12.9980            790    6/5/2012   18    Tuesday     June  \n",
              "70      15.0013            669   5/18/2012   18     Friday      May  \n",
              "...         ...            ...         ...  ...        ...      ...  \n",
              "8478     0.0000            662   3/14/2012    8  Wednesday    March  \n",
              "8582    26.0027            737  10/15/2012    8     Monday  October  \n",
              "8676    12.9980            659   5/12/2012   13   Saturday      May  \n",
              "8681    19.0012            858    8/8/2012   17  Wednesday   August  \n",
              "8695    19.0012            827  10/11/2012   17   Thursday  October  \n",
              "\n",
              "[242 rows x 13 columns]"
            ],
            "text/html": [
              "\n",
              "  <div id=\"df-838329b6-d4cd-40ad-942c-c70802bbd591\">\n",
              "    <div class=\"colab-df-container\">\n",
              "      <div>\n",
              "<style scoped>\n",
              "    .dataframe tbody tr th:only-of-type {\n",
              "        vertical-align: middle;\n",
              "    }\n",
              "\n",
              "    .dataframe tbody tr th {\n",
              "        vertical-align: top;\n",
              "    }\n",
              "\n",
              "    .dataframe thead th {\n",
              "        text-align: right;\n",
              "    }\n",
              "</style>\n",
              "<table border=\"1\" class=\"dataframe\">\n",
              "  <thead>\n",
              "    <tr style=\"text-align: right;\">\n",
              "      <th></th>\n",
              "      <th>season</th>\n",
              "      <th>holiday</th>\n",
              "      <th>workingday</th>\n",
              "      <th>weather</th>\n",
              "      <th>temp</th>\n",
              "      <th>atemp</th>\n",
              "      <th>humidity</th>\n",
              "      <th>windspeed</th>\n",
              "      <th>Total_booking</th>\n",
              "      <th>date</th>\n",
              "      <th>hour</th>\n",
              "      <th>weekday</th>\n",
              "      <th>month</th>\n",
              "    </tr>\n",
              "  </thead>\n",
              "  <tbody>\n",
              "    <tr>\n",
              "      <th>5</th>\n",
              "      <td>Fall</td>\n",
              "      <td>0</td>\n",
              "      <td>1</td>\n",
              "      <td>Clear + Few clouds</td>\n",
              "      <td>33.62</td>\n",
              "      <td>12.120</td>\n",
              "      <td>36</td>\n",
              "      <td>22.0028</td>\n",
              "      <td>791</td>\n",
              "      <td>8/17/2012</td>\n",
              "      <td>17</td>\n",
              "      <td>Friday</td>\n",
              "      <td>August</td>\n",
              "    </tr>\n",
              "    <tr>\n",
              "      <th>27</th>\n",
              "      <td>Summer</td>\n",
              "      <td>0</td>\n",
              "      <td>1</td>\n",
              "      <td>Clear + Few clouds</td>\n",
              "      <td>22.96</td>\n",
              "      <td>26.515</td>\n",
              "      <td>73</td>\n",
              "      <td>15.0013</td>\n",
              "      <td>813</td>\n",
              "      <td>5/2/2012</td>\n",
              "      <td>18</td>\n",
              "      <td>Wednesday</td>\n",
              "      <td>May</td>\n",
              "    </tr>\n",
              "    <tr>\n",
              "      <th>30</th>\n",
              "      <td>Fall</td>\n",
              "      <td>0</td>\n",
              "      <td>1</td>\n",
              "      <td>Clear + Few clouds</td>\n",
              "      <td>31.98</td>\n",
              "      <td>35.605</td>\n",
              "      <td>49</td>\n",
              "      <td>12.9980</td>\n",
              "      <td>872</td>\n",
              "      <td>7/10/2012</td>\n",
              "      <td>17</td>\n",
              "      <td>Tuesday</td>\n",
              "      <td>July</td>\n",
              "    </tr>\n",
              "    <tr>\n",
              "      <th>52</th>\n",
              "      <td>Summer</td>\n",
              "      <td>0</td>\n",
              "      <td>1</td>\n",
              "      <td>Clear + Few clouds</td>\n",
              "      <td>24.60</td>\n",
              "      <td>31.060</td>\n",
              "      <td>43</td>\n",
              "      <td>12.9980</td>\n",
              "      <td>790</td>\n",
              "      <td>6/5/2012</td>\n",
              "      <td>18</td>\n",
              "      <td>Tuesday</td>\n",
              "      <td>June</td>\n",
              "    </tr>\n",
              "    <tr>\n",
              "      <th>70</th>\n",
              "      <td>Summer</td>\n",
              "      <td>0</td>\n",
              "      <td>1</td>\n",
              "      <td>Clear + Few clouds</td>\n",
              "      <td>26.24</td>\n",
              "      <td>31.060</td>\n",
              "      <td>38</td>\n",
              "      <td>15.0013</td>\n",
              "      <td>669</td>\n",
              "      <td>5/18/2012</td>\n",
              "      <td>18</td>\n",
              "      <td>Friday</td>\n",
              "      <td>May</td>\n",
              "    </tr>\n",
              "    <tr>\n",
              "      <th>...</th>\n",
              "      <td>...</td>\n",
              "      <td>...</td>\n",
              "      <td>...</td>\n",
              "      <td>...</td>\n",
              "      <td>...</td>\n",
              "      <td>...</td>\n",
              "      <td>...</td>\n",
              "      <td>...</td>\n",
              "      <td>...</td>\n",
              "      <td>...</td>\n",
              "      <td>...</td>\n",
              "      <td>...</td>\n",
              "      <td>...</td>\n",
              "    </tr>\n",
              "    <tr>\n",
              "      <th>8478</th>\n",
              "      <td>Spring</td>\n",
              "      <td>0</td>\n",
              "      <td>1</td>\n",
              "      <td>Clear + Few clouds</td>\n",
              "      <td>18.04</td>\n",
              "      <td>21.970</td>\n",
              "      <td>82</td>\n",
              "      <td>0.0000</td>\n",
              "      <td>662</td>\n",
              "      <td>3/14/2012</td>\n",
              "      <td>8</td>\n",
              "      <td>Wednesday</td>\n",
              "      <td>March</td>\n",
              "    </tr>\n",
              "    <tr>\n",
              "      <th>8582</th>\n",
              "      <td>Winter</td>\n",
              "      <td>0</td>\n",
              "      <td>1</td>\n",
              "      <td>Mist + Cloudy</td>\n",
              "      <td>24.60</td>\n",
              "      <td>30.305</td>\n",
              "      <td>64</td>\n",
              "      <td>26.0027</td>\n",
              "      <td>737</td>\n",
              "      <td>10/15/2012</td>\n",
              "      <td>8</td>\n",
              "      <td>Monday</td>\n",
              "      <td>October</td>\n",
              "    </tr>\n",
              "    <tr>\n",
              "      <th>8676</th>\n",
              "      <td>Summer</td>\n",
              "      <td>0</td>\n",
              "      <td>0</td>\n",
              "      <td>Clear + Few clouds</td>\n",
              "      <td>26.24</td>\n",
              "      <td>31.060</td>\n",
              "      <td>36</td>\n",
              "      <td>12.9980</td>\n",
              "      <td>659</td>\n",
              "      <td>5/12/2012</td>\n",
              "      <td>13</td>\n",
              "      <td>Saturday</td>\n",
              "      <td>May</td>\n",
              "    </tr>\n",
              "    <tr>\n",
              "      <th>8681</th>\n",
              "      <td>Fall</td>\n",
              "      <td>0</td>\n",
              "      <td>1</td>\n",
              "      <td>Mist + Cloudy</td>\n",
              "      <td>32.80</td>\n",
              "      <td>37.880</td>\n",
              "      <td>55</td>\n",
              "      <td>19.0012</td>\n",
              "      <td>858</td>\n",
              "      <td>8/8/2012</td>\n",
              "      <td>17</td>\n",
              "      <td>Wednesday</td>\n",
              "      <td>August</td>\n",
              "    </tr>\n",
              "    <tr>\n",
              "      <th>8695</th>\n",
              "      <td>Winter</td>\n",
              "      <td>0</td>\n",
              "      <td>1</td>\n",
              "      <td>Clear + Few clouds</td>\n",
              "      <td>20.50</td>\n",
              "      <td>24.240</td>\n",
              "      <td>39</td>\n",
              "      <td>19.0012</td>\n",
              "      <td>827</td>\n",
              "      <td>10/11/2012</td>\n",
              "      <td>17</td>\n",
              "      <td>Thursday</td>\n",
              "      <td>October</td>\n",
              "    </tr>\n",
              "  </tbody>\n",
              "</table>\n",
              "<p>242 rows × 13 columns</p>\n",
              "</div>\n",
              "      <button class=\"colab-df-convert\" onclick=\"convertToInteractive('df-838329b6-d4cd-40ad-942c-c70802bbd591')\"\n",
              "              title=\"Convert this dataframe to an interactive table.\"\n",
              "              style=\"display:none;\">\n",
              "        \n",
              "  <svg xmlns=\"http://www.w3.org/2000/svg\" height=\"24px\"viewBox=\"0 0 24 24\"\n",
              "       width=\"24px\">\n",
              "    <path d=\"M0 0h24v24H0V0z\" fill=\"none\"/>\n",
              "    <path d=\"M18.56 5.44l.94 2.06.94-2.06 2.06-.94-2.06-.94-.94-2.06-.94 2.06-2.06.94zm-11 1L8.5 8.5l.94-2.06 2.06-.94-2.06-.94L8.5 2.5l-.94 2.06-2.06.94zm10 10l.94 2.06.94-2.06 2.06-.94-2.06-.94-.94-2.06-.94 2.06-2.06.94z\"/><path d=\"M17.41 7.96l-1.37-1.37c-.4-.4-.92-.59-1.43-.59-.52 0-1.04.2-1.43.59L10.3 9.45l-7.72 7.72c-.78.78-.78 2.05 0 2.83L4 21.41c.39.39.9.59 1.41.59.51 0 1.02-.2 1.41-.59l7.78-7.78 2.81-2.81c.8-.78.8-2.07 0-2.86zM5.41 20L4 18.59l7.72-7.72 1.47 1.35L5.41 20z\"/>\n",
              "  </svg>\n",
              "      </button>\n",
              "      \n",
              "  <style>\n",
              "    .colab-df-container {\n",
              "      display:flex;\n",
              "      flex-wrap:wrap;\n",
              "      gap: 12px;\n",
              "    }\n",
              "\n",
              "    .colab-df-convert {\n",
              "      background-color: #E8F0FE;\n",
              "      border: none;\n",
              "      border-radius: 50%;\n",
              "      cursor: pointer;\n",
              "      display: none;\n",
              "      fill: #1967D2;\n",
              "      height: 32px;\n",
              "      padding: 0 0 0 0;\n",
              "      width: 32px;\n",
              "    }\n",
              "\n",
              "    .colab-df-convert:hover {\n",
              "      background-color: #E2EBFA;\n",
              "      box-shadow: 0px 1px 2px rgba(60, 64, 67, 0.3), 0px 1px 3px 1px rgba(60, 64, 67, 0.15);\n",
              "      fill: #174EA6;\n",
              "    }\n",
              "\n",
              "    [theme=dark] .colab-df-convert {\n",
              "      background-color: #3B4455;\n",
              "      fill: #D2E3FC;\n",
              "    }\n",
              "\n",
              "    [theme=dark] .colab-df-convert:hover {\n",
              "      background-color: #434B5C;\n",
              "      box-shadow: 0px 1px 3px 1px rgba(0, 0, 0, 0.15);\n",
              "      filter: drop-shadow(0px 1px 2px rgba(0, 0, 0, 0.3));\n",
              "      fill: #FFFFFF;\n",
              "    }\n",
              "  </style>\n",
              "\n",
              "      <script>\n",
              "        const buttonEl =\n",
              "          document.querySelector('#df-838329b6-d4cd-40ad-942c-c70802bbd591 button.colab-df-convert');\n",
              "        buttonEl.style.display =\n",
              "          google.colab.kernel.accessAllowed ? 'block' : 'none';\n",
              "\n",
              "        async function convertToInteractive(key) {\n",
              "          const element = document.querySelector('#df-838329b6-d4cd-40ad-942c-c70802bbd591');\n",
              "          const dataTable =\n",
              "            await google.colab.kernel.invokeFunction('convertToInteractive',\n",
              "                                                     [key], {});\n",
              "          if (!dataTable) return;\n",
              "\n",
              "          const docLinkHtml = 'Like what you see? Visit the ' +\n",
              "            '<a target=\"_blank\" href=https://colab.research.google.com/notebooks/data_table.ipynb>data table notebook</a>'\n",
              "            + ' to learn more about interactive tables.';\n",
              "          element.innerHTML = '';\n",
              "          dataTable['output_type'] = 'display_data';\n",
              "          await google.colab.output.renderOutput(dataTable, element);\n",
              "          const docLink = document.createElement('div');\n",
              "          docLink.innerHTML = docLinkHtml;\n",
              "          element.appendChild(docLink);\n",
              "        }\n",
              "      </script>\n",
              "    </div>\n",
              "  </div>\n",
              "  "
            ]
          },
          "metadata": {},
          "execution_count": 29
        }
      ]
    },
    {
      "cell_type": "code",
      "source": [
        "#Original data with outliers\n",
        "train.shape"
      ],
      "metadata": {
        "id": "wmg_KzWrl9bs",
        "outputId": "0bbf29a4-17c9-4929-ee46-51d57de47dba",
        "papermill": {
          "duration": 0.170339,
          "end_time": "2021-03-28T12:29:45.006495",
          "exception": false,
          "start_time": "2021-03-28T12:29:44.836156",
          "status": "completed"
        },
        "tags": [],
        "execution": {
          "iopub.status.busy": "2023-03-07T12:23:53.417762Z",
          "iopub.execute_input": "2023-03-07T12:23:53.418154Z",
          "iopub.status.idle": "2023-03-07T12:23:53.425946Z",
          "shell.execute_reply.started": "2023-03-07T12:23:53.418118Z",
          "shell.execute_reply": "2023-03-07T12:23:53.424552Z"
        },
        "trusted": true,
        "colab": {
          "base_uri": "https://localhost:8080/"
        }
      },
      "execution_count": null,
      "outputs": [
        {
          "output_type": "execute_result",
          "data": {
            "text/plain": [
              "(8700, 13)"
            ]
          },
          "metadata": {},
          "execution_count": 30
        }
      ]
    },
    {
      "cell_type": "code",
      "source": [
        "for idx in outliers:\n",
        "    train.drop(idx,inplace=True)"
      ],
      "metadata": {
        "id": "BjpcvwKRmCwC",
        "papermill": {
          "duration": 0.496836,
          "end_time": "2021-03-28T12:29:45.667029",
          "exception": false,
          "start_time": "2021-03-28T12:29:45.170193",
          "status": "completed"
        },
        "tags": [],
        "execution": {
          "iopub.status.busy": "2023-03-07T12:23:53.427651Z",
          "iopub.execute_input": "2023-03-07T12:23:53.428013Z",
          "iopub.status.idle": "2023-03-07T12:23:53.778263Z",
          "shell.execute_reply.started": "2023-03-07T12:23:53.427978Z",
          "shell.execute_reply": "2023-03-07T12:23:53.776993Z"
        },
        "trusted": true
      },
      "execution_count": null,
      "outputs": []
    },
    {
      "cell_type": "code",
      "source": [
        "# After removing outliers\n",
        "train.shape"
      ],
      "metadata": {
        "id": "nD4u8DqPmGo_",
        "outputId": "6b107f86-f995-4439-a266-6eec4faac218",
        "papermill": {
          "duration": 0.173681,
          "end_time": "2021-03-28T12:29:46.007619",
          "exception": false,
          "start_time": "2021-03-28T12:29:45.833938",
          "status": "completed"
        },
        "tags": [],
        "execution": {
          "iopub.status.busy": "2023-03-07T12:23:53.780197Z",
          "iopub.execute_input": "2023-03-07T12:23:53.780663Z",
          "iopub.status.idle": "2023-03-07T12:23:53.788435Z",
          "shell.execute_reply.started": "2023-03-07T12:23:53.780621Z",
          "shell.execute_reply": "2023-03-07T12:23:53.787084Z"
        },
        "trusted": true,
        "colab": {
          "base_uri": "https://localhost:8080/"
        }
      },
      "execution_count": null,
      "outputs": [
        {
          "output_type": "execute_result",
          "data": {
            "text/plain": [
              "(8458, 13)"
            ]
          },
          "metadata": {},
          "execution_count": 32
        }
      ]
    },
    {
      "cell_type": "code",
      "source": [
        "train.dtypes"
      ],
      "metadata": {
        "id": "NgPKZeY7mKhI",
        "outputId": "13a418e1-657c-48f6-cac4-c1eaa0fe1855",
        "papermill": {
          "duration": 0.177626,
          "end_time": "2021-03-28T12:29:46.682398",
          "exception": false,
          "start_time": "2021-03-28T12:29:46.504772",
          "status": "completed"
        },
        "tags": [],
        "execution": {
          "iopub.status.busy": "2023-03-07T12:23:53.790067Z",
          "iopub.execute_input": "2023-03-07T12:23:53.790553Z",
          "iopub.status.idle": "2023-03-07T12:23:53.802206Z",
          "shell.execute_reply.started": "2023-03-07T12:23:53.790503Z",
          "shell.execute_reply": "2023-03-07T12:23:53.800950Z"
        },
        "trusted": true,
        "colab": {
          "base_uri": "https://localhost:8080/"
        }
      },
      "execution_count": null,
      "outputs": [
        {
          "output_type": "execute_result",
          "data": {
            "text/plain": [
              "season           category\n",
              "holiday          category\n",
              "workingday       category\n",
              "weather          category\n",
              "temp              float64\n",
              "atemp             float64\n",
              "humidity            int64\n",
              "windspeed         float64\n",
              "Total_booking       int64\n",
              "date               object\n",
              "hour               object\n",
              "weekday            object\n",
              "month              object\n",
              "dtype: object"
            ]
          },
          "metadata": {},
          "execution_count": 33
        }
      ]
    },
    {
      "cell_type": "markdown",
      "source": [
        "## 6. Perform Data Visualization:\n",
        "### a. Visualize distribution of data: total_booking column and plot the probability distribution plot for the column as well\n",
        "\n",
        "1. `sns.displot(data=train, x='Total_booking', kde=True)` is used to visualize the distribution\n",
        "1. `sns.kdeplot(data=train, x='Total_booking')` is used to plot the probability distribution for 'Total_booking'"
      ],
      "metadata": {
        "id": "2dhr0FBnEQlB"
      }
    },
    {
      "cell_type": "code",
      "source": [
        "# Visualize distribution of data: total_booking column\n",
        "sns.displot(data=train, x='Total_booking', kde=True)\n",
        "plt.show()\n",
        "\n",
        "# Plotting the probability distribution plot for the column 'Total_booking'\n",
        "sns.kdeplot(data=train, x='Total_booking')\n",
        "plt.show()"
      ],
      "metadata": {
        "scrolled": true,
        "execution": {
          "iopub.status.busy": "2023-03-07T12:23:53.804141Z",
          "iopub.execute_input": "2023-03-07T12:23:53.804546Z",
          "iopub.status.idle": "2023-03-07T12:23:54.356676Z",
          "shell.execute_reply.started": "2023-03-07T12:23:53.804508Z",
          "shell.execute_reply": "2023-03-07T12:23:54.355103Z"
        },
        "trusted": true,
        "colab": {
          "base_uri": "https://localhost:8080/",
          "height": 631
        },
        "id": "oOP4bZEHEQlB",
        "outputId": "f4468c23-b113-41df-8171-a5d591cbae6b"
      },
      "execution_count": null,
      "outputs": [
        {
          "output_type": "display_data",
          "data": {
            "text/plain": [
              "<Figure size 360x360 with 1 Axes>"
            ],
            "image/png": "[encoded data removed]"
          },
          "metadata": {
            "needs_background": "light"
          }
        },
        {
          "output_type": "display_data",
          "data": {
            "text/plain": [
              "<Figure size 432x288 with 1 Axes>"
            ],
            "image/png": "[encoded data removed]"
          },
          "metadata": {
            "needs_background": "light"
          }
        }
      ]
    },
    {
      "cell_type": "markdown",
      "source": [
        "### b. Visualize total_booking vs (Month, Season, Hour, Weekday, Usertype)\n",
        "\n",
        "1. ```sns.catplot(data=train, x='month', y='Total_booking', kind='bar', hue='workingday')``` is used to visualize 'Total_booking' vs 'month' with `hue` 'workingday'.\n",
        "1. `sns.catplot(data=train, x='season', y='Total_booking', kind='bar', hue='holiday')` is used to visualize 'Total_booking' vs 'season' with `hue` 'holiday'.\n",
        "1. `sns.catplot(data=train, x='hour', y='Total_booking', kind='bar', hue='weather')` is used to visualize 'Total_booking' vs 'hour' with `hue` 'weather'.\n",
        "1. `sns.catplot(data=train, x='weekday', y='Total_booking', kind='bar', hue='holiday')` is used to visualize 'Total_booking' vs 'weekday' with `hue` 'holiday'.\n",
        "1. `sns.catplot(data=train, x='workingday', y='Total_booking', kind='bar', hue='holiday')` is used to visualize Total_booking' vs 'workingday' with `hue` 'holiday'."
      ],
      "metadata": {
        "id": "OpQlWv8rEQlC"
      }
    },
    {
      "cell_type": "code",
      "source": [
        "# Visualize total_booking vs (Month, Season, Hour, Weekday, Usertype)\n",
        "sns.catplot(data=train, x='month', y='Total_booking', kind='bar', hue='workingday')\n",
        "sns.catplot(data=train, x='season', y='Total_booking', kind='bar', hue='holiday')\n",
        "sns.catplot(data=train, x='hour', y='Total_booking', kind='bar', hue='weather')\n",
        "sns.catplot(data=train, x='weekday', y='Total_booking', kind='bar', hue='holiday')\n",
        "sns.catplot(data=train, x='workingday', y='Total_booking', kind='bar', hue='holiday')\n",
        "plt.show()"
      ],
      "metadata": {
        "execution": {
          "iopub.status.busy": "2023-03-07T12:23:54.360689Z",
          "iopub.execute_input": "2023-03-07T12:23:54.361440Z",
          "iopub.status.idle": "2023-03-07T12:23:59.888496Z",
          "shell.execute_reply.started": "2023-03-07T12:23:54.361379Z",
          "shell.execute_reply": "2023-03-07T12:23:59.887043Z"
        },
        "trusted": true,
        "colab": {
          "base_uri": "https://localhost:8080/",
          "height": 1000
        },
        "id": "UMYCP1wjEQlC",
        "outputId": "c7b8e05e-f77c-4960-fe7b-5b6da535593f"
      },
      "execution_count": null,
      "outputs": [
        {
          "output_type": "display_data",
          "data": {
            "text/plain": [
              "<Figure size 426x360 with 1 Axes>"
            ],
            "image/png": "[encoded data removed]"
          },
          "metadata": {
            "needs_background": "light"
          }
        },
        {
          "output_type": "display_data",
          "data": {
            "text/plain": [
              "<Figure size 404.5x360 with 1 Axes>"
            ],
            "image/png": "[encoded data removed]"
          },
          "metadata": {
            "needs_background": "light"
          }
        },
        {
          "output_type": "display_data",
          "data": {
            "text/plain": [
              "<Figure size 544x360 with 1 Axes>"
            ],
            "image/png": "[encoded data removed]"
          },
          "metadata": {
            "needs_background": "light"
          }
        },
        {
          "output_type": "display_data",
          "data": {
            "text/plain": [
              "<Figure size 404.5x360 with 1 Axes>"
            ],
            "image/png": "[encoded data removed]"
          },
          "metadata": {
            "needs_background": "light"
          }
        },
        {
          "output_type": "display_data",
          "data": {
            "text/plain": [
              "<Figure size 404.5x360 with 1 Axes>"
            ],
            "image/png": "[encoded data removed]"
          },
          "metadata": {
            "needs_background": "light"
          }
        }
      ]
    },
    {
      "cell_type": "markdown",
      "source": [
        "### c. Use Histograms to plot all the continuous variables present in the data\n",
        "1. `train.hist(column=['temp', 'atemp', 'humidity', 'windspeed', 'Total_booking'])` is used to plot the histograms of all continous variables in the data"
      ],
      "metadata": {
        "id": "9joVxMV9EQlC"
      }
    },
    {
      "cell_type": "code",
      "source": [
        "# Use Histograms to plot all the continuous variables present in the data\n",
        "train.hist(column=['temp', 'atemp', 'humidity', 'windspeed', 'Total_booking'])\n",
        "plt.show()"
      ],
      "metadata": {
        "execution": {
          "iopub.status.busy": "2023-03-07T12:23:59.890076Z",
          "iopub.execute_input": "2023-03-07T12:23:59.890459Z",
          "iopub.status.idle": "2023-03-07T12:24:00.767006Z",
          "shell.execute_reply.started": "2023-03-07T12:23:59.890424Z",
          "shell.execute_reply": "2023-03-07T12:24:00.765619Z"
        },
        "trusted": true,
        "colab": {
          "base_uri": "https://localhost:8080/",
          "height": 280
        },
        "id": "V43if3p6EQlC",
        "outputId": "44effac7-6a53-4fc3-ab10-da0d45ede329"
      },
      "execution_count": null,
      "outputs": [
        {
          "output_type": "display_data",
          "data": {
            "text/plain": [
              "<Figure size 432x288 with 6 Axes>"
            ],
            "image/png": "[encoded data removed]"
          },
          "metadata": {
            "needs_background": "light"
          }
        }
      ]
    },
    {
      "cell_type": "code",
      "source": [
        "# Categorical variable segregation\n",
        "columns = train.columns\n",
        "\n",
        "categorical_col= [col for col in train.columns if train[col].dtypes=='O']\n",
        "categorical_col"
      ],
      "metadata": {
        "id": "gASDfjP8mhJ4",
        "outputId": "531e7dbc-bc22-4c58-aca1-31ec3ae23b72",
        "papermill": {
          "duration": 0.178695,
          "end_time": "2021-03-28T12:29:47.024265",
          "exception": false,
          "start_time": "2021-03-28T12:29:46.845570",
          "status": "completed"
        },
        "tags": [],
        "execution": {
          "iopub.status.busy": "2023-03-07T12:24:00.768835Z",
          "iopub.execute_input": "2023-03-07T12:24:00.769332Z",
          "iopub.status.idle": "2023-03-07T12:24:00.779172Z",
          "shell.execute_reply.started": "2023-03-07T12:24:00.769267Z",
          "shell.execute_reply": "2023-03-07T12:24:00.777614Z"
        },
        "trusted": true,
        "colab": {
          "base_uri": "https://localhost:8080/"
        }
      },
      "execution_count": null,
      "outputs": [
        {
          "output_type": "execute_result",
          "data": {
            "text/plain": [
              "['date', 'hour', 'weekday', 'month']"
            ]
          },
          "metadata": {},
          "execution_count": 37
        }
      ]
    },
    {
      "cell_type": "code",
      "source": [
        "for col in categorical_col:\n",
        "    print(f'Unique Values in {col} - {len(train[col].unique())}\\n')"
      ],
      "metadata": {
        "id": "ioyfLnzsm2bO",
        "outputId": "0706b49a-1f1c-46b9-a249-1c01845a14f7",
        "papermill": {
          "duration": 0.189317,
          "end_time": "2021-03-28T12:29:47.378762",
          "exception": false,
          "start_time": "2021-03-28T12:29:47.189445",
          "status": "completed"
        },
        "tags": [],
        "execution": {
          "iopub.status.busy": "2023-03-07T12:24:00.780835Z",
          "iopub.execute_input": "2023-03-07T12:24:00.781201Z",
          "iopub.status.idle": "2023-03-07T12:24:00.795068Z",
          "shell.execute_reply.started": "2023-03-07T12:24:00.781168Z",
          "shell.execute_reply": "2023-03-07T12:24:00.793610Z"
        },
        "trusted": true,
        "colab": {
          "base_uri": "https://localhost:8080/"
        }
      },
      "execution_count": null,
      "outputs": [
        {
          "output_type": "stream",
          "name": "stdout",
          "text": [
            "Unique Values in date - 456\n",
            "\n",
            "Unique Values in hour - 24\n",
            "\n",
            "Unique Values in weekday - 7\n",
            "\n",
            "Unique Values in month - 12\n",
            "\n"
          ]
        }
      ]
    },
    {
      "cell_type": "code",
      "source": [
        "del(train['date'])\n",
        "del(train['atemp']) # remove to avoid multicollinearity- Temp & atemp are highly correlated"
      ],
      "metadata": {
        "id": "F9qQeAIzm_WB",
        "papermill": {
          "duration": 0.176699,
          "end_time": "2021-03-28T12:29:48.055686",
          "exception": false,
          "start_time": "2021-03-28T12:29:47.878987",
          "status": "completed"
        },
        "tags": [],
        "execution": {
          "iopub.status.busy": "2023-03-07T12:24:00.797012Z",
          "iopub.execute_input": "2023-03-07T12:24:00.797395Z",
          "iopub.status.idle": "2023-03-07T12:24:00.805442Z",
          "shell.execute_reply.started": "2023-03-07T12:24:00.797345Z",
          "shell.execute_reply": "2023-03-07T12:24:00.804170Z"
        },
        "trusted": true
      },
      "execution_count": null,
      "outputs": []
    },
    {
      "cell_type": "code",
      "source": [
        "train.head()"
      ],
      "metadata": {
        "id": "cL26PoQWnI5A",
        "outputId": "be04bf21-c08f-4b25-c2b5-3d8566408075",
        "papermill": {
          "duration": 0.195952,
          "end_time": "2021-03-28T12:29:48.764336",
          "exception": false,
          "start_time": "2021-03-28T12:29:48.568384",
          "status": "completed"
        },
        "tags": [],
        "execution": {
          "iopub.status.busy": "2023-03-07T12:24:00.814418Z",
          "iopub.execute_input": "2023-03-07T12:24:00.815139Z",
          "iopub.status.idle": "2023-03-07T12:24:00.836536Z",
          "shell.execute_reply.started": "2023-03-07T12:24:00.815094Z",
          "shell.execute_reply": "2023-03-07T12:24:00.835145Z"
        },
        "trusted": true,
        "colab": {
          "base_uri": "https://localhost:8080/",
          "height": 201
        }
      },
      "execution_count": null,
      "outputs": [
        {
          "output_type": "execute_result",
          "data": {
            "text/plain": [
              "   season holiday workingday              weather   temp  humidity  windspeed  \\\n",
              "0  Summer       0          1   Clear + Few clouds  22.14        77    16.9979   \n",
              "1    Fall       0          1   Clear + Few clouds  28.70        79    19.0012   \n",
              "2  Spring       0          1   Clear + Few clouds   5.74        50    22.0028   \n",
              "3  Winter       0          1   Clear + Few clouds  13.94        29     8.9981   \n",
              "4    Fall       0          1   Clear + Few clouds  30.34        51    19.0012   \n",
              "\n",
              "   Total_booking hour    weekday      month  \n",
              "0            504   19  Wednesday        May  \n",
              "1              5    4  Wednesday  September  \n",
              "2            139    9   Thursday    January  \n",
              "3            209   16     Friday   November  \n",
              "4            184   13    Tuesday  September  "
            ],
            "text/html": [
              "\n",
              "  <div id=\"df-9754c71e-308c-41a2-b46f-9cd25d036a89\">\n",
              "    <div class=\"colab-df-container\">\n",
              "      <div>\n",
              "<style scoped>\n",
              "    .dataframe tbody tr th:only-of-type {\n",
              "        vertical-align: middle;\n",
              "    }\n",
              "\n",
              "    .dataframe tbody tr th {\n",
              "        vertical-align: top;\n",
              "    }\n",
              "\n",
              "    .dataframe thead th {\n",
              "        text-align: right;\n",
              "    }\n",
              "</style>\n",
              "<table border=\"1\" class=\"dataframe\">\n",
              "  <thead>\n",
              "    <tr style=\"text-align: right;\">\n",
              "      <th></th>\n",
              "      <th>season</th>\n",
              "      <th>holiday</th>\n",
              "      <th>workingday</th>\n",
              "      <th>weather</th>\n",
              "      <th>temp</th>\n",
              "      <th>humidity</th>\n",
              "      <th>windspeed</th>\n",
              "      <th>Total_booking</th>\n",
              "      <th>hour</th>\n",
              "      <th>weekday</th>\n",
              "      <th>month</th>\n",
              "    </tr>\n",
              "  </thead>\n",
              "  <tbody>\n",
              "    <tr>\n",
              "      <th>0</th>\n",
              "      <td>Summer</td>\n",
              "      <td>0</td>\n",
              "      <td>1</td>\n",
              "      <td>Clear + Few clouds</td>\n",
              "      <td>22.14</td>\n",
              "      <td>77</td>\n",
              "      <td>16.9979</td>\n",
              "      <td>504</td>\n",
              "      <td>19</td>\n",
              "      <td>Wednesday</td>\n",
              "      <td>May</td>\n",
              "    </tr>\n",
              "    <tr>\n",
              "      <th>1</th>\n",
              "      <td>Fall</td>\n",
              "      <td>0</td>\n",
              "      <td>1</td>\n",
              "      <td>Clear + Few clouds</td>\n",
              "      <td>28.70</td>\n",
              "      <td>79</td>\n",
              "      <td>19.0012</td>\n",
              "      <td>5</td>\n",
              "      <td>4</td>\n",
              "      <td>Wednesday</td>\n",
              "      <td>September</td>\n",
              "    </tr>\n",
              "    <tr>\n",
              "      <th>2</th>\n",
              "      <td>Spring</td>\n",
              "      <td>0</td>\n",
              "      <td>1</td>\n",
              "      <td>Clear + Few clouds</td>\n",
              "      <td>5.74</td>\n",
              "      <td>50</td>\n",
              "      <td>22.0028</td>\n",
              "      <td>139</td>\n",
              "      <td>9</td>\n",
              "      <td>Thursday</td>\n",
              "      <td>January</td>\n",
              "    </tr>\n",
              "    <tr>\n",
              "      <th>3</th>\n",
              "      <td>Winter</td>\n",
              "      <td>0</td>\n",
              "      <td>1</td>\n",
              "      <td>Clear + Few clouds</td>\n",
              "      <td>13.94</td>\n",
              "      <td>29</td>\n",
              "      <td>8.9981</td>\n",
              "      <td>209</td>\n",
              "      <td>16</td>\n",
              "      <td>Friday</td>\n",
              "      <td>November</td>\n",
              "    </tr>\n",
              "    <tr>\n",
              "      <th>4</th>\n",
              "      <td>Fall</td>\n",
              "      <td>0</td>\n",
              "      <td>1</td>\n",
              "      <td>Clear + Few clouds</td>\n",
              "      <td>30.34</td>\n",
              "      <td>51</td>\n",
              "      <td>19.0012</td>\n",
              "      <td>184</td>\n",
              "      <td>13</td>\n",
              "      <td>Tuesday</td>\n",
              "      <td>September</td>\n",
              "    </tr>\n",
              "  </tbody>\n",
              "</table>\n",
              "</div>\n",
              "      <button class=\"colab-df-convert\" onclick=\"convertToInteractive('df-9754c71e-308c-41a2-b46f-9cd25d036a89')\"\n",
              "              title=\"Convert this dataframe to an interactive table.\"\n",
              "              style=\"display:none;\">\n",
              "        \n",
              "  <svg xmlns=\"http://www.w3.org/2000/svg\" height=\"24px\"viewBox=\"0 0 24 24\"\n",
              "       width=\"24px\">\n",
              "    <path d=\"M0 0h24v24H0V0z\" fill=\"none\"/>\n",
              "    <path d=\"M18.56 5.44l.94 2.06.94-2.06 2.06-.94-2.06-.94-.94-2.06-.94 2.06-2.06.94zm-11 1L8.5 8.5l.94-2.06 2.06-.94-2.06-.94L8.5 2.5l-.94 2.06-2.06.94zm10 10l.94 2.06.94-2.06 2.06-.94-2.06-.94-.94-2.06-.94 2.06-2.06.94z\"/><path d=\"M17.41 7.96l-1.37-1.37c-.4-.4-.92-.59-1.43-.59-.52 0-1.04.2-1.43.59L10.3 9.45l-7.72 7.72c-.78.78-.78 2.05 0 2.83L4 21.41c.39.39.9.59 1.41.59.51 0 1.02-.2 1.41-.59l7.78-7.78 2.81-2.81c.8-.78.8-2.07 0-2.86zM5.41 20L4 18.59l7.72-7.72 1.47 1.35L5.41 20z\"/>\n",
              "  </svg>\n",
              "      </button>\n",
              "      \n",
              "  <style>\n",
              "    .colab-df-container {\n",
              "      display:flex;\n",
              "      flex-wrap:wrap;\n",
              "      gap: 12px;\n",
              "    }\n",
              "\n",
              "    .colab-df-convert {\n",
              "      background-color: #E8F0FE;\n",
              "      border: none;\n",
              "      border-radius: 50%;\n",
              "      cursor: pointer;\n",
              "      display: none;\n",
              "      fill: #1967D2;\n",
              "      height: 32px;\n",
              "      padding: 0 0 0 0;\n",
              "      width: 32px;\n",
              "    }\n",
              "\n",
              "    .colab-df-convert:hover {\n",
              "      background-color: #E2EBFA;\n",
              "      box-shadow: 0px 1px 2px rgba(60, 64, 67, 0.3), 0px 1px 3px 1px rgba(60, 64, 67, 0.15);\n",
              "      fill: #174EA6;\n",
              "    }\n",
              "\n",
              "    [theme=dark] .colab-df-convert {\n",
              "      background-color: #3B4455;\n",
              "      fill: #D2E3FC;\n",
              "    }\n",
              "\n",
              "    [theme=dark] .colab-df-convert:hover {\n",
              "      background-color: #434B5C;\n",
              "      box-shadow: 0px 1px 3px 1px rgba(0, 0, 0, 0.15);\n",
              "      filter: drop-shadow(0px 1px 2px rgba(0, 0, 0, 0.3));\n",
              "      fill: #FFFFFF;\n",
              "    }\n",
              "  </style>\n",
              "\n",
              "      <script>\n",
              "        const buttonEl =\n",
              "          document.querySelector('#df-9754c71e-308c-41a2-b46f-9cd25d036a89 button.colab-df-convert');\n",
              "        buttonEl.style.display =\n",
              "          google.colab.kernel.accessAllowed ? 'block' : 'none';\n",
              "\n",
              "        async function convertToInteractive(key) {\n",
              "          const element = document.querySelector('#df-9754c71e-308c-41a2-b46f-9cd25d036a89');\n",
              "          const dataTable =\n",
              "            await google.colab.kernel.invokeFunction('convertToInteractive',\n",
              "                                                     [key], {});\n",
              "          if (!dataTable) return;\n",
              "\n",
              "          const docLinkHtml = 'Like what you see? Visit the ' +\n",
              "            '<a target=\"_blank\" href=https://colab.research.google.com/notebooks/data_table.ipynb>data table notebook</a>'\n",
              "            + ' to learn more about interactive tables.';\n",
              "          element.innerHTML = '';\n",
              "          dataTable['output_type'] = 'display_data';\n",
              "          await google.colab.output.renderOutput(dataTable, element);\n",
              "          const docLink = document.createElement('div');\n",
              "          docLink.innerHTML = docLinkHtml;\n",
              "          element.appendChild(docLink);\n",
              "        }\n",
              "      </script>\n",
              "    </div>\n",
              "  </div>\n",
              "  "
            ]
          },
          "metadata": {},
          "execution_count": 40
        }
      ]
    },
    {
      "cell_type": "markdown",
      "source": [
        "## 7. Convert the categorical variables into one hot vector\n",
        "\n",
        "1. `pd.get_dummies(train)` is used to convert the categorical veriables into one hot vector"
      ],
      "metadata": {
        "id": "a_te3gObEQlD"
      }
    },
    {
      "cell_type": "code",
      "source": [
        "train = pd.get_dummies(train)\n",
        "train.head()"
      ],
      "metadata": {
        "id": "dr3No1LGnNz_",
        "outputId": "9d9d56ef-924d-4cd0-c11d-c8cdf45a7429",
        "papermill": {
          "duration": 0.218369,
          "end_time": "2021-03-28T12:29:49.305085",
          "exception": false,
          "start_time": "2021-03-28T12:29:49.086716",
          "status": "completed"
        },
        "tags": [],
        "execution": {
          "iopub.status.busy": "2023-03-07T12:24:00.838849Z",
          "iopub.execute_input": "2023-03-07T12:24:00.839237Z",
          "iopub.status.idle": "2023-03-07T12:24:00.877581Z",
          "shell.execute_reply.started": "2023-03-07T12:24:00.839201Z",
          "shell.execute_reply": "2023-03-07T12:24:00.876191Z"
        },
        "trusted": true,
        "colab": {
          "base_uri": "https://localhost:8080/",
          "height": 292
        }
      },
      "execution_count": null,
      "outputs": [
        {
          "output_type": "execute_result",
          "data": {
            "text/plain": [
              "    temp  humidity  windspeed  Total_booking  season_Fall  season_Spring  \\\n",
              "0  22.14        77    16.9979            504            0              0   \n",
              "1  28.70        79    19.0012              5            1              0   \n",
              "2   5.74        50    22.0028            139            0              1   \n",
              "3  13.94        29     8.9981            209            0              0   \n",
              "4  30.34        51    19.0012            184            1              0   \n",
              "\n",
              "   season_Summer  season_Winter  holiday_0  holiday_1  ...  month_December  \\\n",
              "0              1              0          1          0  ...               0   \n",
              "1              0              0          1          0  ...               0   \n",
              "2              0              0          1          0  ...               0   \n",
              "3              0              1          1          0  ...               0   \n",
              "4              0              0          1          0  ...               0   \n",
              "\n",
              "   month_February  month_January  month_July  month_June  month_March  \\\n",
              "0               0              0           0           0            0   \n",
              "1               0              0           0           0            0   \n",
              "2               0              1           0           0            0   \n",
              "3               0              0           0           0            0   \n",
              "4               0              0           0           0            0   \n",
              "\n",
              "   month_May  month_November  month_October  month_September  \n",
              "0          1               0              0                0  \n",
              "1          0               0              0                1  \n",
              "2          0               0              0                0  \n",
              "3          0               1              0                0  \n",
              "4          0               0              0                1  \n",
              "\n",
              "[5 rows x 59 columns]"
            ],
            "text/html": [
              "\n",
              "  <div id=\"df-7ee495f4-f09c-4d0f-99d8-61141b355fde\">\n",
              "    <div class=\"colab-df-container\">\n",
              "      <div>\n",
              "<style scoped>\n",
              "    .dataframe tbody tr th:only-of-type {\n",
              "        vertical-align: middle;\n",
              "    }\n",
              "\n",
              "    .dataframe tbody tr th {\n",
              "        vertical-align: top;\n",
              "    }\n",
              "\n",
              "    .dataframe thead th {\n",
              "        text-align: right;\n",
              "    }\n",
              "</style>\n",
              "<table border=\"1\" class=\"dataframe\">\n",
              "  <thead>\n",
              "    <tr style=\"text-align: right;\">\n",
              "      <th></th>\n",
              "      <th>temp</th>\n",
              "      <th>humidity</th>\n",
              "      <th>windspeed</th>\n",
              "      <th>Total_booking</th>\n",
              "      <th>season_Fall</th>\n",
              "      <th>season_Spring</th>\n",
              "      <th>season_Summer</th>\n",
              "      <th>season_Winter</th>\n",
              "      <th>holiday_0</th>\n",
              "      <th>holiday_1</th>\n",
              "      <th>...</th>\n",
              "      <th>month_December</th>\n",
              "      <th>month_February</th>\n",
              "      <th>month_January</th>\n",
              "      <th>month_July</th>\n",
              "      <th>month_June</th>\n",
              "      <th>month_March</th>\n",
              "      <th>month_May</th>\n",
              "      <th>month_November</th>\n",
              "      <th>month_October</th>\n",
              "      <th>month_September</th>\n",
              "    </tr>\n",
              "  </thead>\n",
              "  <tbody>\n",
              "    <tr>\n",
              "      <th>0</th>\n",
              "      <td>22.14</td>\n",
              "      <td>77</td>\n",
              "      <td>16.9979</td>\n",
              "      <td>504</td>\n",
              "      <td>0</td>\n",
              "      <td>0</td>\n",
              "      <td>1</td>\n",
              "      <td>0</td>\n",
              "      <td>1</td>\n",
              "      <td>0</td>\n",
              "      <td>...</td>\n",
              "      <td>0</td>\n",
              "      <td>0</td>\n",
              "      <td>0</td>\n",
              "      <td>0</td>\n",
              "      <td>0</td>\n",
              "      <td>0</td>\n",
              "      <td>1</td>\n",
              "      <td>0</td>\n",
              "      <td>0</td>\n",
              "      <td>0</td>\n",
              "    </tr>\n",
              "    <tr>\n",
              "      <th>1</th>\n",
              "      <td>28.70</td>\n",
              "      <td>79</td>\n",
              "      <td>19.0012</td>\n",
              "      <td>5</td>\n",
              "      <td>1</td>\n",
              "      <td>0</td>\n",
              "      <td>0</td>\n",
              "      <td>0</td>\n",
              "      <td>1</td>\n",
              "      <td>0</td>\n",
              "      <td>...</td>\n",
              "      <td>0</td>\n",
              "      <td>0</td>\n",
              "      <td>0</td>\n",
              "      <td>0</td>\n",
              "      <td>0</td>\n",
              "      <td>0</td>\n",
              "      <td>0</td>\n",
              "      <td>0</td>\n",
              "      <td>0</td>\n",
              "      <td>1</td>\n",
              "    </tr>\n",
              "    <tr>\n",
              "      <th>2</th>\n",
              "      <td>5.74</td>\n",
              "      <td>50</td>\n",
              "      <td>22.0028</td>\n",
              "      <td>139</td>\n",
              "      <td>0</td>\n",
              "      <td>1</td>\n",
              "      <td>0</td>\n",
              "      <td>0</td>\n",
              "      <td>1</td>\n",
              "      <td>0</td>\n",
              "      <td>...</td>\n",
              "      <td>0</td>\n",
              "      <td>0</td>\n",
              "      <td>1</td>\n",
              "      <td>0</td>\n",
              "      <td>0</td>\n",
              "      <td>0</td>\n",
              "      <td>0</td>\n",
              "      <td>0</td>\n",
              "      <td>0</td>\n",
              "      <td>0</td>\n",
              "    </tr>\n",
              "    <tr>\n",
              "      <th>3</th>\n",
              "      <td>13.94</td>\n",
              "      <td>29</td>\n",
              "      <td>8.9981</td>\n",
              "      <td>209</td>\n",
              "      <td>0</td>\n",
              "      <td>0</td>\n",
              "      <td>0</td>\n",
              "      <td>1</td>\n",
              "      <td>1</td>\n",
              "      <td>0</td>\n",
              "      <td>...</td>\n",
              "      <td>0</td>\n",
              "      <td>0</td>\n",
              "      <td>0</td>\n",
              "      <td>0</td>\n",
              "      <td>0</td>\n",
              "      <td>0</td>\n",
              "      <td>0</td>\n",
              "      <td>1</td>\n",
              "      <td>0</td>\n",
              "      <td>0</td>\n",
              "    </tr>\n",
              "    <tr>\n",
              "      <th>4</th>\n",
              "      <td>30.34</td>\n",
              "      <td>51</td>\n",
              "      <td>19.0012</td>\n",
              "      <td>184</td>\n",
              "      <td>1</td>\n",
              "      <td>0</td>\n",
              "      <td>0</td>\n",
              "      <td>0</td>\n",
              "      <td>1</td>\n",
              "      <td>0</td>\n",
              "      <td>...</td>\n",
              "      <td>0</td>\n",
              "      <td>0</td>\n",
              "      <td>0</td>\n",
              "      <td>0</td>\n",
              "      <td>0</td>\n",
              "      <td>0</td>\n",
              "      <td>0</td>\n",
              "      <td>0</td>\n",
              "      <td>0</td>\n",
              "      <td>1</td>\n",
              "    </tr>\n",
              "  </tbody>\n",
              "</table>\n",
              "<p>5 rows × 59 columns</p>\n",
              "</div>\n",
              "      <button class=\"colab-df-convert\" onclick=\"convertToInteractive('df-7ee495f4-f09c-4d0f-99d8-61141b355fde')\"\n",
              "              title=\"Convert this dataframe to an interactive table.\"\n",
              "              style=\"display:none;\">\n",
              "        \n",
              "  <svg xmlns=\"http://www.w3.org/2000/svg\" height=\"24px\"viewBox=\"0 0 24 24\"\n",
              "       width=\"24px\">\n",
              "    <path d=\"M0 0h24v24H0V0z\" fill=\"none\"/>\n",
              "    <path d=\"M18.56 5.44l.94 2.06.94-2.06 2.06-.94-2.06-.94-.94-2.06-.94 2.06-2.06.94zm-11 1L8.5 8.5l.94-2.06 2.06-.94-2.06-.94L8.5 2.5l-.94 2.06-2.06.94zm10 10l.94 2.06.94-2.06 2.06-.94-2.06-.94-.94-2.06-.94 2.06-2.06.94z\"/><path d=\"M17.41 7.96l-1.37-1.37c-.4-.4-.92-.59-1.43-.59-.52 0-1.04.2-1.43.59L10.3 9.45l-7.72 7.72c-.78.78-.78 2.05 0 2.83L4 21.41c.39.39.9.59 1.41.59.51 0 1.02-.2 1.41-.59l7.78-7.78 2.81-2.81c.8-.78.8-2.07 0-2.86zM5.41 20L4 18.59l7.72-7.72 1.47 1.35L5.41 20z\"/>\n",
              "  </svg>\n",
              "      </button>\n",
              "      \n",
              "  <style>\n",
              "    .colab-df-container {\n",
              "      display:flex;\n",
              "      flex-wrap:wrap;\n",
              "      gap: 12px;\n",
              "    }\n",
              "\n",
              "    .colab-df-convert {\n",
              "      background-color: #E8F0FE;\n",
              "      border: none;\n",
              "      border-radius: 50%;\n",
              "      cursor: pointer;\n",
              "      display: none;\n",
              "      fill: #1967D2;\n",
              "      height: 32px;\n",
              "      padding: 0 0 0 0;\n",
              "      width: 32px;\n",
              "    }\n",
              "\n",
              "    .colab-df-convert:hover {\n",
              "      background-color: #E2EBFA;\n",
              "      box-shadow: 0px 1px 2px rgba(60, 64, 67, 0.3), 0px 1px 3px 1px rgba(60, 64, 67, 0.15);\n",
              "      fill: #174EA6;\n",
              "    }\n",
              "\n",
              "    [theme=dark] .colab-df-convert {\n",
              "      background-color: #3B4455;\n",
              "      fill: #D2E3FC;\n",
              "    }\n",
              "\n",
              "    [theme=dark] .colab-df-convert:hover {\n",
              "      background-color: #434B5C;\n",
              "      box-shadow: 0px 1px 3px 1px rgba(0, 0, 0, 0.15);\n",
              "      filter: drop-shadow(0px 1px 2px rgba(0, 0, 0, 0.3));\n",
              "      fill: #FFFFFF;\n",
              "    }\n",
              "  </style>\n",
              "\n",
              "      <script>\n",
              "        const buttonEl =\n",
              "          document.querySelector('#df-7ee495f4-f09c-4d0f-99d8-61141b355fde button.colab-df-convert');\n",
              "        buttonEl.style.display =\n",
              "          google.colab.kernel.accessAllowed ? 'block' : 'none';\n",
              "\n",
              "        async function convertToInteractive(key) {\n",
              "          const element = document.querySelector('#df-7ee495f4-f09c-4d0f-99d8-61141b355fde');\n",
              "          const dataTable =\n",
              "            await google.colab.kernel.invokeFunction('convertToInteractive',\n",
              "                                                     [key], {});\n",
              "          if (!dataTable) return;\n",
              "\n",
              "          const docLinkHtml = 'Like what you see? Visit the ' +\n",
              "            '<a target=\"_blank\" href=https://colab.research.google.com/notebooks/data_table.ipynb>data table notebook</a>'\n",
              "            + ' to learn more about interactive tables.';\n",
              "          element.innerHTML = '';\n",
              "          dataTable['output_type'] = 'display_data';\n",
              "          await google.colab.output.renderOutput(dataTable, element);\n",
              "          const docLink = document.createElement('div');\n",
              "          docLink.innerHTML = docLinkHtml;\n",
              "          element.appendChild(docLink);\n",
              "        }\n",
              "      </script>\n",
              "    </div>\n",
              "  </div>\n",
              "  "
            ]
          },
          "metadata": {},
          "execution_count": 41
        }
      ]
    },
    {
      "cell_type": "code",
      "source": [
        "train.shape"
      ],
      "metadata": {
        "id": "sxEL5QSCnSem",
        "outputId": "62656732-ccde-47d5-a1b7-9b1d6f08a271",
        "papermill": {
          "duration": 0.176761,
          "end_time": "2021-03-28T12:29:49.649385",
          "exception": false,
          "start_time": "2021-03-28T12:29:49.472624",
          "status": "completed"
        },
        "tags": [],
        "execution": {
          "iopub.status.busy": "2023-03-07T12:24:00.879259Z",
          "iopub.execute_input": "2023-03-07T12:24:00.879999Z",
          "iopub.status.idle": "2023-03-07T12:24:00.887607Z",
          "shell.execute_reply.started": "2023-03-07T12:24:00.879954Z",
          "shell.execute_reply": "2023-03-07T12:24:00.886264Z"
        },
        "trusted": true,
        "colab": {
          "base_uri": "https://localhost:8080/"
        }
      },
      "execution_count": null,
      "outputs": [
        {
          "output_type": "execute_result",
          "data": {
            "text/plain": [
              "(8458, 59)"
            ]
          },
          "metadata": {},
          "execution_count": 42
        }
      ]
    },
    {
      "cell_type": "markdown",
      "source": [
        "## 8. Split your dataset for training and testing\n",
        "\n",
        "1. `train_test_split` is used to split the dataset for training and testing"
      ],
      "metadata": {
        "id": "4wWbs2BPnggs",
        "papermill": {
          "duration": 0.160408,
          "end_time": "2021-03-28T12:29:49.973234",
          "exception": false,
          "start_time": "2021-03-28T12:29:49.812826",
          "status": "completed"
        },
        "tags": []
      }
    },
    {
      "cell_type": "code",
      "source": [
        "X = train.drop('Total_booking', axis =1)\n",
        "y = train['Total_booking']\n",
        "\n",
        "from sklearn.model_selection import train_test_split\n",
        "\n",
        "X_train, X_test, y_train, y_test = train_test_split(X, y, test_size = 0.2, random_state = 0)\n",
        "print(X_train.shape)\n",
        "print(X_test.shape)\n"
      ],
      "metadata": {
        "id": "5eWr6XF4nbJM",
        "outputId": "ff1e7000-df6e-47f1-92f9-7703e279276b",
        "papermill": {
          "duration": 0.184617,
          "end_time": "2021-03-28T12:29:50.321189",
          "exception": false,
          "start_time": "2021-03-28T12:29:50.136572",
          "status": "completed"
        },
        "tags": [],
        "execution": {
          "iopub.status.busy": "2023-03-07T12:24:00.889728Z",
          "iopub.execute_input": "2023-03-07T12:24:00.890105Z",
          "iopub.status.idle": "2023-03-07T12:24:00.907725Z",
          "shell.execute_reply.started": "2023-03-07T12:24:00.890070Z",
          "shell.execute_reply": "2023-03-07T12:24:00.906416Z"
        },
        "trusted": true,
        "colab": {
          "base_uri": "https://localhost:8080/"
        }
      },
      "execution_count": null,
      "outputs": [
        {
          "output_type": "stream",
          "name": "stdout",
          "text": [
            "(6766, 58)\n",
            "(1692, 58)\n"
          ]
        }
      ]
    },
    {
      "cell_type": "markdown",
      "source": [
        "## 9. Fit various ml_models (Random Forest Regressor, Ada Boost Regressor, Bagging Regressor, SVR, and K-Neighbors Regressor)\n",
        "\n",
        "1. Initially, a list of regression models such as `RandomForestRegressor()`, `AdaBoostRegressor()`, `BaggingRegressor()`, `SVR()`, `KNeighborsRegressor()`, `DecisionTreeRegressor()`,`XGBRFRegressor()`, and `GradientBoostingRegressor()` is constructed. All of these are machine learning models for regression situations.\n",
        "\n",
        "2. The root mean squared error (RMSE) values for each model are stored in a list named rmse values.\n",
        "\n",
        "3. A `for` loop is used to traverse over the models in the list. The `fit()` function is run for each model to fit the model to the training data `X_trai` and `y_train`.\n",
        "\n",
        "4. The model is then asked to predict the target variable on the test set `X_test` using the `predict()` function. The scikit-learn function`mean squared error()` is used to determine the mean squared error (MSE) between the predicted target variable and the actual target variable `y_test`.\n",
        "\n",
        "5. The square root of the MSE is then used to compute the root mean squared error (RMSE) using numpy's `sqrt()` function.\n",
        "\n",
        "6. Each model's RMSE value is added to the list rmse values.\n",
        "\n",
        "7. After the fitting and evaluation of all models, a pandas DataFrame is constructed to record the model names and their accompanying RMSE values.\n",
        "\n",
        "8. To acquire the name of each model class, the model names are extracted from the list of models using a list comprehension and the class.name attribute.\n",
        "\n",
        "9. The RMSE values and model names are then integrated into a data dictionary.\n",
        "\n",
        "10. Lastly, the dictionary is used to generate the DataFrame `df_rmse`, which has two columns: \"Model\" and \"RMSE,\" with each row representing a distinct model and its associated RMSE number."
      ],
      "metadata": {
        "id": "WGMlXsoyEQlE"
      }
    },
    {
      "cell_type": "code",
      "source": [
        "# Creating a list of ml_models\n",
        "ml_models = [\n",
        "    RandomForestRegressor(),\n",
        "    AdaBoostRegressor(),\n",
        "    BaggingRegressor(),\n",
        "    SVR(),\n",
        "    KNeighborsRegressor(),\n",
        "    DecisionTreeRegressor(),\n",
        "    XGBRFRegressor(),\n",
        "    GradientBoostingRegressor(),\n",
        "]\n",
        "\n",
        "# Fitting each model and calculating mean squared error on the test set\n",
        "rmse_list = []\n",
        "for model in ml_models:\n",
        "    model.fit(X_train, y_train)\n",
        "    y_pred = model.predict(X_test)\n",
        "    mse = mean_squared_error(y_test, y_pred)\n",
        "    rmse = np.sqrt(mse)\n",
        "    rmse_list.append(rmse)\n",
        "\n",
        "# Creating a pandas DataFrame for model names and their corresponding RMSE values\n",
        "model_names = [model.__class__.__name__ for model in ml_models]\n",
        "data = {'Model': model_names, 'RMSE': rmse_list}\n",
        "df_rmse = pd.DataFrame(data)"
      ],
      "metadata": {
        "execution": {
          "iopub.status.busy": "2023-03-07T12:24:00.909247Z",
          "iopub.execute_input": "2023-03-07T12:24:00.909652Z",
          "iopub.status.idle": "2023-03-07T12:24:13.926868Z",
          "shell.execute_reply.started": "2023-03-07T12:24:00.909612Z",
          "shell.execute_reply": "2023-03-07T12:24:13.925562Z"
        },
        "trusted": true,
        "id": "ct1NRggpEQlE"
      },
      "execution_count": null,
      "outputs": []
    },
    {
      "cell_type": "markdown",
      "source": [
        "## 10. Display a Factor plot to visualize the RMSE values achieved by different modeling algorithm\n",
        "\n",
        "1.  `sns.set(style='whitegrid')`: This line sets the style of the Seaborn plot to \"whitegrid\", which adds horizontal grid lines to the plot.\n",
        "    \n",
        "2.  `factorplot = sns.catplot(x='Model', y='RMSE', data=df_rmse, kind='bar', height=4, aspect=2, palette='ocean', legend=False)`: This line creates a categorical plot using the `catplot()` function from Seaborn. The `x` parameter specifies the variable to be plotted on the x-axis, the `y` parameter specifies the variable to be plotted on the y-axis, the `data` parameter specifies the data to be used, the `kind` parameter specifies the type of plot to be created, the `height` parameter specifies the height of the plot in inches, the `aspect` parameter specifies the aspect ratio of the plot (width divided by height), the `palette` parameter specifies the color palette to be used, and the `legend` parameter specifies whether or not to show a legend on the plot.\n",
        "    \n",
        "3.  `factorplot.despine(left=True)`: This line eliminates the plot's left spine (the line that bounds the plot's left side), making it seem cleaner.\n",
        "    \n",
        "4.  `factorpl.set_ylabels('RMSE')`: This line adds a label to the plot's y-axis, indicating that the numbers on that axis are RMSE values.\n",
        "    \n",
        "5.  `factorplot.set_xlabels('Model')`: This line adds a label to the plot's x-axis to highlight that the data on that axis is derived from many machine learning models.\n",
        "    \n",
        "6.  `factorplot.set_xticklabels(rotation=45)`: This line rotates the tick labels on the x-axis by 45 degrees, making them easier to read if they are lengthy or many.\n",
        "    \n",
        "7.  `factorplot.fig.suptitle('RMSE values of different ml_models')`: This line adds a title to the graphic that indicates it displays the RMSE values of several machine learning models.\n",
        "    \n",
        "8.  `factorplot.savefig('rmse_factorplot.png', dpi=300)`: This line saves the plot as a PNG image file with the name \"rmse factorplot.png\" and a resolution of 640x480."
      ],
      "metadata": {
        "id": "j2ZhVVGVEQlE"
      }
    },
    {
      "cell_type": "code",
      "source": [
        "# Creating a factor plot using Seaborn's factorplot() function\n",
        "sns.set(style='whitegrid')\n",
        "factorplot = sns.catplot(x='Model', y='RMSE', data=df_rmse, kind='bar', height=4, aspect=2, palette='ocean', legend=False)\n",
        "factorplot.despine(left=True)\n",
        "factorplot.set_ylabels('RMSE')\n",
        "factorplot.set_xlabels('Model')\n",
        "factorplot.set_xticklabels(rotation=45)\n",
        "factorplot.fig.suptitle('RMSE values of different ml_models')\n",
        "factorplot.savefig('rmse_factorplot.png', dpi=300)"
      ],
      "metadata": {
        "execution": {
          "iopub.status.busy": "2023-03-07T12:24:13.928585Z",
          "iopub.execute_input": "2023-03-07T12:24:13.929096Z",
          "iopub.status.idle": "2023-03-07T12:24:15.075823Z",
          "shell.execute_reply.started": "2023-03-07T12:24:13.929043Z",
          "shell.execute_reply": "2023-03-07T12:24:15.074454Z"
        },
        "trusted": true,
        "colab": {
          "base_uri": "https://localhost:8080/",
          "height": 403
        },
        "id": "X20EOmu5EQlE",
        "outputId": "6a0d2349-2023-42df-ab85-7f85bdfc69bf"
      },
      "execution_count": null,
      "outputs": [
        {
          "output_type": "display_data",
          "data": {
            "text/plain": [
              "<Figure size 576x288 with 1 Axes>"
            ],
            "image/png": "[encoded data removed]"
          },
          "metadata": {}
        }
      ]
    },
    {
      "cell_type": "code",
      "source": [
        "df_rmse.T"
      ],
      "metadata": {
        "execution": {
          "iopub.status.busy": "2023-03-07T12:24:15.077666Z",
          "iopub.execute_input": "2023-03-07T12:24:15.078632Z",
          "iopub.status.idle": "2023-03-07T12:24:15.094935Z",
          "shell.execute_reply.started": "2023-03-07T12:24:15.078585Z",
          "shell.execute_reply": "2023-03-07T12:24:15.093743Z"
        },
        "trusted": true,
        "colab": {
          "base_uri": "https://localhost:8080/",
          "height": 109
        },
        "id": "6QOi0NNtEQlF",
        "outputId": "08990ff5-cda6-4488-e35e-54e6d509e3fe"
      },
      "execution_count": null,
      "outputs": [
        {
          "output_type": "execute_result",
          "data": {
            "text/plain": [
              "                           0                  1                 2           3  \\\n",
              "Model  RandomForestRegressor  AdaBoostRegressor  BaggingRegressor         SVR   \n",
              "RMSE               65.271025         131.698529         69.978778  141.139036   \n",
              "\n",
              "                         4                      5               6  \\\n",
              "Model  KNeighborsRegressor  DecisionTreeRegressor  XGBRFRegressor   \n",
              "RMSE            136.705242               94.91653      110.354279   \n",
              "\n",
              "                               7  \n",
              "Model  GradientBoostingRegressor  \n",
              "RMSE                   82.405064  "
            ],
            "text/html": [
              "\n",
              "  <div id=\"df-e2aa6a48-228a-4947-8da5-010d3baafb6c\">\n",
              "    <div class=\"colab-df-container\">\n",
              "      <div>\n",
              "<style scoped>\n",
              "    .dataframe tbody tr th:only-of-type {\n",
              "        vertical-align: middle;\n",
              "    }\n",
              "\n",
              "    .dataframe tbody tr th {\n",
              "        vertical-align: top;\n",
              "    }\n",
              "\n",
              "    .dataframe thead th {\n",
              "        text-align: right;\n",
              "    }\n",
              "</style>\n",
              "<table border=\"1\" class=\"dataframe\">\n",
              "  <thead>\n",
              "    <tr style=\"text-align: right;\">\n",
              "      <th></th>\n",
              "      <th>0</th>\n",
              "      <th>1</th>\n",
              "      <th>2</th>\n",
              "      <th>3</th>\n",
              "      <th>4</th>\n",
              "      <th>5</th>\n",
              "      <th>6</th>\n",
              "      <th>7</th>\n",
              "    </tr>\n",
              "  </thead>\n",
              "  <tbody>\n",
              "    <tr>\n",
              "      <th>Model</th>\n",
              "      <td>RandomForestRegressor</td>\n",
              "      <td>AdaBoostRegressor</td>\n",
              "      <td>BaggingRegressor</td>\n",
              "      <td>SVR</td>\n",
              "      <td>KNeighborsRegressor</td>\n",
              "      <td>DecisionTreeRegressor</td>\n",
              "      <td>XGBRFRegressor</td>\n",
              "      <td>GradientBoostingRegressor</td>\n",
              "    </tr>\n",
              "    <tr>\n",
              "      <th>RMSE</th>\n",
              "      <td>65.271025</td>\n",
              "      <td>131.698529</td>\n",
              "      <td>69.978778</td>\n",
              "      <td>141.139036</td>\n",
              "      <td>136.705242</td>\n",
              "      <td>94.91653</td>\n",
              "      <td>110.354279</td>\n",
              "      <td>82.405064</td>\n",
              "    </tr>\n",
              "  </tbody>\n",
              "</table>\n",
              "</div>\n",
              "      <button class=\"colab-df-convert\" onclick=\"convertToInteractive('df-e2aa6a48-228a-4947-8da5-010d3baafb6c')\"\n",
              "              title=\"Convert this dataframe to an interactive table.\"\n",
              "              style=\"display:none;\">\n",
              "        \n",
              "  <svg xmlns=\"http://www.w3.org/2000/svg\" height=\"24px\"viewBox=\"0 0 24 24\"\n",
              "       width=\"24px\">\n",
              "    <path d=\"M0 0h24v24H0V0z\" fill=\"none\"/>\n",
              "    <path d=\"M18.56 5.44l.94 2.06.94-2.06 2.06-.94-2.06-.94-.94-2.06-.94 2.06-2.06.94zm-11 1L8.5 8.5l.94-2.06 2.06-.94-2.06-.94L8.5 2.5l-.94 2.06-2.06.94zm10 10l.94 2.06.94-2.06 2.06-.94-2.06-.94-.94-2.06-.94 2.06-2.06.94z\"/><path d=\"M17.41 7.96l-1.37-1.37c-.4-.4-.92-.59-1.43-.59-.52 0-1.04.2-1.43.59L10.3 9.45l-7.72 7.72c-.78.78-.78 2.05 0 2.83L4 21.41c.39.39.9.59 1.41.59.51 0 1.02-.2 1.41-.59l7.78-7.78 2.81-2.81c.8-.78.8-2.07 0-2.86zM5.41 20L4 18.59l7.72-7.72 1.47 1.35L5.41 20z\"/>\n",
              "  </svg>\n",
              "      </button>\n",
              "      \n",
              "  <style>\n",
              "    .colab-df-container {\n",
              "      display:flex;\n",
              "      flex-wrap:wrap;\n",
              "      gap: 12px;\n",
              "    }\n",
              "\n",
              "    .colab-df-convert {\n",
              "      background-color: #E8F0FE;\n",
              "      border: none;\n",
              "      border-radius: 50%;\n",
              "      cursor: pointer;\n",
              "      display: none;\n",
              "      fill: #1967D2;\n",
              "      height: 32px;\n",
              "      padding: 0 0 0 0;\n",
              "      width: 32px;\n",
              "    }\n",
              "\n",
              "    .colab-df-convert:hover {\n",
              "      background-color: #E2EBFA;\n",
              "      box-shadow: 0px 1px 2px rgba(60, 64, 67, 0.3), 0px 1px 3px 1px rgba(60, 64, 67, 0.15);\n",
              "      fill: #174EA6;\n",
              "    }\n",
              "\n",
              "    [theme=dark] .colab-df-convert {\n",
              "      background-color: #3B4455;\n",
              "      fill: #D2E3FC;\n",
              "    }\n",
              "\n",
              "    [theme=dark] .colab-df-convert:hover {\n",
              "      background-color: #434B5C;\n",
              "      box-shadow: 0px 1px 3px 1px rgba(0, 0, 0, 0.15);\n",
              "      filter: drop-shadow(0px 1px 2px rgba(0, 0, 0, 0.3));\n",
              "      fill: #FFFFFF;\n",
              "    }\n",
              "  </style>\n",
              "\n",
              "      <script>\n",
              "        const buttonEl =\n",
              "          document.querySelector('#df-e2aa6a48-228a-4947-8da5-010d3baafb6c button.colab-df-convert');\n",
              "        buttonEl.style.display =\n",
              "          google.colab.kernel.accessAllowed ? 'block' : 'none';\n",
              "\n",
              "        async function convertToInteractive(key) {\n",
              "          const element = document.querySelector('#df-e2aa6a48-228a-4947-8da5-010d3baafb6c');\n",
              "          const dataTable =\n",
              "            await google.colab.kernel.invokeFunction('convertToInteractive',\n",
              "                                                     [key], {});\n",
              "          if (!dataTable) return;\n",
              "\n",
              "          const docLinkHtml = 'Like what you see? Visit the ' +\n",
              "            '<a target=\"_blank\" href=https://colab.research.google.com/notebooks/data_table.ipynb>data table notebook</a>'\n",
              "            + ' to learn more about interactive tables.';\n",
              "          element.innerHTML = '';\n",
              "          dataTable['output_type'] = 'display_data';\n",
              "          await google.colab.output.renderOutput(dataTable, element);\n",
              "          const docLink = document.createElement('div');\n",
              "          docLink.innerHTML = docLinkHtml;\n",
              "          element.appendChild(docLink);\n",
              "        }\n",
              "      </script>\n",
              "    </div>\n",
              "  </div>\n",
              "  "
            ]
          },
          "metadata": {},
          "execution_count": 46
        }
      ]
    },
    {
      "cell_type": "code",
      "source": [
        "# RANDOM FOREST\n",
        "from sklearn.ensemble import RandomForestRegressor\n",
        "from sklearn.metrics import r2_score\n",
        "# total trees=1000, n_jobs = -1 full processing of sys\n",
        "RandForReg = RandomForestRegressor(n_estimators = 1000, n_jobs = -1, random_state=0)\n",
        "\n",
        "#fit the model\n",
        "RandForReg = RandForReg.fit(X_train, y_train)\n",
        "\n",
        "\n",
        "y_train_pred_RandFor = RandForReg.predict(X_train)\n",
        "y_pred_RandForR = RandForReg.predict(X_test)\n",
        "\n",
        "print('R^2:',r2_score(y_test,y_pred_RandForR))\n"
      ],
      "metadata": {
        "id": "--rcA6_FpEDh",
        "outputId": "dc717bce-753c-4594-bceb-e7f3de981f9a",
        "papermill": {
          "duration": 19.733475,
          "end_time": "2021-03-28T12:30:24.006111",
          "exception": false,
          "start_time": "2021-03-28T12:30:04.272636",
          "status": "completed"
        },
        "tags": [],
        "execution": {
          "iopub.status.busy": "2023-03-07T12:24:15.096442Z",
          "iopub.execute_input": "2023-03-07T12:24:15.096912Z",
          "iopub.status.idle": "2023-03-07T12:24:33.458939Z",
          "shell.execute_reply.started": "2023-03-07T12:24:15.096868Z",
          "shell.execute_reply": "2023-03-07T12:24:33.457102Z"
        },
        "trusted": true,
        "colab": {
          "base_uri": "https://localhost:8080/"
        }
      },
      "execution_count": null,
      "outputs": [
        {
          "output_type": "stream",
          "name": "stdout",
          "text": [
            "R^2: 0.8254176089009975\n"
          ]
        }
      ]
    },
    {
      "cell_type": "markdown",
      "source": [
        "## 11. Perform Hyper-parameter tuning on the best model using GridSearchCV and print the best parameters using model.best_params_   \n",
        "\n",
        "1. Import the required libraries: The first line of code imports the Scikit-learn library`s GridSearchCV class, which is used for hyperparameter tweaking.\n",
        "\n",
        "2. Create the parameter grid: The next step is to create a dictionary of hyperparameters to tweak. The dictionary in this scenario has four hyperparameters: `bootstrap,\"max depth,` and `n estimators`. Each hyperparameter has a list of values to test throughout the grid search.\n",
        "\n",
        "3. Create the grid search model: After that, the GridSearchCV class is created with the following parameters:\n",
        "\n",
        "\n",
        "* `estimator`: the machine learning model we wish to adjust, in this instance the Random Forest Regressor model.\n",
        "* `param grid`: the previously specified dictionary of hyperparameters.\n",
        "* cv: the number of cross-validation folds to use throughout the grid search. In this situation, we've set `cv = 3`, which implies we're doing 3-fold cross-validation.\n",
        "* `n jobs`: the number of CPU cores that will be used throughout the grid search. In this situation, we've set `n jobs = -1,` which implies we're utilising all CPU cores.\n",
        "* `verbose`: the amount of information to output during the grid search. In this example, we've specified`verbose = 2`, which implies we want to report the grid search progress for each hyperparameter combination.\n",
        "\n",
        "4. Fit the grid search model: The `grid_search` object's `fit()` function is then invoked using the training data (`X train` and `y train`) as input. This will run the grid search, which will fit the model with all possible hyperparameter combinations and provide the optimal hyperparameter combination that resulted in the greatest performance measure.\n",
        "\n",
        "5. Display the best parameters: After the grid search is finished, the `best params_` property of the `grid search` object is printed, displaying the best combination of hyperparameters discovered during the grid search."
      ],
      "metadata": {
        "id": "M0n5gKiqerLo",
        "papermill": {
          "duration": 0.165907,
          "end_time": "2021-03-28T12:30:24.342246",
          "exception": false,
          "start_time": "2021-03-28T12:30:24.176339",
          "status": "completed"
        },
        "tags": []
      }
    },
    {
      "cell_type": "code",
      "source": [
        "from sklearn.model_selection import GridSearchCV\n",
        "# Create the parameter grid\n",
        "param_grid = {\n",
        "    'bootstrap': [True],\n",
        "    'max_depth': [20,30,40,],\n",
        "    'n_estimators': [300, 500, 1000, 1200]\n",
        "}\n",
        "\n",
        "# Instantiate the grid search model\n",
        "grid_search = GridSearchCV(estimator = RandForReg, param_grid = param_grid,\n",
        "                          cv = 3, n_jobs = -1, verbose = 2)\n",
        "grid_search.fit(X_train, y_train)"
      ],
      "metadata": {
        "id": "jHbrKBMLqTCL",
        "outputId": "1bc82458-899e-4af3-f816-9d5c40c79624",
        "papermill": {
          "duration": 334.577339,
          "end_time": "2021-03-28T12:35:59.084776",
          "exception": false,
          "start_time": "2021-03-28T12:30:24.507437",
          "status": "completed"
        },
        "tags": [],
        "scrolled": true,
        "execution": {
          "iopub.status.busy": "2023-03-07T12:24:33.460054Z",
          "iopub.execute_input": "2023-03-07T12:24:33.460409Z",
          "iopub.status.idle": "2023-03-07T12:29:46.383058Z",
          "shell.execute_reply.started": "2023-03-07T12:24:33.460365Z",
          "shell.execute_reply": "2023-03-07T12:29:46.381347Z"
        },
        "trusted": true,
        "colab": {
          "base_uri": "https://localhost:8080/",
          "height": 185
        }
      },
      "execution_count": null,
      "outputs": [
        {
          "output_type": "stream",
          "name": "stdout",
          "text": [
            "Fitting 3 folds for each of 12 candidates, totalling 36 fits\n"
          ]
        },
        {
          "output_type": "stream",
          "name": "stderr",
          "text": [
            "/usr/local/lib/python3.9/dist-packages/joblib/externals/loky/process_executor.py:700: UserWarning: A worker stopped while some jobs were given to the executor. This can be caused by a too short worker timeout or by a memory leak.\n",
            "  warnings.warn(\n"
          ]
        },
        {
          "output_type": "execute_result",
          "data": {
            "text/plain": [
              "GridSearchCV(cv=3,\n",
              "             estimator=RandomForestRegressor(n_estimators=1000, n_jobs=-1,\n",
              "                                             random_state=0),\n",
              "             n_jobs=-1,\n",
              "             param_grid={'bootstrap': [True], 'max_depth': [20, 30, 40],\n",
              "                         'n_estimators': [300, 500, 1000, 1200]},\n",
              "             verbose=2)"
            ],
            "text/html": [
              "<style>#sk-container-id-1 {color: black;background-color: white;}#sk-container-id-1 pre{padding: 0;}#sk-container-id-1 div.sk-toggleable {background-color: white;}#sk-container-id-1 label.sk-toggleable__label {cursor: pointer;display: block;width: 100%;margin-bottom: 0;padding: 0.3em;box-sizing: border-box;text-align: center;}#sk-container-id-1 label.sk-toggleable__label-arrow:before {content: \"▸\";float: left;margin-right: 0.25em;color: #696969;}#sk-container-id-1 label.sk-toggleable__label-arrow:hover:before {color: black;}#sk-container-id-1 div.sk-estimator:hover label.sk-toggleable__label-arrow:before {color: black;}#sk-container-id-1 div.sk-toggleable__content {max-height: 0;max-width: 0;overflow: hidden;text-align: left;background-color: #f0f8ff;}#sk-container-id-1 div.sk-toggleable__content pre {margin: 0.2em;color: black;border-radius: 0.25em;background-color: #f0f8ff;}#sk-container-id-1 input.sk-toggleable__control:checked~div.sk-toggleable__content {max-height: 200px;max-width: 100%;overflow: auto;}#sk-container-id-1 input.sk-toggleable__control:checked~label.sk-toggleable__label-arrow:before {content: \"▾\";}#sk-container-id-1 div.sk-estimator input.sk-toggleable__control:checked~label.sk-toggleable__label {background-color: #d4ebff;}#sk-container-id-1 div.sk-label input.sk-toggleable__control:checked~label.sk-toggleable__label {background-color: #d4ebff;}#sk-container-id-1 input.sk-hidden--visually {border: 0;clip: rect(1px 1px 1px 1px);clip: rect(1px, 1px, 1px, 1px);height: 1px;margin: -1px;overflow: hidden;padding: 0;position: absolute;width: 1px;}#sk-container-id-1 div.sk-estimator {font-family: monospace;background-color: #f0f8ff;border: 1px dotted black;border-radius: 0.25em;box-sizing: border-box;margin-bottom: 0.5em;}#sk-container-id-1 div.sk-estimator:hover {background-color: #d4ebff;}#sk-container-id-1 div.sk-parallel-item::after {content: \"\";width: 100%;border-bottom: 1px solid gray;flex-grow: 1;}#sk-container-id-1 div.sk-label:hover label.sk-toggleable__label {background-color: #d4ebff;}#sk-container-id-1 div.sk-serial::before {content: \"\";position: absolute;border-left: 1px solid gray;box-sizing: border-box;top: 0;bottom: 0;left: 50%;z-index: 0;}#sk-container-id-1 div.sk-serial {display: flex;flex-direction: column;align-items: center;background-color: white;padding-right: 0.2em;padding-left: 0.2em;position: relative;}#sk-container-id-1 div.sk-item {position: relative;z-index: 1;}#sk-container-id-1 div.sk-parallel {display: flex;align-items: stretch;justify-content: center;background-color: white;position: relative;}#sk-container-id-1 div.sk-item::before, #sk-container-id-1 div.sk-parallel-item::before {content: \"\";position: absolute;border-left: 1px solid gray;box-sizing: border-box;top: 0;bottom: 0;left: 50%;z-index: -1;}#sk-container-id-1 div.sk-parallel-item {display: flex;flex-direction: column;z-index: 1;position: relative;background-color: white;}#sk-container-id-1 div.sk-parallel-item:first-child::after {align-self: flex-end;width: 50%;}#sk-container-id-1 div.sk-parallel-item:last-child::after {align-self: flex-start;width: 50%;}#sk-container-id-1 div.sk-parallel-item:only-child::after {width: 0;}#sk-container-id-1 div.sk-dashed-wrapped {border: 1px dashed gray;margin: 0 0.4em 0.5em 0.4em;box-sizing: border-box;padding-bottom: 0.4em;background-color: white;}#sk-container-id-1 div.sk-label label {font-family: monospace;font-weight: bold;display: inline-block;line-height: 1.2em;}#sk-container-id-1 div.sk-label-container {text-align: center;}#sk-container-id-1 div.sk-container {/* jupyter's `normalize.less` sets `[hidden] { display: none; }` but bootstrap.min.css set `[hidden] { display: none !important; }` so we also need the `!important` here to be able to override the default hidden behavior on the sphinx rendered scikit-learn.org. See: https://github.com/scikit-learn/scikit-learn/issues/21755 */display: inline-block !important;position: relative;}#sk-container-id-1 div.sk-text-repr-fallback {display: none;}</style><div id=\"sk-container-id-1\" class=\"sk-top-container\"><div class=\"sk-text-repr-fallback\"><pre>GridSearchCV(cv=3,\n",
              "             estimator=RandomForestRegressor(n_estimators=1000, n_jobs=-1,\n",
              "                                             random_state=0),\n",
              "             n_jobs=-1,\n",
              "             param_grid={&#x27;bootstrap&#x27;: [True], &#x27;max_depth&#x27;: [20, 30, 40],\n",
              "                         &#x27;n_estimators&#x27;: [300, 500, 1000, 1200]},\n",
              "             verbose=2)</pre><b>In a Jupyter environment, please rerun this cell to show the HTML representation or trust the notebook. <br />On GitHub, the HTML representation is unable to render, please try loading this page with nbviewer.org.</b></div><div class=\"sk-container\" hidden><div class=\"sk-item sk-dashed-wrapped\"><div class=\"sk-label-container\"><div class=\"sk-label sk-toggleable\"><input class=\"sk-toggleable__control sk-hidden--visually\" id=\"sk-estimator-id-1\" type=\"checkbox\" ><label for=\"sk-estimator-id-1\" class=\"sk-toggleable__label sk-toggleable__label-arrow\">GridSearchCV</label><div class=\"sk-toggleable__content\"><pre>GridSearchCV(cv=3,\n",
              "             estimator=RandomForestRegressor(n_estimators=1000, n_jobs=-1,\n",
              "                                             random_state=0),\n",
              "             n_jobs=-1,\n",
              "             param_grid={&#x27;bootstrap&#x27;: [True], &#x27;max_depth&#x27;: [20, 30, 40],\n",
              "                         &#x27;n_estimators&#x27;: [300, 500, 1000, 1200]},\n",
              "             verbose=2)</pre></div></div></div><div class=\"sk-parallel\"><div class=\"sk-parallel-item\"><div class=\"sk-item\"><div class=\"sk-label-container\"><div class=\"sk-label sk-toggleable\"><input class=\"sk-toggleable__control sk-hidden--visually\" id=\"sk-estimator-id-2\" type=\"checkbox\" ><label for=\"sk-estimator-id-2\" class=\"sk-toggleable__label sk-toggleable__label-arrow\">estimator: RandomForestRegressor</label><div class=\"sk-toggleable__content\"><pre>RandomForestRegressor(n_estimators=1000, n_jobs=-1, random_state=0)</pre></div></div></div><div class=\"sk-serial\"><div class=\"sk-item\"><div class=\"sk-estimator sk-toggleable\"><input class=\"sk-toggleable__control sk-hidden--visually\" id=\"sk-estimator-id-3\" type=\"checkbox\" ><label for=\"sk-estimator-id-3\" class=\"sk-toggleable__label sk-toggleable__label-arrow\">RandomForestRegressor</label><div class=\"sk-toggleable__content\"><pre>RandomForestRegressor(n_estimators=1000, n_jobs=-1, random_state=0)</pre></div></div></div></div></div></div></div></div></div></div>"
            ]
          },
          "metadata": {},
          "execution_count": 48
        }
      ]
    },
    {
      "cell_type": "code",
      "source": [
        "grid_search.best_params_"
      ],
      "metadata": {
        "id": "Me7oUe0as7w9",
        "outputId": "da8339d6-87bd-4d7a-b6e8-9578395c8041",
        "papermill": {
          "duration": 0.175044,
          "end_time": "2021-03-28T12:35:59.424284",
          "exception": false,
          "start_time": "2021-03-28T12:35:59.249240",
          "status": "completed"
        },
        "tags": [],
        "execution": {
          "iopub.status.busy": "2023-03-07T12:29:46.385294Z",
          "iopub.execute_input": "2023-03-07T12:29:46.385920Z",
          "iopub.status.idle": "2023-03-07T12:29:46.395231Z",
          "shell.execute_reply.started": "2023-03-07T12:29:46.385874Z",
          "shell.execute_reply": "2023-03-07T12:29:46.393471Z"
        },
        "trusted": true,
        "colab": {
          "base_uri": "https://localhost:8080/"
        }
      },
      "execution_count": null,
      "outputs": [
        {
          "output_type": "execute_result",
          "data": {
            "text/plain": [
              "{'bootstrap': True, 'max_depth': 40, 'n_estimators': 1200}"
            ]
          },
          "metadata": {},
          "execution_count": 49
        }
      ]
    },
    {
      "cell_type": "code",
      "source": [
        "best_grid = grid_search.best_estimator_\n",
        "\n",
        "#Predict\n",
        "pred_clf = best_grid.predict(X_train)\n",
        "y_pred_clf = best_grid.predict(X_test)\n",
        "print('R^2 value for GridSearch :', r2_score(y_test, y_pred_clf))\n",
        "print('MSE for GridSearch :', mean_squared_error(y_test, y_pred_clf))"
      ],
      "metadata": {
        "id": "MQGt3NCotBkw",
        "outputId": "f6b1b830-9997-413c-cd11-5076ee3ab619",
        "papermill": {
          "duration": 1.802898,
          "end_time": "2021-03-28T12:36:01.393719",
          "exception": false,
          "start_time": "2021-03-28T12:35:59.590821",
          "status": "completed"
        },
        "tags": [],
        "execution": {
          "iopub.status.busy": "2023-03-07T12:29:46.398174Z",
          "iopub.execute_input": "2023-03-07T12:29:46.398817Z",
          "iopub.status.idle": "2023-03-07T12:29:47.928204Z",
          "shell.execute_reply.started": "2023-03-07T12:29:46.398759Z",
          "shell.execute_reply": "2023-03-07T12:29:47.926923Z"
        },
        "trusted": true,
        "colab": {
          "base_uri": "https://localhost:8080/"
        }
      },
      "execution_count": null,
      "outputs": [
        {
          "output_type": "stream",
          "name": "stdout",
          "text": [
            "R^2 value for GridSearch : 0.8254213102308233\n",
            "MSE for GridSearch : 4224.280156008217\n"
          ]
        }
      ]
    },
    {
      "cell_type": "code",
      "source": [
        "feature_importances = pd.Series(best_grid.feature_importances_, index=X_train.columns)\n",
        "f, ax = plt.subplots(figsize=(10,5))\n",
        "feature_importances.nlargest(5).plot(kind='barh')"
      ],
      "metadata": {
        "id": "yQGb7EDttaav",
        "outputId": "673b4901-5c65-43b7-b169-942ae5c0de65",
        "papermill": {
          "duration": 0.781989,
          "end_time": "2021-03-28T12:36:02.343751",
          "exception": false,
          "start_time": "2021-03-28T12:36:01.561762",
          "status": "completed"
        },
        "tags": [],
        "execution": {
          "iopub.status.busy": "2023-03-07T12:29:47.929687Z",
          "iopub.execute_input": "2023-03-07T12:29:47.930133Z",
          "iopub.status.idle": "2023-03-07T12:29:48.574261Z",
          "shell.execute_reply.started": "2023-03-07T12:29:47.930097Z",
          "shell.execute_reply": "2023-03-07T12:29:48.572686Z"
        },
        "trusted": true,
        "colab": {
          "base_uri": "https://localhost:8080/",
          "height": 337
        }
      },
      "execution_count": null,
      "outputs": [
        {
          "output_type": "execute_result",
          "data": {
            "text/plain": [
              "<AxesSubplot:>"
            ]
          },
          "metadata": {},
          "execution_count": 51
        },
        {
          "output_type": "display_data",
          "data": {
            "text/plain": [
              "<Figure size 720x360 with 1 Axes>"
            ],
            "image/png": "[encoded data removed]"
          },
          "metadata": {}
        }
      ]
    },
    {
      "cell_type": "code",
      "source": [
        "test.head()"
      ],
      "metadata": {
        "id": "ESFhftRgw90J",
        "outputId": "87e8130a-3f01-4561-d08a-63d05968b06e",
        "papermill": {
          "duration": 0.196792,
          "end_time": "2021-03-28T12:36:02.708335",
          "exception": false,
          "start_time": "2021-03-28T12:36:02.511543",
          "status": "completed"
        },
        "tags": [],
        "execution": {
          "iopub.status.busy": "2023-03-07T12:29:48.575969Z",
          "iopub.execute_input": "2023-03-07T12:29:48.576758Z",
          "iopub.status.idle": "2023-03-07T12:29:48.600712Z",
          "shell.execute_reply.started": "2023-03-07T12:29:48.576709Z",
          "shell.execute_reply": "2023-03-07T12:29:48.599460Z"
        },
        "trusted": true,
        "colab": {
          "base_uri": "https://localhost:8080/",
          "height": 201
        }
      },
      "execution_count": null,
      "outputs": [
        {
          "output_type": "execute_result",
          "data": {
            "text/plain": [
              "   season holiday workingday                  weather   temp   atemp  \\\n",
              "0  Summer       0          1       Clear + Few clouds  21.32  25.000   \n",
              "1  Summer       0          0       Clear + Few clouds  23.78  27.275   \n",
              "2  Spring       0          0   Light Snow, Light Rain  11.48  12.120   \n",
              "3  Winter       0          1           Mist + Cloudy   25.42  28.790   \n",
              "4  Summer       0          0       Clear + Few clouds  25.42  31.060   \n",
              "\n",
              "   humidity  windspeed  Total_booking        date hour   weekday    month  \n",
              "0        48    35.0008            256   5/10/2012   11  Thursday      May  \n",
              "1        64     7.0015             87    6/9/2012    7  Saturday     June  \n",
              "2       100    27.9993             11    3/6/2011   20    Sunday    March  \n",
              "3        83     0.0000             84  10/13/2011   11  Thursday  October  \n",
              "4        43    23.9994            668    6/2/2012   12  Saturday     June  "
            ],
            "text/html": [
              "\n",
              "  <div id=\"df-1c214005-0c3a-4de6-b4a7-e77b33fb545d\">\n",
              "    <div class=\"colab-df-container\">\n",
              "      <div>\n",
              "<style scoped>\n",
              "    .dataframe tbody tr th:only-of-type {\n",
              "        vertical-align: middle;\n",
              "    }\n",
              "\n",
              "    .dataframe tbody tr th {\n",
              "        vertical-align: top;\n",
              "    }\n",
              "\n",
              "    .dataframe thead th {\n",
              "        text-align: right;\n",
              "    }\n",
              "</style>\n",
              "<table border=\"1\" class=\"dataframe\">\n",
              "  <thead>\n",
              "    <tr style=\"text-align: right;\">\n",
              "      <th></th>\n",
              "      <th>season</th>\n",
              "      <th>holiday</th>\n",
              "      <th>workingday</th>\n",
              "      <th>weather</th>\n",
              "      <th>temp</th>\n",
              "      <th>atemp</th>\n",
              "      <th>humidity</th>\n",
              "      <th>windspeed</th>\n",
              "      <th>Total_booking</th>\n",
              "      <th>date</th>\n",
              "      <th>hour</th>\n",
              "      <th>weekday</th>\n",
              "      <th>month</th>\n",
              "    </tr>\n",
              "  </thead>\n",
              "  <tbody>\n",
              "    <tr>\n",
              "      <th>0</th>\n",
              "      <td>Summer</td>\n",
              "      <td>0</td>\n",
              "      <td>1</td>\n",
              "      <td>Clear + Few clouds</td>\n",
              "      <td>21.32</td>\n",
              "      <td>25.000</td>\n",
              "      <td>48</td>\n",
              "      <td>35.0008</td>\n",
              "      <td>256</td>\n",
              "      <td>5/10/2012</td>\n",
              "      <td>11</td>\n",
              "      <td>Thursday</td>\n",
              "      <td>May</td>\n",
              "    </tr>\n",
              "    <tr>\n",
              "      <th>1</th>\n",
              "      <td>Summer</td>\n",
              "      <td>0</td>\n",
              "      <td>0</td>\n",
              "      <td>Clear + Few clouds</td>\n",
              "      <td>23.78</td>\n",
              "      <td>27.275</td>\n",
              "      <td>64</td>\n",
              "      <td>7.0015</td>\n",
              "      <td>87</td>\n",
              "      <td>6/9/2012</td>\n",
              "      <td>7</td>\n",
              "      <td>Saturday</td>\n",
              "      <td>June</td>\n",
              "    </tr>\n",
              "    <tr>\n",
              "      <th>2</th>\n",
              "      <td>Spring</td>\n",
              "      <td>0</td>\n",
              "      <td>0</td>\n",
              "      <td>Light Snow, Light Rain</td>\n",
              "      <td>11.48</td>\n",
              "      <td>12.120</td>\n",
              "      <td>100</td>\n",
              "      <td>27.9993</td>\n",
              "      <td>11</td>\n",
              "      <td>3/6/2011</td>\n",
              "      <td>20</td>\n",
              "      <td>Sunday</td>\n",
              "      <td>March</td>\n",
              "    </tr>\n",
              "    <tr>\n",
              "      <th>3</th>\n",
              "      <td>Winter</td>\n",
              "      <td>0</td>\n",
              "      <td>1</td>\n",
              "      <td>Mist + Cloudy</td>\n",
              "      <td>25.42</td>\n",
              "      <td>28.790</td>\n",
              "      <td>83</td>\n",
              "      <td>0.0000</td>\n",
              "      <td>84</td>\n",
              "      <td>10/13/2011</td>\n",
              "      <td>11</td>\n",
              "      <td>Thursday</td>\n",
              "      <td>October</td>\n",
              "    </tr>\n",
              "    <tr>\n",
              "      <th>4</th>\n",
              "      <td>Summer</td>\n",
              "      <td>0</td>\n",
              "      <td>0</td>\n",
              "      <td>Clear + Few clouds</td>\n",
              "      <td>25.42</td>\n",
              "      <td>31.060</td>\n",
              "      <td>43</td>\n",
              "      <td>23.9994</td>\n",
              "      <td>668</td>\n",
              "      <td>6/2/2012</td>\n",
              "      <td>12</td>\n",
              "      <td>Saturday</td>\n",
              "      <td>June</td>\n",
              "    </tr>\n",
              "  </tbody>\n",
              "</table>\n",
              "</div>\n",
              "      <button class=\"colab-df-convert\" onclick=\"convertToInteractive('df-1c214005-0c3a-4de6-b4a7-e77b33fb545d')\"\n",
              "              title=\"Convert this dataframe to an interactive table.\"\n",
              "              style=\"display:none;\">\n",
              "        \n",
              "  <svg xmlns=\"http://www.w3.org/2000/svg\" height=\"24px\"viewBox=\"0 0 24 24\"\n",
              "       width=\"24px\">\n",
              "    <path d=\"M0 0h24v24H0V0z\" fill=\"none\"/>\n",
              "    <path d=\"M18.56 5.44l.94 2.06.94-2.06 2.06-.94-2.06-.94-.94-2.06-.94 2.06-2.06.94zm-11 1L8.5 8.5l.94-2.06 2.06-.94-2.06-.94L8.5 2.5l-.94 2.06-2.06.94zm10 10l.94 2.06.94-2.06 2.06-.94-2.06-.94-.94-2.06-.94 2.06-2.06.94z\"/><path d=\"M17.41 7.96l-1.37-1.37c-.4-.4-.92-.59-1.43-.59-.52 0-1.04.2-1.43.59L10.3 9.45l-7.72 7.72c-.78.78-.78 2.05 0 2.83L4 21.41c.39.39.9.59 1.41.59.51 0 1.02-.2 1.41-.59l7.78-7.78 2.81-2.81c.8-.78.8-2.07 0-2.86zM5.41 20L4 18.59l7.72-7.72 1.47 1.35L5.41 20z\"/>\n",
              "  </svg>\n",
              "      </button>\n",
              "      \n",
              "  <style>\n",
              "    .colab-df-container {\n",
              "      display:flex;\n",
              "      flex-wrap:wrap;\n",
              "      gap: 12px;\n",
              "    }\n",
              "\n",
              "    .colab-df-convert {\n",
              "      background-color: #E8F0FE;\n",
              "      border: none;\n",
              "      border-radius: 50%;\n",
              "      cursor: pointer;\n",
              "      display: none;\n",
              "      fill: #1967D2;\n",
              "      height: 32px;\n",
              "      padding: 0 0 0 0;\n",
              "      width: 32px;\n",
              "    }\n",
              "\n",
              "    .colab-df-convert:hover {\n",
              "      background-color: #E2EBFA;\n",
              "      box-shadow: 0px 1px 2px rgba(60, 64, 67, 0.3), 0px 1px 3px 1px rgba(60, 64, 67, 0.15);\n",
              "      fill: #174EA6;\n",
              "    }\n",
              "\n",
              "    [theme=dark] .colab-df-convert {\n",
              "      background-color: #3B4455;\n",
              "      fill: #D2E3FC;\n",
              "    }\n",
              "\n",
              "    [theme=dark] .colab-df-convert:hover {\n",
              "      background-color: #434B5C;\n",
              "      box-shadow: 0px 1px 3px 1px rgba(0, 0, 0, 0.15);\n",
              "      filter: drop-shadow(0px 1px 2px rgba(0, 0, 0, 0.3));\n",
              "      fill: #FFFFFF;\n",
              "    }\n",
              "  </style>\n",
              "\n",
              "      <script>\n",
              "        const buttonEl =\n",
              "          document.querySelector('#df-1c214005-0c3a-4de6-b4a7-e77b33fb545d button.colab-df-convert');\n",
              "        buttonEl.style.display =\n",
              "          google.colab.kernel.accessAllowed ? 'block' : 'none';\n",
              "\n",
              "        async function convertToInteractive(key) {\n",
              "          const element = document.querySelector('#df-1c214005-0c3a-4de6-b4a7-e77b33fb545d');\n",
              "          const dataTable =\n",
              "            await google.colab.kernel.invokeFunction('convertToInteractive',\n",
              "                                                     [key], {});\n",
              "          if (!dataTable) return;\n",
              "\n",
              "          const docLinkHtml = 'Like what you see? Visit the ' +\n",
              "            '<a target=\"_blank\" href=https://colab.research.google.com/notebooks/data_table.ipynb>data table notebook</a>'\n",
              "            + ' to learn more about interactive tables.';\n",
              "          element.innerHTML = '';\n",
              "          dataTable['output_type'] = 'display_data';\n",
              "          await google.colab.output.renderOutput(dataTable, element);\n",
              "          const docLink = document.createElement('div');\n",
              "          docLink.innerHTML = docLinkHtml;\n",
              "          element.appendChild(docLink);\n",
              "        }\n",
              "      </script>\n",
              "    </div>\n",
              "  </div>\n",
              "  "
            ]
          },
          "metadata": {},
          "execution_count": 52
        }
      ]
    },
    {
      "cell_type": "code",
      "source": [
        "del(test['atemp'])\n",
        "del(test['date'])"
      ],
      "metadata": {
        "id": "s8_czfxOxLif",
        "papermill": {
          "duration": 0.180068,
          "end_time": "2021-03-28T12:36:03.404485",
          "exception": false,
          "start_time": "2021-03-28T12:36:03.224417",
          "status": "completed"
        },
        "tags": [],
        "execution": {
          "iopub.status.busy": "2023-03-07T12:29:48.602695Z",
          "iopub.execute_input": "2023-03-07T12:29:48.603222Z",
          "iopub.status.idle": "2023-03-07T12:29:48.613278Z",
          "shell.execute_reply.started": "2023-03-07T12:29:48.603125Z",
          "shell.execute_reply": "2023-03-07T12:29:48.611983Z"
        },
        "trusted": true
      },
      "execution_count": null,
      "outputs": []
    },
    {
      "cell_type": "code",
      "source": [
        "test.shape"
      ],
      "metadata": {
        "id": "_f-4OWjuxVJt",
        "outputId": "a3f34888-6de0-4285-bc69-f0a5ba01eadd",
        "papermill": {
          "duration": 0.182337,
          "end_time": "2021-03-28T12:36:04.108497",
          "exception": false,
          "start_time": "2021-03-28T12:36:03.926160",
          "status": "completed"
        },
        "tags": [],
        "execution": {
          "iopub.status.busy": "2023-03-07T12:29:48.614784Z",
          "iopub.execute_input": "2023-03-07T12:29:48.615226Z",
          "iopub.status.idle": "2023-03-07T12:29:48.627022Z",
          "shell.execute_reply.started": "2023-03-07T12:29:48.615130Z",
          "shell.execute_reply": "2023-03-07T12:29:48.626018Z"
        },
        "trusted": true,
        "colab": {
          "base_uri": "https://localhost:8080/"
        }
      },
      "execution_count": null,
      "outputs": [
        {
          "output_type": "execute_result",
          "data": {
            "text/plain": [
              "(2178, 11)"
            ]
          },
          "metadata": {},
          "execution_count": 54
        }
      ]
    },
    {
      "cell_type": "code",
      "source": [
        "test = pd.get_dummies(test)\n",
        "test.head()"
      ],
      "metadata": {
        "id": "i4ERrpvTxY7U",
        "outputId": "706b6184-8854-4c93-cde9-0b913bc8f058",
        "papermill": {
          "duration": 0.22316,
          "end_time": "2021-03-28T12:36:04.503008",
          "exception": false,
          "start_time": "2021-03-28T12:36:04.279848",
          "status": "completed"
        },
        "tags": [],
        "execution": {
          "iopub.status.busy": "2023-03-07T12:29:48.628336Z",
          "iopub.execute_input": "2023-03-07T12:29:48.629824Z",
          "iopub.status.idle": "2023-03-07T12:29:48.667271Z",
          "shell.execute_reply.started": "2023-03-07T12:29:48.629771Z",
          "shell.execute_reply": "2023-03-07T12:29:48.665957Z"
        },
        "trusted": true,
        "colab": {
          "base_uri": "https://localhost:8080/",
          "height": 292
        }
      },
      "execution_count": null,
      "outputs": [
        {
          "output_type": "execute_result",
          "data": {
            "text/plain": [
              "    temp  humidity  windspeed  Total_booking  season_Fall  season_Spring  \\\n",
              "0  21.32        48    35.0008            256            0              0   \n",
              "1  23.78        64     7.0015             87            0              0   \n",
              "2  11.48       100    27.9993             11            0              1   \n",
              "3  25.42        83     0.0000             84            0              0   \n",
              "4  25.42        43    23.9994            668            0              0   \n",
              "\n",
              "   season_Summer  season_Winter  holiday_0  holiday_1  ...  month_December  \\\n",
              "0              1              0          1          0  ...               0   \n",
              "1              1              0          1          0  ...               0   \n",
              "2              0              0          1          0  ...               0   \n",
              "3              0              1          1          0  ...               0   \n",
              "4              1              0          1          0  ...               0   \n",
              "\n",
              "   month_February  month_January  month_July  month_June  month_March  \\\n",
              "0               0              0           0           0            0   \n",
              "1               0              0           0           1            0   \n",
              "2               0              0           0           0            1   \n",
              "3               0              0           0           0            0   \n",
              "4               0              0           0           1            0   \n",
              "\n",
              "   month_May  month_November  month_October  month_September  \n",
              "0          1               0              0                0  \n",
              "1          0               0              0                0  \n",
              "2          0               0              0                0  \n",
              "3          0               0              1                0  \n",
              "4          0               0              0                0  \n",
              "\n",
              "[5 rows x 58 columns]"
            ],
            "text/html": [
              "\n",
              "  <div id=\"df-acabb62f-8395-4267-8214-e196875c6d2e\">\n",
              "    <div class=\"colab-df-container\">\n",
              "      <div>\n",
              "<style scoped>\n",
              "    .dataframe tbody tr th:only-of-type {\n",
              "        vertical-align: middle;\n",
              "    }\n",
              "\n",
              "    .dataframe tbody tr th {\n",
              "        vertical-align: top;\n",
              "    }\n",
              "\n",
              "    .dataframe thead th {\n",
              "        text-align: right;\n",
              "    }\n",
              "</style>\n",
              "<table border=\"1\" class=\"dataframe\">\n",
              "  <thead>\n",
              "    <tr style=\"text-align: right;\">\n",
              "      <th></th>\n",
              "      <th>temp</th>\n",
              "      <th>humidity</th>\n",
              "      <th>windspeed</th>\n",
              "      <th>Total_booking</th>\n",
              "      <th>season_Fall</th>\n",
              "      <th>season_Spring</th>\n",
              "      <th>season_Summer</th>\n",
              "      <th>season_Winter</th>\n",
              "      <th>holiday_0</th>\n",
              "      <th>holiday_1</th>\n",
              "      <th>...</th>\n",
              "      <th>month_December</th>\n",
              "      <th>month_February</th>\n",
              "      <th>month_January</th>\n",
              "      <th>month_July</th>\n",
              "      <th>month_June</th>\n",
              "      <th>month_March</th>\n",
              "      <th>month_May</th>\n",
              "      <th>month_November</th>\n",
              "      <th>month_October</th>\n",
              "      <th>month_September</th>\n",
              "    </tr>\n",
              "  </thead>\n",
              "  <tbody>\n",
              "    <tr>\n",
              "      <th>0</th>\n",
              "      <td>21.32</td>\n",
              "      <td>48</td>\n",
              "      <td>35.0008</td>\n",
              "      <td>256</td>\n",
              "      <td>0</td>\n",
              "      <td>0</td>\n",
              "      <td>1</td>\n",
              "      <td>0</td>\n",
              "      <td>1</td>\n",
              "      <td>0</td>\n",
              "      <td>...</td>\n",
              "      <td>0</td>\n",
              "      <td>0</td>\n",
              "      <td>0</td>\n",
              "      <td>0</td>\n",
              "      <td>0</td>\n",
              "      <td>0</td>\n",
              "      <td>1</td>\n",
              "      <td>0</td>\n",
              "      <td>0</td>\n",
              "      <td>0</td>\n",
              "    </tr>\n",
              "    <tr>\n",
              "      <th>1</th>\n",
              "      <td>23.78</td>\n",
              "      <td>64</td>\n",
              "      <td>7.0015</td>\n",
              "      <td>87</td>\n",
              "      <td>0</td>\n",
              "      <td>0</td>\n",
              "      <td>1</td>\n",
              "      <td>0</td>\n",
              "      <td>1</td>\n",
              "      <td>0</td>\n",
              "      <td>...</td>\n",
              "      <td>0</td>\n",
              "      <td>0</td>\n",
              "      <td>0</td>\n",
              "      <td>0</td>\n",
              "      <td>1</td>\n",
              "      <td>0</td>\n",
              "      <td>0</td>\n",
              "      <td>0</td>\n",
              "      <td>0</td>\n",
              "      <td>0</td>\n",
              "    </tr>\n",
              "    <tr>\n",
              "      <th>2</th>\n",
              "      <td>11.48</td>\n",
              "      <td>100</td>\n",
              "      <td>27.9993</td>\n",
              "      <td>11</td>\n",
              "      <td>0</td>\n",
              "      <td>1</td>\n",
              "      <td>0</td>\n",
              "      <td>0</td>\n",
              "      <td>1</td>\n",
              "      <td>0</td>\n",
              "      <td>...</td>\n",
              "      <td>0</td>\n",
              "      <td>0</td>\n",
              "      <td>0</td>\n",
              "      <td>0</td>\n",
              "      <td>0</td>\n",
              "      <td>1</td>\n",
              "      <td>0</td>\n",
              "      <td>0</td>\n",
              "      <td>0</td>\n",
              "      <td>0</td>\n",
              "    </tr>\n",
              "    <tr>\n",
              "      <th>3</th>\n",
              "      <td>25.42</td>\n",
              "      <td>83</td>\n",
              "      <td>0.0000</td>\n",
              "      <td>84</td>\n",
              "      <td>0</td>\n",
              "      <td>0</td>\n",
              "      <td>0</td>\n",
              "      <td>1</td>\n",
              "      <td>1</td>\n",
              "      <td>0</td>\n",
              "      <td>...</td>\n",
              "      <td>0</td>\n",
              "      <td>0</td>\n",
              "      <td>0</td>\n",
              "      <td>0</td>\n",
              "      <td>0</td>\n",
              "      <td>0</td>\n",
              "      <td>0</td>\n",
              "      <td>0</td>\n",
              "      <td>1</td>\n",
              "      <td>0</td>\n",
              "    </tr>\n",
              "    <tr>\n",
              "      <th>4</th>\n",
              "      <td>25.42</td>\n",
              "      <td>43</td>\n",
              "      <td>23.9994</td>\n",
              "      <td>668</td>\n",
              "      <td>0</td>\n",
              "      <td>0</td>\n",
              "      <td>1</td>\n",
              "      <td>0</td>\n",
              "      <td>1</td>\n",
              "      <td>0</td>\n",
              "      <td>...</td>\n",
              "      <td>0</td>\n",
              "      <td>0</td>\n",
              "      <td>0</td>\n",
              "      <td>0</td>\n",
              "      <td>1</td>\n",
              "      <td>0</td>\n",
              "      <td>0</td>\n",
              "      <td>0</td>\n",
              "      <td>0</td>\n",
              "      <td>0</td>\n",
              "    </tr>\n",
              "  </tbody>\n",
              "</table>\n",
              "<p>5 rows × 58 columns</p>\n",
              "</div>\n",
              "      <button class=\"colab-df-convert\" onclick=\"convertToInteractive('df-acabb62f-8395-4267-8214-e196875c6d2e')\"\n",
              "              title=\"Convert this dataframe to an interactive table.\"\n",
              "              style=\"display:none;\">\n",
              "        \n",
              "  <svg xmlns=\"http://www.w3.org/2000/svg\" height=\"24px\"viewBox=\"0 0 24 24\"\n",
              "       width=\"24px\">\n",
              "    <path d=\"M0 0h24v24H0V0z\" fill=\"none\"/>\n",
              "    <path d=\"M18.56 5.44l.94 2.06.94-2.06 2.06-.94-2.06-.94-.94-2.06-.94 2.06-2.06.94zm-11 1L8.5 8.5l.94-2.06 2.06-.94-2.06-.94L8.5 2.5l-.94 2.06-2.06.94zm10 10l.94 2.06.94-2.06 2.06-.94-2.06-.94-.94-2.06-.94 2.06-2.06.94z\"/><path d=\"M17.41 7.96l-1.37-1.37c-.4-.4-.92-.59-1.43-.59-.52 0-1.04.2-1.43.59L10.3 9.45l-7.72 7.72c-.78.78-.78 2.05 0 2.83L4 21.41c.39.39.9.59 1.41.59.51 0 1.02-.2 1.41-.59l7.78-7.78 2.81-2.81c.8-.78.8-2.07 0-2.86zM5.41 20L4 18.59l7.72-7.72 1.47 1.35L5.41 20z\"/>\n",
              "  </svg>\n",
              "      </button>\n",
              "      \n",
              "  <style>\n",
              "    .colab-df-container {\n",
              "      display:flex;\n",
              "      flex-wrap:wrap;\n",
              "      gap: 12px;\n",
              "    }\n",
              "\n",
              "    .colab-df-convert {\n",
              "      background-color: #E8F0FE;\n",
              "      border: none;\n",
              "      border-radius: 50%;\n",
              "      cursor: pointer;\n",
              "      display: none;\n",
              "      fill: #1967D2;\n",
              "      height: 32px;\n",
              "      padding: 0 0 0 0;\n",
              "      width: 32px;\n",
              "    }\n",
              "\n",
              "    .colab-df-convert:hover {\n",
              "      background-color: #E2EBFA;\n",
              "      box-shadow: 0px 1px 2px rgba(60, 64, 67, 0.3), 0px 1px 3px 1px rgba(60, 64, 67, 0.15);\n",
              "      fill: #174EA6;\n",
              "    }\n",
              "\n",
              "    [theme=dark] .colab-df-convert {\n",
              "      background-color: #3B4455;\n",
              "      fill: #D2E3FC;\n",
              "    }\n",
              "\n",
              "    [theme=dark] .colab-df-convert:hover {\n",
              "      background-color: #434B5C;\n",
              "      box-shadow: 0px 1px 3px 1px rgba(0, 0, 0, 0.15);\n",
              "      filter: drop-shadow(0px 1px 2px rgba(0, 0, 0, 0.3));\n",
              "      fill: #FFFFFF;\n",
              "    }\n",
              "  </style>\n",
              "\n",
              "      <script>\n",
              "        const buttonEl =\n",
              "          document.querySelector('#df-acabb62f-8395-4267-8214-e196875c6d2e button.colab-df-convert');\n",
              "        buttonEl.style.display =\n",
              "          google.colab.kernel.accessAllowed ? 'block' : 'none';\n",
              "\n",
              "        async function convertToInteractive(key) {\n",
              "          const element = document.querySelector('#df-acabb62f-8395-4267-8214-e196875c6d2e');\n",
              "          const dataTable =\n",
              "            await google.colab.kernel.invokeFunction('convertToInteractive',\n",
              "                                                     [key], {});\n",
              "          if (!dataTable) return;\n",
              "\n",
              "          const docLinkHtml = 'Like what you see? Visit the ' +\n",
              "            '<a target=\"_blank\" href=https://colab.research.google.com/notebooks/data_table.ipynb>data table notebook</a>'\n",
              "            + ' to learn more about interactive tables.';\n",
              "          element.innerHTML = '';\n",
              "          dataTable['output_type'] = 'display_data';\n",
              "          await google.colab.output.renderOutput(dataTable, element);\n",
              "          const docLink = document.createElement('div');\n",
              "          docLink.innerHTML = docLinkHtml;\n",
              "          element.appendChild(docLink);\n",
              "        }\n",
              "      </script>\n",
              "    </div>\n",
              "  </div>\n",
              "  "
            ]
          },
          "metadata": {},
          "execution_count": 55
        }
      ]
    },
    {
      "cell_type": "code",
      "source": [
        "test.shape"
      ],
      "metadata": {
        "id": "lLhfHz5yxiye",
        "outputId": "31cdb113-8594-4074-e8b4-fab2afb94fa9",
        "papermill": {
          "duration": 0.180869,
          "end_time": "2021-03-28T12:36:04.851942",
          "exception": false,
          "start_time": "2021-03-28T12:36:04.671073",
          "status": "completed"
        },
        "tags": [],
        "execution": {
          "iopub.status.busy": "2023-03-07T12:29:48.669433Z",
          "iopub.execute_input": "2023-03-07T12:29:48.669926Z",
          "iopub.status.idle": "2023-03-07T12:29:48.678071Z",
          "shell.execute_reply.started": "2023-03-07T12:29:48.669874Z",
          "shell.execute_reply": "2023-03-07T12:29:48.676745Z"
        },
        "trusted": true,
        "colab": {
          "base_uri": "https://localhost:8080/"
        }
      },
      "execution_count": null,
      "outputs": [
        {
          "output_type": "execute_result",
          "data": {
            "text/plain": [
              "(2178, 58)"
            ]
          },
          "metadata": {},
          "execution_count": 56
        }
      ]
    },
    {
      "cell_type": "code",
      "source": [
        "test.columns=X_test.columns"
      ],
      "metadata": {
        "id": "JjbxAbR4rbCi"
      },
      "execution_count": null,
      "outputs": []
    },
    {
      "cell_type": "markdown",
      "source": [
        "## 12. Perform prediction on the test set and print the mean_squared_log_error"
      ],
      "metadata": {
        "id": "veJt6ixEEQlH"
      }
    },
    {
      "cell_type": "code",
      "source": [
        "# Fitting Grid Search Model to test dataset\n",
        "\n",
        "Final_pred = best_grid.predict(test)\n",
        "print('R^2 for prediction v/s test_label:',r2_score(test_label, Final_pred))\n",
        "print('MSE for prediction v/s test_label :',mean_squared_log_error(test_label, Final_pred))\n"
      ],
      "metadata": {
        "id": "AxDXd-cExmjq",
        "outputId": "dd1bb508-0f8e-42dd-dcae-ab33f2b5317a",
        "papermill": {
          "duration": 0.797109,
          "end_time": "2021-03-28T12:36:05.819242",
          "exception": false,
          "start_time": "2021-03-28T12:36:05.022133",
          "status": "completed"
        },
        "tags": [],
        "execution": {
          "iopub.status.busy": "2023-03-07T12:29:48.679591Z",
          "iopub.execute_input": "2023-03-07T12:29:48.679931Z",
          "iopub.status.idle": "2023-03-07T12:29:49.304800Z",
          "shell.execute_reply.started": "2023-03-07T12:29:48.679899Z",
          "shell.execute_reply": "2023-03-07T12:29:49.303507Z"
        },
        "trusted": true,
        "colab": {
          "base_uri": "https://localhost:8080/"
        }
      },
      "execution_count": null,
      "outputs": [
        {
          "output_type": "stream",
          "name": "stdout",
          "text": [
            "R^2 for prediction v/s test_label: 0.550628111182248\n",
            "MSE for prediction v/s test_label : 0.7444670943228415\n"
          ]
        }
      ]
    },
    {
      "cell_type": "code",
      "source": [
        "Final_pred = pd.DataFrame(Final_pred)\n",
        "Final_pred.columns = ['Predictions']\n",
        "Final_pred.T"
      ],
      "metadata": {
        "id": "dWAodEl9yJm2",
        "papermill": {
          "duration": 0.19213,
          "end_time": "2021-03-28T12:36:06.183756",
          "exception": false,
          "start_time": "2021-03-28T12:36:05.991626",
          "status": "completed"
        },
        "tags": [],
        "execution": {
          "iopub.status.busy": "2023-03-07T12:29:49.306638Z",
          "iopub.execute_input": "2023-03-07T12:29:49.307038Z",
          "iopub.status.idle": "2023-03-07T12:29:49.336535Z",
          "shell.execute_reply.started": "2023-03-07T12:29:49.306999Z",
          "shell.execute_reply": "2023-03-07T12:29:49.334702Z"
        },
        "trusted": true,
        "colab": {
          "base_uri": "https://localhost:8080/",
          "height": 171
        },
        "outputId": "5ba1a7d7-c526-4499-b9b5-32ca0b7846db"
      },
      "execution_count": null,
      "outputs": [
        {
          "output_type": "execute_result",
          "data": {
            "text/plain": [
              "                   0           1          2         3           4       5     \\\n",
              "Predictions  268.840833  372.578333  75.604167  184.0375  280.964824  95.315   \n",
              "\n",
              "                 6          7           8      9     ...        2168  \\\n",
              "Predictions  389.4225  311.84175  283.540833  10.52  ...  121.835833   \n",
              "\n",
              "                   2169        2170     2171        2172       2173  \\\n",
              "Predictions  358.048083  461.004167  419.295  161.674167  19.440833   \n",
              "\n",
              "                   2174        2175       2176    2177  \n",
              "Predictions  168.366667  138.510833  22.644167  349.59  \n",
              "\n",
              "[1 rows x 2178 columns]"
            ],
            "text/html": [
              "\n",
              "  <div id=\"df-829e7002-c0da-40ce-abe4-cd95b3897bc7\">\n",
              "    <div class=\"colab-df-container\">\n",
              "      <div>\n",
              "<style scoped>\n",
              "    .dataframe tbody tr th:only-of-type {\n",
              "        vertical-align: middle;\n",
              "    }\n",
              "\n",
              "    .dataframe tbody tr th {\n",
              "        vertical-align: top;\n",
              "    }\n",
              "\n",
              "    .dataframe thead th {\n",
              "        text-align: right;\n",
              "    }\n",
              "</style>\n",
              "<table border=\"1\" class=\"dataframe\">\n",
              "  <thead>\n",
              "    <tr style=\"text-align: right;\">\n",
              "      <th></th>\n",
              "      <th>0</th>\n",
              "      <th>1</th>\n",
              "      <th>2</th>\n",
              "      <th>3</th>\n",
              "      <th>4</th>\n",
              "      <th>5</th>\n",
              "      <th>6</th>\n",
              "      <th>7</th>\n",
              "      <th>8</th>\n",
              "      <th>9</th>\n",
              "      <th>...</th>\n",
              "      <th>2168</th>\n",
              "      <th>2169</th>\n",
              "      <th>2170</th>\n",
              "      <th>2171</th>\n",
              "      <th>2172</th>\n",
              "      <th>2173</th>\n",
              "      <th>2174</th>\n",
              "      <th>2175</th>\n",
              "      <th>2176</th>\n",
              "      <th>2177</th>\n",
              "    </tr>\n",
              "  </thead>\n",
              "  <tbody>\n",
              "    <tr>\n",
              "      <th>Predictions</th>\n",
              "      <td>268.840833</td>\n",
              "      <td>372.578333</td>\n",
              "      <td>75.604167</td>\n",
              "      <td>184.0375</td>\n",
              "      <td>280.964824</td>\n",
              "      <td>95.315</td>\n",
              "      <td>389.4225</td>\n",
              "      <td>311.84175</td>\n",
              "      <td>283.540833</td>\n",
              "      <td>10.52</td>\n",
              "      <td>...</td>\n",
              "      <td>121.835833</td>\n",
              "      <td>358.048083</td>\n",
              "      <td>461.004167</td>\n",
              "      <td>419.295</td>\n",
              "      <td>161.674167</td>\n",
              "      <td>19.440833</td>\n",
              "      <td>168.366667</td>\n",
              "      <td>138.510833</td>\n",
              "      <td>22.644167</td>\n",
              "      <td>349.59</td>\n",
              "    </tr>\n",
              "  </tbody>\n",
              "</table>\n",
              "<p>1 rows × 2178 columns</p>\n",
              "</div>\n",
              "      <button class=\"colab-df-convert\" onclick=\"convertToInteractive('df-829e7002-c0da-40ce-abe4-cd95b3897bc7')\"\n",
              "              title=\"Convert this dataframe to an interactive table.\"\n",
              "              style=\"display:none;\">\n",
              "        \n",
              "  <svg xmlns=\"http://www.w3.org/2000/svg\" height=\"24px\"viewBox=\"0 0 24 24\"\n",
              "       width=\"24px\">\n",
              "    <path d=\"M0 0h24v24H0V0z\" fill=\"none\"/>\n",
              "    <path d=\"M18.56 5.44l.94 2.06.94-2.06 2.06-.94-2.06-.94-.94-2.06-.94 2.06-2.06.94zm-11 1L8.5 8.5l.94-2.06 2.06-.94-2.06-.94L8.5 2.5l-.94 2.06-2.06.94zm10 10l.94 2.06.94-2.06 2.06-.94-2.06-.94-.94-2.06-.94 2.06-2.06.94z\"/><path d=\"M17.41 7.96l-1.37-1.37c-.4-.4-.92-.59-1.43-.59-.52 0-1.04.2-1.43.59L10.3 9.45l-7.72 7.72c-.78.78-.78 2.05 0 2.83L4 21.41c.39.39.9.59 1.41.59.51 0 1.02-.2 1.41-.59l7.78-7.78 2.81-2.81c.8-.78.8-2.07 0-2.86zM5.41 20L4 18.59l7.72-7.72 1.47 1.35L5.41 20z\"/>\n",
              "  </svg>\n",
              "      </button>\n",
              "      \n",
              "  <style>\n",
              "    .colab-df-container {\n",
              "      display:flex;\n",
              "      flex-wrap:wrap;\n",
              "      gap: 12px;\n",
              "    }\n",
              "\n",
              "    .colab-df-convert {\n",
              "      background-color: #E8F0FE;\n",
              "      border: none;\n",
              "      border-radius: 50%;\n",
              "      cursor: pointer;\n",
              "      display: none;\n",
              "      fill: #1967D2;\n",
              "      height: 32px;\n",
              "      padding: 0 0 0 0;\n",
              "      width: 32px;\n",
              "    }\n",
              "\n",
              "    .colab-df-convert:hover {\n",
              "      background-color: #E2EBFA;\n",
              "      box-shadow: 0px 1px 2px rgba(60, 64, 67, 0.3), 0px 1px 3px 1px rgba(60, 64, 67, 0.15);\n",
              "      fill: #174EA6;\n",
              "    }\n",
              "\n",
              "    [theme=dark] .colab-df-convert {\n",
              "      background-color: #3B4455;\n",
              "      fill: #D2E3FC;\n",
              "    }\n",
              "\n",
              "    [theme=dark] .colab-df-convert:hover {\n",
              "      background-color: #434B5C;\n",
              "      box-shadow: 0px 1px 3px 1px rgba(0, 0, 0, 0.15);\n",
              "      filter: drop-shadow(0px 1px 2px rgba(0, 0, 0, 0.3));\n",
              "      fill: #FFFFFF;\n",
              "    }\n",
              "  </style>\n",
              "\n",
              "      <script>\n",
              "        const buttonEl =\n",
              "          document.querySelector('#df-829e7002-c0da-40ce-abe4-cd95b3897bc7 button.colab-df-convert');\n",
              "        buttonEl.style.display =\n",
              "          google.colab.kernel.accessAllowed ? 'block' : 'none';\n",
              "\n",
              "        async function convertToInteractive(key) {\n",
              "          const element = document.querySelector('#df-829e7002-c0da-40ce-abe4-cd95b3897bc7');\n",
              "          const dataTable =\n",
              "            await google.colab.kernel.invokeFunction('convertToInteractive',\n",
              "                                                     [key], {});\n",
              "          if (!dataTable) return;\n",
              "\n",
              "          const docLinkHtml = 'Like what you see? Visit the ' +\n",
              "            '<a target=\"_blank\" href=https://colab.research.google.com/notebooks/data_table.ipynb>data table notebook</a>'\n",
              "            + ' to learn more about interactive tables.';\n",
              "          element.innerHTML = '';\n",
              "          dataTable['output_type'] = 'display_data';\n",
              "          await google.colab.output.renderOutput(dataTable, element);\n",
              "          const docLink = document.createElement('div');\n",
              "          docLink.innerHTML = docLinkHtml;\n",
              "          element.appendChild(docLink);\n",
              "        }\n",
              "      </script>\n",
              "    </div>\n",
              "  </div>\n",
              "  "
            ]
          },
          "metadata": {},
          "execution_count": 59
        }
      ]
    },
    {
      "cell_type": "code",
      "source": [
        "# # Join the original test data, test_label and prediction data\n",
        "train = pd.read_csv('train.csv')\n",
        "train_label = pd.read_csv('train_label.csv', header = None)\n",
        "test = pd.read_csv('test.csv')\n",
        "test_label = pd.read_csv('test_label.csv', header = None)\n",
        "test['Total_booking'] = test_label[0]"
      ],
      "metadata": {
        "id": "YB-xmbEFyUW-",
        "papermill": {
          "duration": 0.201853,
          "end_time": "2021-03-28T12:36:06.558284",
          "exception": false,
          "start_time": "2021-03-28T12:36:06.356431",
          "status": "completed"
        },
        "tags": [],
        "execution": {
          "iopub.status.busy": "2023-03-07T12:29:49.337801Z",
          "iopub.execute_input": "2023-03-07T12:29:49.338403Z",
          "iopub.status.idle": "2023-03-07T12:29:49.374827Z",
          "shell.execute_reply.started": "2023-03-07T12:29:49.338362Z",
          "shell.execute_reply": "2023-03-07T12:29:49.373315Z"
        },
        "trusted": true
      },
      "execution_count": null,
      "outputs": []
    },
    {
      "cell_type": "code",
      "source": [
        "test.shape"
      ],
      "metadata": {
        "id": "yOUgmekBy6fu",
        "papermill": {
          "duration": 0.211612,
          "end_time": "2021-03-28T12:36:06.941028",
          "exception": false,
          "start_time": "2021-03-28T12:36:06.729416",
          "status": "completed"
        },
        "tags": [],
        "execution": {
          "iopub.status.busy": "2023-03-07T12:29:49.376519Z",
          "iopub.execute_input": "2023-03-07T12:29:49.376918Z",
          "iopub.status.idle": "2023-03-07T12:29:49.386705Z",
          "shell.execute_reply.started": "2023-03-07T12:29:49.376876Z",
          "shell.execute_reply": "2023-03-07T12:29:49.385244Z"
        },
        "trusted": true,
        "colab": {
          "base_uri": "https://localhost:8080/"
        },
        "outputId": "f1554c04-d43c-412f-f2e0-f499a0de3ad6"
      },
      "execution_count": null,
      "outputs": [
        {
          "output_type": "execute_result",
          "data": {
            "text/plain": [
              "(2178, 10)"
            ]
          },
          "metadata": {},
          "execution_count": 61
        }
      ]
    },
    {
      "cell_type": "code",
      "source": [
        "Final_test_data = test.join(Final_pred)\n",
        "Final_test_data"
      ],
      "metadata": {
        "id": "TpjkDwPQzRhA",
        "papermill": {
          "duration": 0.212252,
          "end_time": "2021-03-28T12:36:07.324841",
          "exception": false,
          "start_time": "2021-03-28T12:36:07.112589",
          "status": "completed"
        },
        "tags": [],
        "execution": {
          "iopub.status.busy": "2023-03-07T12:29:49.389048Z",
          "iopub.execute_input": "2023-03-07T12:29:49.390388Z",
          "iopub.status.idle": "2023-03-07T12:29:49.419993Z",
          "shell.execute_reply.started": "2023-03-07T12:29:49.390294Z",
          "shell.execute_reply": "2023-03-07T12:29:49.418451Z"
        },
        "trusted": true,
        "colab": {
          "base_uri": "https://localhost:8080/",
          "height": 411
        },
        "outputId": "63b68349-b373-4b97-da6d-230360cc384f"
      },
      "execution_count": null,
      "outputs": [
        {
          "output_type": "execute_result",
          "data": {
            "text/plain": [
              "              datetime  season  holiday  workingday                  weather  \\\n",
              "0      5/10/2012 11:00  Summer        0           1       Clear + Few clouds   \n",
              "1        6/9/2012 7:00  Summer        0           0       Clear + Few clouds   \n",
              "2       3/6/2011 20:00  Spring        0           0   Light Snow, Light Rain   \n",
              "3     10/13/2011 11:00  Winter        0           1           Mist + Cloudy    \n",
              "4       6/2/2012 12:00  Summer        0           0       Clear + Few clouds   \n",
              "...                ...     ...      ...         ...                      ...   \n",
              "2173     3/8/2012 3:00  Spring        0           1       Clear + Few clouds   \n",
              "2174   1/12/2012 12:00  Spring        0           1           Mist + Cloudy    \n",
              "2175    3/7/2012 22:00  Spring        0           1       Clear + Few clouds   \n",
              "2176    5/12/2011 5:00  Summer        0           1       Clear + Few clouds   \n",
              "2177   7/18/2012 16:00    Fall        0           1       Clear + Few clouds   \n",
              "\n",
              "       temp   atemp  humidity  windspeed  Total_booking  Predictions  \n",
              "0     21.32  25.000        48    35.0008            256   268.840833  \n",
              "1     23.78  27.275        64     7.0015             87   372.578333  \n",
              "2     11.48  12.120       100    27.9993             11    75.604167  \n",
              "3     25.42  28.790        83     0.0000             84   184.037500  \n",
              "4     25.42  31.060        43    23.9994            668   280.964824  \n",
              "...     ...     ...       ...        ...            ...          ...  \n",
              "2173  18.86  22.725        63    26.0027              3    19.440833  \n",
              "2174  13.94  17.425        81     7.0015            144   168.366667  \n",
              "2175  18.86  22.725        59    19.9995            159   138.510833  \n",
              "2176  17.22  21.210        94     8.9981             29    22.644167  \n",
              "2177  30.34  34.850        66    16.9979            224   349.590000  \n",
              "\n",
              "[2178 rows x 11 columns]"
            ],
            "text/html": [
              "\n",
              "  <div id=\"df-98d54456-1a6f-4b41-8e35-322fe5e68248\">\n",
              "    <div class=\"colab-df-container\">\n",
              "      <div>\n",
              "<style scoped>\n",
              "    .dataframe tbody tr th:only-of-type {\n",
              "        vertical-align: middle;\n",
              "    }\n",
              "\n",
              "    .dataframe tbody tr th {\n",
              "        vertical-align: top;\n",
              "    }\n",
              "\n",
              "    .dataframe thead th {\n",
              "        text-align: right;\n",
              "    }\n",
              "</style>\n",
              "<table border=\"1\" class=\"dataframe\">\n",
              "  <thead>\n",
              "    <tr style=\"text-align: right;\">\n",
              "      <th></th>\n",
              "      <th>datetime</th>\n",
              "      <th>season</th>\n",
              "      <th>holiday</th>\n",
              "      <th>workingday</th>\n",
              "      <th>weather</th>\n",
              "      <th>temp</th>\n",
              "      <th>atemp</th>\n",
              "      <th>humidity</th>\n",
              "      <th>windspeed</th>\n",
              "      <th>Total_booking</th>\n",
              "      <th>Predictions</th>\n",
              "    </tr>\n",
              "  </thead>\n",
              "  <tbody>\n",
              "    <tr>\n",
              "      <th>0</th>\n",
              "      <td>5/10/2012 11:00</td>\n",
              "      <td>Summer</td>\n",
              "      <td>0</td>\n",
              "      <td>1</td>\n",
              "      <td>Clear + Few clouds</td>\n",
              "      <td>21.32</td>\n",
              "      <td>25.000</td>\n",
              "      <td>48</td>\n",
              "      <td>35.0008</td>\n",
              "      <td>256</td>\n",
              "      <td>268.840833</td>\n",
              "    </tr>\n",
              "    <tr>\n",
              "      <th>1</th>\n",
              "      <td>6/9/2012 7:00</td>\n",
              "      <td>Summer</td>\n",
              "      <td>0</td>\n",
              "      <td>0</td>\n",
              "      <td>Clear + Few clouds</td>\n",
              "      <td>23.78</td>\n",
              "      <td>27.275</td>\n",
              "      <td>64</td>\n",
              "      <td>7.0015</td>\n",
              "      <td>87</td>\n",
              "      <td>372.578333</td>\n",
              "    </tr>\n",
              "    <tr>\n",
              "      <th>2</th>\n",
              "      <td>3/6/2011 20:00</td>\n",
              "      <td>Spring</td>\n",
              "      <td>0</td>\n",
              "      <td>0</td>\n",
              "      <td>Light Snow, Light Rain</td>\n",
              "      <td>11.48</td>\n",
              "      <td>12.120</td>\n",
              "      <td>100</td>\n",
              "      <td>27.9993</td>\n",
              "      <td>11</td>\n",
              "      <td>75.604167</td>\n",
              "    </tr>\n",
              "    <tr>\n",
              "      <th>3</th>\n",
              "      <td>10/13/2011 11:00</td>\n",
              "      <td>Winter</td>\n",
              "      <td>0</td>\n",
              "      <td>1</td>\n",
              "      <td>Mist + Cloudy</td>\n",
              "      <td>25.42</td>\n",
              "      <td>28.790</td>\n",
              "      <td>83</td>\n",
              "      <td>0.0000</td>\n",
              "      <td>84</td>\n",
              "      <td>184.037500</td>\n",
              "    </tr>\n",
              "    <tr>\n",
              "      <th>4</th>\n",
              "      <td>6/2/2012 12:00</td>\n",
              "      <td>Summer</td>\n",
              "      <td>0</td>\n",
              "      <td>0</td>\n",
              "      <td>Clear + Few clouds</td>\n",
              "      <td>25.42</td>\n",
              "      <td>31.060</td>\n",
              "      <td>43</td>\n",
              "      <td>23.9994</td>\n",
              "      <td>668</td>\n",
              "      <td>280.964824</td>\n",
              "    </tr>\n",
              "    <tr>\n",
              "      <th>...</th>\n",
              "      <td>...</td>\n",
              "      <td>...</td>\n",
              "      <td>...</td>\n",
              "      <td>...</td>\n",
              "      <td>...</td>\n",
              "      <td>...</td>\n",
              "      <td>...</td>\n",
              "      <td>...</td>\n",
              "      <td>...</td>\n",
              "      <td>...</td>\n",
              "      <td>...</td>\n",
              "    </tr>\n",
              "    <tr>\n",
              "      <th>2173</th>\n",
              "      <td>3/8/2012 3:00</td>\n",
              "      <td>Spring</td>\n",
              "      <td>0</td>\n",
              "      <td>1</td>\n",
              "      <td>Clear + Few clouds</td>\n",
              "      <td>18.86</td>\n",
              "      <td>22.725</td>\n",
              "      <td>63</td>\n",
              "      <td>26.0027</td>\n",
              "      <td>3</td>\n",
              "      <td>19.440833</td>\n",
              "    </tr>\n",
              "    <tr>\n",
              "      <th>2174</th>\n",
              "      <td>1/12/2012 12:00</td>\n",
              "      <td>Spring</td>\n",
              "      <td>0</td>\n",
              "      <td>1</td>\n",
              "      <td>Mist + Cloudy</td>\n",
              "      <td>13.94</td>\n",
              "      <td>17.425</td>\n",
              "      <td>81</td>\n",
              "      <td>7.0015</td>\n",
              "      <td>144</td>\n",
              "      <td>168.366667</td>\n",
              "    </tr>\n",
              "    <tr>\n",
              "      <th>2175</th>\n",
              "      <td>3/7/2012 22:00</td>\n",
              "      <td>Spring</td>\n",
              "      <td>0</td>\n",
              "      <td>1</td>\n",
              "      <td>Clear + Few clouds</td>\n",
              "      <td>18.86</td>\n",
              "      <td>22.725</td>\n",
              "      <td>59</td>\n",
              "      <td>19.9995</td>\n",
              "      <td>159</td>\n",
              "      <td>138.510833</td>\n",
              "    </tr>\n",
              "    <tr>\n",
              "      <th>2176</th>\n",
              "      <td>5/12/2011 5:00</td>\n",
              "      <td>Summer</td>\n",
              "      <td>0</td>\n",
              "      <td>1</td>\n",
              "      <td>Clear + Few clouds</td>\n",
              "      <td>17.22</td>\n",
              "      <td>21.210</td>\n",
              "      <td>94</td>\n",
              "      <td>8.9981</td>\n",
              "      <td>29</td>\n",
              "      <td>22.644167</td>\n",
              "    </tr>\n",
              "    <tr>\n",
              "      <th>2177</th>\n",
              "      <td>7/18/2012 16:00</td>\n",
              "      <td>Fall</td>\n",
              "      <td>0</td>\n",
              "      <td>1</td>\n",
              "      <td>Clear + Few clouds</td>\n",
              "      <td>30.34</td>\n",
              "      <td>34.850</td>\n",
              "      <td>66</td>\n",
              "      <td>16.9979</td>\n",
              "      <td>224</td>\n",
              "      <td>349.590000</td>\n",
              "    </tr>\n",
              "  </tbody>\n",
              "</table>\n",
              "<p>2178 rows × 11 columns</p>\n",
              "</div>\n",
              "      <button class=\"colab-df-convert\" onclick=\"convertToInteractive('df-98d54456-1a6f-4b41-8e35-322fe5e68248')\"\n",
              "              title=\"Convert this dataframe to an interactive table.\"\n",
              "              style=\"display:none;\">\n",
              "        \n",
              "  <svg xmlns=\"http://www.w3.org/2000/svg\" height=\"24px\"viewBox=\"0 0 24 24\"\n",
              "       width=\"24px\">\n",
              "    <path d=\"M0 0h24v24H0V0z\" fill=\"none\"/>\n",
              "    <path d=\"M18.56 5.44l.94 2.06.94-2.06 2.06-.94-2.06-.94-.94-2.06-.94 2.06-2.06.94zm-11 1L8.5 8.5l.94-2.06 2.06-.94-2.06-.94L8.5 2.5l-.94 2.06-2.06.94zm10 10l.94 2.06.94-2.06 2.06-.94-2.06-.94-.94-2.06-.94 2.06-2.06.94z\"/><path d=\"M17.41 7.96l-1.37-1.37c-.4-.4-.92-.59-1.43-.59-.52 0-1.04.2-1.43.59L10.3 9.45l-7.72 7.72c-.78.78-.78 2.05 0 2.83L4 21.41c.39.39.9.59 1.41.59.51 0 1.02-.2 1.41-.59l7.78-7.78 2.81-2.81c.8-.78.8-2.07 0-2.86zM5.41 20L4 18.59l7.72-7.72 1.47 1.35L5.41 20z\"/>\n",
              "  </svg>\n",
              "      </button>\n",
              "      \n",
              "  <style>\n",
              "    .colab-df-container {\n",
              "      display:flex;\n",
              "      flex-wrap:wrap;\n",
              "      gap: 12px;\n",
              "    }\n",
              "\n",
              "    .colab-df-convert {\n",
              "      background-color: #E8F0FE;\n",
              "      border: none;\n",
              "      border-radius: 50%;\n",
              "      cursor: pointer;\n",
              "      display: none;\n",
              "      fill: #1967D2;\n",
              "      height: 32px;\n",
              "      padding: 0 0 0 0;\n",
              "      width: 32px;\n",
              "    }\n",
              "\n",
              "    .colab-df-convert:hover {\n",
              "      background-color: #E2EBFA;\n",
              "      box-shadow: 0px 1px 2px rgba(60, 64, 67, 0.3), 0px 1px 3px 1px rgba(60, 64, 67, 0.15);\n",
              "      fill: #174EA6;\n",
              "    }\n",
              "\n",
              "    [theme=dark] .colab-df-convert {\n",
              "      background-color: #3B4455;\n",
              "      fill: #D2E3FC;\n",
              "    }\n",
              "\n",
              "    [theme=dark] .colab-df-convert:hover {\n",
              "      background-color: #434B5C;\n",
              "      box-shadow: 0px 1px 3px 1px rgba(0, 0, 0, 0.15);\n",
              "      filter: drop-shadow(0px 1px 2px rgba(0, 0, 0, 0.3));\n",
              "      fill: #FFFFFF;\n",
              "    }\n",
              "  </style>\n",
              "\n",
              "      <script>\n",
              "        const buttonEl =\n",
              "          document.querySelector('#df-98d54456-1a6f-4b41-8e35-322fe5e68248 button.colab-df-convert');\n",
              "        buttonEl.style.display =\n",
              "          google.colab.kernel.accessAllowed ? 'block' : 'none';\n",
              "\n",
              "        async function convertToInteractive(key) {\n",
              "          const element = document.querySelector('#df-98d54456-1a6f-4b41-8e35-322fe5e68248');\n",
              "          const dataTable =\n",
              "            await google.colab.kernel.invokeFunction('convertToInteractive',\n",
              "                                                     [key], {});\n",
              "          if (!dataTable) return;\n",
              "\n",
              "          const docLinkHtml = 'Like what you see? Visit the ' +\n",
              "            '<a target=\"_blank\" href=https://colab.research.google.com/notebooks/data_table.ipynb>data table notebook</a>'\n",
              "            + ' to learn more about interactive tables.';\n",
              "          element.innerHTML = '';\n",
              "          dataTable['output_type'] = 'display_data';\n",
              "          await google.colab.output.renderOutput(dataTable, element);\n",
              "          const docLink = document.createElement('div');\n",
              "          docLink.innerHTML = docLinkHtml;\n",
              "          element.appendChild(docLink);\n",
              "        }\n",
              "      </script>\n",
              "    </div>\n",
              "  </div>\n",
              "  "
            ]
          },
          "metadata": {},
          "execution_count": 62
        }
      ]
    },
    {
      "cell_type": "code",
      "source": [
        "Final_test_data['Predictions']"
      ],
      "metadata": {
        "execution": {
          "iopub.status.busy": "2023-03-07T12:29:49.422049Z",
          "iopub.execute_input": "2023-03-07T12:29:49.422561Z",
          "iopub.status.idle": "2023-03-07T12:29:49.437715Z",
          "shell.execute_reply.started": "2023-03-07T12:29:49.422518Z",
          "shell.execute_reply": "2023-03-07T12:29:49.436119Z"
        },
        "trusted": true,
        "id": "7IEQU5CfEQlI",
        "colab": {
          "base_uri": "https://localhost:8080/"
        },
        "outputId": "ff752eb3-a41f-4e84-e57d-be55f1956f59"
      },
      "execution_count": null,
      "outputs": [
        {
          "output_type": "execute_result",
          "data": {
            "text/plain": [
              "0       268.840833\n",
              "1       372.578333\n",
              "2        75.604167\n",
              "3       184.037500\n",
              "4       280.964824\n",
              "           ...    \n",
              "2173     19.440833\n",
              "2174    168.366667\n",
              "2175    138.510833\n",
              "2176     22.644167\n",
              "2177    349.590000\n",
              "Name: Predictions, Length: 2178, dtype: float64"
            ]
          },
          "metadata": {},
          "execution_count": 63
        }
      ]
    },
    {
      "cell_type": "markdown",
      "source": [
        "## Conclusion:\n",
        "The task included importing the required libraries as well as loading the training and testing datasets. The dataset was examined by inspecting the shape of the training and testing sets, printing the data types of each column, and looking for missing values. By constructing additional columns from the datetime column, coercing the datatype of certain columns to category, and removing the datetime column, feature engineering was achieved. Outlier analysis was carried out by drawing box plots across different characteristics and eliminating any outliers found in the sample. Data visualisation was done by showing the distribution of data, total booking versus various factors, and utilising histograms to depict all of the continuous variables available in the data. Categorical variables were combined into a single hot vector, and the dataset was divided between training and testing sections. A factor plot was provided to demonstrate the `RMSE` values obtained by various modelling techniques after different machine learning models were fitted. `GridSearchCV `was used to tune the best model's hyperparameters, and the best parameters were printed. Lastly, the test set was predicted, and the mean squared log error was produced to forecast taxi booking."
      ],
      "metadata": {
        "id": "yAyb0wAFEQlI"
      }
    }
  ]
}