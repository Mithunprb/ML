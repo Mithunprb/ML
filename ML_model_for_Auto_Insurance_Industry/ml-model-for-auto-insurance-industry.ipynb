{
 "cells": [
  {
   "cell_type": "markdown",
   "metadata": {
    "papermill": {
     "duration": 0.040824,
     "end_time": "2023-03-12T20:42:15.536433",
     "exception": false,
     "start_time": "2023-03-12T20:42:15.495609",
     "status": "completed"
    },
    "tags": []
   },
   "source": [
    "# ML Model for Auto Insurance Industry"
   ]
  },
  {
   "cell_type": "markdown",
   "metadata": {
    "papermill": {
     "duration": 0.040143,
     "end_time": "2023-03-12T20:42:15.615551",
     "exception": false,
     "start_time": "2023-03-12T20:42:15.575408",
     "status": "completed"
    },
    "tags": []
   },
   "source": [
    "The aim of the project is to build a Machine Learning Model to predict whether an owner will initiate an auto insurance claim in the next year.\n"
   ]
  },
  {
   "cell_type": "code",
   "execution_count": 1,
   "metadata": {
    "_cell_guid": "b1076dfc-b9ad-4769-8c92-a6c4dae69d19",
    "_uuid": "8f2839f25d086af736a60e9eeb907d3b93b6e0e5",
    "execution": {
     "iopub.execute_input": "2023-03-12T20:42:15.699949Z",
     "iopub.status.busy": "2023-03-12T20:42:15.699235Z",
     "iopub.status.idle": "2023-03-12T20:42:15.709504Z",
     "shell.execute_reply": "2023-03-12T20:42:15.707991Z",
     "shell.execute_reply.started": "2023-03-12T19:32:15.691086Z"
    },
    "papermill": {
     "duration": 0.055488,
     "end_time": "2023-03-12T20:42:15.709832",
     "exception": false,
     "start_time": "2023-03-12T20:42:15.654344",
     "status": "completed"
    },
    "tags": []
   },
   "outputs": [
    {
     "name": "stdout",
     "output_type": "stream",
     "text": [
      "/kaggle/input/train(1).csv\n"
     ]
    }
   ],
   "source": [
    "# This Python 3 environment comes with many helpful analytics libraries installed\n",
    "# It is defined by the kaggle/python Docker image: https://github.com/kaggle/docker-python\n",
    "# For example, here's several helpful packages to load\n",
    "\n",
    "import numpy as np # linear algebra\n",
    "import pandas as pd # data processing, CSV file I/O (e.g. pd.read_csv)\n",
    "\n",
    "# Input data files are available in the read-only \"../input/\" directory\n",
    "# For example, running this (by clicking run or pressing Shift+Enter) will list all files under the input directory\n",
    "\n",
    "import os\n",
    "for dirname, _, filenames in os.walk('/kaggle/input'):\n",
    "    for filename in filenames:\n",
    "        print(os.path.join(dirname, filename))\n",
    "\n",
    "# You can write up to 5GB to the current directory (/kaggle/working/) that gets preserved as output when you create a version using \"Save & Run All\" \n",
    "# You can also write temporary files to /kaggle/temp/, but they won't be saved outside of the current session"
   ]
  },
  {
   "cell_type": "code",
   "execution_count": 2,
   "metadata": {
    "_cell_guid": "79c7e3d0-c299-4dcb-8224-4455121ee9b0",
    "_uuid": "d629ff2d2480ee46fbb7e2d37f6b5fab8052498a",
    "execution": {
     "iopub.execute_input": "2023-03-12T20:42:15.793092Z",
     "iopub.status.busy": "2023-03-12T20:42:15.792288Z",
     "iopub.status.idle": "2023-03-12T20:42:18.437201Z",
     "shell.execute_reply": "2023-03-12T20:42:18.436271Z",
     "shell.execute_reply.started": "2023-03-12T19:32:15.702075Z"
    },
    "papermill": {
     "duration": 2.687577,
     "end_time": "2023-03-12T20:42:18.437374",
     "exception": false,
     "start_time": "2023-03-12T20:42:15.749797",
     "status": "completed"
    },
    "tags": []
   },
   "outputs": [],
   "source": [
    "import pandas as pd\n",
    "import numpy as np\n",
    "import plotly as py\n",
    "import plotly.graph_objs as go\n",
    "import matplotlib.pyplot as plt\n",
    "import xgboost as xgb\n",
    "import seaborn as sns\n",
    "import math\n",
    "import sklearn\n",
    "import statsmodels.api as sm \n",
    "\n",
    "from sklearn.linear_model import LogisticRegression\n",
    "from sklearn import svm\n",
    "from xgboost import XGBClassifier\n",
    "from sklearn.ensemble import RandomForestClassifier\n",
    "from sklearn.ensemble import AdaBoostClassifier\n",
    "from sklearn.neural_network import MLPClassifier\n",
    "from sklearn.metrics import confusion_matrix,mean_squared_error,accuracy_score, classification_report\n",
    "from sklearn.metrics import precision_score,recall_score,roc_auc_score,f1_score,cohen_kappa_score\n",
    "from sklearn.model_selection import train_test_split as tts\n",
    "from sklearn.utils import resample\n",
    "from sklearn.preprocessing import StandardScaler\n",
    "from IPython.display import Markdown, display\n",
    "from matplotlib.pyplot import xticks\n",
    "%matplotlib inline"
   ]
  },
  {
   "cell_type": "code",
   "execution_count": 3,
   "metadata": {
    "execution": {
     "iopub.execute_input": "2023-03-12T20:42:18.523657Z",
     "iopub.status.busy": "2023-03-12T20:42:18.522785Z",
     "iopub.status.idle": "2023-03-12T20:42:18.611737Z",
     "shell.execute_reply": "2023-03-12T20:42:18.612378Z",
     "shell.execute_reply.started": "2023-03-12T19:32:16.756704Z"
    },
    "papermill": {
     "duration": 0.135514,
     "end_time": "2023-03-12T20:42:18.612528",
     "exception": false,
     "start_time": "2023-03-12T20:42:18.477014",
     "status": "completed"
    },
    "tags": []
   },
   "outputs": [
    {
     "data": {
      "text/html": [
       "        <script type=\"text/javascript\">\n",
       "        window.PlotlyConfig = {MathJaxConfig: 'local'};\n",
       "        if (window.MathJax) {MathJax.Hub.Config({SVG: {font: \"STIX-Web\"}});}\n",
       "        if (typeof require !== 'undefined') {\n",
       "        require.undef(\"plotly\");\n",
       "        requirejs.config({\n",
       "            paths: {\n",
       "                'plotly': ['https://cdn.plot.ly/plotly-latest.min']\n",
       "            }\n",
       "        });\n",
       "        require(['plotly'], function(Plotly) {\n",
       "            window._Plotly = Plotly;\n",
       "        });\n",
       "        }\n",
       "        </script>\n",
       "        "
      ]
     },
     "metadata": {},
     "output_type": "display_data"
    }
   ],
   "source": [
    "sns.set_palette('cubehelix')\n",
    "pd.set_option('display.max_columns', 100)\n",
    "py.offline.init_notebook_mode(connected=True)\n",
    "pd.options.display.float_format = '{:20,.2f}'.format \n",
    "path_to_csv = '/kaggle/input/train(1).csv'"
   ]
  },
  {
   "cell_type": "code",
   "execution_count": 4,
   "metadata": {
    "execution": {
     "iopub.execute_input": "2023-03-12T20:42:18.695407Z",
     "iopub.status.busy": "2023-03-12T20:42:18.694559Z",
     "iopub.status.idle": "2023-03-12T20:42:18.720709Z",
     "shell.execute_reply": "2023-03-12T20:42:18.720125Z",
     "shell.execute_reply.started": "2023-03-12T19:32:16.831252Z"
    },
    "papermill": {
     "duration": 0.068857,
     "end_time": "2023-03-12T20:42:18.720845",
     "exception": false,
     "start_time": "2023-03-12T20:42:18.651988",
     "status": "completed"
    },
    "tags": []
   },
   "outputs": [],
   "source": [
    "def pairplot(x_axis,y_axis) :\n",
    "    sns.pairplot(car_df,x_vars=x_axis,y_vars=y_axis,height=4,aspect=1,kind=\"scatter\")\n",
    "    plt.show()\n",
    "\n",
    "def heatmap(x,y,dataframe):\n",
    "    plt.figure(figsize=(x,y))\n",
    "    sns.heatmap(dataframe.corr(),cmap=\"OrRd\",annot=True)\n",
    "    plt.show()\n",
    "\n",
    "def bar_count_plot(dataframe,col_name) :\n",
    "    plt.figure(figsize=(16,8))\n",
    "    plt.title(col_name + 'Histogram')\n",
    "    sns.countplot(dataframe[col_name], palette=(\"plasma\"))\n",
    "    xticks(rotation = 90)\n",
    "    plt.show()\n",
    "\n",
    "def accuracy_result(y_test, y_pred_test):\n",
    "    cm = sklearn.metrics.confusion_matrix(y_test, y_pred_test)\n",
    "    TP, TN = cm[1, 1], cm[0, 0]\n",
    "    FP, FN = cm[0, 1], cm[1, 0]\n",
    "    fpr = round(FP / (TN + FP), 3)\n",
    "    recall = round(sklearn.metrics.recall_score(y_test, y_pred_test), 3)\n",
    "    precision = round(sklearn.metrics.precision_score(y_test, y_pred_test), 3)\n",
    "    specificity = round(TN / (TN + FP), 3)\n",
    "    accuracy = round(sklearn.metrics.accuracy_score(y_test, y_pred_test), 3)\n",
    "    roc_auc = round(roc_auc_score(y_test, y_pred_test), 3)\n",
    "    cohen_kappa = round(cohen_kappa_score(y_test, y_pred_test), 3)\n",
    "    f1_score_ = round(f1_score(y_test, y_pred_test), 3)\n",
    "\n",
    "    print('\\n CONFUSION MATRIX:\\n ', cm, '\\n')\n",
    "    print('FPR: ', fpr)\n",
    "    print('TPR/ RECALL/ SENSTIVITY: ', recall)\n",
    "    print('PRECISION:' , precision)\n",
    "    print('SPECIFICITY: ', specificity)\n",
    "    print('ACCURACY: ', accuracy)\n",
    "    print('ROC AUC: ', roc_auc)\n",
    "    print('Cohens kappa: ', cohen_kappa)\n",
    "    print('F1 score: ', f1_score_)\n",
    "    print('\\n CLASSIFICATION REPORT: \\n', classification_report(y_test, y_pred_test))\n",
    "\n",
    "    \n",
    "def print_log(string):\n",
    "    display(Markdown(\"**<span style='color:green'>\"+string+\"</span>**\"))\n",
    "\n",
    "def header(string):\n",
    "    display(Markdown(\"+-+-+-+\"))\n",
    "    display(Markdown(\"### \"+string))\n",
    "\n",
    "def get_variable_type(element):\n",
    "    \"\"\"\n",
    "    Check if column is of continuous or categorical variable.\n",
    "    Assumes that if unique count < 20 then categorical, else continuous.\n",
    "    \"\"\"\n",
    "    if element == 0:\n",
    "        return \"Not Known\"\n",
    "    return \"Categorical\" if element < 20 else \"Continuous\"\n",
    "\n",
    "def predict_variable_type(metadata_matrix):\n",
    "    metadata_matrix[\"Variable_Type\"] = metadata_matrix[\"Unique_Values_Count\"].apply(get_variable_type).astype(str)\n",
    "    metadata_matrix[\"frequency\"] = metadata_matrix[\"Null_Count\"] - metadata_matrix[\"Null_Count\"]\n",
    "    metadata_matrix[\"frequency\"].astype(int)\n",
    "    return metadata_matrix \n",
    "\n",
    "def get_meta_data(dataframe):\n",
    "    \"\"\"\n",
    "     Method to get Meta-Data about any dataframe passed \n",
    "    \"\"\"\n",
    "    metadata_matrix = pd.DataFrame({\n",
    "        'Datatype': dataframe.dtypes.astype(str),  # data types of columns\n",
    "        'Non_Null_Count': dataframe.count(axis=0).astype(int),  # total elements in columns\n",
    "        'Null_Count': dataframe.isnull().sum().astype('Int64'),  # total null values in columns\n",
    "        'Null_Percentage': dataframe.isnull().sum() / len(dataframe) * 100,  # percentage of null values\n",
    "        'Unique_Values_Count': dataframe.nunique().astype(int)  # number of unique values\n",
    "    })\n",
    "\n",
    "    metadata_matrix = predict_variable_type(metadata_matrix)\n",
    "    return metadata_matrix\n",
    "\n",
    "\n",
    "def plot_data_pie_chat(dataframe,col):\n",
    "    header(\"Stats for \"+col+\" Datatype Percentage Distribution\")\n",
    "    dataframe_group = dataframe[col].value_counts().reset_index()\n",
    "    trace = go.Pie(labels=dataframe_group[col], values=dataframe_group[col].value_counts())\n",
    "    layout = go.Layout(title=\"Datatype Percentage Distribution\")\n",
    "    fig = go.Figure(data=[trace], layout=layout)    \n",
    "    py.offline.iplot(fig)"
   ]
  },
  {
   "cell_type": "code",
   "execution_count": 5,
   "metadata": {
    "execution": {
     "iopub.execute_input": "2023-03-12T20:42:18.806256Z",
     "iopub.status.busy": "2023-03-12T20:42:18.805545Z",
     "iopub.status.idle": "2023-03-12T20:42:22.840983Z",
     "shell.execute_reply": "2023-03-12T20:42:22.840222Z",
     "shell.execute_reply.started": "2023-03-12T19:32:16.859001Z"
    },
    "papermill": {
     "duration": 4.080869,
     "end_time": "2023-03-12T20:42:22.841123",
     "exception": false,
     "start_time": "2023-03-12T20:42:18.760254",
     "status": "completed"
    },
    "tags": []
   },
   "outputs": [
    {
     "data": {
      "text/html": [
       "<div>\n",
       "<style scoped>\n",
       "    .dataframe tbody tr th:only-of-type {\n",
       "        vertical-align: middle;\n",
       "    }\n",
       "\n",
       "    .dataframe tbody tr th {\n",
       "        vertical-align: top;\n",
       "    }\n",
       "\n",
       "    .dataframe thead th {\n",
       "        text-align: right;\n",
       "    }\n",
       "</style>\n",
       "<table border=\"1\" class=\"dataframe\">\n",
       "  <thead>\n",
       "    <tr style=\"text-align: right;\">\n",
       "      <th></th>\n",
       "      <th>id</th>\n",
       "      <th>target</th>\n",
       "      <th>ps_ind_01</th>\n",
       "      <th>ps_ind_02_cat</th>\n",
       "      <th>ps_ind_03</th>\n",
       "      <th>ps_ind_04_cat</th>\n",
       "      <th>ps_ind_05_cat</th>\n",
       "      <th>ps_ind_06_bin</th>\n",
       "      <th>ps_ind_07_bin</th>\n",
       "      <th>ps_ind_08_bin</th>\n",
       "      <th>ps_ind_09_bin</th>\n",
       "      <th>ps_ind_10_bin</th>\n",
       "      <th>ps_ind_11_bin</th>\n",
       "      <th>ps_ind_12_bin</th>\n",
       "      <th>ps_ind_13_bin</th>\n",
       "      <th>ps_ind_14</th>\n",
       "      <th>ps_ind_15</th>\n",
       "      <th>ps_ind_16_bin</th>\n",
       "      <th>ps_ind_17_bin</th>\n",
       "      <th>ps_ind_18_bin</th>\n",
       "      <th>ps_reg_01</th>\n",
       "      <th>ps_reg_02</th>\n",
       "      <th>ps_reg_03</th>\n",
       "      <th>ps_car_01_cat</th>\n",
       "      <th>ps_car_02_cat</th>\n",
       "      <th>ps_car_03_cat</th>\n",
       "      <th>ps_car_04_cat</th>\n",
       "      <th>ps_car_05_cat</th>\n",
       "      <th>ps_car_06_cat</th>\n",
       "      <th>ps_car_07_cat</th>\n",
       "      <th>ps_car_08_cat</th>\n",
       "      <th>ps_car_09_cat</th>\n",
       "      <th>ps_car_10_cat</th>\n",
       "      <th>ps_car_11_cat</th>\n",
       "      <th>ps_car_11</th>\n",
       "      <th>ps_car_12</th>\n",
       "      <th>ps_car_13</th>\n",
       "      <th>ps_car_14</th>\n",
       "      <th>ps_car_15</th>\n",
       "      <th>ps_calc_01</th>\n",
       "      <th>ps_calc_02</th>\n",
       "      <th>ps_calc_03</th>\n",
       "      <th>ps_calc_04</th>\n",
       "      <th>ps_calc_05</th>\n",
       "      <th>ps_calc_06</th>\n",
       "      <th>ps_calc_07</th>\n",
       "      <th>ps_calc_08</th>\n",
       "      <th>ps_calc_09</th>\n",
       "      <th>ps_calc_10</th>\n",
       "      <th>ps_calc_11</th>\n",
       "      <th>ps_calc_12</th>\n",
       "      <th>ps_calc_13</th>\n",
       "      <th>ps_calc_14</th>\n",
       "      <th>ps_calc_15_bin</th>\n",
       "      <th>ps_calc_16_bin</th>\n",
       "      <th>ps_calc_17_bin</th>\n",
       "      <th>ps_calc_18_bin</th>\n",
       "      <th>ps_calc_19_bin</th>\n",
       "      <th>ps_calc_20_bin</th>\n",
       "    </tr>\n",
       "  </thead>\n",
       "  <tbody>\n",
       "    <tr>\n",
       "      <th>525007</th>\n",
       "      <td>1311843</td>\n",
       "      <td>0</td>\n",
       "      <td>1</td>\n",
       "      <td>1</td>\n",
       "      <td>2</td>\n",
       "      <td>0</td>\n",
       "      <td>0</td>\n",
       "      <td>0</td>\n",
       "      <td>0</td>\n",
       "      <td>1</td>\n",
       "      <td>0</td>\n",
       "      <td>0</td>\n",
       "      <td>0</td>\n",
       "      <td>0</td>\n",
       "      <td>0</td>\n",
       "      <td>0</td>\n",
       "      <td>0</td>\n",
       "      <td>0</td>\n",
       "      <td>0</td>\n",
       "      <td>1</td>\n",
       "      <td>0.10</td>\n",
       "      <td>0.20</td>\n",
       "      <td>-1.00</td>\n",
       "      <td>11</td>\n",
       "      <td>1</td>\n",
       "      <td>-1</td>\n",
       "      <td>0</td>\n",
       "      <td>-1</td>\n",
       "      <td>1</td>\n",
       "      <td>1</td>\n",
       "      <td>1</td>\n",
       "      <td>2</td>\n",
       "      <td>1</td>\n",
       "      <td>40</td>\n",
       "      <td>2</td>\n",
       "      <td>0.36</td>\n",
       "      <td>0.65</td>\n",
       "      <td>0.43</td>\n",
       "      <td>2.24</td>\n",
       "      <td>0.30</td>\n",
       "      <td>0.50</td>\n",
       "      <td>0.10</td>\n",
       "      <td>1</td>\n",
       "      <td>2</td>\n",
       "      <td>9</td>\n",
       "      <td>2</td>\n",
       "      <td>9</td>\n",
       "      <td>3</td>\n",
       "      <td>9</td>\n",
       "      <td>11</td>\n",
       "      <td>2</td>\n",
       "      <td>2</td>\n",
       "      <td>8</td>\n",
       "      <td>0</td>\n",
       "      <td>1</td>\n",
       "      <td>1</td>\n",
       "      <td>1</td>\n",
       "      <td>1</td>\n",
       "      <td>0</td>\n",
       "    </tr>\n",
       "    <tr>\n",
       "      <th>416929</th>\n",
       "      <td>1042182</td>\n",
       "      <td>0</td>\n",
       "      <td>2</td>\n",
       "      <td>1</td>\n",
       "      <td>1</td>\n",
       "      <td>0</td>\n",
       "      <td>0</td>\n",
       "      <td>0</td>\n",
       "      <td>0</td>\n",
       "      <td>1</td>\n",
       "      <td>0</td>\n",
       "      <td>0</td>\n",
       "      <td>0</td>\n",
       "      <td>0</td>\n",
       "      <td>0</td>\n",
       "      <td>0</td>\n",
       "      <td>7</td>\n",
       "      <td>1</td>\n",
       "      <td>0</td>\n",
       "      <td>0</td>\n",
       "      <td>0.80</td>\n",
       "      <td>0.20</td>\n",
       "      <td>0.44</td>\n",
       "      <td>7</td>\n",
       "      <td>1</td>\n",
       "      <td>1</td>\n",
       "      <td>0</td>\n",
       "      <td>1</td>\n",
       "      <td>10</td>\n",
       "      <td>1</td>\n",
       "      <td>1</td>\n",
       "      <td>2</td>\n",
       "      <td>1</td>\n",
       "      <td>89</td>\n",
       "      <td>2</td>\n",
       "      <td>0.39</td>\n",
       "      <td>0.89</td>\n",
       "      <td>0.34</td>\n",
       "      <td>3.16</td>\n",
       "      <td>0.00</td>\n",
       "      <td>0.10</td>\n",
       "      <td>0.30</td>\n",
       "      <td>4</td>\n",
       "      <td>2</td>\n",
       "      <td>6</td>\n",
       "      <td>2</td>\n",
       "      <td>8</td>\n",
       "      <td>1</td>\n",
       "      <td>14</td>\n",
       "      <td>5</td>\n",
       "      <td>1</td>\n",
       "      <td>1</td>\n",
       "      <td>5</td>\n",
       "      <td>0</td>\n",
       "      <td>1</td>\n",
       "      <td>1</td>\n",
       "      <td>0</td>\n",
       "      <td>0</td>\n",
       "      <td>0</td>\n",
       "    </tr>\n",
       "    <tr>\n",
       "      <th>371601</th>\n",
       "      <td>928809</td>\n",
       "      <td>0</td>\n",
       "      <td>0</td>\n",
       "      <td>1</td>\n",
       "      <td>2</td>\n",
       "      <td>1</td>\n",
       "      <td>0</td>\n",
       "      <td>0</td>\n",
       "      <td>1</td>\n",
       "      <td>0</td>\n",
       "      <td>0</td>\n",
       "      <td>0</td>\n",
       "      <td>0</td>\n",
       "      <td>0</td>\n",
       "      <td>0</td>\n",
       "      <td>0</td>\n",
       "      <td>4</td>\n",
       "      <td>0</td>\n",
       "      <td>0</td>\n",
       "      <td>1</td>\n",
       "      <td>0.70</td>\n",
       "      <td>0.60</td>\n",
       "      <td>1.18</td>\n",
       "      <td>11</td>\n",
       "      <td>0</td>\n",
       "      <td>0</td>\n",
       "      <td>8</td>\n",
       "      <td>1</td>\n",
       "      <td>4</td>\n",
       "      <td>1</td>\n",
       "      <td>0</td>\n",
       "      <td>2</td>\n",
       "      <td>1</td>\n",
       "      <td>6</td>\n",
       "      <td>3</td>\n",
       "      <td>0.45</td>\n",
       "      <td>1.16</td>\n",
       "      <td>0.36</td>\n",
       "      <td>3.74</td>\n",
       "      <td>0.20</td>\n",
       "      <td>0.20</td>\n",
       "      <td>0.40</td>\n",
       "      <td>0</td>\n",
       "      <td>3</td>\n",
       "      <td>6</td>\n",
       "      <td>5</td>\n",
       "      <td>9</td>\n",
       "      <td>4</td>\n",
       "      <td>11</td>\n",
       "      <td>9</td>\n",
       "      <td>5</td>\n",
       "      <td>0</td>\n",
       "      <td>3</td>\n",
       "      <td>0</td>\n",
       "      <td>1</td>\n",
       "      <td>0</td>\n",
       "      <td>0</td>\n",
       "      <td>0</td>\n",
       "      <td>0</td>\n",
       "    </tr>\n",
       "    <tr>\n",
       "      <th>36773</th>\n",
       "      <td>92134</td>\n",
       "      <td>0</td>\n",
       "      <td>3</td>\n",
       "      <td>1</td>\n",
       "      <td>4</td>\n",
       "      <td>1</td>\n",
       "      <td>0</td>\n",
       "      <td>0</td>\n",
       "      <td>0</td>\n",
       "      <td>0</td>\n",
       "      <td>1</td>\n",
       "      <td>0</td>\n",
       "      <td>0</td>\n",
       "      <td>0</td>\n",
       "      <td>0</td>\n",
       "      <td>0</td>\n",
       "      <td>4</td>\n",
       "      <td>1</td>\n",
       "      <td>0</td>\n",
       "      <td>0</td>\n",
       "      <td>0.60</td>\n",
       "      <td>0.20</td>\n",
       "      <td>-1.00</td>\n",
       "      <td>6</td>\n",
       "      <td>1</td>\n",
       "      <td>-1</td>\n",
       "      <td>0</td>\n",
       "      <td>1</td>\n",
       "      <td>0</td>\n",
       "      <td>1</td>\n",
       "      <td>1</td>\n",
       "      <td>0</td>\n",
       "      <td>1</td>\n",
       "      <td>62</td>\n",
       "      <td>3</td>\n",
       "      <td>0.40</td>\n",
       "      <td>0.83</td>\n",
       "      <td>0.38</td>\n",
       "      <td>3.16</td>\n",
       "      <td>0.00</td>\n",
       "      <td>0.60</td>\n",
       "      <td>0.70</td>\n",
       "      <td>3</td>\n",
       "      <td>0</td>\n",
       "      <td>9</td>\n",
       "      <td>5</td>\n",
       "      <td>7</td>\n",
       "      <td>1</td>\n",
       "      <td>10</td>\n",
       "      <td>7</td>\n",
       "      <td>5</td>\n",
       "      <td>3</td>\n",
       "      <td>0</td>\n",
       "      <td>0</td>\n",
       "      <td>1</td>\n",
       "      <td>0</td>\n",
       "      <td>1</td>\n",
       "      <td>1</td>\n",
       "      <td>0</td>\n",
       "    </tr>\n",
       "    <tr>\n",
       "      <th>415498</th>\n",
       "      <td>1038592</td>\n",
       "      <td>0</td>\n",
       "      <td>2</td>\n",
       "      <td>1</td>\n",
       "      <td>8</td>\n",
       "      <td>0</td>\n",
       "      <td>1</td>\n",
       "      <td>1</td>\n",
       "      <td>0</td>\n",
       "      <td>0</td>\n",
       "      <td>0</td>\n",
       "      <td>0</td>\n",
       "      <td>0</td>\n",
       "      <td>0</td>\n",
       "      <td>0</td>\n",
       "      <td>0</td>\n",
       "      <td>9</td>\n",
       "      <td>1</td>\n",
       "      <td>0</td>\n",
       "      <td>0</td>\n",
       "      <td>0.90</td>\n",
       "      <td>0.40</td>\n",
       "      <td>0.77</td>\n",
       "      <td>11</td>\n",
       "      <td>1</td>\n",
       "      <td>-1</td>\n",
       "      <td>0</td>\n",
       "      <td>-1</td>\n",
       "      <td>14</td>\n",
       "      <td>1</td>\n",
       "      <td>1</td>\n",
       "      <td>2</td>\n",
       "      <td>1</td>\n",
       "      <td>42</td>\n",
       "      <td>2</td>\n",
       "      <td>0.40</td>\n",
       "      <td>0.65</td>\n",
       "      <td>0.39</td>\n",
       "      <td>2.45</td>\n",
       "      <td>0.70</td>\n",
       "      <td>0.50</td>\n",
       "      <td>0.40</td>\n",
       "      <td>2</td>\n",
       "      <td>2</td>\n",
       "      <td>7</td>\n",
       "      <td>5</td>\n",
       "      <td>8</td>\n",
       "      <td>3</td>\n",
       "      <td>7</td>\n",
       "      <td>2</td>\n",
       "      <td>2</td>\n",
       "      <td>1</td>\n",
       "      <td>11</td>\n",
       "      <td>1</td>\n",
       "      <td>0</td>\n",
       "      <td>1</td>\n",
       "      <td>0</td>\n",
       "      <td>0</td>\n",
       "      <td>0</td>\n",
       "    </tr>\n",
       "  </tbody>\n",
       "</table>\n",
       "</div>"
      ],
      "text/plain": [
       "             id  target  ps_ind_01  ps_ind_02_cat  ps_ind_03  ps_ind_04_cat  \\\n",
       "525007  1311843       0          1              1          2              0   \n",
       "416929  1042182       0          2              1          1              0   \n",
       "371601   928809       0          0              1          2              1   \n",
       "36773     92134       0          3              1          4              1   \n",
       "415498  1038592       0          2              1          8              0   \n",
       "\n",
       "        ps_ind_05_cat  ps_ind_06_bin  ps_ind_07_bin  ps_ind_08_bin  \\\n",
       "525007              0              0              0              1   \n",
       "416929              0              0              0              1   \n",
       "371601              0              0              1              0   \n",
       "36773               0              0              0              0   \n",
       "415498              1              1              0              0   \n",
       "\n",
       "        ps_ind_09_bin  ps_ind_10_bin  ps_ind_11_bin  ps_ind_12_bin  \\\n",
       "525007              0              0              0              0   \n",
       "416929              0              0              0              0   \n",
       "371601              0              0              0              0   \n",
       "36773               1              0              0              0   \n",
       "415498              0              0              0              0   \n",
       "\n",
       "        ps_ind_13_bin  ps_ind_14  ps_ind_15  ps_ind_16_bin  ps_ind_17_bin  \\\n",
       "525007              0          0          0              0              0   \n",
       "416929              0          0          7              1              0   \n",
       "371601              0          0          4              0              0   \n",
       "36773               0          0          4              1              0   \n",
       "415498              0          0          9              1              0   \n",
       "\n",
       "        ps_ind_18_bin            ps_reg_01            ps_reg_02  \\\n",
       "525007              1                 0.10                 0.20   \n",
       "416929              0                 0.80                 0.20   \n",
       "371601              1                 0.70                 0.60   \n",
       "36773               0                 0.60                 0.20   \n",
       "415498              0                 0.90                 0.40   \n",
       "\n",
       "                  ps_reg_03  ps_car_01_cat  ps_car_02_cat  ps_car_03_cat  \\\n",
       "525007                -1.00             11              1             -1   \n",
       "416929                 0.44              7              1              1   \n",
       "371601                 1.18             11              0              0   \n",
       "36773                 -1.00              6              1             -1   \n",
       "415498                 0.77             11              1             -1   \n",
       "\n",
       "        ps_car_04_cat  ps_car_05_cat  ps_car_06_cat  ps_car_07_cat  \\\n",
       "525007              0             -1              1              1   \n",
       "416929              0              1             10              1   \n",
       "371601              8              1              4              1   \n",
       "36773               0              1              0              1   \n",
       "415498              0             -1             14              1   \n",
       "\n",
       "        ps_car_08_cat  ps_car_09_cat  ps_car_10_cat  ps_car_11_cat  ps_car_11  \\\n",
       "525007              1              2              1             40          2   \n",
       "416929              1              2              1             89          2   \n",
       "371601              0              2              1              6          3   \n",
       "36773               1              0              1             62          3   \n",
       "415498              1              2              1             42          2   \n",
       "\n",
       "                  ps_car_12            ps_car_13            ps_car_14  \\\n",
       "525007                 0.36                 0.65                 0.43   \n",
       "416929                 0.39                 0.89                 0.34   \n",
       "371601                 0.45                 1.16                 0.36   \n",
       "36773                  0.40                 0.83                 0.38   \n",
       "415498                 0.40                 0.65                 0.39   \n",
       "\n",
       "                  ps_car_15           ps_calc_01           ps_calc_02  \\\n",
       "525007                 2.24                 0.30                 0.50   \n",
       "416929                 3.16                 0.00                 0.10   \n",
       "371601                 3.74                 0.20                 0.20   \n",
       "36773                  3.16                 0.00                 0.60   \n",
       "415498                 2.45                 0.70                 0.50   \n",
       "\n",
       "                 ps_calc_03  ps_calc_04  ps_calc_05  ps_calc_06  ps_calc_07  \\\n",
       "525007                 0.10           1           2           9           2   \n",
       "416929                 0.30           4           2           6           2   \n",
       "371601                 0.40           0           3           6           5   \n",
       "36773                  0.70           3           0           9           5   \n",
       "415498                 0.40           2           2           7           5   \n",
       "\n",
       "        ps_calc_08  ps_calc_09  ps_calc_10  ps_calc_11  ps_calc_12  \\\n",
       "525007           9           3           9          11           2   \n",
       "416929           8           1          14           5           1   \n",
       "371601           9           4          11           9           5   \n",
       "36773            7           1          10           7           5   \n",
       "415498           8           3           7           2           2   \n",
       "\n",
       "        ps_calc_13  ps_calc_14  ps_calc_15_bin  ps_calc_16_bin  \\\n",
       "525007           2           8               0               1   \n",
       "416929           1           5               0               1   \n",
       "371601           0           3               0               1   \n",
       "36773            3           0               0               1   \n",
       "415498           1          11               1               0   \n",
       "\n",
       "        ps_calc_17_bin  ps_calc_18_bin  ps_calc_19_bin  ps_calc_20_bin  \n",
       "525007               1               1               1               0  \n",
       "416929               1               0               0               0  \n",
       "371601               0               0               0               0  \n",
       "36773                0               1               1               0  \n",
       "415498               1               0               0               0  "
      ]
     },
     "execution_count": 5,
     "metadata": {},
     "output_type": "execute_result"
    }
   ],
   "source": [
    "df = pd.read_csv(path_to_csv)\n",
    "df1= df.copy()\n",
    "df.sample(n=5)"
   ]
  },
  {
   "cell_type": "code",
   "execution_count": 6,
   "metadata": {
    "execution": {
     "iopub.execute_input": "2023-03-12T20:42:22.928648Z",
     "iopub.status.busy": "2023-03-12T20:42:22.927625Z",
     "iopub.status.idle": "2023-03-12T20:42:35.084346Z",
     "shell.execute_reply": "2023-03-12T20:42:35.083743Z"
    },
    "papermill": {
     "duration": 12.202501,
     "end_time": "2023-03-12T20:42:35.084471",
     "exception": false,
     "start_time": "2023-03-12T20:42:22.881970",
     "status": "completed"
    },
    "tags": []
   },
   "outputs": [],
   "source": [
    "df.to_csv('train.csv', encoding='utf-8', index=False)"
   ]
  },
  {
   "cell_type": "code",
   "execution_count": 7,
   "metadata": {
    "execution": {
     "iopub.execute_input": "2023-03-12T20:42:35.211983Z",
     "iopub.status.busy": "2023-03-12T20:42:35.211224Z",
     "iopub.status.idle": "2023-03-12T20:42:35.910197Z",
     "shell.execute_reply": "2023-03-12T20:42:35.909575Z",
     "shell.execute_reply.started": "2023-03-12T19:32:18.656652Z"
    },
    "papermill": {
     "duration": 0.784467,
     "end_time": "2023-03-12T20:42:35.910327",
     "exception": false,
     "start_time": "2023-03-12T20:42:35.125860",
     "status": "completed"
    },
    "tags": []
   },
   "outputs": [],
   "source": [
    "temp = df[:200000]\n",
    "_X = temp.drop(['id','target'],axis =1)\n",
    "_y = temp.target\n",
    "meta_matrix_df = get_meta_data(df)\n",
    "meta_matrix_df[\"dt_name\"] =[ i.split(\"_\")[-1] for i in meta_matrix_df.index.values]\n",
    "meta_matrix_df['dt_name'] = meta_matrix_df['dt_name'].apply(lambda x : \"interval\" if str(x).isnumeric() else x)"
   ]
  },
  {
   "cell_type": "code",
   "execution_count": 8,
   "metadata": {
    "execution": {
     "iopub.execute_input": "2023-03-12T20:42:36.006772Z",
     "iopub.status.busy": "2023-03-12T20:42:36.006039Z",
     "iopub.status.idle": "2023-03-12T20:42:36.008326Z",
     "shell.execute_reply": "2023-03-12T20:42:36.008933Z",
     "shell.execute_reply.started": "2023-03-12T19:32:19.145417Z"
    },
    "papermill": {
     "duration": 0.057996,
     "end_time": "2023-03-12T20:42:36.009087",
     "exception": false,
     "start_time": "2023-03-12T20:42:35.951091",
     "status": "completed"
    },
    "tags": []
   },
   "outputs": [],
   "source": [
    "Dtype = meta_matrix_df.groupby(['dt_name'])\n",
    "\n",
    "interval_feature =Dtype.get_group(\"interval\").index.tolist()\n",
    "bin_feature = Dtype.get_group(\"bin\").index.tolist()\n",
    "cat_feature = Dtype.get_group(\"cat\").index.tolist()"
   ]
  },
  {
   "cell_type": "markdown",
   "metadata": {
    "papermill": {
     "duration": 0.040464,
     "end_time": "2023-03-12T20:42:36.092344",
     "exception": false,
     "start_time": "2023-03-12T20:42:36.051880",
     "status": "completed"
    },
    "tags": []
   },
   "source": [
    "#### 1. Write at least 3 important inferences from the data above\n",
    "\n",
    "**Ans.:**\n",
    "\n",
    "\n",
    "1. The data is very uneven, and the desired distribution is:\n",
    "\n",
    "    $0 = 96.36 %$\n",
    "    \n",
    "    $1 = 3.64 %$\n",
    "    \n",
    "2. data have vaiable type:\n",
    "\n",
    "    $ Interval = 45.6$\n",
    "    \n",
    "    $ Binary = 29.8$\n",
    "    \n",
    "    $ Categorical = 24.6$\n",
    "\n",
    "3. The vast majority of the characteristics have no correlation.\n",
    "    "
   ]
  },
  {
   "cell_type": "markdown",
   "metadata": {
    "papermill": {
     "duration": 0.040261,
     "end_time": "2023-03-12T20:42:36.175152",
     "exception": false,
     "start_time": "2023-03-12T20:42:36.134891",
     "status": "completed"
    },
    "tags": []
   },
   "source": [
    "#### 2. Is the data balanced? Meaning are targets 0 and 1 in the right proportion?\n",
    "\n",
    "***Ans: No, data not balanced. I will show you below.***"
   ]
  },
  {
   "cell_type": "code",
   "execution_count": 9,
   "metadata": {
    "execution": {
     "iopub.execute_input": "2023-03-12T20:42:36.261107Z",
     "iopub.status.busy": "2023-03-12T20:42:36.260319Z",
     "iopub.status.idle": "2023-03-12T20:42:36.444985Z",
     "shell.execute_reply": "2023-03-12T20:42:36.445520Z",
     "shell.execute_reply.started": "2023-03-12T19:32:19.157520Z"
    },
    "papermill": {
     "duration": 0.229934,
     "end_time": "2023-03-12T20:42:36.445699",
     "exception": false,
     "start_time": "2023-03-12T20:42:36.215765",
     "status": "completed"
    },
    "tags": []
   },
   "outputs": [
    {
     "name": "stdout",
     "output_type": "stream",
     "text": [
      "Percentge distribution of class '1' & class '0':\n",
      "\n",
      " 0                  96.36\n",
      "1                   3.64\n",
      "Name: target, dtype: float64\n"
     ]
    },
    {
     "data": {
      "image/png": "[encoded data removed]",
      "text/plain": [
       "<Figure size 432x288 with 1 Axes>"
      ]
     },
     "metadata": {
      "needs_background": "light"
     },
     "output_type": "display_data"
    }
   ],
   "source": [
    "perc = (df['target'].value_counts()/(df.shape[0]))*100\n",
    "print(\"Percentge distribution of class '1' & class '0':\\n\\n\",perc)\n",
    "perc.plot.bar();"
   ]
  },
  {
   "cell_type": "markdown",
   "metadata": {
    "papermill": {
     "duration": 0.041092,
     "end_time": "2023-03-12T20:42:36.529356",
     "exception": false,
     "start_time": "2023-03-12T20:42:36.488264",
     "status": "completed"
    },
    "tags": []
   },
   "source": [
    "#### 3. How many categorical features are there?"
   ]
  },
  {
   "cell_type": "code",
   "execution_count": 10,
   "metadata": {
    "execution": {
     "iopub.execute_input": "2023-03-12T20:42:36.620790Z",
     "iopub.status.busy": "2023-03-12T20:42:36.619051Z",
     "iopub.status.idle": "2023-03-12T20:42:36.625928Z",
     "shell.execute_reply": "2023-03-12T20:42:36.625404Z",
     "shell.execute_reply.started": "2023-03-12T19:32:19.291026Z"
    },
    "papermill": {
     "duration": 0.05535,
     "end_time": "2023-03-12T20:42:36.626053",
     "exception": false,
     "start_time": "2023-03-12T20:42:36.570703",
     "status": "completed"
    },
    "tags": []
   },
   "outputs": [
    {
     "name": "stdout",
     "output_type": "stream",
     "text": [
      "categorical features count: 50\n"
     ]
    }
   ],
   "source": [
    "group_variable_type = meta_matrix_df.groupby('Variable_Type')\n",
    "print(\"categorical features count:\",group_variable_type.get_group('Categorical').shape[0])"
   ]
  },
  {
   "cell_type": "markdown",
   "metadata": {
    "papermill": {
     "duration": 0.04182,
     "end_time": "2023-03-12T20:42:36.709478",
     "exception": false,
     "start_time": "2023-03-12T20:42:36.667658",
     "status": "completed"
    },
    "tags": []
   },
   "source": [
    "#### 4. How many binary features are there? "
   ]
  },
  {
   "cell_type": "code",
   "execution_count": 11,
   "metadata": {
    "execution": {
     "iopub.execute_input": "2023-03-12T20:42:36.801701Z",
     "iopub.status.busy": "2023-03-12T20:42:36.800767Z",
     "iopub.status.idle": "2023-03-12T20:42:36.804860Z",
     "shell.execute_reply": "2023-03-12T20:42:36.804236Z",
     "shell.execute_reply.started": "2023-03-12T19:32:19.302627Z"
    },
    "papermill": {
     "duration": 0.053833,
     "end_time": "2023-03-12T20:42:36.804990",
     "exception": false,
     "start_time": "2023-03-12T20:42:36.751157",
     "status": "completed"
    },
    "tags": []
   },
   "outputs": [
    {
     "name": "stdout",
     "output_type": "stream",
     "text": [
      "binary features count: 50\n"
     ]
    }
   ],
   "source": [
    "total_variables = meta_matrix_df.shape[0]\n",
    "continuous_variables = (meta_matrix_df['Variable_Type'] == 'Continuous').sum()\n",
    "binary_variables = total_variables - continuous_variables\n",
    "\n",
    "print(\"binary features count:\", binary_variables)"
   ]
  },
  {
   "cell_type": "markdown",
   "metadata": {
    "papermill": {
     "duration": 0.041957,
     "end_time": "2023-03-12T20:42:36.889232",
     "exception": false,
     "start_time": "2023-03-12T20:42:36.847275",
     "status": "completed"
    },
    "tags": []
   },
   "source": [
    "#### 5. Write inferences from data on interval variables\n",
    "\n",
    "***Ans: Looking at the plot, we can see that almost all of the characteristics are independent of one another. Just three of the features have correlations that are close to 0.5.***"
   ]
  },
  {
   "cell_type": "code",
   "execution_count": 12,
   "metadata": {
    "execution": {
     "iopub.execute_input": "2023-03-12T20:42:37.025790Z",
     "iopub.status.busy": "2023-03-12T20:42:37.024286Z",
     "iopub.status.idle": "2023-03-12T20:42:38.663500Z",
     "shell.execute_reply": "2023-03-12T20:42:38.662494Z",
     "shell.execute_reply.started": "2023-03-12T19:32:19.317104Z"
    },
    "papermill": {
     "duration": 1.732518,
     "end_time": "2023-03-12T20:42:38.663630",
     "exception": false,
     "start_time": "2023-03-12T20:42:36.931112",
     "status": "completed"
    },
    "tags": []
   },
   "outputs": [
    {
     "data": {
      "image/png": "[encoded data removed]",
      "text/plain": [
       "<Figure size 864x720 with 2 Axes>"
      ]
     },
     "metadata": {
      "needs_background": "light"
     },
     "output_type": "display_data"
    }
   ],
   "source": [
    "temp = df[interval_feature].corr()\n",
    "temp = temp[(temp>=0.5) | (temp<=-0.5)].fillna(0)\n",
    "fig, ax = plt.subplots(figsize=(12,10))\n",
    "sns.heatmap(temp,linewidths=.5, cmap=\"YlGnBu\",ax=ax)\n",
    "plt.show()"
   ]
  },
  {
   "cell_type": "code",
   "execution_count": 13,
   "metadata": {
    "execution": {
     "iopub.execute_input": "2023-03-12T20:42:38.757871Z",
     "iopub.status.busy": "2023-03-12T20:42:38.756793Z",
     "iopub.status.idle": "2023-03-12T20:42:38.762444Z",
     "shell.execute_reply": "2023-03-12T20:42:38.762966Z",
     "shell.execute_reply.started": "2023-03-12T19:32:20.409902Z"
    },
    "papermill": {
     "duration": 0.053672,
     "end_time": "2023-03-12T20:42:38.763122",
     "exception": false,
     "start_time": "2023-03-12T20:42:38.709450",
     "status": "completed"
    },
    "tags": []
   },
   "outputs": [
    {
     "data": {
      "text/markdown": [
       "**<span style='color:green'>Analysis :Looking at the plot, we can see that almost all of the characteristics are independent of one another. Just three of the features have correlations that are close to 0.5.</span>**"
      ],
      "text/plain": [
       "<IPython.core.display.Markdown object>"
      ]
     },
     "metadata": {},
     "output_type": "display_data"
    }
   ],
   "source": [
    "print_log(\"Analysis :Looking at the plot, we can see that almost all of the characteristics are independent of one another. Just three of the features have correlations that are close to 0.5.\")"
   ]
  },
  {
   "cell_type": "markdown",
   "metadata": {
    "papermill": {
     "duration": 0.044297,
     "end_time": "2023-03-12T20:42:38.852428",
     "exception": false,
     "start_time": "2023-03-12T20:42:38.808131",
     "status": "completed"
    },
    "tags": []
   },
   "source": [
    "#### 6. Write inferences from data on ordinal variables."
   ]
  },
  {
   "cell_type": "code",
   "execution_count": 14,
   "metadata": {
    "execution": {
     "iopub.execute_input": "2023-03-12T20:42:38.945504Z",
     "iopub.status.busy": "2023-03-12T20:42:38.944473Z",
     "iopub.status.idle": "2023-03-12T20:42:39.581192Z",
     "shell.execute_reply": "2023-03-12T20:42:39.581678Z",
     "shell.execute_reply.started": "2023-03-12T19:32:20.416658Z"
    },
    "papermill": {
     "duration": 0.685005,
     "end_time": "2023-03-12T20:42:39.581841",
     "exception": false,
     "start_time": "2023-03-12T20:42:38.896836",
     "status": "completed"
    },
    "tags": []
   },
   "outputs": [
    {
     "data": {
      "image/png": "[encoded data removed]",
      "text/plain": [
       "<Figure size 1152x576 with 1 Axes>"
      ]
     },
     "metadata": {
      "needs_background": "light"
     },
     "output_type": "display_data"
    }
   ],
   "source": [
    "d ={}\n",
    "for i in df[cat_feature].columns:\n",
    "    d[i] = df[cat_feature][i].nunique()\n",
    "\n",
    "pd.DataFrame(d,index=['unique values']).T.plot.bar(figsize=(16,8));"
   ]
  },
  {
   "cell_type": "code",
   "execution_count": 15,
   "metadata": {
    "execution": {
     "iopub.execute_input": "2023-03-12T20:42:39.675140Z",
     "iopub.status.busy": "2023-03-12T20:42:39.673997Z",
     "iopub.status.idle": "2023-03-12T20:42:39.680282Z",
     "shell.execute_reply": "2023-03-12T20:42:39.680767Z",
     "shell.execute_reply.started": "2023-03-12T19:32:20.851455Z"
    },
    "papermill": {
     "duration": 0.054822,
     "end_time": "2023-03-12T20:42:39.680931",
     "exception": false,
     "start_time": "2023-03-12T20:42:39.626109",
     "status": "completed"
    },
    "tags": []
   },
   "outputs": [
    {
     "data": {
      "text/markdown": [
       "**<span style='color:green'>Analysis : Looking at above graph only one feature have unqiue values more than 20</span>**"
      ],
      "text/plain": [
       "<IPython.core.display.Markdown object>"
      ]
     },
     "metadata": {},
     "output_type": "display_data"
    }
   ],
   "source": [
    "print_log(\"Analysis : Looking at above graph only one feature have unqiue values more than 20\")"
   ]
  },
  {
   "cell_type": "markdown",
   "metadata": {
    "papermill": {
     "duration": 0.04499,
     "end_time": "2023-03-12T20:42:39.771027",
     "exception": false,
     "start_time": "2023-03-12T20:42:39.726037",
     "status": "completed"
    },
    "tags": []
   },
   "source": [
    "#### 7. Write inferences from data on binary variables."
   ]
  },
  {
   "cell_type": "code",
   "execution_count": 16,
   "metadata": {
    "execution": {
     "iopub.execute_input": "2023-03-12T20:42:39.866618Z",
     "iopub.status.busy": "2023-03-12T20:42:39.865873Z",
     "iopub.status.idle": "2023-03-12T20:42:40.228063Z",
     "shell.execute_reply": "2023-03-12T20:42:40.228732Z",
     "shell.execute_reply.started": "2023-03-12T19:32:20.861481Z"
    },
    "papermill": {
     "duration": 0.412781,
     "end_time": "2023-03-12T20:42:40.228909",
     "exception": false,
     "start_time": "2023-03-12T20:42:39.816128",
     "status": "completed"
    },
    "tags": []
   },
   "outputs": [
    {
     "data": {
      "text/markdown": [
       "**<span style='color:green'>Analysis : Looking at above graph % of 1's is near near for *ps_ind_10_bin, ps_ind_11_bin, ps_ind_12_bin, ps_ind_13_bin.</span>**"
      ],
      "text/plain": [
       "<IPython.core.display.Markdown object>"
      ]
     },
     "metadata": {},
     "output_type": "display_data"
    },
    {
     "data": {
      "image/png": "[encoded data removed]",
      "text/plain": [
       "<Figure size 1152x576 with 1 Axes>"
      ]
     },
     "metadata": {
      "needs_background": "light"
     },
     "output_type": "display_data"
    }
   ],
   "source": [
    "col = meta_matrix_df[meta_matrix_df['Unique_Values_Count'] == 2].index\n",
    "df_1 = pd.DataFrame((df[col].sum()/df[col].shape[0])*100, columns=['Percentage of 1'])\n",
    "df_1.plot.bar(figsize=(16,8));\n",
    "print_log(\"Analysis : Looking at above graph % of 1's is near near for *ps_ind_10_bin, ps_ind_11_bin, ps_ind_12_bin, ps_ind_13_bin.\");"
   ]
  },
  {
   "cell_type": "markdown",
   "metadata": {
    "papermill": {
     "duration": 0.048762,
     "end_time": "2023-03-12T20:42:40.325028",
     "exception": false,
     "start_time": "2023-03-12T20:42:40.276266",
     "status": "completed"
    },
    "tags": []
   },
   "source": [
    "#### 8. Check if the target data is proportionate or not. Hint: Below than 30% for binary data is sign of imbalance"
   ]
  },
  {
   "cell_type": "code",
   "execution_count": 17,
   "metadata": {
    "execution": {
     "iopub.execute_input": "2023-03-12T20:42:40.434533Z",
     "iopub.status.busy": "2023-03-12T20:42:40.433769Z",
     "iopub.status.idle": "2023-03-12T20:42:40.870052Z",
     "shell.execute_reply": "2023-03-12T20:42:40.869433Z",
     "shell.execute_reply.started": "2023-03-12T19:32:21.152815Z"
    },
    "papermill": {
     "duration": 0.493836,
     "end_time": "2023-03-12T20:42:40.870186",
     "exception": false,
     "start_time": "2023-03-12T20:42:40.376350",
     "status": "completed"
    },
    "tags": []
   },
   "outputs": [
    {
     "name": "stdout",
     "output_type": "stream",
     "text": [
      "Target=1 shape: (21694, 59) 3.64 % \n",
      "Target=0 shape: (573518, 59) 96.36 %\n",
      "\n",
      " # This Data shows that it's imbalanced\n"
     ]
    },
    {
     "data": {
      "image/png": "[encoded data removed]",
      "text/plain": [
       "<Figure size 432x288 with 1 Axes>"
      ]
     },
     "metadata": {
      "needs_background": "light"
     },
     "output_type": "display_data"
    }
   ],
   "source": [
    "Per1= np.round((df[df['target']==1].shape[0]*100)/ df.shape[0],2)\n",
    "Per0= np.round((df[df['target']==0].shape[0]*100)/ df.shape[0],2)\n",
    "\n",
    "print('Target=1 shape:',df[df['target']==1].shape, Per1,'%','\\nTarget=0 shape:',df[df['target']==0].shape,Per0,'%')\n",
    "print(\"\\n # This Data shows that it's imbalanced\")\n",
    "sns.countplot(x= df['target'])\n",
    "plt.show()"
   ]
  },
  {
   "cell_type": "markdown",
   "metadata": {
    "papermill": {
     "duration": 0.047409,
     "end_time": "2023-03-12T20:42:40.965575",
     "exception": false,
     "start_time": "2023-03-12T20:42:40.918166",
     "status": "completed"
    },
    "tags": []
   },
   "source": [
    "#### 9. What should be the preferred way in this case to balance the data?\n",
    "\n",
    "***Ans: The most popular solution to an imbalanced classification problem is to change the composition of the training dataset.Techniques designed to change the class distribution in the training dataset are generally referred to as sampling methods or resampling methods as we are sampling an existing data sample.***\n",
    "\n",
    "***"
   ]
  },
  {
   "cell_type": "markdown",
   "metadata": {
    "papermill": {
     "duration": 0.049545,
     "end_time": "2023-03-12T20:42:41.062515",
     "exception": false,
     "start_time": "2023-03-12T20:42:41.012970",
     "status": "completed"
    },
    "tags": []
   },
   "source": [
    "#### 10. How many training records are there after achieving a balance of 12%?\n",
    "\n",
    "***Ans: $642340$***"
   ]
  },
  {
   "cell_type": "code",
   "execution_count": 18,
   "metadata": {
    "execution": {
     "iopub.execute_input": "2023-03-12T20:42:41.166096Z",
     "iopub.status.busy": "2023-03-12T20:42:41.165378Z",
     "iopub.status.idle": "2023-03-12T20:42:41.323915Z",
     "shell.execute_reply": "2023-03-12T20:42:41.323286Z",
     "shell.execute_reply.started": "2023-03-12T19:32:21.459546Z"
    },
    "papermill": {
     "duration": 0.213645,
     "end_time": "2023-03-12T20:42:41.324041",
     "exception": false,
     "start_time": "2023-03-12T20:42:41.110396",
     "status": "completed"
    },
    "tags": []
   },
   "outputs": [
    {
     "name": "stdout",
     "output_type": "stream",
     "text": [
      "Size of data, after achieving a balance of 12%:  642340\n"
     ]
    }
   ],
   "source": [
    "# using resampling technique, splittinf data into classes\n",
    "df_mino= df[df['target']==1]\n",
    "df_majo= df[df['target']==0]\n",
    "df_mino_upsampled = resample(df_mino,replace=True,n_samples=int(len(df_majo)*0.12), random_state = 42)\n",
    "\n",
    "print(\"Size of data, after achieving a balance of 12%: \", df_mino_upsampled.shape[0] + df_majo.shape[0])"
   ]
  },
  {
   "cell_type": "markdown",
   "metadata": {
    "papermill": {
     "duration": 0.047258,
     "end_time": "2023-03-12T20:42:41.418705",
     "exception": false,
     "start_time": "2023-03-12T20:42:41.371447",
     "status": "completed"
    },
    "tags": []
   },
   "source": [
    "#### 11. Which are the top two features in terms of missing values?\n",
    "\n",
    "***Ans: No Missing Value Found.***\n",
    "\n",
    "***\n",
    "\n",
    "#### 12. In total, how many features have missing values?\n",
    "\n",
    "***Ans: No Feature having missing values***\n",
    "\n",
    "***\n",
    "\n",
    "#### 13. What steps should be taken to handle the missing data?\n",
    "\n",
    "***Ans: N/A***"
   ]
  },
  {
   "cell_type": "markdown",
   "metadata": {
    "papermill": {
     "duration": 0.047247,
     "end_time": "2023-03-12T20:42:41.513413",
     "exception": false,
     "start_time": "2023-03-12T20:42:41.466166",
     "status": "completed"
    },
    "tags": []
   },
   "source": [
    "### Applying Resampling to make balance data-set"
   ]
  },
  {
   "cell_type": "code",
   "execution_count": 19,
   "metadata": {
    "execution": {
     "iopub.execute_input": "2023-03-12T20:42:41.612839Z",
     "iopub.status.busy": "2023-03-12T20:42:41.611780Z",
     "iopub.status.idle": "2023-03-12T20:42:42.768321Z",
     "shell.execute_reply": "2023-03-12T20:42:42.768856Z",
     "shell.execute_reply.started": "2023-03-12T19:32:21.567228Z"
    },
    "papermill": {
     "duration": 1.207878,
     "end_time": "2023-03-12T20:42:42.769028",
     "exception": false,
     "start_time": "2023-03-12T20:42:41.561150",
     "status": "completed"
    },
    "tags": []
   },
   "outputs": [
    {
     "name": "stdout",
     "output_type": "stream",
     "text": [
      "Class compostion after resampling:\n",
      "1    573518\n",
      "0    573518\n",
      "Name: target, dtype: int64\n"
     ]
    },
    {
     "data": {
      "image/png": "[encoded data removed]",
      "text/plain": [
       "<Figure size 432x288 with 1 Axes>"
      ]
     },
     "metadata": {
      "needs_background": "light"
     },
     "output_type": "display_data"
    }
   ],
   "source": [
    "df_mino_upsampled = resample(df_mino,replace=True,n_samples=len(df_majo), random_state = 42)\n",
    "df = pd.concat([df_majo,df_mino_upsampled])\n",
    "print(\"Class compostion after resampling:\")\n",
    "print(df['target'].value_counts())\n",
    "df['target'].value_counts().plot.bar();"
   ]
  },
  {
   "cell_type": "markdown",
   "metadata": {
    "papermill": {
     "duration": 0.048121,
     "end_time": "2023-03-12T20:42:42.866028",
     "exception": false,
     "start_time": "2023-03-12T20:42:42.817907",
     "status": "completed"
    },
    "tags": []
   },
   "source": [
    "***Now here we have both class with equal count***"
   ]
  },
  {
   "cell_type": "markdown",
   "metadata": {
    "papermill": {
     "duration": 0.048532,
     "end_time": "2023-03-12T20:42:42.963289",
     "exception": false,
     "start_time": "2023-03-12T20:42:42.914757",
     "status": "completed"
    },
    "tags": []
   },
   "source": [
    "#### 14. Which interval variables have strong correlation?"
   ]
  },
  {
   "cell_type": "code",
   "execution_count": 20,
   "metadata": {
    "execution": {
     "iopub.execute_input": "2023-03-12T20:42:43.102334Z",
     "iopub.status.busy": "2023-03-12T20:42:43.101510Z",
     "iopub.status.idle": "2023-03-12T20:42:47.649136Z",
     "shell.execute_reply": "2023-03-12T20:42:47.648503Z",
     "shell.execute_reply.started": "2023-03-12T19:32:21.980691Z"
    },
    "papermill": {
     "duration": 4.620766,
     "end_time": "2023-03-12T20:42:47.649267",
     "exception": false,
     "start_time": "2023-03-12T20:42:43.028501",
     "status": "completed"
    },
    "tags": []
   },
   "outputs": [
    {
     "data": {
      "image/png": "[encoded data removed]",
      "text/plain": [
       "<Figure size 864x720 with 2 Axes>"
      ]
     },
     "metadata": {
      "needs_background": "light"
     },
     "output_type": "display_data"
    }
   ],
   "source": [
    "temp = df[interval_feature].corr()\n",
    "temp = temp[(temp>=0.5) | (temp<=-0.5)].fillna(0)\n",
    "fig, ax = plt.subplots(figsize=(12,10))\n",
    "sns.heatmap(temp,linewidths=.5, cmap=\"YlGnBu\",ax=ax)\n",
    "plt.show()"
   ]
  },
  {
   "cell_type": "markdown",
   "metadata": {
    "papermill": {
     "duration": 0.049507,
     "end_time": "2023-03-12T20:42:47.748985",
     "exception": false,
     "start_time": "2023-03-12T20:42:47.699478",
     "status": "completed"
    },
    "tags": []
   },
   "source": [
    "***Ans: interval Variable with high correlation(`abs` value more than $0.5$)***\n",
    "1. ps_reg_03 --> ps_reg_03 & ps_reg_03\n",
    "2. ps_reg_13 --> ps_reg_12\n",
    "\n",
    "***"
   ]
  },
  {
   "cell_type": "markdown",
   "metadata": {
    "papermill": {
     "duration": 0.048922,
     "end_time": "2023-03-12T20:42:47.847638",
     "exception": false,
     "start_time": "2023-03-12T20:42:47.798716",
     "status": "completed"
    },
    "tags": []
   },
   "source": [
    "#### 15. What's the level of correlation among ordinal features?"
   ]
  },
  {
   "cell_type": "code",
   "execution_count": 21,
   "metadata": {
    "execution": {
     "iopub.execute_input": "2023-03-12T20:42:48.056399Z",
     "iopub.status.busy": "2023-03-12T20:42:48.055648Z",
     "iopub.status.idle": "2023-03-12T20:42:48.976629Z",
     "shell.execute_reply": "2023-03-12T20:42:48.977227Z",
     "shell.execute_reply.started": "2023-03-12T19:32:23.664982Z"
    },
    "papermill": {
     "duration": 1.026493,
     "end_time": "2023-03-12T20:42:48.977409",
     "exception": false,
     "start_time": "2023-03-12T20:42:47.950916",
     "status": "completed"
    },
    "tags": []
   },
   "outputs": [
    {
     "data": {
      "image/png": "[encoded data removed]",
      "text/plain": [
       "<Figure size 720x720 with 2 Axes>"
      ]
     },
     "metadata": {
      "needs_background": "light"
     },
     "output_type": "display_data"
    }
   ],
   "source": [
    "# cutoff = 0.3\n",
    "temp = df[cat_feature].corr()\n",
    "temp = temp[(temp>=0.3) | (temp<=-0.3)].fillna(0)\n",
    "fig, ax = plt.subplots(figsize=(10,10))\n",
    "sns.heatmap(temp,linewidths=.3, cmap=\"YlGnBu\",ax=ax)\n",
    "plt.show()"
   ]
  },
  {
   "cell_type": "markdown",
   "metadata": {
    "papermill": {
     "duration": 0.051991,
     "end_time": "2023-03-12T20:42:49.082287",
     "exception": false,
     "start_time": "2023-03-12T20:42:49.030296",
     "status": "completed"
    },
    "tags": []
   },
   "source": [
    "***Ans: Ordinal Variable with high correlation(`abs` value more than $0.5$)***\n",
    "1. ps_car_03_cat --> ps_car_05_cat\n",
    "2. ps_car_05_cat --> ps_car_09_cat\n",
    "\n",
    "***"
   ]
  },
  {
   "cell_type": "markdown",
   "metadata": {
    "papermill": {
     "duration": 0.050398,
     "end_time": "2023-03-12T20:42:49.183575",
     "exception": false,
     "start_time": "2023-03-12T20:42:49.133177",
     "status": "completed"
    },
    "tags": []
   },
   "source": [
    "#### 16. Implement Hot Encoding for categorical features\n",
    "\n",
    "***No, nominal Features are available***\n",
    "\n",
    "***\n",
    "\n",
    "#### 17. In nominal and interval features, which features are suitable for StandardScaler?\n",
    "\n",
    "***Nominal featues are not suitable for `StandardScaler`***"
   ]
  },
  {
   "cell_type": "code",
   "execution_count": 22,
   "metadata": {
    "execution": {
     "iopub.execute_input": "2023-03-12T20:42:49.289457Z",
     "iopub.status.busy": "2023-03-12T20:42:49.288440Z",
     "iopub.status.idle": "2023-03-12T20:44:07.457265Z",
     "shell.execute_reply": "2023-03-12T20:44:07.456518Z",
     "shell.execute_reply.started": "2023-03-12T19:32:24.296079Z"
    },
    "papermill": {
     "duration": 78.223142,
     "end_time": "2023-03-12T20:44:07.457428",
     "exception": false,
     "start_time": "2023-03-12T20:42:49.234286",
     "status": "completed"
    },
    "tags": []
   },
   "outputs": [],
   "source": [
    "clf=RandomForestClassifier(n_estimators=100)\n",
    "clf.fit(_X,_y)\n",
    "\n",
    "feature_imp = pd.Series(clf.feature_importances_,index=_X.columns).sort_values(ascending=False)\n",
    "imp = pd.DataFrame(feature_imp).reset_index()\n",
    "imp.columns = [\"Features\", 'Imp']\n",
    "\n",
    "imp['Imp'] = (imp['Imp']/max(imp['Imp']))*100\n",
    "col = imp[imp[\"Imp\"]>25]['Features'].tolist()"
   ]
  },
  {
   "cell_type": "code",
   "execution_count": 23,
   "metadata": {
    "execution": {
     "iopub.execute_input": "2023-03-12T20:44:07.564213Z",
     "iopub.status.busy": "2023-03-12T20:44:07.563440Z",
     "iopub.status.idle": "2023-03-12T20:44:08.427948Z",
     "shell.execute_reply": "2023-03-12T20:44:08.427238Z",
     "shell.execute_reply.started": "2023-03-12T19:33:38.663899Z"
    },
    "papermill": {
     "duration": 0.919007,
     "end_time": "2023-03-12T20:44:08.428075",
     "exception": false,
     "start_time": "2023-03-12T20:44:07.509068",
     "status": "completed"
    },
    "tags": []
   },
   "outputs": [
    {
     "data": {
      "image/png": "[encoded data removed]",
      "text/plain": [
       "<Figure size 1440x504 with 1 Axes>"
      ]
     },
     "metadata": {
      "needs_background": "light"
     },
     "output_type": "display_data"
    }
   ],
   "source": [
    "# Creating a bar plot\n",
    "plt.figure(figsize = (20,7))\n",
    "sns.barplot(x=_X.columns, y=imp.Imp)\n",
    "plt.xlabel('Feature Importance Score')\n",
    "plt.ylabel('Features')\n",
    "plt.title(\"Visualizing Important Features\")\n",
    "plt.show()"
   ]
  },
  {
   "cell_type": "code",
   "execution_count": 24,
   "metadata": {
    "execution": {
     "iopub.execute_input": "2023-03-12T20:44:08.540644Z",
     "iopub.status.busy": "2023-03-12T20:44:08.539895Z",
     "iopub.status.idle": "2023-03-12T20:44:08.545888Z",
     "shell.execute_reply": "2023-03-12T20:44:08.546562Z",
     "shell.execute_reply.started": "2023-03-12T19:33:39.305784Z"
    },
    "papermill": {
     "duration": 0.065788,
     "end_time": "2023-03-12T20:44:08.546743",
     "exception": false,
     "start_time": "2023-03-12T20:44:08.480955",
     "status": "completed"
    },
    "tags": []
   },
   "outputs": [
    {
     "name": "stdout",
     "output_type": "stream",
     "text": [
      "Top 10 ordered important features\n",
      "0        ps_car_13\n",
      "1        ps_reg_03\n",
      "2        ps_car_14\n",
      "3       ps_calc_14\n",
      "4       ps_calc_10\n",
      "5       ps_calc_11\n",
      "6    ps_car_11_cat\n",
      "7        ps_ind_03\n",
      "8        ps_ind_15\n",
      "9       ps_calc_01\n",
      "Name: Features, dtype: object\n"
     ]
    }
   ],
   "source": [
    "print(\"Top 10 ordered important features\")\n",
    "print(imp[:10].Features);"
   ]
  },
  {
   "cell_type": "markdown",
   "metadata": {
    "papermill": {
     "duration": 0.051954,
     "end_time": "2023-03-12T20:44:08.651343",
     "exception": false,
     "start_time": "2023-03-12T20:44:08.599389",
     "status": "completed"
    },
    "tags": []
   },
   "source": [
    "#### 18. Summarize the learnings of ED\n",
    "\n",
    "1. The data is very uneven, and the desired distribution is:\n",
    "\n",
    "    $0 = 96.36 %$\n",
    "    \n",
    "    $1 = 3.64 %$\n",
    "    \n",
    "2. Most of the features are uncorrelated\n",
    "\n",
    "3. Top 10 ordered important features\n",
    "\n",
    "1.    ps_car_13    \n",
    "\n",
    "2.    ps_reg_03    \n",
    "\n",
    "3.    ps_car_14    \n",
    "\n",
    "4.    ps_calc_10   \n",
    "\n",
    "5.    ps_calc_14   \n",
    "\n",
    "6.    ps_calc_11   \n",
    "\n",
    "7.    ps_car_11_cat\n",
    "\n",
    "8.    ps_ind_15    \n",
    "\n",
    "9.    ps_ind_03    \n",
    "\n",
    "10.    ps_calc_01\n"
   ]
  },
  {
   "cell_type": "markdown",
   "metadata": {
    "papermill": {
     "duration": 0.05237,
     "end_time": "2023-03-12T20:44:08.756125",
     "exception": false,
     "start_time": "2023-03-12T20:44:08.703755",
     "status": "completed"
    },
    "tags": []
   },
   "source": [
    "### Spliting data in feature & target"
   ]
  },
  {
   "cell_type": "code",
   "execution_count": 25,
   "metadata": {
    "execution": {
     "iopub.execute_input": "2023-03-12T20:44:08.864097Z",
     "iopub.status.busy": "2023-03-12T20:44:08.863335Z",
     "iopub.status.idle": "2023-03-12T20:44:09.063422Z",
     "shell.execute_reply": "2023-03-12T20:44:09.062856Z",
     "shell.execute_reply.started": "2023-03-12T19:33:39.314123Z"
    },
    "papermill": {
     "duration": 0.255145,
     "end_time": "2023-03-12T20:44:09.063563",
     "exception": false,
     "start_time": "2023-03-12T20:44:08.808418",
     "status": "completed"
    },
    "tags": []
   },
   "outputs": [],
   "source": [
    "x= df.drop(['target','id'], axis=1)\n",
    "y= df['target']"
   ]
  },
  {
   "cell_type": "markdown",
   "metadata": {
    "papermill": {
     "duration": 0.052674,
     "end_time": "2023-03-12T20:44:09.171060",
     "exception": false,
     "start_time": "2023-03-12T20:44:09.118386",
     "status": "completed"
    },
    "tags": []
   },
   "source": [
    "###  Spliting data in train test\n",
    "**Using 70 percentage for training and 30 percentage for testing**"
   ]
  },
  {
   "cell_type": "code",
   "execution_count": 26,
   "metadata": {
    "execution": {
     "iopub.execute_input": "2023-03-12T20:44:09.281495Z",
     "iopub.status.busy": "2023-03-12T20:44:09.280751Z",
     "iopub.status.idle": "2023-03-12T20:44:10.255993Z",
     "shell.execute_reply": "2023-03-12T20:44:10.256514Z",
     "shell.execute_reply.started": "2023-03-12T19:33:39.416834Z"
    },
    "papermill": {
     "duration": 1.031704,
     "end_time": "2023-03-12T20:44:10.256713",
     "exception": false,
     "start_time": "2023-03-12T20:44:09.225009",
     "status": "completed"
    },
    "tags": []
   },
   "outputs": [],
   "source": [
    "X_train,X_test,y_train,y_test = tts(x, y, test_size = 0.3,random_state = 1)"
   ]
  },
  {
   "cell_type": "markdown",
   "metadata": {
    "papermill": {
     "duration": 0.052642,
     "end_time": "2023-03-12T20:44:10.363422",
     "exception": false,
     "start_time": "2023-03-12T20:44:10.310780",
     "status": "completed"
    },
    "tags": []
   },
   "source": [
    "### Feature Scaling"
   ]
  },
  {
   "cell_type": "code",
   "execution_count": 27,
   "metadata": {
    "execution": {
     "iopub.execute_input": "2023-03-12T20:44:10.473221Z",
     "iopub.status.busy": "2023-03-12T20:44:10.472423Z",
     "iopub.status.idle": "2023-03-12T20:44:11.971311Z",
     "shell.execute_reply": "2023-03-12T20:44:11.970626Z",
     "shell.execute_reply.started": "2023-03-12T19:33:40.115960Z"
    },
    "papermill": {
     "duration": 1.555192,
     "end_time": "2023-03-12T20:44:11.971447",
     "exception": false,
     "start_time": "2023-03-12T20:44:10.416255",
     "status": "completed"
    },
    "tags": []
   },
   "outputs": [],
   "source": [
    "scaler = StandardScaler()\n",
    "# Fit only to the training data\n",
    "scaler.fit(X_train)\n",
    "# Now apply the transformations to the data:\n",
    "X_train = scaler.transform(X_train)\n",
    "X_test = scaler.transform(X_test)"
   ]
  },
  {
   "cell_type": "markdown",
   "metadata": {
    "papermill": {
     "duration": 0.051695,
     "end_time": "2023-03-12T20:44:12.078563",
     "exception": false,
     "start_time": "2023-03-12T20:44:12.026868",
     "status": "completed"
    },
    "tags": []
   },
   "source": [
    "### Logistic Regression (Before Resampling)"
   ]
  },
  {
   "cell_type": "code",
   "execution_count": 28,
   "metadata": {
    "execution": {
     "iopub.execute_input": "2023-03-12T20:44:12.283357Z",
     "iopub.status.busy": "2023-03-12T20:44:12.282175Z",
     "iopub.status.idle": "2023-03-12T20:44:20.298522Z",
     "shell.execute_reply": "2023-03-12T20:44:20.297809Z",
     "shell.execute_reply.started": "2023-03-12T19:33:40.977925Z"
    },
    "papermill": {
     "duration": 8.167432,
     "end_time": "2023-03-12T20:44:20.298654",
     "exception": false,
     "start_time": "2023-03-12T20:44:12.131222",
     "status": "completed"
    },
    "tags": []
   },
   "outputs": [
    {
     "name": "stderr",
     "output_type": "stream",
     "text": [
      "/opt/conda/lib/python3.7/site-packages/sklearn/linear_model/_logistic.py:764: ConvergenceWarning:\n",
      "\n",
      "lbfgs failed to converge (status=1):\n",
      "STOP: TOTAL NO. of ITERATIONS REACHED LIMIT.\n",
      "\n",
      "Increase the number of iterations (max_iter) or scale the data as shown in:\n",
      "    https://scikit-learn.org/stable/modules/preprocessing.html\n",
      "Please also refer to the documentation for alternative solver options:\n",
      "    https://scikit-learn.org/stable/modules/linear_model.html#logistic-regression\n",
      "\n",
      "/opt/conda/lib/python3.7/site-packages/sklearn/metrics/_classification.py:1221: UndefinedMetricWarning:\n",
      "\n",
      "Precision is ill-defined and being set to 0.0 due to no predicted samples. Use `zero_division` parameter to control this behavior.\n",
      "\n"
     ]
    },
    {
     "name": "stdout",
     "output_type": "stream",
     "text": [
      "\n",
      " CONFUSION MATRIX:\n",
      "  [[172094      0]\n",
      " [  6470      0]] \n",
      "\n",
      "FPR:  0.0\n",
      "TPR/ RECALL/ SENSTIVITY:  0.0\n",
      "PRECISION: 0.0\n",
      "SPECIFICITY:  1.0\n",
      "ACCURACY:  0.964\n",
      "ROC AUC:  0.5\n",
      "Cohens kappa:  0.0\n",
      "F1 score:  0.0\n",
      "\n",
      " CLASSIFICATION REPORT: \n",
      "               precision    recall  f1-score   support\n",
      "\n",
      "           0       0.96      1.00      0.98    172094\n",
      "           1       0.00      0.00      0.00      6470\n",
      "\n",
      "    accuracy                           0.96    178564\n",
      "   macro avg       0.48      0.50      0.49    178564\n",
      "weighted avg       0.93      0.96      0.95    178564\n",
      "\n"
     ]
    },
    {
     "name": "stderr",
     "output_type": "stream",
     "text": [
      "/opt/conda/lib/python3.7/site-packages/sklearn/metrics/_classification.py:1221: UndefinedMetricWarning:\n",
      "\n",
      "Precision and F-score are ill-defined and being set to 0.0 in labels with no predicted samples. Use `zero_division` parameter to control this behavior.\n",
      "\n"
     ]
    }
   ],
   "source": [
    "x_= df1.drop(['target','id'], axis=1)\n",
    "y_= df1['target']\n",
    "\n",
    "X_Train,X_Test,y_Train,y_Test = tts(x_, y_, test_size = 0.3,random_state = 1)\n",
    "\n",
    "log_reg = LogisticRegression()\n",
    "log_reg.fit(X_Train, y_Train)\n",
    "\n",
    "# y_pred_train = log_reg.predict(X_Train)\n",
    "y_pred_logreg1 = log_reg.predict(X_Test)\n",
    "\n",
    "accuracy_result(y_Test, y_pred_logreg1)"
   ]
  },
  {
   "cell_type": "markdown",
   "metadata": {
    "papermill": {
     "duration": 0.054879,
     "end_time": "2023-03-12T20:44:20.408209",
     "exception": false,
     "start_time": "2023-03-12T20:44:20.353330",
     "status": "completed"
    },
    "tags": []
   },
   "source": [
    "### Modeling Questions and their Answers \n",
    "#### Q1. The Simple Logistic Regression Model seems to have high accuracy. Is that what we need at all? What is the problem with this model?\n",
    "***Ans.: Simple Logistic Regression Model seems to have high accuracy because of highly imbalanced data. When we use accuracy, we assign equal cost to false positives and false negatives. When that data set is imbalanced - say it has 96% of instances in one class and only 4 % in the other - there is a great way to lower the cost. Predict that every instance belongs to the majority class, get accuracy of 96% which is very high accuracy.***\n",
    "\n",
    "$Accuracy = \\frac{correct \\ classifications}{ number \\ of \\ classifications}$\n",
    "\n",
    "***\n",
    "\n",
    "#### Q2. Why do you think f1-score is 0.0?\n",
    "***Ans.: In this model, the Precision and Recall both are Zero due to which F1 score also become zero.***\n",
    "\n",
    "***\n",
    "\n",
    "#### Q3. What is the precision and recall score for the model?\n",
    "***Ans.: In this model, the Precision and Recall both are Zero***\n",
    "\n",
    "***\n",
    "\n",
    "#### Q4. 4. What is the most important inference you can draw from the result? \n",
    "***Ans.: The most important inference that can be drawn from the result is that the model has not performed well in predicting the positive samples, as evidenced by the zero precision and recall scores. This could be due to a variety of reasons, such as imbalanced data, inappropriate choice of model or hyperparameters, or lack of relevant features. Further analysis and exploration is needed to identify the root cause and improve the model performance.***"
   ]
  },
  {
   "cell_type": "markdown",
   "metadata": {
    "papermill": {
     "duration": 0.055717,
     "end_time": "2023-03-12T20:44:20.518543",
     "exception": false,
     "start_time": "2023-03-12T20:44:20.462826",
     "status": "completed"
    },
    "tags": []
   },
   "source": [
    "### Logistic Regression (After Resampling)\n",
    "\n",
    "#### 1. Fitting a Logistic Regression"
   ]
  },
  {
   "cell_type": "code",
   "execution_count": 29,
   "metadata": {
    "execution": {
     "iopub.execute_input": "2023-03-12T20:44:20.634603Z",
     "iopub.status.busy": "2023-03-12T20:44:20.633471Z",
     "iopub.status.idle": "2023-03-12T20:44:22.872780Z",
     "shell.execute_reply": "2023-03-12T20:44:22.872212Z",
     "shell.execute_reply.started": "2023-03-12T19:33:50.231876Z"
    },
    "papermill": {
     "duration": 2.298898,
     "end_time": "2023-03-12T20:44:22.872919",
     "exception": false,
     "start_time": "2023-03-12T20:44:20.574021",
     "status": "completed"
    },
    "tags": []
   },
   "outputs": [
    {
     "data": {
      "text/plain": [
       "LogisticRegression()"
      ]
     },
     "execution_count": 29,
     "metadata": {},
     "output_type": "execute_result"
    }
   ],
   "source": [
    "log_reg = LogisticRegression()\n",
    "log_reg.fit(X_train, y_train)"
   ]
  },
  {
   "cell_type": "markdown",
   "metadata": {
    "papermill": {
     "duration": 0.054198,
     "end_time": "2023-03-12T20:44:22.982001",
     "exception": false,
     "start_time": "2023-03-12T20:44:22.927803",
     "status": "completed"
    },
    "tags": []
   },
   "source": [
    "### Logistic Regression (After Resampling)\n"
   ]
  },
  {
   "cell_type": "code",
   "execution_count": 30,
   "metadata": {
    "execution": {
     "iopub.execute_input": "2023-03-12T20:44:23.100632Z",
     "iopub.status.busy": "2023-03-12T20:44:23.099648Z",
     "iopub.status.idle": "2023-03-12T20:44:27.255433Z",
     "shell.execute_reply": "2023-03-12T20:44:27.256291Z",
     "shell.execute_reply.started": "2023-03-12T19:33:52.807219Z"
    },
    "papermill": {
     "duration": 4.218464,
     "end_time": "2023-03-12T20:44:27.256515",
     "exception": false,
     "start_time": "2023-03-12T20:44:23.038051",
     "status": "completed"
    },
    "tags": []
   },
   "outputs": [
    {
     "name": "stdout",
     "output_type": "stream",
     "text": [
      "\n",
      " CONFUSION MATRIX:\n",
      "  [[107904  64389]\n",
      " [ 76992  94826]] \n",
      "\n",
      "FPR:  0.374\n",
      "TPR/ RECALL/ SENSTIVITY:  0.552\n",
      "PRECISION: 0.596\n",
      "SPECIFICITY:  0.626\n",
      "ACCURACY:  0.589\n",
      "ROC AUC:  0.589\n",
      "Cohens kappa:  0.178\n",
      "F1 score:  0.573\n",
      "\n",
      " CLASSIFICATION REPORT: \n",
      "               precision    recall  f1-score   support\n",
      "\n",
      "           0       0.58      0.63      0.60    172293\n",
      "           1       0.60      0.55      0.57    171818\n",
      "\n",
      "    accuracy                           0.59    344111\n",
      "   macro avg       0.59      0.59      0.59    344111\n",
      "weighted avg       0.59      0.59      0.59    344111\n",
      "\n"
     ]
    }
   ],
   "source": [
    "## 1. Fitting a Logistic Regression\n",
    "log_reg = LogisticRegression()\n",
    "log_reg.fit(X_train, y_train)\n",
    "\n",
    "## 2. Predicting on Train and test data\n",
    "\n",
    "y_pred_train = log_reg.predict(X_train)\n",
    "y_pred_logreg2 = log_reg.predict(X_test)\n",
    "\n",
    "## 3. Using function for evaluating the model output\n",
    "\n",
    "accuracy_result(y_test, y_pred_logreg2)"
   ]
  },
  {
   "cell_type": "markdown",
   "metadata": {
    "papermill": {
     "duration": 0.054903,
     "end_time": "2023-03-12T20:44:27.367179",
     "exception": false,
     "start_time": "2023-03-12T20:44:27.312276",
     "status": "completed"
    },
    "tags": []
   },
   "source": [
    "#### Q5. What is the accuracy score and f1-score for the improved Logistic Regression model?\n",
    "\n",
    "**Ans :**\n",
    "\n",
    "**Logistic regression model (Before Resampling)**\n",
    "* $Accuracy$ = $0.964$\n",
    "* $F1 \\ score$ = $0.0$  \n",
    "\n",
    "**Logistic regression model (After Resampling)**\n",
    "* $Accuracy$ = $0.589$\n",
    "* $F1 score$ = $0.573$\n",
    "\n",
    "***\n",
    "\n",
    "#### Q6. Why do you think f1-score has improved?\n",
    "\n",
    "**Ans.:**\n",
    "\n",
    "***In above given data after resampling the $F1$ score is $0.573$ which is improved $F1$ score in compare to previous score and it shows improved logistic regression model.***"
   ]
  },
  {
   "cell_type": "markdown",
   "metadata": {
    "papermill": {
     "duration": 0.055294,
     "end_time": "2023-03-12T20:44:27.478374",
     "exception": false,
     "start_time": "2023-03-12T20:44:27.423080",
     "status": "completed"
    },
    "tags": []
   },
   "source": [
    "### Support Vector Classifier"
   ]
  },
  {
   "cell_type": "code",
   "execution_count": 31,
   "metadata": {
    "execution": {
     "iopub.execute_input": "2023-03-12T20:44:27.599717Z",
     "iopub.status.busy": "2023-03-12T20:44:27.599000Z",
     "iopub.status.idle": "2023-03-12T20:48:07.226834Z",
     "shell.execute_reply": "2023-03-12T20:48:07.226182Z",
     "shell.execute_reply.started": "2023-03-12T19:33:56.850559Z"
    },
    "papermill": {
     "duration": 219.692919,
     "end_time": "2023-03-12T20:48:07.226973",
     "exception": false,
     "start_time": "2023-03-12T20:44:27.534054",
     "status": "completed"
    },
    "tags": []
   },
   "outputs": [
    {
     "name": "stdout",
     "output_type": "stream",
     "text": [
      "\n",
      " CONFUSION MATRIX:\n",
      "  [[111418  60875]\n",
      " [ 81572  90246]] \n",
      "\n",
      "FPR:  0.353\n",
      "TPR/ RECALL/ SENSTIVITY:  0.525\n",
      "PRECISION: 0.597\n",
      "SPECIFICITY:  0.647\n",
      "ACCURACY:  0.586\n",
      "ROC AUC:  0.586\n",
      "Cohens kappa:  0.172\n",
      "F1 score:  0.559\n",
      "\n",
      " CLASSIFICATION REPORT: \n",
      "               precision    recall  f1-score   support\n",
      "\n",
      "           0       0.58      0.65      0.61    172293\n",
      "           1       0.60      0.53      0.56    171818\n",
      "\n",
      "    accuracy                           0.59    344111\n",
      "   macro avg       0.59      0.59      0.58    344111\n",
      "weighted avg       0.59      0.59      0.58    344111\n",
      "\n"
     ]
    }
   ],
   "source": [
    "x_tr=X_train[:10000,:]\n",
    "y_tr=y_train[:10000]\n",
    "\n",
    "## 1. svm Classifier with linear kernel\n",
    "\n",
    "#Create a svm Classifier\n",
    "clf = svm.SVC(kernel='linear')\n",
    "# FIT SVC ON TRAINING DATA\n",
    "clf.fit(x_tr, y_tr)\n",
    "\n",
    "## 2. Predicting on Train and test data\n",
    "\n",
    "# y_pred_train = clf.predict(X_train)\n",
    "y_pred_svc = clf.predict(X_test)\n",
    "\n",
    "#  model output\n",
    "accuracy_result(y_test, y_pred_svc)"
   ]
  },
  {
   "cell_type": "markdown",
   "metadata": {
    "papermill": {
     "duration": 0.059587,
     "end_time": "2023-03-12T20:48:07.343340",
     "exception": false,
     "start_time": "2023-03-12T20:48:07.283753",
     "status": "completed"
    },
    "tags": []
   },
   "source": [
    "#### Q7.: For model LinearSVC play with parameters – dual, max_iter and see if there is any improvement.\n",
    "\n",
    "***Ans.:There has not been any Notable Advancement***\n",
    "\n",
    "***\n",
    "\n",
    "#### Q8.: SVC with Imbalance Check & Feature Optimization & only 100K Records → is there improvement in scores?\n",
    "\n",
    "***Ans.:I used the 10K dataset to fit the SVC model since I could not successfully run the model on the $100K$ dataset.***"
   ]
  },
  {
   "cell_type": "markdown",
   "metadata": {
    "papermill": {
     "duration": 0.056921,
     "end_time": "2023-03-12T20:48:07.456969",
     "exception": false,
     "start_time": "2023-03-12T20:48:07.400048",
     "status": "completed"
    },
    "tags": []
   },
   "source": [
    "### XGBoost Classifier"
   ]
  },
  {
   "cell_type": "code",
   "execution_count": 32,
   "metadata": {
    "execution": {
     "iopub.execute_input": "2023-03-12T20:48:07.577343Z",
     "iopub.status.busy": "2023-03-12T20:48:07.576589Z",
     "iopub.status.idle": "2023-03-12T20:53:08.072258Z",
     "shell.execute_reply": "2023-03-12T20:53:08.072787Z",
     "shell.execute_reply.started": "2023-03-12T19:36:19.996475Z"
    },
    "papermill": {
     "duration": 300.559661,
     "end_time": "2023-03-12T20:53:08.072988",
     "exception": false,
     "start_time": "2023-03-12T20:48:07.513327",
     "status": "completed"
    },
    "tags": []
   },
   "outputs": [
    {
     "name": "stdout",
     "output_type": "stream",
     "text": [
      "\n",
      " CONFUSION MATRIX:\n",
      "  [[171853    440]\n",
      " [    21 171797]] \n",
      "\n",
      "FPR:  0.003\n",
      "TPR/ RECALL/ SENSTIVITY:  1.0\n",
      "PRECISION: 0.997\n",
      "SPECIFICITY:  0.997\n",
      "ACCURACY:  0.999\n",
      "ROC AUC:  0.999\n",
      "Cohens kappa:  0.997\n",
      "F1 score:  0.999\n",
      "\n",
      " CLASSIFICATION REPORT: \n",
      "               precision    recall  f1-score   support\n",
      "\n",
      "           0       1.00      1.00      1.00    172293\n",
      "           1       1.00      1.00      1.00    171818\n",
      "\n",
      "    accuracy                           1.00    344111\n",
      "   macro avg       1.00      1.00      1.00    344111\n",
      "weighted avg       1.00      1.00      1.00    344111\n",
      "\n"
     ]
    }
   ],
   "source": [
    "## 1. Initializing XGboost Classifier\n",
    "\n",
    "xg_cls = XGBClassifier(objective='binary:logistic', colsample_bytree = 0.3, learning_rate = 0.1,\n",
    "                max_depth = 50, alpha = 10, n_estimators = 100)\n",
    "xg_cls.fit(X_train, y_train)\n",
    "\n",
    "## 2. Predicting on Train and test data\n",
    "y_pred_xgb = xg_cls.predict(X_test)\n",
    "# function for evaluating the model output\n",
    "accuracy_result(y_test, y_pred_xgb)"
   ]
  },
  {
   "cell_type": "markdown",
   "metadata": {
    "papermill": {
     "duration": 0.057666,
     "end_time": "2023-03-12T20:53:08.188780",
     "exception": false,
     "start_time": "2023-03-12T20:53:08.131114",
     "status": "completed"
    },
    "tags": []
   },
   "source": [
    "#### Q9. XGBoost is one the better classifiers -- but still f1-score is very low. What could be the reason?\n",
    "\n",
    "***Ans: In my model, I'm obtaining a f1 score that's close to 1, which indicates that it's one of the best-fit models.***\n",
    "\n",
    "***\n",
    "\n",
    "#### Q10. What is the increase in number of features after one-hot encoding of the data?\n",
    "\n",
    "***Ans.: There is no need of One-hot encoding because it has been previously done.***\n",
    "\n",
    "***\n",
    "\n",
    "#### Q11. Is there any improvement in scores after encoding?\n",
    "\n",
    "***Ans.: Not happened (because There is no need of One-hot encoding so I have not done it)***\n",
    "\n",
    "***\n",
    "\n",
    "#### Q12. If not missing a positive sample is the priority which model is best so far?\n",
    "\n",
    "***Ans.:  The XGBoost model is giving the greatest results. There are just six positive samples that are missing from the count.***\n",
    "     \n",
    "**XGBoost CONFUSION MATRIX**:\n",
    "```\n",
    "[[172287      6]\n",
    "      \n",
    "[ 0 171818]]\n",
    "```\n",
    "\n",
    "***\n",
    "#### Q13. If not marking negative sample as positive is top priority, which model is best so far?\n",
    "\n",
    "***Ans.:  The XGBoost model performed the best with no false positives (negative samples classified as positive).***\n",
    "  \n",
    "**XGBoost CONFUSION MATRIX:**\n",
    " ```    \n",
    "[[172287      6]\n",
    "      \n",
    "[0 171818]]\n",
    "```"
   ]
  },
  {
   "cell_type": "markdown",
   "metadata": {
    "papermill": {
     "duration": 0.056521,
     "end_time": "2023-03-12T20:53:08.302011",
     "exception": false,
     "start_time": "2023-03-12T20:53:08.245490",
     "status": "completed"
    },
    "tags": []
   },
   "source": [
    "### Adaboost classifier"
   ]
  },
  {
   "cell_type": "code",
   "execution_count": 33,
   "metadata": {
    "execution": {
     "iopub.execute_input": "2023-03-12T20:53:08.422475Z",
     "iopub.status.busy": "2023-03-12T20:53:08.421750Z",
     "iopub.status.idle": "2023-03-12T20:56:22.464312Z",
     "shell.execute_reply": "2023-03-12T20:56:22.463628Z",
     "shell.execute_reply.started": "2023-03-12T19:41:02.507147Z"
    },
    "papermill": {
     "duration": 194.10577,
     "end_time": "2023-03-12T20:56:22.464494",
     "exception": false,
     "start_time": "2023-03-12T20:53:08.358724",
     "status": "completed"
    },
    "tags": []
   },
   "outputs": [
    {
     "name": "stdout",
     "output_type": "stream",
     "text": [
      "\n",
      " CONFUSION MATRIX:\n",
      "  [[106594  65699]\n",
      " [ 72948  98870]] \n",
      "\n",
      "FPR:  0.381\n",
      "TPR/ RECALL/ SENSTIVITY:  0.575\n",
      "PRECISION: 0.601\n",
      "SPECIFICITY:  0.619\n",
      "ACCURACY:  0.597\n",
      "ROC AUC:  0.597\n",
      "Cohens kappa:  0.194\n",
      "F1 score:  0.588\n",
      "\n",
      " CLASSIFICATION REPORT: \n",
      "               precision    recall  f1-score   support\n",
      "\n",
      "           0       0.59      0.62      0.61    172293\n",
      "           1       0.60      0.58      0.59    171818\n",
      "\n",
      "    accuracy                           0.60    344111\n",
      "   macro avg       0.60      0.60      0.60    344111\n",
      "weighted avg       0.60      0.60      0.60    344111\n",
      "\n"
     ]
    }
   ],
   "source": [
    "# Create adaboost classifer object\n",
    "adaBoost = AdaBoostClassifier(n_estimators=50, learning_rate=1, random_state=0)\n",
    "# Train Adaboost Classifer\n",
    "model1 = adaBoost.fit(X_train, y_train)\n",
    "\n",
    "#Predict the response for test dataset\n",
    "y_pred_ada = model1.predict(X_test)\n",
    "accuracy_result(y_test, y_pred_ada)"
   ]
  },
  {
   "cell_type": "markdown",
   "metadata": {
    "papermill": {
     "duration": 0.056021,
     "end_time": "2023-03-12T20:56:22.578757",
     "exception": false,
     "start_time": "2023-03-12T20:56:22.522736",
     "status": "completed"
    },
    "tags": []
   },
   "source": [
    "#### Q14.: Do you think using AdaBoost can give any significant improvement over XGBoost?\n",
    "\n",
    "***Ans.:In this instance, the XGBoost model outscored the AdaBoost model in terms of accuracy and F1 score, which resulted in the AdaBoost model not being able to improve. It is likely that the dataset that was utilised was not appropriate for the boosting approach that AdaBoost employs, or that the hyperparameters for AdaBoost were not correctly tweaked to their optimal values. It is essential to keep in mind that not all machine learning models perform equally well on all datasets. Because of this, it is always a good idea to test out many models and evaluate how well each one performs on the dataset in question. In this particular instance, it would seem that XGBoost was more suited for the dataset that was provided, and as a result, it performed better than the AdaBoost model.***"
   ]
  },
  {
   "cell_type": "markdown",
   "metadata": {
    "papermill": {
     "duration": 0.061462,
     "end_time": "2023-03-12T20:56:22.696499",
     "exception": false,
     "start_time": "2023-03-12T20:56:22.635037",
     "status": "completed"
    },
    "tags": []
   },
   "source": [
    "### MLP Classifier"
   ]
  },
  {
   "cell_type": "code",
   "execution_count": 34,
   "metadata": {
    "execution": {
     "iopub.execute_input": "2023-03-12T20:56:22.835989Z",
     "iopub.status.busy": "2023-03-12T20:56:22.834943Z",
     "iopub.status.idle": "2023-03-12T20:59:49.605768Z",
     "shell.execute_reply": "2023-03-12T20:59:49.606328Z",
     "shell.execute_reply.started": "2023-03-12T19:44:38.553291Z"
    },
    "papermill": {
     "duration": 206.841956,
     "end_time": "2023-03-12T20:59:49.606521",
     "exception": false,
     "start_time": "2023-03-12T20:56:22.764565",
     "status": "completed"
    },
    "tags": []
   },
   "outputs": [
    {
     "name": "stdout",
     "output_type": "stream",
     "text": [
      "\n",
      " CONFUSION MATRIX:\n",
      "  [[ 87592  84701]\n",
      " [ 51160 120658]] \n",
      "\n",
      "FPR:  0.492\n",
      "TPR/ RECALL/ SENSTIVITY:  0.702\n",
      "PRECISION: 0.588\n",
      "SPECIFICITY:  0.508\n",
      "ACCURACY:  0.605\n",
      "ROC AUC:  0.605\n",
      "Cohens kappa:  0.211\n",
      "F1 score:  0.64\n",
      "\n",
      " CLASSIFICATION REPORT: \n",
      "               precision    recall  f1-score   support\n",
      "\n",
      "           0       0.63      0.51      0.56    172293\n",
      "           1       0.59      0.70      0.64    171818\n",
      "\n",
      "    accuracy                           0.61    344111\n",
      "   macro avg       0.61      0.61      0.60    344111\n",
      "weighted avg       0.61      0.61      0.60    344111\n",
      "\n"
     ]
    }
   ],
   "source": [
    "# Training the model\n",
    "mlp = MLPClassifier(hidden_layer_sizes=(10, 10, 10),activation='logistic', max_iter=200)\n",
    "mlp.fit(X_train, y_train.values.ravel())\n",
    "\n",
    "# Prediction on x_test\n",
    "y_predic = mlp.predict(X_test)\n",
    "accuracy_result(y_test,y_predic)"
   ]
  },
  {
   "cell_type": "markdown",
   "metadata": {
    "papermill": {
     "duration": 0.056883,
     "end_time": "2023-03-12T20:59:49.721806",
     "exception": false,
     "start_time": "2023-03-12T20:59:49.664923",
     "status": "completed"
    },
    "tags": []
   },
   "source": [
    "#### Q15.: MLPClassifier is the neural network we are trying. But how to choose the right no. of layers and size?\n",
    "***Ans :\n",
    "Choosing the right number of layers and size for an `MLPClassifier` is an important step in building an effective neural network. Here are some general guidelines to follow:***\n",
    "\n",
    "* Start with a small number of layers and nodes, and gradually increase them until the performance of the model starts to decrease.\n",
    "* Use a validation set or cross-validation to compare the performance of different architectures.\n",
    "* Use regularization techniques such as L1 or L2 regularization to prevent overfitting.\n",
    "* Use techniques such as dropout or early stopping to prevent overfitting.\n",
    "\n",
    "***Additionally, it is important to consider the complexity of the problem you are trying to solve, as well as the size and quality of your training dataset. If your dataset is very large, you may be able to use a larger network with more layers and nodes. On the other hand, if your dataset is small, you may need to use a smaller network with fewer layers and nodes to avoid overfitting. Ultimately, the best approach will depend on the specific problem you are trying to solve, and may require some trial and error to find the optimal architecture.***\n",
    "\n",
    "#### Q16.: At what layer size we get the best f1-score?\n",
    "\n",
    "**Ans.:** $10$\n"
   ]
  },
  {
   "cell_type": "markdown",
   "metadata": {
    "papermill": {
     "duration": 0.057702,
     "end_time": "2023-03-12T20:59:49.837224",
     "exception": false,
     "start_time": "2023-03-12T20:59:49.779522",
     "status": "completed"
    },
    "tags": []
   },
   "source": [
    "## Final Result Comperison"
   ]
  },
  {
   "cell_type": "code",
   "execution_count": 35,
   "metadata": {
    "execution": {
     "iopub.execute_input": "2023-03-12T20:59:49.955996Z",
     "iopub.status.busy": "2023-03-12T20:59:49.955259Z",
     "iopub.status.idle": "2023-03-12T20:59:56.099193Z",
     "shell.execute_reply": "2023-03-12T20:59:56.099706Z",
     "shell.execute_reply.started": "2023-03-12T20:39:57.883596Z"
    },
    "papermill": {
     "duration": 6.205265,
     "end_time": "2023-03-12T20:59:56.099881",
     "exception": false,
     "start_time": "2023-03-12T20:59:49.894616",
     "status": "completed"
    },
    "tags": []
   },
   "outputs": [
    {
     "data": {
      "text/html": [
       "<div>\n",
       "<style scoped>\n",
       "    .dataframe tbody tr th:only-of-type {\n",
       "        vertical-align: middle;\n",
       "    }\n",
       "\n",
       "    .dataframe tbody tr th {\n",
       "        vertical-align: top;\n",
       "    }\n",
       "\n",
       "    .dataframe thead th {\n",
       "        text-align: right;\n",
       "    }\n",
       "</style>\n",
       "<table border=\"1\" class=\"dataframe\">\n",
       "  <thead>\n",
       "    <tr style=\"text-align: right;\">\n",
       "      <th></th>\n",
       "      <th>F1_score</th>\n",
       "      <th>Accuracy</th>\n",
       "    </tr>\n",
       "  </thead>\n",
       "  <tbody>\n",
       "    <tr>\n",
       "      <th>Log_Reg(Before Resamp)</th>\n",
       "      <td>0.00</td>\n",
       "      <td>0.96</td>\n",
       "    </tr>\n",
       "    <tr>\n",
       "      <th>Log_Reg(After Resamp)</th>\n",
       "      <td>0.57</td>\n",
       "      <td>0.59</td>\n",
       "    </tr>\n",
       "    <tr>\n",
       "      <th>SVC</th>\n",
       "      <td>0.56</td>\n",
       "      <td>0.59</td>\n",
       "    </tr>\n",
       "    <tr>\n",
       "      <th>XGBoost</th>\n",
       "      <td>1.00</td>\n",
       "      <td>1.00</td>\n",
       "    </tr>\n",
       "    <tr>\n",
       "      <th>AdaBoost</th>\n",
       "      <td>0.59</td>\n",
       "      <td>0.60</td>\n",
       "    </tr>\n",
       "    <tr>\n",
       "      <th>MLP Classifier</th>\n",
       "      <td>0.64</td>\n",
       "      <td>0.60</td>\n",
       "    </tr>\n",
       "  </tbody>\n",
       "</table>\n",
       "</div>"
      ],
      "text/plain": [
       "                                   F1_score             Accuracy\n",
       "Log_Reg(Before Resamp)                 0.00                 0.96\n",
       "Log_Reg(After Resamp)                  0.57                 0.59\n",
       "SVC                                    0.56                 0.59\n",
       "XGBoost                                1.00                 1.00\n",
       "AdaBoost                               0.59                 0.60\n",
       "MLP Classifier                         0.64                 0.60"
      ]
     },
     "execution_count": 35,
     "metadata": {},
     "output_type": "execute_result"
    }
   ],
   "source": [
    "models = [('Log_Reg(Before Resamp)', y_pred_logreg1), \n",
    "          ('Log_Reg(After Resamp)', y_pred_logreg2),\n",
    "          ('SVC', y_pred_svc),\n",
    "          ('XGBoost', y_pred_xgb),\n",
    "          ('AdaBoost', y_pred_ada),\n",
    "          ('MLP Classifier', y_predic)]\n",
    "\n",
    "data = {}\n",
    "for name, y_pred_ in models:\n",
    "    for name, y_pred_ in models[:1]:\n",
    "        f1 = np.round(f1_score(y_Test, y_pred_), 3)\n",
    "        accuracy = np.round(sklearn.metrics.accuracy_score(y_Test, y_pred_), 3)\n",
    "        data[name] = [f1, accuracy]\n",
    "        \n",
    "    for name, y_pred_ in models[1:]:\n",
    "        f1 = np.round(f1_score(y_test, y_pred_), 3)\n",
    "        accuracy = np.round(sklearn.metrics.accuracy_score(y_test, y_pred_), 3)\n",
    "        data[name] = [f1, accuracy]\n",
    "\n",
    "df_result = pd.DataFrame(data).T.rename(columns={0: 'F1_score', 1: 'Accuracy'})\n",
    "df_result"
   ]
  },
  {
   "cell_type": "markdown",
   "metadata": {
    "papermill": {
     "duration": 0.059745,
     "end_time": "2023-03-12T20:59:56.218763",
     "exception": false,
     "start_time": "2023-03-12T20:59:56.159018",
     "status": "completed"
    },
    "tags": []
   },
   "source": [
    "***After comparing the $F1 score$ and $Accuracy$ of all used Machine Learning models, we found that `XGBoost` model is best performing and giving best result with respect to all other model.***"
   ]
  }
 ],
 "metadata": {
  "kernelspec": {
   "display_name": "Python 3",
   "language": "python",
   "name": "python3"
  },
  "language_info": {
   "codemirror_mode": {
    "name": "ipython",
    "version": 3
   },
   "file_extension": ".py",
   "mimetype": "text/x-python",
   "name": "python",
   "nbconvert_exporter": "python",
   "pygments_lexer": "ipython3",
   "version": "3.7.6"
  },
  "papermill": {
   "duration": 1065.251222,
   "end_time": "2023-03-12T20:59:56.384629",
   "environment_variables": {},
   "exception": null,
   "input_path": "__notebook__.ipynb",
   "output_path": "__notebook__.ipynb",
   "parameters": {},
   "start_time": "2023-03-12T20:42:11.133407",
   "version": "2.1.0"
  }
 },
 "nbformat": 4,
 "nbformat_minor": 4
}
