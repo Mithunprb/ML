{
 "cells": [
  {
   "cell_type": "markdown",
   "metadata": {
    "id": "z6EZsxj9gmyN",
    "papermill": {
     "duration": 0.006769,
     "end_time": "2022-06-22T04:56:34.226734",
     "exception": false,
     "start_time": "2022-06-22T04:56:34.219965",
     "status": "completed"
    },
    "tags": []
   },
   "source": [
    "# Real-time Image Stitching"
   ]
  },
  {
   "cell_type": "code",
   "execution_count": 1,
   "metadata": {
    "execution": {
     "iopub.execute_input": "2022-07-03T08:34:52.009839Z",
     "iopub.status.busy": "2022-07-03T08:34:52.009250Z",
     "iopub.status.idle": "2022-07-03T08:34:52.878811Z",
     "shell.execute_reply": "2022-07-03T08:34:52.877589Z",
     "shell.execute_reply.started": "2022-07-03T08:34:52.009710Z"
    },
    "id": "1o_7eAR6gmyP",
    "outputId": "d1d9ce81-2c39-47b5-d1b7-e76b49f7d355",
    "papermill": {
     "duration": 0.743724,
     "end_time": "2022-06-22T04:56:34.976241",
     "exception": false,
     "start_time": "2022-06-22T04:56:34.232517",
     "status": "completed"
    },
    "tags": []
   },
   "outputs": [
    {
     "name": "stdout",
     "output_type": "stream",
     "text": [
      "Sun Jul  3 08:34:52 2022       \n",
      "+-----------------------------------------------------------------------------+\n",
      "| NVIDIA-SMI 470.82.01    Driver Version: 470.82.01    CUDA Version: 11.4     |\n",
      "|-------------------------------+----------------------+----------------------+\n",
      "| GPU  Name        Persistence-M| Bus-Id        Disp.A | Volatile Uncorr. ECC |\n",
      "| Fan  Temp  Perf  Pwr:Usage/Cap|         Memory-Usage | GPU-Util  Compute M. |\n",
      "|                               |                      |               MIG M. |\n",
      "|===============================+======================+======================|\n",
      "|   0  Tesla P100-PCIE...  Off  | 00000000:00:04.0 Off |                    0 |\n",
      "| N/A   35C    P0    26W / 250W |      0MiB / 16280MiB |      0%      Default |\n",
      "|                               |                      |                  N/A |\n",
      "+-------------------------------+----------------------+----------------------+\n",
      "                                                                               \n",
      "+-----------------------------------------------------------------------------+\n",
      "| Processes:                                                                  |\n",
      "|  GPU   GI   CI        PID   Type   Process name                  GPU Memory |\n",
      "|        ID   ID                                                   Usage      |\n",
      "|=============================================================================|\n",
      "|  No running processes found                                                 |\n",
      "+-----------------------------------------------------------------------------+\n"
     ]
    }
   ],
   "source": [
    "!nvidia-smi "
   ]
  },
  {
   "cell_type": "code",
   "execution_count": 2,
   "metadata": {
    "execution": {
     "iopub.execute_input": "2022-07-03T08:34:52.887016Z",
     "iopub.status.busy": "2022-07-03T08:34:52.884401Z",
     "iopub.status.idle": "2022-07-03T08:35:27.223993Z",
     "shell.execute_reply": "2022-07-03T08:35:27.222907Z",
     "shell.execute_reply.started": "2022-07-03T08:34:52.886977Z"
    },
    "id": "pmONzSWFgmyQ",
    "outputId": "de46593b-7701-4a8f-a710-b11e4471d0cd",
    "papermill": {
     "duration": 33.404396,
     "end_time": "2022-06-22T04:57:08.390076",
     "exception": false,
     "start_time": "2022-06-22T04:56:34.98568",
     "status": "completed"
    },
    "scrolled": true,
    "tags": []
   },
   "outputs": [
    {
     "name": "stdout",
     "output_type": "stream",
     "text": [
      "Collecting gdown\n",
      "  Downloading gdown-4.5.1.tar.gz (14 kB)\n",
      "  Installing build dependencies ... \u001b[?25ldone\n",
      "\u001b[?25h  Getting requirements to build wheel ... \u001b[?25ldone\n",
      "\u001b[?25h  Preparing metadata (pyproject.toml) ... \u001b[?25ldone\n",
      "\u001b[?25hRequirement already satisfied: requests[socks] in /opt/conda/lib/python3.7/site-packages (from gdown) (2.27.1)\n",
      "Requirement already satisfied: tqdm in /opt/conda/lib/python3.7/site-packages (from gdown) (4.64.0)\n",
      "Requirement already satisfied: six in /opt/conda/lib/python3.7/site-packages (from gdown) (1.16.0)\n",
      "Requirement already satisfied: beautifulsoup4 in /opt/conda/lib/python3.7/site-packages (from gdown) (4.11.1)\n",
      "Requirement already satisfied: filelock in /opt/conda/lib/python3.7/site-packages (from gdown) (3.6.0)\n",
      "Requirement already satisfied: soupsieve>1.2 in /opt/conda/lib/python3.7/site-packages (from beautifulsoup4->gdown) (2.3.1)\n",
      "Requirement already satisfied: idna<4,>=2.5 in /opt/conda/lib/python3.7/site-packages (from requests[socks]->gdown) (3.3)\n",
      "Requirement already satisfied: charset-normalizer~=2.0.0 in /opt/conda/lib/python3.7/site-packages (from requests[socks]->gdown) (2.0.12)\n",
      "Requirement already satisfied: urllib3<1.27,>=1.21.1 in /opt/conda/lib/python3.7/site-packages (from requests[socks]->gdown) (1.26.9)\n",
      "Requirement already satisfied: certifi>=2017.4.17 in /opt/conda/lib/python3.7/site-packages (from requests[socks]->gdown) (2022.6.15)\n",
      "Requirement already satisfied: PySocks!=1.5.7,>=1.5.6 in /opt/conda/lib/python3.7/site-packages (from requests[socks]->gdown) (1.7.1)\n",
      "Building wheels for collected packages: gdown\n",
      "  Building wheel for gdown (pyproject.toml) ... \u001b[?25ldone\n",
      "\u001b[?25h  Created wheel for gdown: filename=gdown-4.5.1-py3-none-any.whl size=14933 sha256=d14ebc57620f3f1bd0c46a990ac87ae0cf813da7c994a5edf59065f8a80fcaa4\n",
      "  Stored in directory: /tmp/pip-ephem-wheel-cache-02lx0pff/wheels/3d/ec/b0/a96d1d126183f98570a785e6bf8789fca559853a9260e928e1\n",
      "Successfully built gdown\n",
      "Installing collected packages: gdown\n",
      "Successfully installed gdown-4.5.1\n",
      "\u001b[33mWARNING: Running pip as the 'root' user can result in broken permissions and conflicting behaviour with the system package manager. It is recommended to use a virtual environment instead: https://pip.pypa.io/warnings/venv\u001b[0m\u001b[33m\n",
      "\u001b[0m/opt/conda/lib/python3.7/site-packages/gdown/cli.py:131: FutureWarning: Option `--id` was deprecated in version 4.3.1 and will be removed in 5.0. You don't need to pass it anymore to use a file ID.\n",
      "  category=FutureWarning,\n",
      "Downloading...\n",
      "From: https://drive.google.com/uc?id=1i6maaUCbQpLVFYpDXHDBI8RDXq3CPaAn\n",
      "To: /kaggle/working/panorama.zip\n",
      "100%|███████████████████████████████████████| 75.6M/75.6M [00:00<00:00, 314MB/s]\n"
     ]
    }
   ],
   "source": [
    "!pip install --upgrade --no-cache gdown\n",
    "# https://drive.google.com/file/d/1i6maaUCbQpLVFYpDXHDBI8RDXq3CPaAn/view?usp=sharing\n",
    "!gdown --id 1i6maaUCbQpLVFYpDXHDBI8RDXq3CPaAn"
   ]
  },
  {
   "cell_type": "code",
   "execution_count": 3,
   "metadata": {
    "execution": {
     "iopub.execute_input": "2022-07-03T08:35:27.226328Z",
     "iopub.status.busy": "2022-07-03T08:35:27.225675Z",
     "iopub.status.idle": "2022-07-03T08:35:29.371445Z",
     "shell.execute_reply": "2022-07-03T08:35:29.370209Z",
     "shell.execute_reply.started": "2022-07-03T08:35:27.226292Z"
    },
    "id": "886XuHR1gmyR",
    "outputId": "27ea0c19-8cce-4702-a974-23930cab01de",
    "papermill": {
     "duration": 2.608285,
     "end_time": "2022-06-22T04:57:11.006483",
     "exception": false,
     "start_time": "2022-06-22T04:57:08.398198",
     "status": "completed"
    },
    "scrolled": true,
    "tags": []
   },
   "outputs": [
    {
     "name": "stdout",
     "output_type": "stream",
     "text": [
      "Archive:  panorama.zip\n",
      "   creating: panorama/\n",
      "   creating: panorama/hr/\n",
      "  inflating: panorama/hr/040.jpg     \n",
      "  inflating: panorama/hr/046.jpg     \n",
      "  inflating: panorama/hr/006.jpg     \n",
      "  inflating: panorama/hr/001.jpg     \n",
      "  inflating: panorama/hr/002.jpg     \n",
      "  inflating: panorama/hr/005.jpg     \n",
      "  inflating: panorama/hr/009.jpg     \n",
      "  inflating: panorama/hr/007.jpg     \n",
      "  inflating: panorama/hr/008.jpg     \n",
      "  inflating: panorama/hr/010.jpg     \n",
      "  inflating: panorama/hr/011.jpg     \n",
      "  inflating: panorama/hr/012.jpg     \n",
      "  inflating: panorama/hr/016.jpg     \n",
      "  inflating: panorama/hr/019.jpg     \n",
      "  inflating: panorama/hr/014.jpg     \n",
      "  inflating: panorama/hr/015.jpg     \n",
      "  inflating: panorama/hr/018.jpg     \n",
      "  inflating: panorama/hr/017.jpg     \n",
      "  inflating: panorama/hr/041.jpg     \n",
      "  inflating: panorama/hr/030.jpg     \n",
      "  inflating: panorama/hr/039.jpg     \n",
      "  inflating: panorama/hr/049.jpg     \n",
      "  inflating: panorama/hr/029.jpg     \n",
      "  inflating: panorama/hr/032.jpg     \n",
      "  inflating: panorama/hr/044.jpg     \n",
      "  inflating: panorama/hr/031.jpg     \n",
      "  inflating: panorama/hr/060.jpg     \n",
      "  inflating: panorama/hr/038.jpg     \n",
      "  inflating: panorama/hr/042.jpg     \n",
      "  inflating: panorama/hr/043.jpg     \n",
      "  inflating: panorama/hr/037.jpg     \n",
      "  inflating: panorama/hr/045.jpg     \n",
      "  inflating: panorama/hr/047.jpg     \n",
      "  inflating: panorama/hr/048.jpg     \n",
      "  inflating: panorama/hr/052.jpg     \n",
      "  inflating: panorama/hr/053.jpg     \n",
      "  inflating: panorama/hr/055.jpg     \n",
      "  inflating: panorama/hr/057.jpg     \n",
      "  inflating: panorama/hr/058.jpg     \n",
      "  inflating: panorama/hr/059.jpg     \n",
      "  inflating: panorama/hr/035.jpg     \n",
      "  inflating: panorama/hr/036.jpg     \n",
      "  inflating: panorama/hr/050.jpg     \n",
      "  inflating: panorama/hr/051.jpg     \n",
      "  inflating: panorama/hr/054.jpg     \n",
      "  inflating: panorama/hr/056.jpg     \n",
      "   creating: panorama/lr1/\n",
      "  inflating: panorama/lr1/001.jpg    \n",
      "  inflating: panorama/lr1/002.jpg    \n",
      "  inflating: panorama/lr1/032.jpg    \n",
      "  inflating: panorama/lr1/005.jpg    \n",
      "  inflating: panorama/lr1/006.jpg    \n",
      "  inflating: panorama/lr1/007.jpg    \n",
      "  inflating: panorama/lr1/008.jpg    \n",
      "  inflating: panorama/lr1/009.jpg    \n",
      "  inflating: panorama/lr1/010.jpg    \n",
      "  inflating: panorama/lr1/011.jpg    \n",
      "  inflating: panorama/lr1/012.jpg    \n",
      "  inflating: panorama/lr1/014.jpg    \n",
      "  inflating: panorama/lr1/015.jpg    \n",
      "  inflating: panorama/lr1/016.jpg    \n",
      "  inflating: panorama/lr1/017.jpg    \n",
      "  inflating: panorama/lr1/018.jpg    \n",
      "  inflating: panorama/lr1/019.jpg    \n",
      "  inflating: panorama/lr1/029.jpg    \n",
      "  inflating: panorama/lr1/030.jpg    \n",
      "  inflating: panorama/lr1/031.jpg    \n",
      "  inflating: panorama/lr1/035.jpg    \n",
      "  inflating: panorama/lr1/036.jpg    \n",
      "  inflating: panorama/lr1/037.jpg    \n",
      "  inflating: panorama/lr1/038.jpg    \n",
      "  inflating: panorama/lr1/039.jpg    \n",
      "  inflating: panorama/lr1/040.jpg    \n",
      "  inflating: panorama/lr1/041.jpg    \n",
      "  inflating: panorama/lr1/042.jpg    \n",
      "  inflating: panorama/lr1/043.jpg    \n",
      "  inflating: panorama/lr1/044.jpg    \n",
      "  inflating: panorama/lr1/045.jpg    \n",
      "  inflating: panorama/lr1/046.jpg    \n",
      "  inflating: panorama/lr1/047.jpg    \n",
      "  inflating: panorama/lr1/048.jpg    \n",
      "  inflating: panorama/lr1/049.jpg    \n",
      "  inflating: panorama/lr1/050.jpg    \n",
      "  inflating: panorama/lr1/051.jpg    \n",
      "  inflating: panorama/lr1/052.jpg    \n",
      "  inflating: panorama/lr1/053.jpg    \n",
      "  inflating: panorama/lr1/054.jpg    \n",
      "  inflating: panorama/lr1/055.jpg    \n",
      "  inflating: panorama/lr1/056.jpg    \n",
      "  inflating: panorama/lr1/057.jpg    \n",
      "  inflating: panorama/lr1/058.jpg    \n",
      "  inflating: panorama/lr1/059.jpg    \n",
      "  inflating: panorama/lr1/060.jpg    \n",
      "   creating: panorama/lr2/\n",
      "  inflating: panorama/lr2/001.jpg    \n",
      "  inflating: panorama/lr2/002.jpg    \n",
      "  inflating: panorama/lr2/005.jpg    \n",
      "  inflating: panorama/lr2/006.jpg    \n",
      "  inflating: panorama/lr2/007.jpg    \n",
      "  inflating: panorama/lr2/008.jpg    \n",
      "  inflating: panorama/lr2/009.jpg    \n",
      "  inflating: panorama/lr2/010.jpg    \n",
      "  inflating: panorama/lr2/011.jpg    \n",
      "  inflating: panorama/lr2/012.jpg    \n",
      "  inflating: panorama/lr2/014.jpg    \n",
      "  inflating: panorama/lr2/015.jpg    \n",
      "  inflating: panorama/lr2/016.jpg    \n",
      "  inflating: panorama/lr2/017.jpg    \n",
      "  inflating: panorama/lr2/019.jpg    \n",
      "  inflating: panorama/lr2/018.jpg    \n",
      "  inflating: panorama/lr2/029.jpg    \n",
      "  inflating: panorama/lr2/030.jpg    \n",
      "  inflating: panorama/lr2/031.jpg    \n",
      "  inflating: panorama/lr2/032.jpg    \n",
      "  inflating: panorama/lr2/035.jpg    \n",
      "  inflating: panorama/lr2/036.jpg    \n",
      "  inflating: panorama/lr2/037.jpg    \n",
      "  inflating: panorama/lr2/038.jpg    \n",
      "  inflating: panorama/lr2/039.jpg    \n",
      "  inflating: panorama/lr2/040.jpg    \n",
      "  inflating: panorama/lr2/041.jpg    \n",
      "  inflating: panorama/lr2/042.jpg    \n",
      "  inflating: panorama/lr2/043.jpg    \n",
      "  inflating: panorama/lr2/044.jpg    \n",
      "  inflating: panorama/lr2/045.jpg    \n",
      "  inflating: panorama/lr2/046.jpg    \n",
      "  inflating: panorama/lr2/047.jpg    \n",
      "  inflating: panorama/lr2/048.jpg    \n",
      "  inflating: panorama/lr2/049.jpg    \n",
      "  inflating: panorama/lr2/050.jpg    \n",
      "  inflating: panorama/lr2/051.jpg    \n",
      "  inflating: panorama/lr2/052.jpg    \n",
      "  inflating: panorama/lr2/053.jpg    \n",
      "  inflating: panorama/lr2/054.jpg    \n",
      "  inflating: panorama/lr2/055.jpg    \n",
      "  inflating: panorama/lr2/056.jpg    \n",
      "  inflating: panorama/lr2/057.jpg    \n",
      "  inflating: panorama/lr2/058.jpg    \n",
      "  inflating: panorama/lr2/059.jpg    \n",
      "  inflating: panorama/lr2/060.jpg    \n"
     ]
    }
   ],
   "source": [
    "!unzip panorama.zip\n",
    "!rm panorama.zip"
   ]
  },
  {
   "cell_type": "code",
   "execution_count": 4,
   "metadata": {
    "execution": {
     "iopub.execute_input": "2022-07-03T08:35:29.374973Z",
     "iopub.status.busy": "2022-07-03T08:35:29.374302Z",
     "iopub.status.idle": "2022-07-03T08:35:35.911257Z",
     "shell.execute_reply": "2022-07-03T08:35:35.910270Z",
     "shell.execute_reply.started": "2022-07-03T08:35:29.374932Z"
    },
    "id": "yUnm8VlvgmyR",
    "papermill": {
     "duration": 5.937229,
     "end_time": "2022-06-22T04:57:16.953476",
     "exception": false,
     "start_time": "2022-06-22T04:57:11.016247",
     "status": "completed"
    },
    "tags": []
   },
   "outputs": [],
   "source": [
    "# Modules\n",
    "import tensorflow as tf\n",
    "from tqdm import tqdm\n",
    "from tensorflow.keras.layers import Activation, Input, Lambda\n",
    "from tensorflow.keras.layers import Dense, concatenate\n",
    "from tensorflow.keras.layers import BatchNormalization, Conv2D, Conv2DTranspose, Flatten\n",
    "from tensorflow.keras.layers import UpSampling2D, add, Concatenate\n",
    "from tensorflow.keras.layers import LeakyReLU, PReLU\n",
    "\n",
    "from tensorflow.keras.applications.vgg19 import VGG19\n",
    "from tensorflow.keras.models import Model, load_model\n",
    "from tensorflow.keras.optimizers import Adam\n",
    "\n",
    "\n",
    "from numpy import array\n",
    "from numpy.random import randint\n",
    "from skimage import data, io, filters\n",
    "import numpy as np\n",
    "import cv2\n",
    "import tensorflow.keras.backend as K\n",
    "import tensorflow_addons as tfa\n",
    "import matplotlib.pyplot as plt\n",
    "\n",
    "import os\n",
    "import sys\n",
    "\n",
    "%matplotlib inline\n",
    "plt.switch_backend('agg')\n"
   ]
  },
  {
   "cell_type": "code",
   "execution_count": 5,
   "metadata": {
    "execution": {
     "iopub.execute_input": "2022-07-03T08:35:35.914059Z",
     "iopub.status.busy": "2022-07-03T08:35:35.912802Z",
     "iopub.status.idle": "2022-07-03T08:35:35.956141Z",
     "shell.execute_reply": "2022-07-03T08:35:35.955163Z",
     "shell.execute_reply.started": "2022-07-03T08:35:35.914024Z"
    },
    "id": "7HNQXMmfgmyS",
    "papermill": {
     "duration": 0.046472,
     "end_time": "2022-06-22T04:57:17.010267",
     "exception": false,
     "start_time": "2022-06-22T04:57:16.963795",
     "status": "completed"
    },
    "tags": []
   },
   "outputs": [],
   "source": [
    "def gt_images(images):\n",
    "    images_gt = images\n",
    "    return array(images_gt)\n",
    "\n",
    "def in_images(images_real):\n",
    "    # images = []\n",
    "    images_in = images_real\n",
    "    return array(images_in)\n",
    "\n",
    "def adj_normalize(input_data):\n",
    "\n",
    "    return (input_data.astype(np.float32) - 127.5)/127.5 \n",
    "    \n",
    "def deadj_normalize(input_data):\n",
    "    input_data = (input_data + 1) * 127.5\n",
    "    return input_data.astype(np.uint8)\n",
    "\n",
    "def feed_path(path):\n",
    "    directories = []\n",
    "    if os.path.isdir(path):\n",
    "        directories.append(path)\n",
    "    for elem in os.listdir(path):\n",
    "        if os.path.isdir(os.path.join(path,elem)):\n",
    "            directories = directories + feed_path(os.path.join(path,elem))\n",
    "            directories.append(os.path.join(path,elem))\n",
    "    return directories\n",
    "    \n",
    "def get_imgs(dirs, ext):\n",
    "    files = []\n",
    "    file_names = []\n",
    "    count = 0\n",
    "    for d in dirs:\n",
    "        for f in sorted(os.listdir(d)): \n",
    "            if f.endswith(ext):\n",
    "                if f:\n",
    "                    image = cv2.imread(os.path.join(d,f))\n",
    "                    image = cv2.resize(image, (512, 256), interpolation = cv2.INTER_CUBIC)\n",
    "                    # print(f)\n",
    "                    image = cv2.cvtColor(image, cv2.COLOR_BGR2RGB)\n",
    "                    if len(image.shape) > 2:\n",
    "                        files.append(image)\n",
    "                        file_names.append(os.path.join(d,f))\n",
    "                else:\n",
    "                    break\n",
    "                count = count + 1\n",
    "    return files \n",
    "\n",
    "def get_test_imgs(dirs, ext):\n",
    "    files = []\n",
    "    file_names = []\n",
    "    count = 0\n",
    "    for d in dirs:\n",
    "        for f in sorted(os.listdir(d)): \n",
    "            if f.endswith(ext):\n",
    "                if f:\n",
    "                    image = cv2.imread(os.path.join(d,f))\n",
    "#                     image = cv2.resize(image, (512, 256), interpolation = cv2.INTER_CUBIC)\n",
    "                    # print(f)\n",
    "                    print(image.shape)\n",
    "                    image = cv2.cvtColor(image, cv2.COLOR_BGR2RGB)\n",
    "                    if len(image.shape) > 2:\n",
    "                        files.append(image)\n",
    "                        file_names.append(os.path.join(d,f))\n",
    "                else:\n",
    "                    break\n",
    "                count = count + 1\n",
    "    return files   \n",
    "\n",
    "def feed_data(directory, ext):\n",
    "\n",
    "    files = get_imgs(feed_path(directory), ext)\n",
    "    return files\n",
    "    \n",
    "\n",
    "def conc(lin1, lin2):\n",
    "    final_in = []\n",
    "    for in1, in2 in zip(lin1, lin2):\n",
    "        # print(lin)\n",
    "        # print((in1.shape), (in2.shape))\n",
    "        try:\n",
    "#             img_bwa = cv2.bitwise_and(in1, in2)\n",
    "#             ret,tgtesh = cv2.threshold(img_bwa,0,255,cv2.THRESH_BINARY)\n",
    "            f_in  =  np.concatenate((in1, in2), axis=2)\n",
    "#             print(f_in.shape)\n",
    "            final_in.append(f_in)\n",
    "        except Exception as e:\n",
    "            print(f'Exception as {e}')\n",
    "            pass\n",
    "    return final_in\n",
    "\n",
    "def load_training_data(gt_dir, in_dir1, in_dir2, ext, number_of_images = 46, train_test_ratio = 0.8):\n",
    "\n",
    "    number_of_train_images = int(number_of_images * train_test_ratio)\n",
    "    \n",
    "    files = get_imgs(feed_path(gt_dir), ext)\n",
    "    in1files = get_imgs(feed_path(in_dir1), ext)\n",
    "    in2files = get_imgs(feed_path(in_dir2), ext)\n",
    "    in_files = conc(in1files, in2files)\n",
    "    \n",
    "    if len(files) < number_of_images:\n",
    "        print(\"No. of image files are less then you specified\")\n",
    "        print(f\"Please reduce number of images to {len(files)}\")\n",
    "        sys.exit()\n",
    "        \n",
    "    test_array = array(files, dtype=object)\n",
    "    # print(f'{len(test_array)}')\n",
    "    if len(test_array) < 3:\n",
    "        print(\"Images are of not same shape\")\n",
    "        print(\"Please provide same shape images\")\n",
    "        sys.exit()\n",
    "    \n",
    "    x_train = files[:number_of_train_images]\n",
    "    x_test = files[number_of_train_images:number_of_images]\n",
    "    x_in_train = in_files[:number_of_train_images]\n",
    "    x_in_test = in_files[number_of_train_images:number_of_images]\n",
    "    # print(x_in_test[0].shape) \n",
    "    x_train_gt = gt_images(x_train)\n",
    "    x_train_gt = adj_normalize(x_train_gt)\n",
    "  \n",
    "    x_train_in = in_images(x_in_train)\n",
    "    x_train_in = adj_normalize(x_train_in)\n",
    "    # print(x_train_in.shape)\n",
    "    \n",
    "    x_test_gt = gt_images(x_test)\n",
    "    x_test_gt = adj_normalize(x_test_gt)\n",
    "    \n",
    "    x_test_in = in_images(x_in_test)\n",
    "    x_test_in = adj_normalize(x_test_in)\n",
    "    # print(x_train_in.shape[0])\n",
    "    \n",
    "    return x_train_in, x_train_gt, x_test_in, x_test_gt\n",
    "\n",
    "\n",
    "def load_test_data_for_model(gt_dir, in_dir1, in_dir2, ext, number_of_images = 5):\n",
    "\n",
    "    files = get_test_imgs(feed_path(gt_dir), ext)\n",
    "    in1files = get_test_imgs(feed_path(in_dir1), ext)\n",
    "    in2files = get_test_imgs(feed_path(in_dir2), ext)\n",
    "    in_files = conc(in1files, in2files)\n",
    "    \n",
    "    if len(files) < number_of_images:\n",
    "        print(\"No. of image files are less then you specified\")\n",
    "        print(f\"Please reduce number of images to {len(files)}\")\n",
    "        sys.exit()\n",
    "        \n",
    "        \n",
    "    x_test_gt = gt_images(files)\n",
    "    x_test_gt = adj_normalize(x_test_gt)\n",
    "    \n",
    "    x_test_in = in_images(in_files)\n",
    "    x_test_in = adj_normalize(x_test_in)\n",
    "    \n",
    "    return x_test_in, x_test_gt\n",
    "    \n",
    "def load_test_data(in_dir1, in_dir2, ext, number_of_images = 100):\n",
    "\n",
    "    files = get_imgs(feed_path(in_dir1), ext)\n",
    "    files1 = get_imgs(feed_path(in_dir2), ext)\n",
    "    in_files = conc(files, files1)\n",
    "\n",
    "    if len(files) < number_of_images:\n",
    "        print(\"No. of image files are less then you specified\")\n",
    "        print(f\"Please reduce number of images to {len(files)}\")\n",
    "        sys.exit()\n",
    "        \n",
    "        \n",
    "    x_test_in = in_images(in_files)\n",
    "    x_test_in = adj_normalize(x_test_in)\n",
    "    \n",
    "    return x_test_in\n",
    "    \n",
    "def get_generated_images(output_dir, epoch, generator, x_test_gt, x_test_in , dim=(1, 3), figsize=(15, 5)):\n",
    "    \n",
    "    examples = x_test_gt.shape[0]\n",
    "    value = randint(0, examples)\n",
    "    image_batch_gt = deadj_normalize(x_test_gt)\n",
    "    image_batch_in = x_test_in\n",
    "    gen_img = generator.predict(image_batch_in)\n",
    "    generated_image = deadj_normalize(gen_img)\n",
    "    image_batch_in = deadj_normalize(image_batch_in)\n",
    "    \n",
    "    plt.figure(figsize=figsize)\n",
    "    \n",
    "    plt.subplot(dim[0], dim[1], 1)\n",
    "    plt.imshow(image_batch_in[value], interpolation='nearest')\n",
    "    plt.axis('off')\n",
    "        \n",
    "    plt.subplot(dim[0], dim[1], 2)\n",
    "    plt.imshow(generated_image[value], interpolation='nearest')\n",
    "    plt.axis('off')\n",
    "    \n",
    "    plt.subplot(dim[0], dim[1], 3)\n",
    "    plt.imshow(image_batch_gt[value], interpolation='nearest')\n",
    "    plt.axis('off')\n",
    "    \n",
    "    plt.tight_layout()\n",
    "    plt.savefig(output_dir + 'generated_image_%d.png' % epoch)\n",
    "    \n",
    "    #plt.show()\n",
    "    \n",
    "\n",
    "def get_test_gen_images_for_model(output_dir, generator, x_test_gt, x_test_in , dim=(2, 1), figsize=(1000, 2000)):\n",
    "    \n",
    "    examples = x_test_gt.shape[0]\n",
    "    image_batch_gt = deadj_normalize(x_test_gt)\n",
    "    image_batch_in = x_test_in\n",
    "    gen_img = generator.predict(image_batch_in)\n",
    "    generated_image = deadj_normalize(gen_img)\n",
    "    image_batch_in = deadj_normalize(image_batch_in)\n",
    "    plt.figure(figsize=(15,10))\n",
    "    for index in range(examples):\n",
    "        cv2.imwrite(f'{output_dir}test_generated_image_{index}.png', cv2.cvtColor(generated_image[index], cv2.COLOR_BGR2RGB))\n",
    "\n",
    "\n",
    "def plot_test_gen_images(output_dir, generator, x_test_in, figsize=(5, 5)):\n",
    "    \n",
    "    examples = x_test_in.shape[0]\n",
    "    image_batch_in = deadj_normalize(x_test_in)\n",
    "    gen_img = generator.predict(image_batch_in)\n",
    "    generated_image = deadj_normalize(gen_img)\n",
    "    \n",
    "    for index in range(examples):\n",
    "        cv2.imwrite(f'{output_dir}test_generated_image_{index}.png', cv2.cvtColor(generated_image[index], cv2.COLOR_BGR2RGB))"
   ]
  },
  {
   "cell_type": "code",
   "execution_count": 6,
   "metadata": {
    "execution": {
     "iopub.execute_input": "2022-07-03T08:35:35.958212Z",
     "iopub.status.busy": "2022-07-03T08:35:35.957771Z",
     "iopub.status.idle": "2022-07-03T08:35:35.969810Z",
     "shell.execute_reply": "2022-07-03T08:35:35.968816Z",
     "shell.execute_reply.started": "2022-07-03T08:35:35.958176Z"
    },
    "id": "2ZPqPt1igmyW",
    "papermill": {
     "duration": 0.02079,
     "end_time": "2022-06-22T04:57:17.04009",
     "exception": false,
     "start_time": "2022-06-22T04:57:17.0193",
     "status": "completed"
    },
    "tags": []
   },
   "outputs": [],
   "source": [
    "# Residual block\n",
    "# @tf.function\n",
    "def Residual_block(model, kernal_size, filters, strides):\n",
    "\n",
    "    gen = model\n",
    "\n",
    "    model = Conv2D(filters=filters, kernel_size=kernal_size,\n",
    "                   strides=strides, padding=\"same\")\n",
    "#     model = BatchNormalization(momentum=0.5)(model)\n",
    "    model = tfa.layers.WeightNormalization(model)(gen)\n",
    "    # Using Parametric ReLU\n",
    "    model = PReLU(alpha_initializer='zeros', alpha_regularizer=None,\n",
    "                  alpha_constraint=None, shared_axes=[1, 2])(model)\n",
    "    gen2 = model\n",
    "    \n",
    "    model = Conv2D(filters=filters, kernel_size=kernal_size,\n",
    "                   strides=strides, padding=\"same\")\n",
    "    model = tfa.layers.WeightNormalization(model)(gen2)\n",
    "\n",
    "    model = add([gen, model])\n",
    "\n",
    "    return model\n",
    "\n",
    "# @tf.function\n",
    "def discriminator_based_block(model, filters, kernel_size, strides):\n",
    "\n",
    "    first_model = model\n",
    "\n",
    "    model = Conv2D(filters=filters, kernel_size=kernel_size,\n",
    "                   strides=strides, padding=\"same\")(model)\n",
    "#     model = tfa.layers.WeightNormalization(model)(first_model)\n",
    "    model = BatchNormalization(momentum=0.5)(model)\n",
    "    model = LeakyReLU(alpha=0.2)(model)\n",
    "\n",
    "    return model"
   ]
  },
  {
   "cell_type": "code",
   "execution_count": 7,
   "metadata": {
    "execution": {
     "iopub.execute_input": "2022-07-03T08:35:35.971788Z",
     "iopub.status.busy": "2022-07-03T08:35:35.971305Z",
     "iopub.status.idle": "2022-07-03T08:35:35.981626Z",
     "shell.execute_reply": "2022-07-03T08:35:35.980616Z",
     "shell.execute_reply.started": "2022-07-03T08:35:35.971754Z"
    }
   },
   "outputs": [],
   "source": [
    "@tf.function\n",
    "def charbonnier_loss(y_true, y_pred):\n",
    "    return tf.reduce_mean(tf.sqrt(tf.square(y_true - y_pred) + tf.square(1e-3)))"
   ]
  },
  {
   "cell_type": "code",
   "execution_count": 8,
   "metadata": {
    "execution": {
     "iopub.execute_input": "2022-07-03T08:35:35.983784Z",
     "iopub.status.busy": "2022-07-03T08:35:35.982917Z",
     "iopub.status.idle": "2022-07-03T08:35:35.998838Z",
     "shell.execute_reply": "2022-07-03T08:35:35.997820Z",
     "shell.execute_reply.started": "2022-07-03T08:35:35.983759Z"
    },
    "id": "5rVTCgqJgmyX",
    "papermill": {
     "duration": 0.02377,
     "end_time": "2022-06-22T04:57:17.072807",
     "exception": false,
     "start_time": "2022-06-22T04:57:17.049037",
     "status": "completed"
    },
    "tags": []
   },
   "outputs": [],
   "source": [
    "class Generator(object):\n",
    "\n",
    "        \n",
    "    # @tf.function\n",
    "    def generator(self, noise_shape):\n",
    "\n",
    "        gen_input = Input(shape=noise_shape)\n",
    "\n",
    "        model = Conv2D(filters=32, kernel_size=8,\n",
    "                       strides=2, padding=\"same\")(gen_input)\n",
    "        model = PReLU(alpha_initializer='zeros', alpha_regularizer=None,\n",
    "                      alpha_constraint=None, shared_axes=[1, 2])(model)\n",
    "        get_model = model\n",
    "        model = Conv2D(filters=64, kernel_size=8,\n",
    "                       strides=2, padding=\"same\")(model)\n",
    "        model = PReLU(alpha_initializer='zeros', alpha_regularizer=None,\n",
    "                      alpha_constraint=None, shared_axes=[1, 2])(model)\n",
    "        sec_model = model\n",
    "\n",
    "        # Using 16 Residual Blocks\n",
    "        for index in range(4):\n",
    "            model = Residual_block(model, 3, 64, 1)\n",
    "        \n",
    "        res_model = model\n",
    "\n",
    "        model = Conv2D(filters = 64, kernel_size = 3, strides = 1, padding = \"same\")\n",
    "        model = tfa.layers.WeightNormalization(model)(res_model)\n",
    "        \n",
    "        model = add([sec_model, model])\n",
    "        model = UpSampling2D(size=(2, 2), interpolation='bilinear')(model)\n",
    "        model = Conv2D(filters=64, kernel_size=8,\n",
    "                       strides=1, padding=\"same\")(model)\n",
    "        model = PReLU(alpha_initializer='zeros', alpha_regularizer=None,\n",
    "                      alpha_constraint=None, shared_axes=[1, 2])(model)\n",
    "        \n",
    "#         model = Add()([get_model, model])\n",
    "        model = Concatenate()([get_model, model])\n",
    "        model = UpSampling2D(size=(2, 2), interpolation='bilinear')(model)\n",
    "        model = Conv2D(filters=32, kernel_size=8,\n",
    "                       strides=1, padding=\"same\")(model)\n",
    "        model = PReLU(alpha_initializer='zeros', alpha_regularizer=None,\n",
    "                      alpha_constraint=None, shared_axes=[1, 2])(model)\n",
    "#         model = Concatenate()([get_model, model])\n",
    "\n",
    "        model = Conv2D(filters=3, kernel_size=3,\n",
    "                       strides=1, padding=\"same\")(model)\n",
    "        model = Activation('tanh')(model)\n",
    "        \n",
    "        generator_model = Model(inputs=gen_input, outputs=model)\n",
    "\n",
    "        return generator_model"
   ]
  },
  {
   "cell_type": "code",
   "execution_count": 9,
   "metadata": {
    "execution": {
     "iopub.execute_input": "2022-07-03T08:35:36.003551Z",
     "iopub.status.busy": "2022-07-03T08:35:36.002534Z",
     "iopub.status.idle": "2022-07-03T08:35:36.013828Z",
     "shell.execute_reply": "2022-07-03T08:35:36.012877Z",
     "shell.execute_reply.started": "2022-07-03T08:35:36.003514Z"
    },
    "id": "PYGWiyb8gmyX",
    "papermill": {
     "duration": 0.019363,
     "end_time": "2022-06-22T04:57:17.1013",
     "exception": false,
     "start_time": "2022-06-22T04:57:17.081937",
     "status": "completed"
    },
    "tags": []
   },
   "outputs": [],
   "source": [
    "class Discriminator(object):\n",
    "\n",
    "    def discriminator(self, image_shape):\n",
    "\n",
    "        dis_input = Input(shape=image_shape)\n",
    "\n",
    "        model = Conv2D(filters=64, kernel_size=3,\n",
    "                       strides=1, padding=\"same\")(dis_input)\n",
    "        model = LeakyReLU(alpha=0.2)(model)\n",
    "\n",
    "        model = discriminator_based_block(model, 64, 3, 2)\n",
    "        model = discriminator_based_block(model, 128, 3, 1)\n",
    "        model = discriminator_based_block(model, 128, 3, 2)\n",
    "        model = discriminator_based_block(model, 256, 3, 1)\n",
    "        model = discriminator_based_block(model, 256, 3, 2)\n",
    "        model = discriminator_based_block(model, 512, 3, 1)\n",
    "        model = discriminator_based_block(model, 512, 3, 2)\n",
    "\n",
    "        model = Flatten()(model)\n",
    "        model = Dense(1024)(model)\n",
    "        model = LeakyReLU(alpha=0.2)(model)\n",
    "\n",
    "        model = Dense(1)(model)\n",
    "        model = Activation('tanh')(model)\n",
    "\n",
    "        discriminator_model = Model(inputs=dis_input, outputs=model)\n",
    "\n",
    "        return discriminator_model"
   ]
  },
  {
   "cell_type": "code",
   "execution_count": 10,
   "metadata": {
    "execution": {
     "iopub.execute_input": "2022-07-03T08:35:36.016076Z",
     "iopub.status.busy": "2022-07-03T08:35:36.015448Z",
     "iopub.status.idle": "2022-07-03T08:35:36.028697Z",
     "shell.execute_reply": "2022-07-03T08:35:36.027702Z",
     "shell.execute_reply.started": "2022-07-03T08:35:36.016043Z"
    },
    "id": "8JH0sy8lgmyY",
    "papermill": {
     "duration": 0.018341,
     "end_time": "2022-06-22T04:57:17.128615",
     "exception": false,
     "start_time": "2022-06-22T04:57:17.110274",
     "status": "completed"
    },
    "tags": []
   },
   "outputs": [],
   "source": [
    "tf.config.run_functions_eagerly(True)\n",
    "class PERCEPTUAL_VGG_LOSS(object):\n",
    "\n",
    "    def __init__(self, image_shape):\n",
    "        \n",
    "        self.image_shape = image_shape\n",
    "\n",
    "    # computes VGG loss or content loss\n",
    "    # @tf.function\n",
    "    def vgg_loss(self, y_true, y_pred):\n",
    "    \n",
    "        vgg19 = VGG19(include_top=False, weights='imagenet', input_shape=self.image_shape)\n",
    "        vgg19.trainable = False\n",
    "        # Make trainable as False\n",
    "        for l in vgg19.layers:\n",
    "            l.trainable = False\n",
    "        model = Model(inputs=vgg19.input, outputs=vgg19.get_layer('block5_conv4').output)\n",
    "        model.trainable = False\n",
    "    \n",
    "        return K.mean(K.square(model(y_true) - model(y_pred)))\n",
    "    \n",
    "def get_optimizer():\n",
    "#         adam = Adam(learning_rate=1E-4, beta_1=0.9, beta_2=0.999, epsilon=1e-08)\n",
    "    adam = tfa.optimizers.AdamW(learning_rate=1E-4, beta_1=0.9, beta_2=0.999, epsilon=1e-08, weight_decay=1E-5)\n",
    "    return adam"
   ]
  },
  {
   "cell_type": "code",
   "execution_count": 11,
   "metadata": {
    "execution": {
     "iopub.execute_input": "2022-07-03T08:35:36.032712Z",
     "iopub.status.busy": "2022-07-03T08:35:36.032418Z",
     "iopub.status.idle": "2022-07-03T08:35:36.052051Z",
     "shell.execute_reply": "2022-07-03T08:35:36.051166Z",
     "shell.execute_reply.started": "2022-07-03T08:35:36.032688Z"
    },
    "id": "oiWhf1w8gmyY",
    "papermill": {
     "duration": 0.029271,
     "end_time": "2022-06-22T04:57:17.16684",
     "exception": false,
     "start_time": "2022-06-22T04:57:17.137569",
     "status": "completed"
    },
    "tags": []
   },
   "outputs": [],
   "source": [
    "np.random.seed(10)\n",
    "# Remember to change image shape if you are having different size of images\n",
    "image_shape = (None, None,6)\n",
    "\n",
    "# Combined network\n",
    "# @tf.function\n",
    "def get_gan_network(discriminator, shape, generator, optimizer, loss):\n",
    "    discriminator.trainable = False\n",
    "    gan_input = Input(shape=shape)\n",
    "    x = generator(gan_input)\n",
    "    # print(x.shape)\n",
    "    gan_output = discriminator(x)\n",
    "    gan = Model(inputs=gan_input, outputs=[x,gan_output])\n",
    "    gan.compile(loss=loss,\n",
    "                loss_weights=[1., 1e-3],\n",
    "                optimizer=optimizer)\n",
    "\n",
    "    return gan\n",
    "# @tf.function\n",
    "def train(epochs, batch_size, gt_dir, in_dir1, in_dir2 , output_dir, model_save_dir, number_of_images, train_test_ratio):\n",
    "    \n",
    "    x_train_in, x_train_gt, x_test_in, x_test_gt = load_training_data(gt_dir, in_dir1, in_dir2 , '.jpg', number_of_images, train_test_ratio) \n",
    "    loss = PERCEPTUAL_VGG_LOSS((image_shape[0], image_shape[1], 3))  \n",
    "    \n",
    "    batch_count = int(x_train_gt.shape[0] / batch_size)\n",
    "    # shape = (128, 64, 3)\n",
    "    shape = (256, 512, 3)\n",
    "    # print(x_train_in.shape[2])\n",
    "\n",
    "    generator = Generator().generator(image_shape)\n",
    "    discriminator = Discriminator().discriminator(shape)\n",
    "\n",
    "    optimizer = get_optimizer()\n",
    "    generator.compile(loss=[loss.vgg_loss, charbonnier_loss], optimizer=optimizer)\n",
    "    discriminator.compile(loss=charbonnier_loss, optimizer=optimizer)\n",
    "    \n",
    "    gan = get_gan_network(discriminator, image_shape, generator, optimizer, charbonnier_loss)\n",
    "    \n",
    "    loss_file = open(model_save_dir + 'losses.txt' , 'w+')\n",
    "    loss_file.close()\n",
    "\n",
    "    for e in range(1, epochs+1):\n",
    "        print ('-'*15, 'Epoch %d' % e, '-'*15)\n",
    "        for _ in tqdm(range(batch_count)):\n",
    "            \n",
    "            random_nums = np.random.randint(0, x_train_gt.shape[0], size=batch_size)\n",
    "            image_batch_gt = x_train_gt[random_nums]\n",
    "            image_batch_in = x_train_in[random_nums]\n",
    "            # print(x_train_gt[0].shape)\n",
    "            generated_images_sr = generator.predict(image_batch_in)\n",
    "\n",
    "            real_data_Y = np.ones(batch_size) - np.random.random_sample(batch_size)*0.2\n",
    "            fake_data_Y = np.random.random_sample(batch_size)*0.2\n",
    "            \n",
    "            discriminator.trainable = True\n",
    "            \n",
    "            d_loss_real = discriminator.train_on_batch(image_batch_gt, real_data_Y)\n",
    "            d_loss_fake = discriminator.train_on_batch(generated_images_sr, fake_data_Y)\n",
    "            discriminator_loss = 0.5 * np.add(d_loss_fake, d_loss_real)\n",
    "            \n",
    "            random_nums = np.random.randint(0, x_train_gt.shape[0], size=batch_size)\n",
    "            image_batch_gt = x_train_gt[random_nums]\n",
    "            image_batch_in = x_train_in[random_nums]\n",
    "\n",
    "            gan_Y = np.ones(batch_size) - np.random.random_sample(batch_size)*0.2\n",
    "            discriminator.trainable = False\n",
    "            gan_loss = gan.train_on_batch(image_batch_in, [image_batch_gt, gan_Y])\n",
    "            \n",
    "            \n",
    "        print(f\"discriminator_loss :  {discriminator_loss}\")\n",
    "        print(f\"gan_loss : {gan_loss}\")\n",
    "        gan_loss = str(gan_loss)\n",
    "        # discriminator.compile(loss=discriminator_loss, optimizer=optimizer)\n",
    "        \n",
    "        loss_file = open(model_save_dir + 'losses.txt' , 'a')\n",
    "        loss_file.write(f'epoch {e} : gan_loss = {gan_loss} ; discriminator_loss = {discriminator_loss}\\n')\n",
    "        loss_file.close()\n",
    "\n",
    "#         if e == 1 or e % 50 == 0:\n",
    "#             get_generated_images(output_dir, e, generator, x_test_gt, x_test_in)\n",
    "        if e % 500 == 0:\n",
    "            generator.save(model_save_dir + 'get_model%d.h5' % e)\n",
    "            discriminator.save(model_save_dir + 'dis_model%d.h5' % e)"
   ]
  },
  {
   "cell_type": "code",
   "execution_count": 12,
   "metadata": {
    "execution": {
     "iopub.execute_input": "2022-07-03T08:35:36.054521Z",
     "iopub.status.busy": "2022-07-03T08:35:36.053576Z",
     "iopub.status.idle": "2022-07-03T08:35:36.065138Z",
     "shell.execute_reply": "2022-07-03T08:35:36.064179Z",
     "shell.execute_reply.started": "2022-07-03T08:35:36.054485Z"
    },
    "id": "akenJLGMgmyZ",
    "papermill": {
     "duration": 0.015496,
     "end_time": "2022-06-22T04:57:17.191321",
     "exception": false,
     "start_time": "2022-06-22T04:57:17.175825",
     "status": "completed"
    },
    "tags": []
   },
   "outputs": [],
   "source": [
    "epochs = 500\n",
    "batch_size = 6\n",
    "gt_dir = './panorama/hr/'\n",
    "in_dir1 = './panorama/lr1/'\n",
    "in_dir2 = './panorama/lr2/'\n",
    "output_dir ='./'\n",
    "model_save_dir = './'\n",
    "number_of_images = 46\n",
    "train_test_ratio = 0.9"
   ]
  },
  {
   "cell_type": "code",
   "execution_count": 13,
   "metadata": {
    "execution": {
     "iopub.execute_input": "2022-07-03T08:35:36.067021Z",
     "iopub.status.busy": "2022-07-03T08:35:36.066576Z",
     "iopub.status.idle": "2022-07-03T09:20:45.704213Z",
     "shell.execute_reply": "2022-07-03T09:20:45.702927Z",
     "shell.execute_reply.started": "2022-07-03T08:35:36.066986Z"
    },
    "id": "A7YGc7JrgmyZ",
    "papermill": {
     "duration": 5020.419231,
     "end_time": "2022-06-22T06:20:57.619445",
     "exception": false,
     "start_time": "2022-06-22T04:57:17.200214",
     "status": "completed"
    },
    "scrolled": true,
    "tags": []
   },
   "outputs": [
    {
     "name": "stderr",
     "output_type": "stream",
     "text": [
      "2022-07-03 08:35:55.512928: I tensorflow/stream_executor/cuda/cuda_gpu_executor.cc:937] successful NUMA node read from SysFS had negative value (-1), but there must be at least one NUMA node, so returning NUMA node zero\n",
      "2022-07-03 08:35:55.616150: I tensorflow/stream_executor/cuda/cuda_gpu_executor.cc:937] successful NUMA node read from SysFS had negative value (-1), but there must be at least one NUMA node, so returning NUMA node zero\n",
      "2022-07-03 08:35:55.616865: I tensorflow/stream_executor/cuda/cuda_gpu_executor.cc:937] successful NUMA node read from SysFS had negative value (-1), but there must be at least one NUMA node, so returning NUMA node zero\n",
      "2022-07-03 08:35:55.618355: I tensorflow/core/platform/cpu_feature_guard.cc:142] This TensorFlow binary is optimized with oneAPI Deep Neural Network Library (oneDNN) to use the following CPU instructions in performance-critical operations:  AVX2 AVX512F FMA\n",
      "To enable them in other operations, rebuild TensorFlow with the appropriate compiler flags.\n",
      "2022-07-03 08:35:55.618633: I tensorflow/stream_executor/cuda/cuda_gpu_executor.cc:937] successful NUMA node read from SysFS had negative value (-1), but there must be at least one NUMA node, so returning NUMA node zero\n",
      "2022-07-03 08:35:55.619364: I tensorflow/stream_executor/cuda/cuda_gpu_executor.cc:937] successful NUMA node read from SysFS had negative value (-1), but there must be at least one NUMA node, so returning NUMA node zero\n",
      "2022-07-03 08:35:55.620006: I tensorflow/stream_executor/cuda/cuda_gpu_executor.cc:937] successful NUMA node read from SysFS had negative value (-1), but there must be at least one NUMA node, so returning NUMA node zero\n",
      "2022-07-03 08:35:57.723883: I tensorflow/stream_executor/cuda/cuda_gpu_executor.cc:937] successful NUMA node read from SysFS had negative value (-1), but there must be at least one NUMA node, so returning NUMA node zero\n",
      "2022-07-03 08:35:57.724820: I tensorflow/stream_executor/cuda/cuda_gpu_executor.cc:937] successful NUMA node read from SysFS had negative value (-1), but there must be at least one NUMA node, so returning NUMA node zero\n",
      "2022-07-03 08:35:57.725517: I tensorflow/stream_executor/cuda/cuda_gpu_executor.cc:937] successful NUMA node read from SysFS had negative value (-1), but there must be at least one NUMA node, so returning NUMA node zero\n",
      "2022-07-03 08:35:57.726102: I tensorflow/core/common_runtime/gpu/gpu_device.cc:1510] Created device /job:localhost/replica:0/task:0/device:GPU:0 with 15403 MB memory:  -> device: 0, name: Tesla P100-PCIE-16GB, pci bus id: 0000:00:04.0, compute capability: 6.0\n"
     ]
    },
    {
     "name": "stdout",
     "output_type": "stream",
     "text": [
      "--------------- Epoch 1 ---------------\n"
     ]
    },
    {
     "name": "stderr",
     "output_type": "stream",
     "text": [
      "  0%|          | 0/6 [00:00<?, ?it/s]/opt/conda/lib/python3.7/site-packages/tensorflow/python/data/ops/dataset_ops.py:4212: UserWarning: Even though the `tf.config.experimental_run_functions_eagerly` option is set, this option does not apply to tf.data functions. To force eager execution of tf.data functions, please use `tf.data.experimental.enable_debug_mode()`.\n",
      "  \"Even though the `tf.config.experimental_run_functions_eagerly` \"\n",
      "2022-07-03 08:35:59.434058: I tensorflow/compiler/mlir/mlir_graph_optimization_pass.cc:185] None of the MLIR Optimization Passes are enabled (registered 2)\n",
      "2022-07-03 08:36:00.276816: I tensorflow/stream_executor/cuda/cuda_dnn.cc:369] Loaded cuDNN version 8005\n",
      "100%|██████████| 6/6 [00:15<00:00,  2.56s/it]\n"
     ]
    },
    {
     "name": "stdout",
     "output_type": "stream",
     "text": [
      "discriminator_loss :  0.49294571951031685\n",
      "gan_loss : [0.3168630301952362, 0.316792368888855, 0.07067519426345825]\n",
      "--------------- Epoch 2 ---------------\n"
     ]
    },
    {
     "name": "stderr",
     "output_type": "stream",
     "text": [
      "100%|██████████| 6/6 [00:05<00:00,  1.04it/s]\n"
     ]
    },
    {
     "name": "stdout",
     "output_type": "stream",
     "text": [
      "discriminator_loss :  0.5146347060799599\n",
      "gan_loss : [0.2758643627166748, 0.27576524019241333, 0.09913674741983414]\n",
      "--------------- Epoch 3 ---------------\n"
     ]
    },
    {
     "name": "stderr",
     "output_type": "stream",
     "text": [
      "100%|██████████| 6/6 [00:05<00:00,  1.04it/s]\n"
     ]
    },
    {
     "name": "stdout",
     "output_type": "stream",
     "text": [
      "discriminator_loss :  0.5073219537734985\n",
      "gan_loss : [0.20596499741077423, 0.2059018611907959, 0.06313959509134293]\n",
      "--------------- Epoch 4 ---------------\n"
     ]
    },
    {
     "name": "stderr",
     "output_type": "stream",
     "text": [
      "100%|██████████| 6/6 [00:05<00:00,  1.04it/s]\n"
     ]
    },
    {
     "name": "stdout",
     "output_type": "stream",
     "text": [
      "discriminator_loss :  0.46064934879541397\n",
      "gan_loss : [0.20391851663589478, 0.20382384955883026, 0.09468124061822891]\n",
      "--------------- Epoch 5 ---------------\n"
     ]
    },
    {
     "name": "stderr",
     "output_type": "stream",
     "text": [
      "100%|██████████| 6/6 [00:05<00:00,  1.09it/s]\n"
     ]
    },
    {
     "name": "stdout",
     "output_type": "stream",
     "text": [
      "discriminator_loss :  0.47492213174700737\n",
      "gan_loss : [0.18369491398334503, 0.1836271435022354, 0.06778896600008011]\n",
      "--------------- Epoch 6 ---------------\n"
     ]
    },
    {
     "name": "stderr",
     "output_type": "stream",
     "text": [
      "100%|██████████| 6/6 [00:05<00:00,  1.12it/s]\n"
     ]
    },
    {
     "name": "stdout",
     "output_type": "stream",
     "text": [
      "discriminator_loss :  0.48810796067118645\n",
      "gan_loss : [0.1714905947446823, 0.17139261960983276, 0.09797865152359009]\n",
      "--------------- Epoch 7 ---------------\n"
     ]
    },
    {
     "name": "stderr",
     "output_type": "stream",
     "text": [
      "100%|██████████| 6/6 [00:05<00:00,  1.09it/s]\n"
     ]
    },
    {
     "name": "stdout",
     "output_type": "stream",
     "text": [
      "discriminator_loss :  0.48091461323201656\n",
      "gan_loss : [0.18525902926921844, 0.18515653908252716, 0.10247204452753067]\n",
      "--------------- Epoch 8 ---------------\n"
     ]
    },
    {
     "name": "stderr",
     "output_type": "stream",
     "text": [
      "100%|██████████| 6/6 [00:05<00:00,  1.16it/s]\n"
     ]
    },
    {
     "name": "stdout",
     "output_type": "stream",
     "text": [
      "discriminator_loss :  0.5018136017024517\n",
      "gan_loss : [0.13980035483837128, 0.1396581530570984, 0.14219780266284943]\n",
      "--------------- Epoch 9 ---------------\n"
     ]
    },
    {
     "name": "stderr",
     "output_type": "stream",
     "text": [
      "100%|██████████| 6/6 [00:05<00:00,  1.13it/s]\n"
     ]
    },
    {
     "name": "stdout",
     "output_type": "stream",
     "text": [
      "discriminator_loss :  0.47618265077471733\n",
      "gan_loss : [0.14633841812610626, 0.1462623029947281, 0.07612147182226181]\n",
      "--------------- Epoch 10 ---------------\n"
     ]
    },
    {
     "name": "stderr",
     "output_type": "stream",
     "text": [
      "100%|██████████| 6/6 [00:05<00:00,  1.18it/s]\n"
     ]
    },
    {
     "name": "stdout",
     "output_type": "stream",
     "text": [
      "discriminator_loss :  0.49725441634655\n",
      "gan_loss : [0.17200404405593872, 0.17191071808338165, 0.09333298355340958]\n",
      "--------------- Epoch 11 ---------------\n"
     ]
    },
    {
     "name": "stderr",
     "output_type": "stream",
     "text": [
      "100%|██████████| 6/6 [00:05<00:00,  1.17it/s]\n"
     ]
    },
    {
     "name": "stdout",
     "output_type": "stream",
     "text": [
      "discriminator_loss :  0.46028511226177216\n",
      "gan_loss : [0.11973214894533157, 0.11957833170890808, 0.1538194864988327]\n",
      "--------------- Epoch 12 ---------------\n"
     ]
    },
    {
     "name": "stderr",
     "output_type": "stream",
     "text": [
      "100%|██████████| 6/6 [00:05<00:00,  1.13it/s]\n"
     ]
    },
    {
     "name": "stdout",
     "output_type": "stream",
     "text": [
      "discriminator_loss :  0.495844304561615\n",
      "gan_loss : [0.11742118746042252, 0.11732983589172363, 0.09135154634714127]\n",
      "--------------- Epoch 13 ---------------\n"
     ]
    },
    {
     "name": "stderr",
     "output_type": "stream",
     "text": [
      "100%|██████████| 6/6 [00:05<00:00,  1.03it/s]\n"
     ]
    },
    {
     "name": "stdout",
     "output_type": "stream",
     "text": [
      "discriminator_loss :  0.49772806465625763\n",
      "gan_loss : [0.10558702796697617, 0.10547443479299545, 0.11258871108293533]\n",
      "--------------- Epoch 14 ---------------\n"
     ]
    },
    {
     "name": "stderr",
     "output_type": "stream",
     "text": [
      "100%|██████████| 6/6 [00:05<00:00,  1.16it/s]\n"
     ]
    },
    {
     "name": "stdout",
     "output_type": "stream",
     "text": [
      "discriminator_loss :  0.5125233940780163\n",
      "gan_loss : [0.1025019958615303, 0.10244020819664001, 0.06178944185376167]\n",
      "--------------- Epoch 15 ---------------\n"
     ]
    },
    {
     "name": "stderr",
     "output_type": "stream",
     "text": [
      "100%|██████████| 6/6 [00:05<00:00,  1.11it/s]\n"
     ]
    },
    {
     "name": "stdout",
     "output_type": "stream",
     "text": [
      "discriminator_loss :  0.4890246130526066\n",
      "gan_loss : [0.1694401055574417, 0.1693623661994934, 0.07775980979204178]\n",
      "--------------- Epoch 16 ---------------\n"
     ]
    },
    {
     "name": "stderr",
     "output_type": "stream",
     "text": [
      "100%|██████████| 6/6 [00:05<00:00,  1.17it/s]\n"
     ]
    },
    {
     "name": "stdout",
     "output_type": "stream",
     "text": [
      "discriminator_loss :  0.4904440827667713\n",
      "gan_loss : [0.11462657898664474, 0.11454277485609055, 0.08380773663520813]\n",
      "--------------- Epoch 17 ---------------\n"
     ]
    },
    {
     "name": "stderr",
     "output_type": "stream",
     "text": [
      "100%|██████████| 6/6 [00:05<00:00,  1.12it/s]\n"
     ]
    },
    {
     "name": "stdout",
     "output_type": "stream",
     "text": [
      "discriminator_loss :  0.47334662452340126\n",
      "gan_loss : [0.1324162781238556, 0.13232028484344482, 0.09598954766988754]\n",
      "--------------- Epoch 18 ---------------\n"
     ]
    },
    {
     "name": "stderr",
     "output_type": "stream",
     "text": [
      "100%|██████████| 6/6 [00:05<00:00,  1.18it/s]\n"
     ]
    },
    {
     "name": "stdout",
     "output_type": "stream",
     "text": [
      "discriminator_loss :  0.4853876493871212\n",
      "gan_loss : [0.14326268434524536, 0.14320343732833862, 0.059252623468637466]\n",
      "--------------- Epoch 19 ---------------\n"
     ]
    },
    {
     "name": "stderr",
     "output_type": "stream",
     "text": [
      "100%|██████████| 6/6 [00:05<00:00,  1.12it/s]\n"
     ]
    },
    {
     "name": "stdout",
     "output_type": "stream",
     "text": [
      "discriminator_loss :  0.4809396378695965\n",
      "gan_loss : [0.13000032305717468, 0.12987077236175537, 0.1295536905527115]\n",
      "--------------- Epoch 20 ---------------\n"
     ]
    },
    {
     "name": "stderr",
     "output_type": "stream",
     "text": [
      "100%|██████████| 6/6 [00:05<00:00,  1.07it/s]\n"
     ]
    },
    {
     "name": "stdout",
     "output_type": "stream",
     "text": [
      "discriminator_loss :  0.49187375232577324\n",
      "gan_loss : [0.10797863453626633, 0.1078769788146019, 0.10165522247552872]\n",
      "--------------- Epoch 21 ---------------\n"
     ]
    },
    {
     "name": "stderr",
     "output_type": "stream",
     "text": [
      "100%|██████████| 6/6 [00:05<00:00,  1.12it/s]\n"
     ]
    },
    {
     "name": "stdout",
     "output_type": "stream",
     "text": [
      "discriminator_loss :  0.5022916756570339\n",
      "gan_loss : [0.11369843035936356, 0.11359003931283951, 0.10839112848043442]\n",
      "--------------- Epoch 22 ---------------\n"
     ]
    },
    {
     "name": "stderr",
     "output_type": "stream",
     "text": [
      "100%|██████████| 6/6 [00:05<00:00,  1.15it/s]\n"
     ]
    },
    {
     "name": "stdout",
     "output_type": "stream",
     "text": [
      "discriminator_loss :  0.48749689385294914\n",
      "gan_loss : [0.1056179404258728, 0.1055409386754036, 0.07700223475694656]\n",
      "--------------- Epoch 23 ---------------\n"
     ]
    },
    {
     "name": "stderr",
     "output_type": "stream",
     "text": [
      "100%|██████████| 6/6 [00:05<00:00,  1.18it/s]\n"
     ]
    },
    {
     "name": "stdout",
     "output_type": "stream",
     "text": [
      "discriminator_loss :  0.499674703925848\n",
      "gan_loss : [0.11773272603750229, 0.11763910204172134, 0.09361829608678818]\n",
      "--------------- Epoch 24 ---------------\n"
     ]
    },
    {
     "name": "stderr",
     "output_type": "stream",
     "text": [
      "100%|██████████| 6/6 [00:05<00:00,  1.09it/s]\n"
     ]
    },
    {
     "name": "stdout",
     "output_type": "stream",
     "text": [
      "discriminator_loss :  0.49100640788674355\n",
      "gan_loss : [0.12464985251426697, 0.12452199310064316, 0.12786613404750824]\n",
      "--------------- Epoch 25 ---------------\n"
     ]
    },
    {
     "name": "stderr",
     "output_type": "stream",
     "text": [
      "100%|██████████| 6/6 [00:05<00:00,  1.19it/s]\n"
     ]
    },
    {
     "name": "stdout",
     "output_type": "stream",
     "text": [
      "discriminator_loss :  0.50142652541399\n",
      "gan_loss : [0.08250778913497925, 0.08243012428283691, 0.07766637206077576]\n",
      "--------------- Epoch 26 ---------------\n"
     ]
    },
    {
     "name": "stderr",
     "output_type": "stream",
     "text": [
      "100%|██████████| 6/6 [00:05<00:00,  1.09it/s]\n"
     ]
    },
    {
     "name": "stdout",
     "output_type": "stream",
     "text": [
      "discriminator_loss :  0.5436110869050026\n",
      "gan_loss : [0.07633628696203232, 0.07625620812177658, 0.08007793873548508]\n",
      "--------------- Epoch 27 ---------------\n"
     ]
    },
    {
     "name": "stderr",
     "output_type": "stream",
     "text": [
      "100%|██████████| 6/6 [00:05<00:00,  1.17it/s]\n"
     ]
    },
    {
     "name": "stdout",
     "output_type": "stream",
     "text": [
      "discriminator_loss :  0.4971021078526974\n",
      "gan_loss : [0.11695406585931778, 0.11684051901102066, 0.11355537176132202]\n",
      "--------------- Epoch 28 ---------------\n"
     ]
    },
    {
     "name": "stderr",
     "output_type": "stream",
     "text": [
      "100%|██████████| 6/6 [00:05<00:00,  1.17it/s]\n"
     ]
    },
    {
     "name": "stdout",
     "output_type": "stream",
     "text": [
      "discriminator_loss :  0.5004376284778118\n",
      "gan_loss : [0.09591412544250488, 0.09583011269569397, 0.08401009440422058]\n",
      "--------------- Epoch 29 ---------------\n"
     ]
    },
    {
     "name": "stderr",
     "output_type": "stream",
     "text": [
      "100%|██████████| 6/6 [00:05<00:00,  1.16it/s]\n"
     ]
    },
    {
     "name": "stdout",
     "output_type": "stream",
     "text": [
      "discriminator_loss :  0.5123298652470112\n",
      "gan_loss : [0.13231684267520905, 0.13218386471271515, 0.13297581672668457]\n",
      "--------------- Epoch 30 ---------------\n"
     ]
    },
    {
     "name": "stderr",
     "output_type": "stream",
     "text": [
      "100%|██████████| 6/6 [00:05<00:00,  1.10it/s]\n"
     ]
    },
    {
     "name": "stdout",
     "output_type": "stream",
     "text": [
      "discriminator_loss :  0.49353446438908577\n",
      "gan_loss : [0.09738954901695251, 0.09726914018392563, 0.12041688710451126]\n",
      "--------------- Epoch 31 ---------------\n"
     ]
    },
    {
     "name": "stderr",
     "output_type": "stream",
     "text": [
      "100%|██████████| 6/6 [00:05<00:00,  1.13it/s]\n"
     ]
    },
    {
     "name": "stdout",
     "output_type": "stream",
     "text": [
      "discriminator_loss :  0.5087726898491383\n",
      "gan_loss : [0.11528601497411728, 0.1151840016245842, 0.10200321674346924]\n",
      "--------------- Epoch 32 ---------------\n"
     ]
    },
    {
     "name": "stderr",
     "output_type": "stream",
     "text": [
      "100%|██████████| 6/6 [00:05<00:00,  1.08it/s]\n"
     ]
    },
    {
     "name": "stdout",
     "output_type": "stream",
     "text": [
      "discriminator_loss :  0.5129864253103733\n",
      "gan_loss : [0.09809181839227676, 0.09796592593193054, 0.12589125335216522]\n",
      "--------------- Epoch 33 ---------------\n"
     ]
    },
    {
     "name": "stderr",
     "output_type": "stream",
     "text": [
      "100%|██████████| 6/6 [00:05<00:00,  1.15it/s]\n"
     ]
    },
    {
     "name": "stdout",
     "output_type": "stream",
     "text": [
      "discriminator_loss :  0.5117619186639786\n",
      "gan_loss : [0.11185554414987564, 0.11177342385053635, 0.08212854713201523]\n",
      "--------------- Epoch 34 ---------------\n"
     ]
    },
    {
     "name": "stderr",
     "output_type": "stream",
     "text": [
      "100%|██████████| 6/6 [00:05<00:00,  1.07it/s]\n"
     ]
    },
    {
     "name": "stdout",
     "output_type": "stream",
     "text": [
      "discriminator_loss :  0.5265950411558151\n",
      "gan_loss : [0.08461729437112808, 0.08452466130256653, 0.09263158589601517]\n",
      "--------------- Epoch 35 ---------------\n"
     ]
    },
    {
     "name": "stderr",
     "output_type": "stream",
     "text": [
      "100%|██████████| 6/6 [00:05<00:00,  1.18it/s]\n"
     ]
    },
    {
     "name": "stdout",
     "output_type": "stream",
     "text": [
      "discriminator_loss :  0.48580463603138924\n",
      "gan_loss : [0.09597083926200867, 0.09589429944753647, 0.07654307782649994]\n",
      "--------------- Epoch 36 ---------------\n"
     ]
    },
    {
     "name": "stderr",
     "output_type": "stream",
     "text": [
      "100%|██████████| 6/6 [00:05<00:00,  1.11it/s]\n"
     ]
    },
    {
     "name": "stdout",
     "output_type": "stream",
     "text": [
      "discriminator_loss :  0.5018511041998863\n",
      "gan_loss : [0.07454178482294083, 0.07442058622837067, 0.12120082229375839]\n",
      "--------------- Epoch 37 ---------------\n"
     ]
    },
    {
     "name": "stderr",
     "output_type": "stream",
     "text": [
      "100%|██████████| 6/6 [00:05<00:00,  1.17it/s]\n"
     ]
    },
    {
     "name": "stdout",
     "output_type": "stream",
     "text": [
      "discriminator_loss :  0.536614652723074\n",
      "gan_loss : [0.09007462114095688, 0.08991014212369919, 0.16446921229362488]\n",
      "--------------- Epoch 38 ---------------\n"
     ]
    },
    {
     "name": "stderr",
     "output_type": "stream",
     "text": [
      "100%|██████████| 6/6 [00:05<00:00,  1.08it/s]\n"
     ]
    },
    {
     "name": "stdout",
     "output_type": "stream",
     "text": [
      "discriminator_loss :  0.5193195156753063\n",
      "gan_loss : [0.09518709033727646, 0.09511028975248337, 0.07679086178541183]\n",
      "--------------- Epoch 39 ---------------\n"
     ]
    },
    {
     "name": "stderr",
     "output_type": "stream",
     "text": [
      "100%|██████████| 6/6 [00:05<00:00,  1.16it/s]\n"
     ]
    },
    {
     "name": "stdout",
     "output_type": "stream",
     "text": [
      "discriminator_loss :  0.532091062515974\n",
      "gan_loss : [0.09482289105653763, 0.09470344334840775, 0.11944697052240372]\n",
      "--------------- Epoch 40 ---------------\n"
     ]
    },
    {
     "name": "stderr",
     "output_type": "stream",
     "text": [
      "100%|██████████| 6/6 [00:05<00:00,  1.14it/s]\n"
     ]
    },
    {
     "name": "stdout",
     "output_type": "stream",
     "text": [
      "discriminator_loss :  0.5012192130088806\n",
      "gan_loss : [0.12835845351219177, 0.12826882302761078, 0.08962401747703552]\n",
      "--------------- Epoch 41 ---------------\n"
     ]
    },
    {
     "name": "stderr",
     "output_type": "stream",
     "text": [
      "100%|██████████| 6/6 [00:05<00:00,  1.16it/s]\n"
     ]
    },
    {
     "name": "stdout",
     "output_type": "stream",
     "text": [
      "discriminator_loss :  0.46379606053233147\n",
      "gan_loss : [0.08828075975179672, 0.08817937970161438, 0.10138091444969177]\n",
      "--------------- Epoch 42 ---------------\n"
     ]
    },
    {
     "name": "stderr",
     "output_type": "stream",
     "text": [
      "100%|██████████| 6/6 [00:05<00:00,  1.12it/s]\n"
     ]
    },
    {
     "name": "stdout",
     "output_type": "stream",
     "text": [
      "discriminator_loss :  0.5190969631075859\n",
      "gan_loss : [0.0964612066745758, 0.09639367461204529, 0.0675310343503952]\n",
      "--------------- Epoch 43 ---------------\n"
     ]
    },
    {
     "name": "stderr",
     "output_type": "stream",
     "text": [
      "100%|██████████| 6/6 [00:05<00:00,  1.19it/s]\n"
     ]
    },
    {
     "name": "stdout",
     "output_type": "stream",
     "text": [
      "discriminator_loss :  0.5095535814762115\n",
      "gan_loss : [0.09451774507761002, 0.09445985406637192, 0.057905375957489014]\n",
      "--------------- Epoch 44 ---------------\n"
     ]
    },
    {
     "name": "stderr",
     "output_type": "stream",
     "text": [
      "100%|██████████| 6/6 [00:05<00:00,  1.04it/s]\n"
     ]
    },
    {
     "name": "stdout",
     "output_type": "stream",
     "text": [
      "discriminator_loss :  0.5126452334225178\n",
      "gan_loss : [0.08783318847417831, 0.08774750679731369, 0.08568079024553299]\n",
      "--------------- Epoch 45 ---------------\n"
     ]
    },
    {
     "name": "stderr",
     "output_type": "stream",
     "text": [
      "100%|██████████| 6/6 [00:05<00:00,  1.17it/s]\n"
     ]
    },
    {
     "name": "stdout",
     "output_type": "stream",
     "text": [
      "discriminator_loss :  0.5194226913154125\n",
      "gan_loss : [0.10421929508447647, 0.10412632673978806, 0.09297413378953934]\n",
      "--------------- Epoch 46 ---------------\n"
     ]
    },
    {
     "name": "stderr",
     "output_type": "stream",
     "text": [
      "100%|██████████| 6/6 [00:05<00:00,  1.08it/s]\n"
     ]
    },
    {
     "name": "stdout",
     "output_type": "stream",
     "text": [
      "discriminator_loss :  0.5022103488445282\n",
      "gan_loss : [0.10355237126350403, 0.10346098989248276, 0.09138043969869614]\n",
      "--------------- Epoch 47 ---------------\n"
     ]
    },
    {
     "name": "stderr",
     "output_type": "stream",
     "text": [
      "100%|██████████| 6/6 [00:05<00:00,  1.17it/s]\n"
     ]
    },
    {
     "name": "stdout",
     "output_type": "stream",
     "text": [
      "discriminator_loss :  0.4801016338169575\n",
      "gan_loss : [0.11823732405900955, 0.1181466206908226, 0.09070432931184769]\n",
      "--------------- Epoch 48 ---------------\n"
     ]
    },
    {
     "name": "stderr",
     "output_type": "stream",
     "text": [
      "100%|██████████| 6/6 [00:05<00:00,  1.14it/s]\n"
     ]
    },
    {
     "name": "stdout",
     "output_type": "stream",
     "text": [
      "discriminator_loss :  0.4907150827348232\n",
      "gan_loss : [0.062052082270383835, 0.06195356324315071, 0.09851628541946411]\n",
      "--------------- Epoch 49 ---------------\n"
     ]
    },
    {
     "name": "stderr",
     "output_type": "stream",
     "text": [
      "100%|██████████| 6/6 [00:05<00:00,  1.13it/s]\n"
     ]
    },
    {
     "name": "stdout",
     "output_type": "stream",
     "text": [
      "discriminator_loss :  0.4675072133541107\n",
      "gan_loss : [0.09255120158195496, 0.09242633730173111, 0.12486376613378525]\n",
      "--------------- Epoch 50 ---------------\n"
     ]
    },
    {
     "name": "stderr",
     "output_type": "stream",
     "text": [
      "100%|██████████| 6/6 [00:05<00:00,  1.10it/s]\n"
     ]
    },
    {
     "name": "stdout",
     "output_type": "stream",
     "text": [
      "discriminator_loss :  0.47883117757737637\n",
      "gan_loss : [0.09039876610040665, 0.09029050916433334, 0.10825400799512863]\n",
      "--------------- Epoch 51 ---------------\n"
     ]
    },
    {
     "name": "stderr",
     "output_type": "stream",
     "text": [
      "100%|██████████| 6/6 [00:05<00:00,  1.12it/s]\n"
     ]
    },
    {
     "name": "stdout",
     "output_type": "stream",
     "text": [
      "discriminator_loss :  0.4967382550239563\n",
      "gan_loss : [0.08814022690057755, 0.08805593103170395, 0.08429882675409317]\n",
      "--------------- Epoch 52 ---------------\n"
     ]
    },
    {
     "name": "stderr",
     "output_type": "stream",
     "text": [
      "100%|██████████| 6/6 [00:05<00:00,  1.19it/s]\n"
     ]
    },
    {
     "name": "stdout",
     "output_type": "stream",
     "text": [
      "discriminator_loss :  0.4946908466517925\n",
      "gan_loss : [0.07654938846826553, 0.07647595554590225, 0.0734313577413559]\n",
      "--------------- Epoch 53 ---------------\n"
     ]
    },
    {
     "name": "stderr",
     "output_type": "stream",
     "text": [
      "100%|██████████| 6/6 [00:05<00:00,  1.11it/s]\n"
     ]
    },
    {
     "name": "stdout",
     "output_type": "stream",
     "text": [
      "discriminator_loss :  0.4851214177906513\n",
      "gan_loss : [0.06576202809810638, 0.06569554656744003, 0.0664786770939827]\n",
      "--------------- Epoch 54 ---------------\n"
     ]
    },
    {
     "name": "stderr",
     "output_type": "stream",
     "text": [
      "100%|██████████| 6/6 [00:05<00:00,  1.18it/s]\n"
     ]
    },
    {
     "name": "stdout",
     "output_type": "stream",
     "text": [
      "discriminator_loss :  0.5007340013980865\n",
      "gan_loss : [0.08805382251739502, 0.08793721348047256, 0.11660382896661758]\n",
      "--------------- Epoch 55 ---------------\n"
     ]
    },
    {
     "name": "stderr",
     "output_type": "stream",
     "text": [
      "100%|██████████| 6/6 [00:05<00:00,  1.12it/s]\n"
     ]
    },
    {
     "name": "stdout",
     "output_type": "stream",
     "text": [
      "discriminator_loss :  0.49596434459090233\n",
      "gan_loss : [0.10870140790939331, 0.10861369222402573, 0.08771884441375732]\n",
      "--------------- Epoch 56 ---------------\n"
     ]
    },
    {
     "name": "stderr",
     "output_type": "stream",
     "text": [
      "100%|██████████| 6/6 [00:05<00:00,  1.10it/s]\n"
     ]
    },
    {
     "name": "stdout",
     "output_type": "stream",
     "text": [
      "discriminator_loss :  0.4874008148908615\n",
      "gan_loss : [0.09318774193525314, 0.09313008189201355, 0.05766068398952484]\n",
      "--------------- Epoch 57 ---------------\n"
     ]
    },
    {
     "name": "stderr",
     "output_type": "stream",
     "text": [
      "100%|██████████| 6/6 [00:05<00:00,  1.12it/s]\n"
     ]
    },
    {
     "name": "stdout",
     "output_type": "stream",
     "text": [
      "discriminator_loss :  0.5205504894256592\n",
      "gan_loss : [0.09995191544294357, 0.0998283103108406, 0.12360522896051407]\n",
      "--------------- Epoch 58 ---------------\n"
     ]
    },
    {
     "name": "stderr",
     "output_type": "stream",
     "text": [
      "100%|██████████| 6/6 [00:05<00:00,  1.18it/s]\n"
     ]
    },
    {
     "name": "stdout",
     "output_type": "stream",
     "text": [
      "discriminator_loss :  0.5067807286977768\n",
      "gan_loss : [0.0796390026807785, 0.07954047620296478, 0.09852414578199387]\n",
      "--------------- Epoch 59 ---------------\n"
     ]
    },
    {
     "name": "stderr",
     "output_type": "stream",
     "text": [
      "100%|██████████| 6/6 [00:05<00:00,  1.13it/s]\n"
     ]
    },
    {
     "name": "stdout",
     "output_type": "stream",
     "text": [
      "discriminator_loss :  0.48733917251229286\n",
      "gan_loss : [0.09431157261133194, 0.0942307710647583, 0.08080663532018661]\n",
      "--------------- Epoch 60 ---------------\n"
     ]
    },
    {
     "name": "stderr",
     "output_type": "stream",
     "text": [
      "100%|██████████| 6/6 [00:05<00:00,  1.20it/s]\n"
     ]
    },
    {
     "name": "stdout",
     "output_type": "stream",
     "text": [
      "discriminator_loss :  0.507239080965519\n",
      "gan_loss : [0.0869540348649025, 0.08684179186820984, 0.11224279552698135]\n",
      "--------------- Epoch 61 ---------------\n"
     ]
    },
    {
     "name": "stderr",
     "output_type": "stream",
     "text": [
      "100%|██████████| 6/6 [00:05<00:00,  1.14it/s]\n"
     ]
    },
    {
     "name": "stdout",
     "output_type": "stream",
     "text": [
      "discriminator_loss :  0.49984797835350037\n",
      "gan_loss : [0.09291521459817886, 0.09283232688903809, 0.08289330452680588]\n",
      "--------------- Epoch 62 ---------------\n"
     ]
    },
    {
     "name": "stderr",
     "output_type": "stream",
     "text": [
      "100%|██████████| 6/6 [00:05<00:00,  1.17it/s]\n"
     ]
    },
    {
     "name": "stdout",
     "output_type": "stream",
     "text": [
      "discriminator_loss :  0.4968918710947037\n",
      "gan_loss : [0.1118585467338562, 0.11174748092889786, 0.11105513572692871]\n",
      "--------------- Epoch 63 ---------------\n"
     ]
    },
    {
     "name": "stderr",
     "output_type": "stream",
     "text": [
      "100%|██████████| 6/6 [00:05<00:00,  1.04it/s]\n"
     ]
    },
    {
     "name": "stdout",
     "output_type": "stream",
     "text": [
      "discriminator_loss :  0.5067352652549744\n",
      "gan_loss : [0.11582855135202408, 0.11574455350637436, 0.0840056911110878]\n",
      "--------------- Epoch 64 ---------------\n"
     ]
    },
    {
     "name": "stderr",
     "output_type": "stream",
     "text": [
      "100%|██████████| 6/6 [00:05<00:00,  1.14it/s]\n"
     ]
    },
    {
     "name": "stdout",
     "output_type": "stream",
     "text": [
      "discriminator_loss :  0.490794375538826\n",
      "gan_loss : [0.09635739773511887, 0.09622661024332047, 0.13078056275844574]\n",
      "--------------- Epoch 65 ---------------\n"
     ]
    },
    {
     "name": "stderr",
     "output_type": "stream",
     "text": [
      "100%|██████████| 6/6 [00:05<00:00,  1.14it/s]\n"
     ]
    },
    {
     "name": "stdout",
     "output_type": "stream",
     "text": [
      "discriminator_loss :  0.5135667622089386\n",
      "gan_loss : [0.08797178417444229, 0.08783835917711258, 0.133435919880867]\n",
      "--------------- Epoch 66 ---------------\n"
     ]
    },
    {
     "name": "stderr",
     "output_type": "stream",
     "text": [
      "100%|██████████| 6/6 [00:05<00:00,  1.15it/s]\n"
     ]
    },
    {
     "name": "stdout",
     "output_type": "stream",
     "text": [
      "discriminator_loss :  0.5085721872746944\n",
      "gan_loss : [0.08530815690755844, 0.08520647883415222, 0.10167231410741806]\n",
      "--------------- Epoch 67 ---------------\n"
     ]
    },
    {
     "name": "stderr",
     "output_type": "stream",
     "text": [
      "100%|██████████| 6/6 [00:05<00:00,  1.05it/s]\n"
     ]
    },
    {
     "name": "stdout",
     "output_type": "stream",
     "text": [
      "discriminator_loss :  0.47563229501247406\n",
      "gan_loss : [0.09281238913536072, 0.0926687940955162, 0.14359278976917267]\n",
      "--------------- Epoch 68 ---------------\n"
     ]
    },
    {
     "name": "stderr",
     "output_type": "stream",
     "text": [
      "100%|██████████| 6/6 [00:04<00:00,  1.20it/s]\n"
     ]
    },
    {
     "name": "stdout",
     "output_type": "stream",
     "text": [
      "discriminator_loss :  0.4843122661113739\n",
      "gan_loss : [0.09613011032342911, 0.09601867944002151, 0.11143846064805984]\n",
      "--------------- Epoch 69 ---------------\n"
     ]
    },
    {
     "name": "stderr",
     "output_type": "stream",
     "text": [
      "100%|██████████| 6/6 [00:06<00:00,  1.02s/it]\n"
     ]
    },
    {
     "name": "stdout",
     "output_type": "stream",
     "text": [
      "discriminator_loss :  0.5019851960241795\n",
      "gan_loss : [0.10429317504167557, 0.1042177677154541, 0.07540424168109894]\n",
      "--------------- Epoch 70 ---------------\n"
     ]
    },
    {
     "name": "stderr",
     "output_type": "stream",
     "text": [
      "100%|██████████| 6/6 [00:05<00:00,  1.13it/s]\n"
     ]
    },
    {
     "name": "stdout",
     "output_type": "stream",
     "text": [
      "discriminator_loss :  0.4913472346961498\n",
      "gan_loss : [0.07461977750062943, 0.07451804727315903, 0.10173270851373672]\n",
      "--------------- Epoch 71 ---------------\n"
     ]
    },
    {
     "name": "stderr",
     "output_type": "stream",
     "text": [
      "100%|██████████| 6/6 [00:05<00:00,  1.14it/s]\n"
     ]
    },
    {
     "name": "stdout",
     "output_type": "stream",
     "text": [
      "discriminator_loss :  0.5084999650716782\n",
      "gan_loss : [0.08078911155462265, 0.08069590479135513, 0.09320899099111557]\n",
      "--------------- Epoch 72 ---------------\n"
     ]
    },
    {
     "name": "stderr",
     "output_type": "stream",
     "text": [
      "100%|██████████| 6/6 [00:05<00:00,  1.18it/s]\n"
     ]
    },
    {
     "name": "stdout",
     "output_type": "stream",
     "text": [
      "discriminator_loss :  0.5034549422562122\n",
      "gan_loss : [0.10905799269676208, 0.10891392827033997, 0.1440611332654953]\n",
      "--------------- Epoch 73 ---------------\n"
     ]
    },
    {
     "name": "stderr",
     "output_type": "stream",
     "text": [
      "100%|██████████| 6/6 [00:05<00:00,  1.14it/s]\n"
     ]
    },
    {
     "name": "stdout",
     "output_type": "stream",
     "text": [
      "discriminator_loss :  0.4897889494895935\n",
      "gan_loss : [0.08529723435640335, 0.08518635481595993, 0.1108805239200592]\n",
      "--------------- Epoch 74 ---------------\n"
     ]
    },
    {
     "name": "stderr",
     "output_type": "stream",
     "text": [
      "100%|██████████| 6/6 [00:05<00:00,  1.16it/s]\n"
     ]
    },
    {
     "name": "stdout",
     "output_type": "stream",
     "text": [
      "discriminator_loss :  0.5152547471225262\n",
      "gan_loss : [0.10466871410608292, 0.10454916954040527, 0.11955299228429794]\n",
      "--------------- Epoch 75 ---------------\n"
     ]
    },
    {
     "name": "stderr",
     "output_type": "stream",
     "text": [
      "100%|██████████| 6/6 [00:05<00:00,  1.04it/s]\n"
     ]
    },
    {
     "name": "stdout",
     "output_type": "stream",
     "text": [
      "discriminator_loss :  0.5049081593751907\n",
      "gan_loss : [0.07995753735303879, 0.0798577144742012, 0.09982571005821228]\n",
      "--------------- Epoch 76 ---------------\n"
     ]
    },
    {
     "name": "stderr",
     "output_type": "stream",
     "text": [
      "100%|██████████| 6/6 [00:05<00:00,  1.17it/s]\n"
     ]
    },
    {
     "name": "stdout",
     "output_type": "stream",
     "text": [
      "discriminator_loss :  0.5237450748682022\n",
      "gan_loss : [0.0984221026301384, 0.09832829982042313, 0.09380123764276505]\n",
      "--------------- Epoch 77 ---------------\n"
     ]
    },
    {
     "name": "stderr",
     "output_type": "stream",
     "text": [
      "100%|██████████| 6/6 [00:05<00:00,  1.09it/s]\n"
     ]
    },
    {
     "name": "stdout",
     "output_type": "stream",
     "text": [
      "discriminator_loss :  0.49341142550110817\n",
      "gan_loss : [0.08640354126691818, 0.08630695194005966, 0.096598781645298]\n",
      "--------------- Epoch 78 ---------------\n"
     ]
    },
    {
     "name": "stderr",
     "output_type": "stream",
     "text": [
      "100%|██████████| 6/6 [00:05<00:00,  1.15it/s]\n"
     ]
    },
    {
     "name": "stdout",
     "output_type": "stream",
     "text": [
      "discriminator_loss :  0.49682632088661194\n",
      "gan_loss : [0.10217837244272232, 0.10210388898849487, 0.07448951154947281]\n",
      "--------------- Epoch 79 ---------------\n"
     ]
    },
    {
     "name": "stderr",
     "output_type": "stream",
     "text": [
      "100%|██████████| 6/6 [00:05<00:00,  1.11it/s]\n"
     ]
    },
    {
     "name": "stdout",
     "output_type": "stream",
     "text": [
      "discriminator_loss :  0.5069680027663708\n",
      "gan_loss : [0.10258010029792786, 0.10250481218099594, 0.07529257237911224]\n",
      "--------------- Epoch 80 ---------------\n"
     ]
    },
    {
     "name": "stderr",
     "output_type": "stream",
     "text": [
      "100%|██████████| 6/6 [00:05<00:00,  1.19it/s]\n"
     ]
    },
    {
     "name": "stdout",
     "output_type": "stream",
     "text": [
      "discriminator_loss :  0.5416498854756355\n",
      "gan_loss : [0.10209035128355026, 0.10196521133184433, 0.1251496821641922]\n",
      "--------------- Epoch 81 ---------------\n"
     ]
    },
    {
     "name": "stderr",
     "output_type": "stream",
     "text": [
      "100%|██████████| 6/6 [00:05<00:00,  1.06it/s]\n"
     ]
    },
    {
     "name": "stdout",
     "output_type": "stream",
     "text": [
      "discriminator_loss :  0.5117190815508366\n",
      "gan_loss : [0.08733335882425308, 0.08722569793462753, 0.1076793298125267]\n",
      "--------------- Epoch 82 ---------------\n"
     ]
    },
    {
     "name": "stderr",
     "output_type": "stream",
     "text": [
      "100%|██████████| 6/6 [00:05<00:00,  1.18it/s]\n"
     ]
    },
    {
     "name": "stdout",
     "output_type": "stream",
     "text": [
      "discriminator_loss :  0.5222160369157791\n",
      "gan_loss : [0.07321091741323471, 0.07307417690753937, 0.13674211502075195]\n",
      "--------------- Epoch 83 ---------------\n"
     ]
    },
    {
     "name": "stderr",
     "output_type": "stream",
     "text": [
      "100%|██████████| 6/6 [00:05<00:00,  1.19it/s]\n"
     ]
    },
    {
     "name": "stdout",
     "output_type": "stream",
     "text": [
      "discriminator_loss :  0.48898671939969063\n",
      "gan_loss : [0.11014477163553238, 0.11004755645990372, 0.09721684455871582]\n",
      "--------------- Epoch 84 ---------------\n"
     ]
    },
    {
     "name": "stderr",
     "output_type": "stream",
     "text": [
      "100%|██████████| 6/6 [00:05<00:00,  1.10it/s]\n"
     ]
    },
    {
     "name": "stdout",
     "output_type": "stream",
     "text": [
      "discriminator_loss :  0.5118951871991158\n",
      "gan_loss : [0.07294788211584091, 0.07287722826004028, 0.07065407186746597]\n",
      "--------------- Epoch 85 ---------------\n"
     ]
    },
    {
     "name": "stderr",
     "output_type": "stream",
     "text": [
      "100%|██████████| 6/6 [00:05<00:00,  1.19it/s]\n"
     ]
    },
    {
     "name": "stdout",
     "output_type": "stream",
     "text": [
      "discriminator_loss :  0.4921303652226925\n",
      "gan_loss : [0.08767815679311752, 0.08757403492927551, 0.10411783307790756]\n",
      "--------------- Epoch 86 ---------------\n"
     ]
    },
    {
     "name": "stderr",
     "output_type": "stream",
     "text": [
      "100%|██████████| 6/6 [00:05<00:00,  1.14it/s]\n"
     ]
    },
    {
     "name": "stdout",
     "output_type": "stream",
     "text": [
      "discriminator_loss :  0.48602960631251335\n",
      "gan_loss : [0.08301843702793121, 0.08290722966194153, 0.111208476126194]\n",
      "--------------- Epoch 87 ---------------\n"
     ]
    },
    {
     "name": "stderr",
     "output_type": "stream",
     "text": [
      "100%|██████████| 6/6 [00:05<00:00,  1.07it/s]\n"
     ]
    },
    {
     "name": "stdout",
     "output_type": "stream",
     "text": [
      "discriminator_loss :  0.49248384311795235\n",
      "gan_loss : [0.07656113803386688, 0.07646649330854416, 0.09464764595031738]\n",
      "--------------- Epoch 88 ---------------\n"
     ]
    },
    {
     "name": "stderr",
     "output_type": "stream",
     "text": [
      "100%|██████████| 6/6 [00:05<00:00,  1.16it/s]\n"
     ]
    },
    {
     "name": "stdout",
     "output_type": "stream",
     "text": [
      "discriminator_loss :  0.5234372690320015\n",
      "gan_loss : [0.08864792436361313, 0.08852053433656693, 0.12738080322742462]\n",
      "--------------- Epoch 89 ---------------\n"
     ]
    },
    {
     "name": "stderr",
     "output_type": "stream",
     "text": [
      "100%|██████████| 6/6 [00:05<00:00,  1.14it/s]\n"
     ]
    },
    {
     "name": "stdout",
     "output_type": "stream",
     "text": [
      "discriminator_loss :  0.4926937408745289\n",
      "gan_loss : [0.0822034552693367, 0.08209526538848877, 0.10819303244352341]\n",
      "--------------- Epoch 90 ---------------\n"
     ]
    },
    {
     "name": "stderr",
     "output_type": "stream",
     "text": [
      "100%|██████████| 6/6 [00:05<00:00,  1.10it/s]\n"
     ]
    },
    {
     "name": "stdout",
     "output_type": "stream",
     "text": [
      "discriminator_loss :  0.509946271777153\n",
      "gan_loss : [0.06544353812932968, 0.065301313996315, 0.14222176373004913]\n",
      "--------------- Epoch 91 ---------------\n"
     ]
    },
    {
     "name": "stderr",
     "output_type": "stream",
     "text": [
      "100%|██████████| 6/6 [00:05<00:00,  1.13it/s]\n"
     ]
    },
    {
     "name": "stdout",
     "output_type": "stream",
     "text": [
      "discriminator_loss :  0.5017637424170971\n",
      "gan_loss : [0.07547695934772491, 0.07540278881788254, 0.07416930049657822]\n",
      "--------------- Epoch 92 ---------------\n"
     ]
    },
    {
     "name": "stderr",
     "output_type": "stream",
     "text": [
      "100%|██████████| 6/6 [00:05<00:00,  1.14it/s]\n"
     ]
    },
    {
     "name": "stdout",
     "output_type": "stream",
     "text": [
      "discriminator_loss :  0.5165113881230354\n",
      "gan_loss : [0.10724404454231262, 0.10715381056070328, 0.09023486822843552]\n",
      "--------------- Epoch 93 ---------------\n"
     ]
    },
    {
     "name": "stderr",
     "output_type": "stream",
     "text": [
      "100%|██████████| 6/6 [00:05<00:00,  1.11it/s]\n"
     ]
    },
    {
     "name": "stdout",
     "output_type": "stream",
     "text": [
      "discriminator_loss :  0.48903660848736763\n",
      "gan_loss : [0.07302094250917435, 0.072933629155159, 0.08731445670127869]\n",
      "--------------- Epoch 94 ---------------\n"
     ]
    },
    {
     "name": "stderr",
     "output_type": "stream",
     "text": [
      "100%|██████████| 6/6 [00:05<00:00,  1.11it/s]\n"
     ]
    },
    {
     "name": "stdout",
     "output_type": "stream",
     "text": [
      "discriminator_loss :  0.4840040188282728\n",
      "gan_loss : [0.08368106931447983, 0.08358422666788101, 0.09683063626289368]\n",
      "--------------- Epoch 95 ---------------\n"
     ]
    },
    {
     "name": "stderr",
     "output_type": "stream",
     "text": [
      "100%|██████████| 6/6 [00:05<00:00,  1.14it/s]\n"
     ]
    },
    {
     "name": "stdout",
     "output_type": "stream",
     "text": [
      "discriminator_loss :  0.4943782724440098\n",
      "gan_loss : [0.07731571793556213, 0.07720722258090973, 0.10849174112081528]\n",
      "--------------- Epoch 96 ---------------\n"
     ]
    },
    {
     "name": "stderr",
     "output_type": "stream",
     "text": [
      "100%|██████████| 6/6 [00:05<00:00,  1.12it/s]\n"
     ]
    },
    {
     "name": "stdout",
     "output_type": "stream",
     "text": [
      "discriminator_loss :  0.5291974171996117\n",
      "gan_loss : [0.09336331486701965, 0.09328273683786392, 0.08057226240634918]\n",
      "--------------- Epoch 97 ---------------\n"
     ]
    },
    {
     "name": "stderr",
     "output_type": "stream",
     "text": [
      "100%|██████████| 6/6 [00:05<00:00,  1.12it/s]\n"
     ]
    },
    {
     "name": "stdout",
     "output_type": "stream",
     "text": [
      "discriminator_loss :  0.4731275849044323\n",
      "gan_loss : [0.09354948252439499, 0.093441903591156, 0.1075792908668518]\n",
      "--------------- Epoch 98 ---------------\n"
     ]
    },
    {
     "name": "stderr",
     "output_type": "stream",
     "text": [
      "100%|██████████| 6/6 [00:05<00:00,  1.11it/s]\n"
     ]
    },
    {
     "name": "stdout",
     "output_type": "stream",
     "text": [
      "discriminator_loss :  0.486015722155571\n",
      "gan_loss : [0.08720812201499939, 0.08711238950490952, 0.09573671966791153]\n",
      "--------------- Epoch 99 ---------------\n"
     ]
    },
    {
     "name": "stderr",
     "output_type": "stream",
     "text": [
      "100%|██████████| 6/6 [00:05<00:00,  1.07it/s]\n"
     ]
    },
    {
     "name": "stdout",
     "output_type": "stream",
     "text": [
      "discriminator_loss :  0.5113593898713589\n",
      "gan_loss : [0.07453881204128265, 0.07443265616893768, 0.10615517944097519]\n",
      "--------------- Epoch 100 ---------------\n"
     ]
    },
    {
     "name": "stderr",
     "output_type": "stream",
     "text": [
      "100%|██████████| 6/6 [00:05<00:00,  1.09it/s]\n"
     ]
    },
    {
     "name": "stdout",
     "output_type": "stream",
     "text": [
      "discriminator_loss :  0.48951390385627747\n",
      "gan_loss : [0.07411985844373703, 0.07402636110782623, 0.09349793940782547]\n",
      "--------------- Epoch 101 ---------------\n"
     ]
    },
    {
     "name": "stderr",
     "output_type": "stream",
     "text": [
      "100%|██████████| 6/6 [00:05<00:00,  1.15it/s]\n"
     ]
    },
    {
     "name": "stdout",
     "output_type": "stream",
     "text": [
      "discriminator_loss :  0.511105939745903\n",
      "gan_loss : [0.07550457864999771, 0.0754179060459137, 0.08667590469121933]\n",
      "--------------- Epoch 102 ---------------\n"
     ]
    },
    {
     "name": "stderr",
     "output_type": "stream",
     "text": [
      "100%|██████████| 6/6 [00:05<00:00,  1.17it/s]\n"
     ]
    },
    {
     "name": "stdout",
     "output_type": "stream",
     "text": [
      "discriminator_loss :  0.508212249726057\n",
      "gan_loss : [0.06524718552827835, 0.06515642255544662, 0.09076259285211563]\n",
      "--------------- Epoch 103 ---------------\n"
     ]
    },
    {
     "name": "stderr",
     "output_type": "stream",
     "text": [
      "100%|██████████| 6/6 [00:05<00:00,  1.20it/s]\n"
     ]
    },
    {
     "name": "stdout",
     "output_type": "stream",
     "text": [
      "discriminator_loss :  0.5045067109167576\n",
      "gan_loss : [0.0904405415058136, 0.09032544493675232, 0.11509840935468674]\n",
      "--------------- Epoch 104 ---------------\n"
     ]
    },
    {
     "name": "stderr",
     "output_type": "stream",
     "text": [
      "100%|██████████| 6/6 [00:05<00:00,  1.14it/s]\n"
     ]
    },
    {
     "name": "stdout",
     "output_type": "stream",
     "text": [
      "discriminator_loss :  0.5234244093298912\n",
      "gan_loss : [0.054536204785108566, 0.0544222928583622, 0.11390892416238785]\n",
      "--------------- Epoch 105 ---------------\n"
     ]
    },
    {
     "name": "stderr",
     "output_type": "stream",
     "text": [
      "100%|██████████| 6/6 [00:05<00:00,  1.12it/s]\n"
     ]
    },
    {
     "name": "stdout",
     "output_type": "stream",
     "text": [
      "discriminator_loss :  0.4738699570298195\n",
      "gan_loss : [0.07854421436786652, 0.07846952229738235, 0.07469099760055542]\n",
      "--------------- Epoch 106 ---------------\n"
     ]
    },
    {
     "name": "stderr",
     "output_type": "stream",
     "text": [
      "100%|██████████| 6/6 [00:05<00:00,  1.10it/s]\n"
     ]
    },
    {
     "name": "stdout",
     "output_type": "stream",
     "text": [
      "discriminator_loss :  0.5082585960626602\n",
      "gan_loss : [0.06911924481391907, 0.06903065741062164, 0.08858408778905869]\n",
      "--------------- Epoch 107 ---------------\n"
     ]
    },
    {
     "name": "stderr",
     "output_type": "stream",
     "text": [
      "100%|██████████| 6/6 [00:05<00:00,  1.17it/s]\n"
     ]
    },
    {
     "name": "stdout",
     "output_type": "stream",
     "text": [
      "discriminator_loss :  0.4947744905948639\n",
      "gan_loss : [0.08215115964412689, 0.08208578079938889, 0.06537557393312454]\n",
      "--------------- Epoch 108 ---------------\n"
     ]
    },
    {
     "name": "stderr",
     "output_type": "stream",
     "text": [
      "100%|██████████| 6/6 [00:05<00:00,  1.14it/s]\n"
     ]
    },
    {
     "name": "stdout",
     "output_type": "stream",
     "text": [
      "discriminator_loss :  0.5111992470920086\n",
      "gan_loss : [0.10511401295661926, 0.10502714663743973, 0.08686692267656326]\n",
      "--------------- Epoch 109 ---------------\n"
     ]
    },
    {
     "name": "stderr",
     "output_type": "stream",
     "text": [
      "100%|██████████| 6/6 [00:04<00:00,  1.20it/s]\n"
     ]
    },
    {
     "name": "stdout",
     "output_type": "stream",
     "text": [
      "discriminator_loss :  0.5169268697500229\n",
      "gan_loss : [0.07560844719409943, 0.07553552836179733, 0.07291970402002335]\n",
      "--------------- Epoch 110 ---------------\n"
     ]
    },
    {
     "name": "stderr",
     "output_type": "stream",
     "text": [
      "100%|██████████| 6/6 [00:05<00:00,  1.18it/s]\n"
     ]
    },
    {
     "name": "stdout",
     "output_type": "stream",
     "text": [
      "discriminator_loss :  0.4901651181280613\n",
      "gan_loss : [0.06948651373386383, 0.06939121335744858, 0.09530196338891983]\n",
      "--------------- Epoch 111 ---------------\n"
     ]
    },
    {
     "name": "stderr",
     "output_type": "stream",
     "text": [
      "100%|██████████| 6/6 [00:05<00:00,  1.08it/s]\n"
     ]
    },
    {
     "name": "stdout",
     "output_type": "stream",
     "text": [
      "discriminator_loss :  0.4794917665421963\n",
      "gan_loss : [0.11486233025789261, 0.11476296931505203, 0.09935978800058365]\n",
      "--------------- Epoch 112 ---------------\n"
     ]
    },
    {
     "name": "stderr",
     "output_type": "stream",
     "text": [
      "100%|██████████| 6/6 [00:05<00:00,  1.15it/s]\n"
     ]
    },
    {
     "name": "stdout",
     "output_type": "stream",
     "text": [
      "discriminator_loss :  0.5004748292267323\n",
      "gan_loss : [0.09226872771978378, 0.09219283610582352, 0.0758897066116333]\n",
      "--------------- Epoch 113 ---------------\n"
     ]
    },
    {
     "name": "stderr",
     "output_type": "stream",
     "text": [
      "100%|██████████| 6/6 [00:05<00:00,  1.07it/s]\n"
     ]
    },
    {
     "name": "stdout",
     "output_type": "stream",
     "text": [
      "discriminator_loss :  0.4832455925643444\n",
      "gan_loss : [0.09368222206830978, 0.09358590096235275, 0.09632166475057602]\n",
      "--------------- Epoch 114 ---------------\n"
     ]
    },
    {
     "name": "stderr",
     "output_type": "stream",
     "text": [
      "100%|██████████| 6/6 [00:05<00:00,  1.18it/s]\n"
     ]
    },
    {
     "name": "stdout",
     "output_type": "stream",
     "text": [
      "discriminator_loss :  0.5276279710233212\n",
      "gan_loss : [0.07728550583124161, 0.07716378569602966, 0.12171908468008041]\n",
      "--------------- Epoch 115 ---------------\n"
     ]
    },
    {
     "name": "stderr",
     "output_type": "stream",
     "text": [
      "100%|██████████| 6/6 [00:05<00:00,  1.12it/s]\n"
     ]
    },
    {
     "name": "stdout",
     "output_type": "stream",
     "text": [
      "discriminator_loss :  0.5074148513376713\n",
      "gan_loss : [0.08742759376764297, 0.08730746060609818, 0.1201348677277565]\n",
      "--------------- Epoch 116 ---------------\n"
     ]
    },
    {
     "name": "stderr",
     "output_type": "stream",
     "text": [
      "100%|██████████| 6/6 [00:05<00:00,  1.18it/s]\n"
     ]
    },
    {
     "name": "stdout",
     "output_type": "stream",
     "text": [
      "discriminator_loss :  0.49050283432006836\n",
      "gan_loss : [0.07565929740667343, 0.07553306221961975, 0.12623465061187744]\n",
      "--------------- Epoch 117 ---------------\n"
     ]
    },
    {
     "name": "stderr",
     "output_type": "stream",
     "text": [
      "100%|██████████| 6/6 [00:05<00:00,  1.14it/s]\n"
     ]
    },
    {
     "name": "stdout",
     "output_type": "stream",
     "text": [
      "discriminator_loss :  0.49831314757466316\n",
      "gan_loss : [0.0772911012172699, 0.07716518640518188, 0.12591341137886047]\n",
      "--------------- Epoch 118 ---------------\n"
     ]
    },
    {
     "name": "stderr",
     "output_type": "stream",
     "text": [
      "100%|██████████| 6/6 [00:05<00:00,  1.05it/s]\n"
     ]
    },
    {
     "name": "stdout",
     "output_type": "stream",
     "text": [
      "discriminator_loss :  0.5034362785518169\n",
      "gan_loss : [0.059074629098176956, 0.058921217918395996, 0.1534106731414795]\n",
      "--------------- Epoch 119 ---------------\n"
     ]
    },
    {
     "name": "stderr",
     "output_type": "stream",
     "text": [
      "100%|██████████| 6/6 [00:05<00:00,  1.14it/s]\n"
     ]
    },
    {
     "name": "stdout",
     "output_type": "stream",
     "text": [
      "discriminator_loss :  0.516895592212677\n",
      "gan_loss : [0.08968038111925125, 0.08955509215593338, 0.12529121339321136]\n",
      "--------------- Epoch 120 ---------------\n"
     ]
    },
    {
     "name": "stderr",
     "output_type": "stream",
     "text": [
      "100%|██████████| 6/6 [00:05<00:00,  1.18it/s]\n"
     ]
    },
    {
     "name": "stdout",
     "output_type": "stream",
     "text": [
      "discriminator_loss :  0.4794211685657501\n",
      "gan_loss : [0.0806812196969986, 0.08055822551250458, 0.12299097329378128]\n",
      "--------------- Epoch 121 ---------------\n"
     ]
    },
    {
     "name": "stderr",
     "output_type": "stream",
     "text": [
      "100%|██████████| 6/6 [00:05<00:00,  1.12it/s]\n"
     ]
    },
    {
     "name": "stdout",
     "output_type": "stream",
     "text": [
      "discriminator_loss :  0.4892836697399616\n",
      "gan_loss : [0.06561204791069031, 0.06554311513900757, 0.06893453747034073]\n",
      "--------------- Epoch 122 ---------------\n"
     ]
    },
    {
     "name": "stderr",
     "output_type": "stream",
     "text": [
      "100%|██████████| 6/6 [00:05<00:00,  1.19it/s]\n"
     ]
    },
    {
     "name": "stdout",
     "output_type": "stream",
     "text": [
      "discriminator_loss :  0.49581972882151604\n",
      "gan_loss : [0.09484914690256119, 0.09474185854196548, 0.10728233307600021]\n",
      "--------------- Epoch 123 ---------------\n"
     ]
    },
    {
     "name": "stderr",
     "output_type": "stream",
     "text": [
      "100%|██████████| 6/6 [00:05<00:00,  1.16it/s]\n"
     ]
    },
    {
     "name": "stdout",
     "output_type": "stream",
     "text": [
      "discriminator_loss :  0.511893343180418\n",
      "gan_loss : [0.08127133548259735, 0.08111647516489029, 0.1548624485731125]\n",
      "--------------- Epoch 124 ---------------\n"
     ]
    },
    {
     "name": "stderr",
     "output_type": "stream",
     "text": [
      "100%|██████████| 6/6 [00:05<00:00,  1.07it/s]\n"
     ]
    },
    {
     "name": "stdout",
     "output_type": "stream",
     "text": [
      "discriminator_loss :  0.49281045794487\n",
      "gan_loss : [0.056133877485990524, 0.056007638573646545, 0.12623636424541473]\n",
      "--------------- Epoch 125 ---------------\n"
     ]
    },
    {
     "name": "stderr",
     "output_type": "stream",
     "text": [
      "100%|██████████| 6/6 [00:05<00:00,  1.09it/s]\n"
     ]
    },
    {
     "name": "stdout",
     "output_type": "stream",
     "text": [
      "discriminator_loss :  0.48028039932250977\n",
      "gan_loss : [0.07469239085912704, 0.07456682622432709, 0.1255655139684677]\n",
      "--------------- Epoch 126 ---------------\n"
     ]
    },
    {
     "name": "stderr",
     "output_type": "stream",
     "text": [
      "100%|██████████| 6/6 [00:05<00:00,  1.16it/s]\n"
     ]
    },
    {
     "name": "stdout",
     "output_type": "stream",
     "text": [
      "discriminator_loss :  0.491362601518631\n",
      "gan_loss : [0.07210459560155869, 0.0720135048031807, 0.0910935178399086]\n",
      "--------------- Epoch 127 ---------------\n"
     ]
    },
    {
     "name": "stderr",
     "output_type": "stream",
     "text": [
      "100%|██████████| 6/6 [00:05<00:00,  1.11it/s]\n"
     ]
    },
    {
     "name": "stdout",
     "output_type": "stream",
     "text": [
      "discriminator_loss :  0.5224230252206326\n",
      "gan_loss : [0.06766141206026077, 0.06755851954221725, 0.10289179533720016]\n",
      "--------------- Epoch 128 ---------------\n"
     ]
    },
    {
     "name": "stderr",
     "output_type": "stream",
     "text": [
      "100%|██████████| 6/6 [00:05<00:00,  1.18it/s]\n"
     ]
    },
    {
     "name": "stdout",
     "output_type": "stream",
     "text": [
      "discriminator_loss :  0.505936685949564\n",
      "gan_loss : [0.0844741091132164, 0.08438291400671005, 0.09119202941656113]\n",
      "--------------- Epoch 129 ---------------\n"
     ]
    },
    {
     "name": "stderr",
     "output_type": "stream",
     "text": [
      "100%|██████████| 6/6 [00:05<00:00,  1.14it/s]\n"
     ]
    },
    {
     "name": "stdout",
     "output_type": "stream",
     "text": [
      "discriminator_loss :  0.4907213859260082\n",
      "gan_loss : [0.08512561768293381, 0.0850166603922844, 0.10895749181509018]\n",
      "--------------- Epoch 130 ---------------\n"
     ]
    },
    {
     "name": "stderr",
     "output_type": "stream",
     "text": [
      "100%|██████████| 6/6 [00:05<00:00,  1.13it/s]\n"
     ]
    },
    {
     "name": "stdout",
     "output_type": "stream",
     "text": [
      "discriminator_loss :  0.4823986031115055\n",
      "gan_loss : [0.09286036342382431, 0.09273737668991089, 0.12297946959733963]\n",
      "--------------- Epoch 131 ---------------\n"
     ]
    },
    {
     "name": "stderr",
     "output_type": "stream",
     "text": [
      "100%|██████████| 6/6 [00:05<00:00,  1.13it/s]\n"
     ]
    },
    {
     "name": "stdout",
     "output_type": "stream",
     "text": [
      "discriminator_loss :  0.5159300453960896\n",
      "gan_loss : [0.0703919380903244, 0.07028604298830032, 0.10589758306741714]\n",
      "--------------- Epoch 132 ---------------\n"
     ]
    },
    {
     "name": "stderr",
     "output_type": "stream",
     "text": [
      "100%|██████████| 6/6 [00:05<00:00,  1.20it/s]\n"
     ]
    },
    {
     "name": "stdout",
     "output_type": "stream",
     "text": [
      "discriminator_loss :  0.49618708714842796\n",
      "gan_loss : [0.08894369006156921, 0.088861383497715, 0.0823046937584877]\n",
      "--------------- Epoch 133 ---------------\n"
     ]
    },
    {
     "name": "stderr",
     "output_type": "stream",
     "text": [
      "100%|██████████| 6/6 [00:05<00:00,  1.11it/s]\n"
     ]
    },
    {
     "name": "stdout",
     "output_type": "stream",
     "text": [
      "discriminator_loss :  0.5222445093095303\n",
      "gan_loss : [0.0717293843626976, 0.07164131104946136, 0.08807557821273804]\n",
      "--------------- Epoch 134 ---------------\n"
     ]
    },
    {
     "name": "stderr",
     "output_type": "stream",
     "text": [
      "100%|██████████| 6/6 [00:05<00:00,  1.18it/s]\n"
     ]
    },
    {
     "name": "stdout",
     "output_type": "stream",
     "text": [
      "discriminator_loss :  0.49606071785092354\n",
      "gan_loss : [0.08477107435464859, 0.08469602465629578, 0.07505428045988083]\n",
      "--------------- Epoch 135 ---------------\n"
     ]
    },
    {
     "name": "stderr",
     "output_type": "stream",
     "text": [
      "100%|██████████| 6/6 [00:05<00:00,  1.20it/s]\n"
     ]
    },
    {
     "name": "stdout",
     "output_type": "stream",
     "text": [
      "discriminator_loss :  0.5230111852288246\n",
      "gan_loss : [0.06743038445711136, 0.0673239529132843, 0.10642939805984497]\n",
      "--------------- Epoch 136 ---------------\n"
     ]
    },
    {
     "name": "stderr",
     "output_type": "stream",
     "text": [
      "100%|██████████| 6/6 [00:05<00:00,  1.03it/s]\n"
     ]
    },
    {
     "name": "stdout",
     "output_type": "stream",
     "text": [
      "discriminator_loss :  0.5061601921916008\n",
      "gan_loss : [0.08150314539670944, 0.08143487572669983, 0.06826610118150711]\n",
      "--------------- Epoch 137 ---------------\n"
     ]
    },
    {
     "name": "stderr",
     "output_type": "stream",
     "text": [
      "100%|██████████| 6/6 [00:05<00:00,  1.11it/s]\n"
     ]
    },
    {
     "name": "stdout",
     "output_type": "stream",
     "text": [
      "discriminator_loss :  0.5101271867752075\n",
      "gan_loss : [0.08857166767120361, 0.08845564723014832, 0.11601864546537399]\n",
      "--------------- Epoch 138 ---------------\n"
     ]
    },
    {
     "name": "stderr",
     "output_type": "stream",
     "text": [
      "100%|██████████| 6/6 [00:05<00:00,  1.14it/s]\n"
     ]
    },
    {
     "name": "stdout",
     "output_type": "stream",
     "text": [
      "discriminator_loss :  0.5099256113171577\n",
      "gan_loss : [0.07068280875682831, 0.0705677941441536, 0.11501472443342209]\n",
      "--------------- Epoch 139 ---------------\n"
     ]
    },
    {
     "name": "stderr",
     "output_type": "stream",
     "text": [
      "100%|██████████| 6/6 [00:05<00:00,  1.15it/s]\n"
     ]
    },
    {
     "name": "stdout",
     "output_type": "stream",
     "text": [
      "discriminator_loss :  0.49560442566871643\n",
      "gan_loss : [0.07364024966955185, 0.07351349294185638, 0.12675829231739044]\n",
      "--------------- Epoch 140 ---------------\n"
     ]
    },
    {
     "name": "stderr",
     "output_type": "stream",
     "text": [
      "100%|██████████| 6/6 [00:05<00:00,  1.12it/s]\n"
     ]
    },
    {
     "name": "stdout",
     "output_type": "stream",
     "text": [
      "discriminator_loss :  0.5385161563754082\n",
      "gan_loss : [0.06873425096273422, 0.06861661374568939, 0.11763834953308105]\n",
      "--------------- Epoch 141 ---------------\n"
     ]
    },
    {
     "name": "stderr",
     "output_type": "stream",
     "text": [
      "100%|██████████| 6/6 [00:05<00:00,  1.18it/s]\n"
     ]
    },
    {
     "name": "stdout",
     "output_type": "stream",
     "text": [
      "discriminator_loss :  0.47103896737098694\n",
      "gan_loss : [0.0748942643404007, 0.07483885437250137, 0.05540712550282478]\n",
      "--------------- Epoch 142 ---------------\n"
     ]
    },
    {
     "name": "stderr",
     "output_type": "stream",
     "text": [
      "100%|██████████| 6/6 [00:05<00:00,  1.06it/s]\n"
     ]
    },
    {
     "name": "stdout",
     "output_type": "stream",
     "text": [
      "discriminator_loss :  0.49805960804224014\n",
      "gan_loss : [0.0599057674407959, 0.05978710576891899, 0.1186637207865715]\n",
      "--------------- Epoch 143 ---------------\n"
     ]
    },
    {
     "name": "stderr",
     "output_type": "stream",
     "text": [
      "100%|██████████| 6/6 [00:05<00:00,  1.18it/s]\n"
     ]
    },
    {
     "name": "stdout",
     "output_type": "stream",
     "text": [
      "discriminator_loss :  0.5330452807247639\n",
      "gan_loss : [0.061836376786231995, 0.061724577099084854, 0.11179810017347336]\n",
      "--------------- Epoch 144 ---------------\n"
     ]
    },
    {
     "name": "stderr",
     "output_type": "stream",
     "text": [
      "100%|██████████| 6/6 [00:05<00:00,  1.18it/s]\n"
     ]
    },
    {
     "name": "stdout",
     "output_type": "stream",
     "text": [
      "discriminator_loss :  0.5349057391285896\n",
      "gan_loss : [0.0863068625330925, 0.08618845790624619, 0.11841392517089844]\n",
      "--------------- Epoch 145 ---------------\n"
     ]
    },
    {
     "name": "stderr",
     "output_type": "stream",
     "text": [
      "100%|██████████| 6/6 [00:05<00:00,  1.18it/s]\n"
     ]
    },
    {
     "name": "stdout",
     "output_type": "stream",
     "text": [
      "discriminator_loss :  0.49435634911060333\n",
      "gan_loss : [0.07401584088802338, 0.07392843812704086, 0.08740105479955673]\n",
      "--------------- Epoch 146 ---------------\n"
     ]
    },
    {
     "name": "stderr",
     "output_type": "stream",
     "text": [
      "100%|██████████| 6/6 [00:05<00:00,  1.12it/s]\n"
     ]
    },
    {
     "name": "stdout",
     "output_type": "stream",
     "text": [
      "discriminator_loss :  0.5004872381687164\n",
      "gan_loss : [0.08935407549142838, 0.08928801864385605, 0.0660620853304863]\n",
      "--------------- Epoch 147 ---------------\n"
     ]
    },
    {
     "name": "stderr",
     "output_type": "stream",
     "text": [
      "100%|██████████| 6/6 [00:05<00:00,  1.19it/s]\n"
     ]
    },
    {
     "name": "stdout",
     "output_type": "stream",
     "text": [
      "discriminator_loss :  0.4652213007211685\n",
      "gan_loss : [0.07013674825429916, 0.07003885507583618, 0.09789320826530457]\n",
      "--------------- Epoch 148 ---------------\n"
     ]
    },
    {
     "name": "stderr",
     "output_type": "stream",
     "text": [
      "100%|██████████| 6/6 [00:05<00:00,  1.01it/s]\n"
     ]
    },
    {
     "name": "stdout",
     "output_type": "stream",
     "text": [
      "discriminator_loss :  0.5296276211738586\n",
      "gan_loss : [0.07897979021072388, 0.07884581387042999, 0.13397400081157684]\n",
      "--------------- Epoch 149 ---------------\n"
     ]
    },
    {
     "name": "stderr",
     "output_type": "stream",
     "text": [
      "100%|██████████| 6/6 [00:05<00:00,  1.20it/s]\n"
     ]
    },
    {
     "name": "stdout",
     "output_type": "stream",
     "text": [
      "discriminator_loss :  0.49165357276797295\n",
      "gan_loss : [0.07894214242696762, 0.07884689420461655, 0.09524569660425186]\n",
      "--------------- Epoch 150 ---------------\n"
     ]
    },
    {
     "name": "stderr",
     "output_type": "stream",
     "text": [
      "100%|██████████| 6/6 [00:05<00:00,  1.13it/s]\n"
     ]
    },
    {
     "name": "stdout",
     "output_type": "stream",
     "text": [
      "discriminator_loss :  0.5171457938849926\n",
      "gan_loss : [0.08155026286840439, 0.0814618170261383, 0.08844390511512756]\n",
      "--------------- Epoch 151 ---------------\n"
     ]
    },
    {
     "name": "stderr",
     "output_type": "stream",
     "text": [
      "100%|██████████| 6/6 [00:05<00:00,  1.17it/s]\n"
     ]
    },
    {
     "name": "stdout",
     "output_type": "stream",
     "text": [
      "discriminator_loss :  0.4962766319513321\n",
      "gan_loss : [0.09082954376935959, 0.0907469093799591, 0.08263213187456131]\n",
      "--------------- Epoch 152 ---------------\n"
     ]
    },
    {
     "name": "stderr",
     "output_type": "stream",
     "text": [
      "100%|██████████| 6/6 [00:05<00:00,  1.13it/s]\n"
     ]
    },
    {
     "name": "stdout",
     "output_type": "stream",
     "text": [
      "discriminator_loss :  0.49588679149746895\n",
      "gan_loss : [0.09314114600419998, 0.0930626168847084, 0.07852693647146225]\n",
      "--------------- Epoch 153 ---------------\n"
     ]
    },
    {
     "name": "stderr",
     "output_type": "stream",
     "text": [
      "100%|██████████| 6/6 [00:05<00:00,  1.18it/s]\n"
     ]
    },
    {
     "name": "stdout",
     "output_type": "stream",
     "text": [
      "discriminator_loss :  0.4903094284236431\n",
      "gan_loss : [0.08715132623910904, 0.08707160502672195, 0.07972448319196701]\n",
      "--------------- Epoch 154 ---------------\n"
     ]
    },
    {
     "name": "stderr",
     "output_type": "stream",
     "text": [
      "100%|██████████| 6/6 [00:05<00:00,  1.03it/s]\n"
     ]
    },
    {
     "name": "stdout",
     "output_type": "stream",
     "text": [
      "discriminator_loss :  0.5106817297637463\n",
      "gan_loss : [0.07784458994865417, 0.07775560766458511, 0.08897912502288818]\n",
      "--------------- Epoch 155 ---------------\n"
     ]
    },
    {
     "name": "stderr",
     "output_type": "stream",
     "text": [
      "100%|██████████| 6/6 [00:05<00:00,  1.16it/s]\n"
     ]
    },
    {
     "name": "stdout",
     "output_type": "stream",
     "text": [
      "discriminator_loss :  0.49572640657424927\n",
      "gan_loss : [0.09129282832145691, 0.09123077988624573, 0.0620458610355854]\n",
      "--------------- Epoch 156 ---------------\n"
     ]
    },
    {
     "name": "stderr",
     "output_type": "stream",
     "text": [
      "100%|██████████| 6/6 [00:05<00:00,  1.08it/s]\n"
     ]
    },
    {
     "name": "stdout",
     "output_type": "stream",
     "text": [
      "discriminator_loss :  0.4730965606868267\n",
      "gan_loss : [0.07859932631254196, 0.07848925143480301, 0.11007579416036606]\n",
      "--------------- Epoch 157 ---------------\n"
     ]
    },
    {
     "name": "stderr",
     "output_type": "stream",
     "text": [
      "100%|██████████| 6/6 [00:05<00:00,  1.16it/s]\n"
     ]
    },
    {
     "name": "stdout",
     "output_type": "stream",
     "text": [
      "discriminator_loss :  0.5168276503682137\n",
      "gan_loss : [0.0859597697854042, 0.08588233590126038, 0.0774308368563652]\n",
      "--------------- Epoch 158 ---------------\n"
     ]
    },
    {
     "name": "stderr",
     "output_type": "stream",
     "text": [
      "100%|██████████| 6/6 [00:05<00:00,  1.13it/s]\n"
     ]
    },
    {
     "name": "stdout",
     "output_type": "stream",
     "text": [
      "discriminator_loss :  0.4924974851310253\n",
      "gan_loss : [0.0936366617679596, 0.09355640411376953, 0.08025460690259933]\n",
      "--------------- Epoch 159 ---------------\n"
     ]
    },
    {
     "name": "stderr",
     "output_type": "stream",
     "text": [
      "100%|██████████| 6/6 [00:05<00:00,  1.19it/s]\n"
     ]
    },
    {
     "name": "stdout",
     "output_type": "stream",
     "text": [
      "discriminator_loss :  0.5059241056442261\n",
      "gan_loss : [0.0955597385764122, 0.09545573592185974, 0.10399443656206131]\n",
      "--------------- Epoch 160 ---------------\n"
     ]
    },
    {
     "name": "stderr",
     "output_type": "stream",
     "text": [
      "100%|██████████| 6/6 [00:05<00:00,  1.01it/s]\n"
     ]
    },
    {
     "name": "stdout",
     "output_type": "stream",
     "text": [
      "discriminator_loss :  0.5326177626848221\n",
      "gan_loss : [0.07203298062086105, 0.07191424071788788, 0.11873898655176163]\n",
      "--------------- Epoch 161 ---------------\n"
     ]
    },
    {
     "name": "stderr",
     "output_type": "stream",
     "text": [
      "100%|██████████| 6/6 [00:05<00:00,  1.13it/s]\n"
     ]
    },
    {
     "name": "stdout",
     "output_type": "stream",
     "text": [
      "discriminator_loss :  0.4812389574944973\n",
      "gan_loss : [0.06335517019033432, 0.06322714686393738, 0.12802378833293915]\n",
      "--------------- Epoch 162 ---------------\n"
     ]
    },
    {
     "name": "stderr",
     "output_type": "stream",
     "text": [
      "100%|██████████| 6/6 [00:05<00:00,  1.13it/s]\n"
     ]
    },
    {
     "name": "stdout",
     "output_type": "stream",
     "text": [
      "discriminator_loss :  0.4889431558549404\n",
      "gan_loss : [0.07199224829673767, 0.07190833985805511, 0.08390841633081436]\n",
      "--------------- Epoch 163 ---------------\n"
     ]
    },
    {
     "name": "stderr",
     "output_type": "stream",
     "text": [
      "100%|██████████| 6/6 [00:05<00:00,  1.18it/s]\n"
     ]
    },
    {
     "name": "stdout",
     "output_type": "stream",
     "text": [
      "discriminator_loss :  0.48667142912745476\n",
      "gan_loss : [0.08204290270805359, 0.08191299438476562, 0.12991002202033997]\n",
      "--------------- Epoch 164 ---------------\n"
     ]
    },
    {
     "name": "stderr",
     "output_type": "stream",
     "text": [
      "100%|██████████| 6/6 [00:05<00:00,  1.16it/s]\n"
     ]
    },
    {
     "name": "stdout",
     "output_type": "stream",
     "text": [
      "discriminator_loss :  0.48306960240006447\n",
      "gan_loss : [0.08621356636285782, 0.08610446006059647, 0.10911455005407333]\n",
      "--------------- Epoch 165 ---------------\n"
     ]
    },
    {
     "name": "stderr",
     "output_type": "stream",
     "text": [
      "100%|██████████| 6/6 [00:05<00:00,  1.11it/s]\n"
     ]
    },
    {
     "name": "stdout",
     "output_type": "stream",
     "text": [
      "discriminator_loss :  0.48266535624861717\n",
      "gan_loss : [0.08272213488817215, 0.0825904980301857, 0.13163474202156067]\n",
      "--------------- Epoch 166 ---------------\n"
     ]
    },
    {
     "name": "stderr",
     "output_type": "stream",
     "text": [
      "100%|██████████| 6/6 [00:05<00:00,  1.07it/s]\n"
     ]
    },
    {
     "name": "stdout",
     "output_type": "stream",
     "text": [
      "discriminator_loss :  0.5320136472582817\n",
      "gan_loss : [0.08389097452163696, 0.0837978944182396, 0.09307855367660522]\n",
      "--------------- Epoch 167 ---------------\n"
     ]
    },
    {
     "name": "stderr",
     "output_type": "stream",
     "text": [
      "100%|██████████| 6/6 [00:05<00:00,  1.16it/s]\n"
     ]
    },
    {
     "name": "stdout",
     "output_type": "stream",
     "text": [
      "discriminator_loss :  0.46645467914640903\n",
      "gan_loss : [0.057917024940252304, 0.05785166099667549, 0.06536052376031876]\n",
      "--------------- Epoch 168 ---------------\n"
     ]
    },
    {
     "name": "stderr",
     "output_type": "stream",
     "text": [
      "100%|██████████| 6/6 [00:05<00:00,  1.18it/s]\n"
     ]
    },
    {
     "name": "stdout",
     "output_type": "stream",
     "text": [
      "discriminator_loss :  0.492971109226346\n",
      "gan_loss : [0.05914497748017311, 0.05904630199074745, 0.09867527335882187]\n",
      "--------------- Epoch 169 ---------------\n"
     ]
    },
    {
     "name": "stderr",
     "output_type": "stream",
     "text": [
      "100%|██████████| 6/6 [00:05<00:00,  1.11it/s]\n"
     ]
    },
    {
     "name": "stdout",
     "output_type": "stream",
     "text": [
      "discriminator_loss :  0.5112970657646656\n",
      "gan_loss : [0.08583983033895493, 0.08572587370872498, 0.11395875364542007]\n",
      "--------------- Epoch 170 ---------------\n"
     ]
    },
    {
     "name": "stderr",
     "output_type": "stream",
     "text": [
      "100%|██████████| 6/6 [00:05<00:00,  1.14it/s]\n"
     ]
    },
    {
     "name": "stdout",
     "output_type": "stream",
     "text": [
      "discriminator_loss :  0.5089643485844135\n",
      "gan_loss : [0.06319677829742432, 0.06307380646467209, 0.12297474592924118]\n",
      "--------------- Epoch 171 ---------------\n"
     ]
    },
    {
     "name": "stderr",
     "output_type": "stream",
     "text": [
      "100%|██████████| 6/6 [00:05<00:00,  1.15it/s]\n"
     ]
    },
    {
     "name": "stdout",
     "output_type": "stream",
     "text": [
      "discriminator_loss :  0.5008839555084705\n",
      "gan_loss : [0.07123374193906784, 0.0711500346660614, 0.08370476961135864]\n",
      "--------------- Epoch 172 ---------------\n"
     ]
    },
    {
     "name": "stderr",
     "output_type": "stream",
     "text": [
      "100%|██████████| 6/6 [00:05<00:00,  1.09it/s]\n"
     ]
    },
    {
     "name": "stdout",
     "output_type": "stream",
     "text": [
      "discriminator_loss :  0.47827382385730743\n",
      "gan_loss : [0.10643357038497925, 0.10634712129831314, 0.08643952757120132]\n",
      "--------------- Epoch 173 ---------------\n"
     ]
    },
    {
     "name": "stderr",
     "output_type": "stream",
     "text": [
      "100%|██████████| 6/6 [00:05<00:00,  1.14it/s]\n"
     ]
    },
    {
     "name": "stdout",
     "output_type": "stream",
     "text": [
      "discriminator_loss :  0.4973113685846329\n",
      "gan_loss : [0.08938956260681152, 0.0892723798751831, 0.11718466132879257]\n",
      "--------------- Epoch 174 ---------------\n"
     ]
    },
    {
     "name": "stderr",
     "output_type": "stream",
     "text": [
      "100%|██████████| 6/6 [00:05<00:00,  1.14it/s]\n"
     ]
    },
    {
     "name": "stdout",
     "output_type": "stream",
     "text": [
      "discriminator_loss :  0.5089447498321533\n",
      "gan_loss : [0.09673652052879333, 0.09665586799383163, 0.0806526318192482]\n",
      "--------------- Epoch 175 ---------------\n"
     ]
    },
    {
     "name": "stderr",
     "output_type": "stream",
     "text": [
      "100%|██████████| 6/6 [00:05<00:00,  1.06it/s]\n"
     ]
    },
    {
     "name": "stdout",
     "output_type": "stream",
     "text": [
      "discriminator_loss :  0.49606605246663094\n",
      "gan_loss : [0.07575706392526627, 0.07568378001451492, 0.07328539341688156]\n",
      "--------------- Epoch 176 ---------------\n"
     ]
    },
    {
     "name": "stderr",
     "output_type": "stream",
     "text": [
      "100%|██████████| 6/6 [00:05<00:00,  1.18it/s]\n"
     ]
    },
    {
     "name": "stdout",
     "output_type": "stream",
     "text": [
      "discriminator_loss :  0.4676109403371811\n",
      "gan_loss : [0.05456086993217468, 0.05447588488459587, 0.08498350530862808]\n",
      "--------------- Epoch 177 ---------------\n"
     ]
    },
    {
     "name": "stderr",
     "output_type": "stream",
     "text": [
      "100%|██████████| 6/6 [00:05<00:00,  1.10it/s]\n"
     ]
    },
    {
     "name": "stdout",
     "output_type": "stream",
     "text": [
      "discriminator_loss :  0.5193745791912079\n",
      "gan_loss : [0.06278781592845917, 0.06266249716281891, 0.12531505525112152]\n",
      "--------------- Epoch 178 ---------------\n"
     ]
    },
    {
     "name": "stderr",
     "output_type": "stream",
     "text": [
      "100%|██████████| 6/6 [00:05<00:00,  1.05it/s]\n"
     ]
    },
    {
     "name": "stdout",
     "output_type": "stream",
     "text": [
      "discriminator_loss :  0.5045570805668831\n",
      "gan_loss : [0.0763072669506073, 0.07618455588817596, 0.12271332740783691]\n",
      "--------------- Epoch 179 ---------------\n"
     ]
    },
    {
     "name": "stderr",
     "output_type": "stream",
     "text": [
      "100%|██████████| 6/6 [00:05<00:00,  1.13it/s]\n"
     ]
    },
    {
     "name": "stdout",
     "output_type": "stream",
     "text": [
      "discriminator_loss :  0.4799724519252777\n",
      "gan_loss : [0.09430819004774094, 0.09420916438102722, 0.09902691841125488]\n",
      "--------------- Epoch 180 ---------------\n"
     ]
    },
    {
     "name": "stderr",
     "output_type": "stream",
     "text": [
      "100%|██████████| 6/6 [00:04<00:00,  1.21it/s]\n"
     ]
    },
    {
     "name": "stdout",
     "output_type": "stream",
     "text": [
      "discriminator_loss :  0.5166309624910355\n",
      "gan_loss : [0.08108850568532944, 0.08099028468132019, 0.09822400659322739]\n",
      "--------------- Epoch 181 ---------------\n"
     ]
    },
    {
     "name": "stderr",
     "output_type": "stream",
     "text": [
      "100%|██████████| 6/6 [00:05<00:00,  1.11it/s]\n"
     ]
    },
    {
     "name": "stdout",
     "output_type": "stream",
     "text": [
      "discriminator_loss :  0.5019128024578094\n",
      "gan_loss : [0.08908074349164963, 0.08899451047182083, 0.08623591810464859]\n",
      "--------------- Epoch 182 ---------------\n"
     ]
    },
    {
     "name": "stderr",
     "output_type": "stream",
     "text": [
      "100%|██████████| 6/6 [00:05<00:00,  1.14it/s]\n"
     ]
    },
    {
     "name": "stdout",
     "output_type": "stream",
     "text": [
      "discriminator_loss :  0.49884504079818726\n",
      "gan_loss : [0.07933808863162994, 0.07928449660539627, 0.05358864367008209]\n",
      "--------------- Epoch 183 ---------------\n"
     ]
    },
    {
     "name": "stderr",
     "output_type": "stream",
     "text": [
      "100%|██████████| 6/6 [00:05<00:00,  1.17it/s]\n"
     ]
    },
    {
     "name": "stdout",
     "output_type": "stream",
     "text": [
      "discriminator_loss :  0.4999111369252205\n",
      "gan_loss : [0.07933002710342407, 0.07918503135442734, 0.14499492943286896]\n",
      "--------------- Epoch 184 ---------------\n"
     ]
    },
    {
     "name": "stderr",
     "output_type": "stream",
     "text": [
      "100%|██████████| 6/6 [00:05<00:00,  1.04it/s]\n"
     ]
    },
    {
     "name": "stdout",
     "output_type": "stream",
     "text": [
      "discriminator_loss :  0.49644777178764343\n",
      "gan_loss : [0.0971551164984703, 0.09705325216054916, 0.10186441987752914]\n",
      "--------------- Epoch 185 ---------------\n"
     ]
    },
    {
     "name": "stderr",
     "output_type": "stream",
     "text": [
      "100%|██████████| 6/6 [00:05<00:00,  1.11it/s]\n"
     ]
    },
    {
     "name": "stdout",
     "output_type": "stream",
     "text": [
      "discriminator_loss :  0.5020816177129745\n",
      "gan_loss : [0.07078570127487183, 0.07072552293539047, 0.06017806753516197]\n",
      "--------------- Epoch 186 ---------------\n"
     ]
    },
    {
     "name": "stderr",
     "output_type": "stream",
     "text": [
      "100%|██████████| 6/6 [00:05<00:00,  1.17it/s]\n"
     ]
    },
    {
     "name": "stdout",
     "output_type": "stream",
     "text": [
      "discriminator_loss :  0.48704537004232407\n",
      "gan_loss : [0.06426836550235748, 0.06415218114852905, 0.1161860004067421]\n",
      "--------------- Epoch 187 ---------------\n"
     ]
    },
    {
     "name": "stderr",
     "output_type": "stream",
     "text": [
      "100%|██████████| 6/6 [00:05<00:00,  1.11it/s]\n"
     ]
    },
    {
     "name": "stdout",
     "output_type": "stream",
     "text": [
      "discriminator_loss :  0.5044512636959553\n",
      "gan_loss : [0.07095314562320709, 0.07082269340753555, 0.13045187294483185]\n",
      "--------------- Epoch 188 ---------------\n"
     ]
    },
    {
     "name": "stderr",
     "output_type": "stream",
     "text": [
      "100%|██████████| 6/6 [00:05<00:00,  1.18it/s]\n"
     ]
    },
    {
     "name": "stdout",
     "output_type": "stream",
     "text": [
      "discriminator_loss :  0.5030623488128185\n",
      "gan_loss : [0.10375841706991196, 0.10365859419107437, 0.0998171865940094]\n",
      "--------------- Epoch 189 ---------------\n"
     ]
    },
    {
     "name": "stderr",
     "output_type": "stream",
     "text": [
      "100%|██████████| 6/6 [00:05<00:00,  1.14it/s]\n"
     ]
    },
    {
     "name": "stdout",
     "output_type": "stream",
     "text": [
      "discriminator_loss :  0.5142531469464302\n",
      "gan_loss : [0.0788719430565834, 0.07872704416513443, 0.14490151405334473]\n",
      "--------------- Epoch 190 ---------------\n"
     ]
    },
    {
     "name": "stderr",
     "output_type": "stream",
     "text": [
      "100%|██████████| 6/6 [00:05<00:00,  1.09it/s]\n"
     ]
    },
    {
     "name": "stdout",
     "output_type": "stream",
     "text": [
      "discriminator_loss :  0.4852854609489441\n",
      "gan_loss : [0.06821024417877197, 0.06810083985328674, 0.10940751433372498]\n",
      "--------------- Epoch 191 ---------------\n"
     ]
    },
    {
     "name": "stderr",
     "output_type": "stream",
     "text": [
      "100%|██████████| 6/6 [00:05<00:00,  1.14it/s]\n"
     ]
    },
    {
     "name": "stdout",
     "output_type": "stream",
     "text": [
      "discriminator_loss :  0.48416607081890106\n",
      "gan_loss : [0.07469411939382553, 0.07461238652467728, 0.0817299485206604]\n",
      "--------------- Epoch 192 ---------------\n"
     ]
    },
    {
     "name": "stderr",
     "output_type": "stream",
     "text": [
      "100%|██████████| 6/6 [00:05<00:00,  1.19it/s]\n"
     ]
    },
    {
     "name": "stdout",
     "output_type": "stream",
     "text": [
      "discriminator_loss :  0.49240095913410187\n",
      "gan_loss : [0.07986368238925934, 0.07977448403835297, 0.08919677138328552]\n",
      "--------------- Epoch 193 ---------------\n"
     ]
    },
    {
     "name": "stderr",
     "output_type": "stream",
     "text": [
      "100%|██████████| 6/6 [00:05<00:00,  1.13it/s]\n"
     ]
    },
    {
     "name": "stdout",
     "output_type": "stream",
     "text": [
      "discriminator_loss :  0.498284537345171\n",
      "gan_loss : [0.07530922442674637, 0.07518808543682098, 0.12113887071609497]\n",
      "--------------- Epoch 194 ---------------\n"
     ]
    },
    {
     "name": "stderr",
     "output_type": "stream",
     "text": [
      "100%|██████████| 6/6 [00:05<00:00,  1.14it/s]\n"
     ]
    },
    {
     "name": "stdout",
     "output_type": "stream",
     "text": [
      "discriminator_loss :  0.5040185190737247\n",
      "gan_loss : [0.08126723021268845, 0.08118299394845963, 0.08423946052789688]\n",
      "--------------- Epoch 195 ---------------\n"
     ]
    },
    {
     "name": "stderr",
     "output_type": "stream",
     "text": [
      "100%|██████████| 6/6 [00:05<00:00,  1.15it/s]\n"
     ]
    },
    {
     "name": "stdout",
     "output_type": "stream",
     "text": [
      "discriminator_loss :  0.4901785757392645\n",
      "gan_loss : [0.09362301230430603, 0.09350527077913284, 0.11773868650197983]\n",
      "--------------- Epoch 196 ---------------\n"
     ]
    },
    {
     "name": "stderr",
     "output_type": "stream",
     "text": [
      "100%|██████████| 6/6 [00:05<00:00,  1.14it/s]\n"
     ]
    },
    {
     "name": "stdout",
     "output_type": "stream",
     "text": [
      "discriminator_loss :  0.4821019656956196\n",
      "gan_loss : [0.08517035096883774, 0.08507168292999268, 0.0986570492386818]\n",
      "--------------- Epoch 197 ---------------\n"
     ]
    },
    {
     "name": "stderr",
     "output_type": "stream",
     "text": [
      "100%|██████████| 6/6 [00:05<00:00,  1.02it/s]\n"
     ]
    },
    {
     "name": "stdout",
     "output_type": "stream",
     "text": [
      "discriminator_loss :  0.4980417974293232\n",
      "gan_loss : [0.07021080702543259, 0.07014820724725723, 0.06259741634130478]\n",
      "--------------- Epoch 198 ---------------\n"
     ]
    },
    {
     "name": "stderr",
     "output_type": "stream",
     "text": [
      "100%|██████████| 6/6 [00:05<00:00,  1.17it/s]\n"
     ]
    },
    {
     "name": "stdout",
     "output_type": "stream",
     "text": [
      "discriminator_loss :  0.49036645889282227\n",
      "gan_loss : [0.06723285466432571, 0.06711593270301819, 0.11692536622285843]\n",
      "--------------- Epoch 199 ---------------\n"
     ]
    },
    {
     "name": "stderr",
     "output_type": "stream",
     "text": [
      "100%|██████████| 6/6 [00:05<00:00,  1.20it/s]\n"
     ]
    },
    {
     "name": "stdout",
     "output_type": "stream",
     "text": [
      "discriminator_loss :  0.4880427122116089\n",
      "gan_loss : [0.07581090182065964, 0.07576289027929306, 0.048008840531110764]\n",
      "--------------- Epoch 200 ---------------\n"
     ]
    },
    {
     "name": "stderr",
     "output_type": "stream",
     "text": [
      "100%|██████████| 6/6 [00:05<00:00,  1.09it/s]\n"
     ]
    },
    {
     "name": "stdout",
     "output_type": "stream",
     "text": [
      "discriminator_loss :  0.5084576085209846\n",
      "gan_loss : [0.06341968476772308, 0.06331543624401093, 0.10425042361021042]\n",
      "--------------- Epoch 201 ---------------\n"
     ]
    },
    {
     "name": "stderr",
     "output_type": "stream",
     "text": [
      "100%|██████████| 6/6 [00:05<00:00,  1.16it/s]\n"
     ]
    },
    {
     "name": "stdout",
     "output_type": "stream",
     "text": [
      "discriminator_loss :  0.4877849668264389\n",
      "gan_loss : [0.06613224744796753, 0.0660761147737503, 0.056134581565856934]\n",
      "--------------- Epoch 202 ---------------\n"
     ]
    },
    {
     "name": "stderr",
     "output_type": "stream",
     "text": [
      "100%|██████████| 6/6 [00:05<00:00,  1.02it/s]\n"
     ]
    },
    {
     "name": "stdout",
     "output_type": "stream",
     "text": [
      "discriminator_loss :  0.4907367341220379\n",
      "gan_loss : [0.07722609490156174, 0.07716147601604462, 0.06462141871452332]\n",
      "--------------- Epoch 203 ---------------\n"
     ]
    },
    {
     "name": "stderr",
     "output_type": "stream",
     "text": [
      "100%|██████████| 6/6 [00:05<00:00,  1.11it/s]\n"
     ]
    },
    {
     "name": "stdout",
     "output_type": "stream",
     "text": [
      "discriminator_loss :  0.5044785737991333\n",
      "gan_loss : [0.048575494438409805, 0.04844215139746666, 0.13334451615810394]\n",
      "--------------- Epoch 204 ---------------\n"
     ]
    },
    {
     "name": "stderr",
     "output_type": "stream",
     "text": [
      "100%|██████████| 6/6 [00:05<00:00,  1.08it/s]\n"
     ]
    },
    {
     "name": "stdout",
     "output_type": "stream",
     "text": [
      "discriminator_loss :  0.5210385024547577\n",
      "gan_loss : [0.07110226899385452, 0.0710003525018692, 0.10191290825605392]\n",
      "--------------- Epoch 205 ---------------\n"
     ]
    },
    {
     "name": "stderr",
     "output_type": "stream",
     "text": [
      "100%|██████████| 6/6 [00:05<00:00,  1.18it/s]\n"
     ]
    },
    {
     "name": "stdout",
     "output_type": "stream",
     "text": [
      "discriminator_loss :  0.5093894898891449\n",
      "gan_loss : [0.07714154571294785, 0.0770370215177536, 0.10452672839164734]\n",
      "--------------- Epoch 206 ---------------\n"
     ]
    },
    {
     "name": "stderr",
     "output_type": "stream",
     "text": [
      "100%|██████████| 6/6 [00:05<00:00,  1.10it/s]\n"
     ]
    },
    {
     "name": "stdout",
     "output_type": "stream",
     "text": [
      "discriminator_loss :  0.5188263952732086\n",
      "gan_loss : [0.07990456372499466, 0.07976723462343216, 0.1373286098241806]\n",
      "--------------- Epoch 207 ---------------\n"
     ]
    },
    {
     "name": "stderr",
     "output_type": "stream",
     "text": [
      "100%|██████████| 6/6 [00:05<00:00,  1.12it/s]\n"
     ]
    },
    {
     "name": "stdout",
     "output_type": "stream",
     "text": [
      "discriminator_loss :  0.5035181939601898\n",
      "gan_loss : [0.08873473852872849, 0.08862631767988205, 0.10842069238424301]\n",
      "--------------- Epoch 208 ---------------\n"
     ]
    },
    {
     "name": "stderr",
     "output_type": "stream",
     "text": [
      "100%|██████████| 6/6 [00:05<00:00,  1.03it/s]\n"
     ]
    },
    {
     "name": "stdout",
     "output_type": "stream",
     "text": [
      "discriminator_loss :  0.514970600605011\n",
      "gan_loss : [0.0624927394092083, 0.062371209263801575, 0.12152864784002304]\n",
      "--------------- Epoch 209 ---------------\n"
     ]
    },
    {
     "name": "stderr",
     "output_type": "stream",
     "text": [
      "100%|██████████| 6/6 [00:05<00:00,  1.20it/s]\n"
     ]
    },
    {
     "name": "stdout",
     "output_type": "stream",
     "text": [
      "discriminator_loss :  0.5117707662284374\n",
      "gan_loss : [0.07494405657052994, 0.07485503703355789, 0.08902163058519363]\n",
      "--------------- Epoch 210 ---------------\n"
     ]
    },
    {
     "name": "stderr",
     "output_type": "stream",
     "text": [
      "100%|██████████| 6/6 [00:05<00:00,  1.17it/s]\n"
     ]
    },
    {
     "name": "stdout",
     "output_type": "stream",
     "text": [
      "discriminator_loss :  0.5171637088060379\n",
      "gan_loss : [0.06729961186647415, 0.0672135278582573, 0.08608245849609375]\n",
      "--------------- Epoch 211 ---------------\n"
     ]
    },
    {
     "name": "stderr",
     "output_type": "stream",
     "text": [
      "100%|██████████| 6/6 [00:05<00:00,  1.17it/s]\n"
     ]
    },
    {
     "name": "stdout",
     "output_type": "stream",
     "text": [
      "discriminator_loss :  0.4721137695014477\n",
      "gan_loss : [0.06836052983999252, 0.0682445764541626, 0.11595052480697632]\n",
      "--------------- Epoch 212 ---------------\n"
     ]
    },
    {
     "name": "stderr",
     "output_type": "stream",
     "text": [
      "100%|██████████| 6/6 [00:05<00:00,  1.14it/s]\n"
     ]
    },
    {
     "name": "stdout",
     "output_type": "stream",
     "text": [
      "discriminator_loss :  0.49753427505493164\n",
      "gan_loss : [0.065215565264225, 0.06516936421394348, 0.04619739577174187]\n",
      "--------------- Epoch 213 ---------------\n"
     ]
    },
    {
     "name": "stderr",
     "output_type": "stream",
     "text": [
      "100%|██████████| 6/6 [00:05<00:00,  1.20it/s]\n"
     ]
    },
    {
     "name": "stdout",
     "output_type": "stream",
     "text": [
      "discriminator_loss :  0.525555070489645\n",
      "gan_loss : [0.07903796434402466, 0.07893823087215424, 0.099729984998703]\n",
      "--------------- Epoch 214 ---------------\n"
     ]
    },
    {
     "name": "stderr",
     "output_type": "stream",
     "text": [
      "100%|██████████| 6/6 [00:05<00:00,  1.04it/s]\n"
     ]
    },
    {
     "name": "stdout",
     "output_type": "stream",
     "text": [
      "discriminator_loss :  0.5028921216726303\n",
      "gan_loss : [0.08612847328186035, 0.08600709587335587, 0.12138096243143082]\n",
      "--------------- Epoch 215 ---------------\n"
     ]
    },
    {
     "name": "stderr",
     "output_type": "stream",
     "text": [
      "100%|██████████| 6/6 [00:05<00:00,  1.12it/s]\n"
     ]
    },
    {
     "name": "stdout",
     "output_type": "stream",
     "text": [
      "discriminator_loss :  0.5187694244086742\n",
      "gan_loss : [0.06579161435365677, 0.06572354584932327, 0.06806673109531403]\n",
      "--------------- Epoch 216 ---------------\n"
     ]
    },
    {
     "name": "stderr",
     "output_type": "stream",
     "text": [
      "100%|██████████| 6/6 [00:05<00:00,  1.11it/s]\n"
     ]
    },
    {
     "name": "stdout",
     "output_type": "stream",
     "text": [
      "discriminator_loss :  0.471968200057745\n",
      "gan_loss : [0.061523932963609695, 0.06143669784069061, 0.08723817020654678]\n",
      "--------------- Epoch 217 ---------------\n"
     ]
    },
    {
     "name": "stderr",
     "output_type": "stream",
     "text": [
      "100%|██████████| 6/6 [00:05<00:00,  1.20it/s]\n"
     ]
    },
    {
     "name": "stdout",
     "output_type": "stream",
     "text": [
      "discriminator_loss :  0.5141799077391624\n",
      "gan_loss : [0.08089763671159744, 0.08085430413484573, 0.043331075459718704]\n",
      "--------------- Epoch 218 ---------------\n"
     ]
    },
    {
     "name": "stderr",
     "output_type": "stream",
     "text": [
      "100%|██████████| 6/6 [00:05<00:00,  1.12it/s]\n"
     ]
    },
    {
     "name": "stdout",
     "output_type": "stream",
     "text": [
      "discriminator_loss :  0.4868953786790371\n",
      "gan_loss : [0.06790794432163239, 0.06779354810714722, 0.11439520120620728]\n",
      "--------------- Epoch 219 ---------------\n"
     ]
    },
    {
     "name": "stderr",
     "output_type": "stream",
     "text": [
      "100%|██████████| 6/6 [00:05<00:00,  1.19it/s]\n"
     ]
    },
    {
     "name": "stdout",
     "output_type": "stream",
     "text": [
      "discriminator_loss :  0.49841680005192757\n",
      "gan_loss : [0.08185859769582748, 0.08179482817649841, 0.06376692652702332]\n",
      "--------------- Epoch 220 ---------------\n"
     ]
    },
    {
     "name": "stderr",
     "output_type": "stream",
     "text": [
      "100%|██████████| 6/6 [00:05<00:00,  1.01it/s]\n"
     ]
    },
    {
     "name": "stdout",
     "output_type": "stream",
     "text": [
      "discriminator_loss :  0.49324781447649\n",
      "gan_loss : [0.059149280190467834, 0.05902281031012535, 0.12646959722042084]\n",
      "--------------- Epoch 221 ---------------\n"
     ]
    },
    {
     "name": "stderr",
     "output_type": "stream",
     "text": [
      "100%|██████████| 6/6 [00:05<00:00,  1.13it/s]\n"
     ]
    },
    {
     "name": "stdout",
     "output_type": "stream",
     "text": [
      "discriminator_loss :  0.49545544385910034\n",
      "gan_loss : [0.07922331243753433, 0.07914344221353531, 0.079871766269207]\n",
      "--------------- Epoch 222 ---------------\n"
     ]
    },
    {
     "name": "stderr",
     "output_type": "stream",
     "text": [
      "100%|██████████| 6/6 [00:05<00:00,  1.10it/s]\n"
     ]
    },
    {
     "name": "stdout",
     "output_type": "stream",
     "text": [
      "discriminator_loss :  0.49950897693634033\n",
      "gan_loss : [0.07167761027812958, 0.07161233574151993, 0.06527817994356155]\n",
      "--------------- Epoch 223 ---------------\n"
     ]
    },
    {
     "name": "stderr",
     "output_type": "stream",
     "text": [
      "100%|██████████| 6/6 [00:05<00:00,  1.18it/s]\n"
     ]
    },
    {
     "name": "stdout",
     "output_type": "stream",
     "text": [
      "discriminator_loss :  0.5040188021957874\n",
      "gan_loss : [0.08553466945886612, 0.08543086051940918, 0.10380840301513672]\n",
      "--------------- Epoch 224 ---------------\n"
     ]
    },
    {
     "name": "stderr",
     "output_type": "stream",
     "text": [
      "100%|██████████| 6/6 [00:05<00:00,  1.12it/s]\n"
     ]
    },
    {
     "name": "stdout",
     "output_type": "stream",
     "text": [
      "discriminator_loss :  0.49161869660019875\n",
      "gan_loss : [0.06921505928039551, 0.06907445937395096, 0.14060036838054657]\n",
      "--------------- Epoch 225 ---------------\n"
     ]
    },
    {
     "name": "stderr",
     "output_type": "stream",
     "text": [
      "100%|██████████| 6/6 [00:05<00:00,  1.13it/s]\n"
     ]
    },
    {
     "name": "stdout",
     "output_type": "stream",
     "text": [
      "discriminator_loss :  0.504377692937851\n",
      "gan_loss : [0.0672028586268425, 0.0671062096953392, 0.096646748483181]\n",
      "--------------- Epoch 226 ---------------\n"
     ]
    },
    {
     "name": "stderr",
     "output_type": "stream",
     "text": [
      "100%|██████████| 6/6 [00:05<00:00,  1.03it/s]\n"
     ]
    },
    {
     "name": "stdout",
     "output_type": "stream",
     "text": [
      "discriminator_loss :  0.5168646052479744\n",
      "gan_loss : [0.067139632999897, 0.0670187771320343, 0.12085792422294617]\n",
      "--------------- Epoch 227 ---------------\n"
     ]
    },
    {
     "name": "stderr",
     "output_type": "stream",
     "text": [
      "100%|██████████| 6/6 [00:05<00:00,  1.10it/s]\n"
     ]
    },
    {
     "name": "stdout",
     "output_type": "stream",
     "text": [
      "discriminator_loss :  0.5008172579109669\n",
      "gan_loss : [0.06163691356778145, 0.06151692196726799, 0.11999475210905075]\n",
      "--------------- Epoch 228 ---------------\n"
     ]
    },
    {
     "name": "stderr",
     "output_type": "stream",
     "text": [
      "100%|██████████| 6/6 [00:05<00:00,  1.09it/s]\n"
     ]
    },
    {
     "name": "stdout",
     "output_type": "stream",
     "text": [
      "discriminator_loss :  0.5011524148285389\n",
      "gan_loss : [0.05651545524597168, 0.05639871582388878, 0.11673770099878311]\n",
      "--------------- Epoch 229 ---------------\n"
     ]
    },
    {
     "name": "stderr",
     "output_type": "stream",
     "text": [
      "100%|██████████| 6/6 [00:05<00:00,  1.19it/s]\n"
     ]
    },
    {
     "name": "stdout",
     "output_type": "stream",
     "text": [
      "discriminator_loss :  0.5375167317688465\n",
      "gan_loss : [0.0701996460556984, 0.07009974122047424, 0.099903903901577]\n",
      "--------------- Epoch 230 ---------------\n"
     ]
    },
    {
     "name": "stderr",
     "output_type": "stream",
     "text": [
      "100%|██████████| 6/6 [00:05<00:00,  1.14it/s]\n"
     ]
    },
    {
     "name": "stdout",
     "output_type": "stream",
     "text": [
      "discriminator_loss :  0.4855811893939972\n",
      "gan_loss : [0.0911097303032875, 0.0910358726978302, 0.07386522740125656]\n",
      "--------------- Epoch 231 ---------------\n"
     ]
    },
    {
     "name": "stderr",
     "output_type": "stream",
     "text": [
      "100%|██████████| 6/6 [00:05<00:00,  1.20it/s]\n"
     ]
    },
    {
     "name": "stdout",
     "output_type": "stream",
     "text": [
      "discriminator_loss :  0.4549385719001293\n",
      "gan_loss : [0.07866761833429337, 0.07856383174657822, 0.103789784014225]\n",
      "--------------- Epoch 232 ---------------\n"
     ]
    },
    {
     "name": "stderr",
     "output_type": "stream",
     "text": [
      "100%|██████████| 6/6 [00:05<00:00,  1.03it/s]\n"
     ]
    },
    {
     "name": "stdout",
     "output_type": "stream",
     "text": [
      "discriminator_loss :  0.5295843034982681\n",
      "gan_loss : [0.06993145495653152, 0.0698130652308464, 0.1183898076415062]\n",
      "--------------- Epoch 233 ---------------\n"
     ]
    },
    {
     "name": "stderr",
     "output_type": "stream",
     "text": [
      "100%|██████████| 6/6 [00:05<00:00,  1.15it/s]\n"
     ]
    },
    {
     "name": "stdout",
     "output_type": "stream",
     "text": [
      "discriminator_loss :  0.49661223217844963\n",
      "gan_loss : [0.05877479910850525, 0.05867856740951538, 0.09623340517282486]\n",
      "--------------- Epoch 234 ---------------\n"
     ]
    },
    {
     "name": "stderr",
     "output_type": "stream",
     "text": [
      "100%|██████████| 6/6 [00:05<00:00,  1.19it/s]\n"
     ]
    },
    {
     "name": "stdout",
     "output_type": "stream",
     "text": [
      "discriminator_loss :  0.4945327453315258\n",
      "gan_loss : [0.09201288223266602, 0.09189557284116745, 0.11731163412332535]\n",
      "--------------- Epoch 235 ---------------\n"
     ]
    },
    {
     "name": "stderr",
     "output_type": "stream",
     "text": [
      "100%|██████████| 6/6 [00:05<00:00,  1.10it/s]\n"
     ]
    },
    {
     "name": "stdout",
     "output_type": "stream",
     "text": [
      "discriminator_loss :  0.49996165186166763\n",
      "gan_loss : [0.07649879157543182, 0.07641462981700897, 0.08416347950696945]\n",
      "--------------- Epoch 236 ---------------\n"
     ]
    },
    {
     "name": "stderr",
     "output_type": "stream",
     "text": [
      "100%|██████████| 6/6 [00:05<00:00,  1.17it/s]\n"
     ]
    },
    {
     "name": "stdout",
     "output_type": "stream",
     "text": [
      "discriminator_loss :  0.4993926100432873\n",
      "gan_loss : [0.07233233004808426, 0.07221242040395737, 0.11990996450185776]\n",
      "--------------- Epoch 237 ---------------\n"
     ]
    },
    {
     "name": "stderr",
     "output_type": "stream",
     "text": [
      "100%|██████████| 6/6 [00:05<00:00,  1.09it/s]\n"
     ]
    },
    {
     "name": "stdout",
     "output_type": "stream",
     "text": [
      "discriminator_loss :  0.46999049186706543\n",
      "gan_loss : [0.07843660563230515, 0.07836900651454926, 0.06759753078222275]\n",
      "--------------- Epoch 238 ---------------\n"
     ]
    },
    {
     "name": "stderr",
     "output_type": "stream",
     "text": [
      "100%|██████████| 6/6 [00:05<00:00,  1.11it/s]\n"
     ]
    },
    {
     "name": "stdout",
     "output_type": "stream",
     "text": [
      "discriminator_loss :  0.5109534859657288\n",
      "gan_loss : [0.07601544260978699, 0.07593556493520737, 0.07987991720438004]\n",
      "--------------- Epoch 239 ---------------\n"
     ]
    },
    {
     "name": "stderr",
     "output_type": "stream",
     "text": [
      "100%|██████████| 6/6 [00:05<00:00,  1.15it/s]\n"
     ]
    },
    {
     "name": "stdout",
     "output_type": "stream",
     "text": [
      "discriminator_loss :  0.4842236805707216\n",
      "gan_loss : [0.06823806464672089, 0.06814708560705185, 0.09098245948553085]\n",
      "--------------- Epoch 240 ---------------\n"
     ]
    },
    {
     "name": "stderr",
     "output_type": "stream",
     "text": [
      "100%|██████████| 6/6 [00:05<00:00,  1.16it/s]\n"
     ]
    },
    {
     "name": "stdout",
     "output_type": "stream",
     "text": [
      "discriminator_loss :  0.5254913046956062\n",
      "gan_loss : [0.055927056819200516, 0.05588890612125397, 0.03815527632832527]\n",
      "--------------- Epoch 241 ---------------\n"
     ]
    },
    {
     "name": "stderr",
     "output_type": "stream",
     "text": [
      "100%|██████████| 6/6 [00:05<00:00,  1.08it/s]\n"
     ]
    },
    {
     "name": "stdout",
     "output_type": "stream",
     "text": [
      "discriminator_loss :  0.48476842045783997\n",
      "gan_loss : [0.07108532637357712, 0.07098069787025452, 0.10463174432516098]\n",
      "--------------- Epoch 242 ---------------\n"
     ]
    },
    {
     "name": "stderr",
     "output_type": "stream",
     "text": [
      "100%|██████████| 6/6 [00:05<00:00,  1.16it/s]\n"
     ]
    },
    {
     "name": "stdout",
     "output_type": "stream",
     "text": [
      "discriminator_loss :  0.5210334062576294\n",
      "gan_loss : [0.0709710344672203, 0.07089029997587204, 0.08073709160089493]\n",
      "--------------- Epoch 243 ---------------\n"
     ]
    },
    {
     "name": "stderr",
     "output_type": "stream",
     "text": [
      "100%|██████████| 6/6 [00:05<00:00,  1.08it/s]\n"
     ]
    },
    {
     "name": "stdout",
     "output_type": "stream",
     "text": [
      "discriminator_loss :  0.5151592530310154\n",
      "gan_loss : [0.08693059533834457, 0.08685483783483505, 0.0757543072104454]\n",
      "--------------- Epoch 244 ---------------\n"
     ]
    },
    {
     "name": "stderr",
     "output_type": "stream",
     "text": [
      "100%|██████████| 6/6 [00:05<00:00,  1.08it/s]\n"
     ]
    },
    {
     "name": "stdout",
     "output_type": "stream",
     "text": [
      "discriminator_loss :  0.5023322813212872\n",
      "gan_loss : [0.09341726452112198, 0.09330672770738602, 0.11054351925849915]\n",
      "--------------- Epoch 245 ---------------\n"
     ]
    },
    {
     "name": "stderr",
     "output_type": "stream",
     "text": [
      "100%|██████████| 6/6 [00:05<00:00,  1.17it/s]\n"
     ]
    },
    {
     "name": "stdout",
     "output_type": "stream",
     "text": [
      "discriminator_loss :  0.5146835222840309\n",
      "gan_loss : [0.07659456878900528, 0.07650531828403473, 0.08924811333417892]\n",
      "--------------- Epoch 246 ---------------\n"
     ]
    },
    {
     "name": "stderr",
     "output_type": "stream",
     "text": [
      "100%|██████████| 6/6 [00:05<00:00,  1.16it/s]\n"
     ]
    },
    {
     "name": "stdout",
     "output_type": "stream",
     "text": [
      "discriminator_loss :  0.4784969612956047\n",
      "gan_loss : [0.10776016861200333, 0.10763470083475113, 0.125461146235466]\n",
      "--------------- Epoch 247 ---------------\n"
     ]
    },
    {
     "name": "stderr",
     "output_type": "stream",
     "text": [
      "100%|██████████| 6/6 [00:05<00:00,  1.14it/s]\n"
     ]
    },
    {
     "name": "stdout",
     "output_type": "stream",
     "text": [
      "discriminator_loss :  0.5056241378188133\n",
      "gan_loss : [0.07170261442661285, 0.07163669168949127, 0.06592343002557755]\n",
      "--------------- Epoch 248 ---------------\n"
     ]
    },
    {
     "name": "stderr",
     "output_type": "stream",
     "text": [
      "100%|██████████| 6/6 [00:05<00:00,  1.16it/s]\n"
     ]
    },
    {
     "name": "stdout",
     "output_type": "stream",
     "text": [
      "discriminator_loss :  0.5243885181844234\n",
      "gan_loss : [0.09272205829620361, 0.09264281392097473, 0.0792415663599968]\n",
      "--------------- Epoch 249 ---------------\n"
     ]
    },
    {
     "name": "stderr",
     "output_type": "stream",
     "text": [
      "100%|██████████| 6/6 [00:05<00:00,  1.12it/s]\n"
     ]
    },
    {
     "name": "stdout",
     "output_type": "stream",
     "text": [
      "discriminator_loss :  0.5186700001358986\n",
      "gan_loss : [0.07799769937992096, 0.07787812501192093, 0.11957582086324692]\n",
      "--------------- Epoch 250 ---------------\n"
     ]
    },
    {
     "name": "stderr",
     "output_type": "stream",
     "text": [
      "100%|██████████| 6/6 [00:05<00:00,  1.13it/s]\n"
     ]
    },
    {
     "name": "stdout",
     "output_type": "stream",
     "text": [
      "discriminator_loss :  0.49102720618247986\n",
      "gan_loss : [0.08264904469251633, 0.08255031704902649, 0.09872392565011978]\n",
      "--------------- Epoch 251 ---------------\n"
     ]
    },
    {
     "name": "stderr",
     "output_type": "stream",
     "text": [
      "100%|██████████| 6/6 [00:05<00:00,  1.11it/s]\n"
     ]
    },
    {
     "name": "stdout",
     "output_type": "stream",
     "text": [
      "discriminator_loss :  0.48969388380646706\n",
      "gan_loss : [0.05829676613211632, 0.05817541107535362, 0.1213543713092804]\n",
      "--------------- Epoch 252 ---------------\n"
     ]
    },
    {
     "name": "stderr",
     "output_type": "stream",
     "text": [
      "100%|██████████| 6/6 [00:05<00:00,  1.18it/s]\n"
     ]
    },
    {
     "name": "stdout",
     "output_type": "stream",
     "text": [
      "discriminator_loss :  0.5170331820845604\n",
      "gan_loss : [0.066257044672966, 0.06620419025421143, 0.052853863686323166]\n",
      "--------------- Epoch 253 ---------------\n"
     ]
    },
    {
     "name": "stderr",
     "output_type": "stream",
     "text": [
      "100%|██████████| 6/6 [00:05<00:00,  1.09it/s]\n"
     ]
    },
    {
     "name": "stdout",
     "output_type": "stream",
     "text": [
      "discriminator_loss :  0.5126390233635902\n",
      "gan_loss : [0.07772029936313629, 0.07757079601287842, 0.149505615234375]\n",
      "--------------- Epoch 254 ---------------\n"
     ]
    },
    {
     "name": "stderr",
     "output_type": "stream",
     "text": [
      "100%|██████████| 6/6 [00:05<00:00,  1.18it/s]\n"
     ]
    },
    {
     "name": "stdout",
     "output_type": "stream",
     "text": [
      "discriminator_loss :  0.5096517391502857\n",
      "gan_loss : [0.0647241622209549, 0.06459552049636841, 0.12864245474338531]\n",
      "--------------- Epoch 255 ---------------\n"
     ]
    },
    {
     "name": "stderr",
     "output_type": "stream",
     "text": [
      "100%|██████████| 6/6 [00:05<00:00,  1.12it/s]\n"
     ]
    },
    {
     "name": "stdout",
     "output_type": "stream",
     "text": [
      "discriminator_loss :  0.5095771290361881\n",
      "gan_loss : [0.07646398991346359, 0.07637563347816467, 0.08835417032241821]\n",
      "--------------- Epoch 256 ---------------\n"
     ]
    },
    {
     "name": "stderr",
     "output_type": "stream",
     "text": [
      "100%|██████████| 6/6 [00:05<00:00,  1.08it/s]\n"
     ]
    },
    {
     "name": "stdout",
     "output_type": "stream",
     "text": [
      "discriminator_loss :  0.4995177388191223\n",
      "gan_loss : [0.07310444861650467, 0.07300379872322083, 0.10064906626939774]\n",
      "--------------- Epoch 257 ---------------\n"
     ]
    },
    {
     "name": "stderr",
     "output_type": "stream",
     "text": [
      "100%|██████████| 6/6 [00:05<00:00,  1.12it/s]\n"
     ]
    },
    {
     "name": "stdout",
     "output_type": "stream",
     "text": [
      "discriminator_loss :  0.5177323035895824\n",
      "gan_loss : [0.0729559063911438, 0.07283876091241837, 0.11714572459459305]\n",
      "--------------- Epoch 258 ---------------\n"
     ]
    },
    {
     "name": "stderr",
     "output_type": "stream",
     "text": [
      "100%|██████████| 6/6 [00:05<00:00,  1.20it/s]\n"
     ]
    },
    {
     "name": "stdout",
     "output_type": "stream",
     "text": [
      "discriminator_loss :  0.509522020816803\n",
      "gan_loss : [0.06357485800981522, 0.06345854699611664, 0.11630871891975403]\n",
      "--------------- Epoch 259 ---------------\n"
     ]
    },
    {
     "name": "stderr",
     "output_type": "stream",
     "text": [
      "100%|██████████| 6/6 [00:05<00:00,  1.12it/s]\n"
     ]
    },
    {
     "name": "stdout",
     "output_type": "stream",
     "text": [
      "discriminator_loss :  0.4964423291385174\n",
      "gan_loss : [0.08228130638599396, 0.08215942233800888, 0.12188153713941574]\n",
      "--------------- Epoch 260 ---------------\n"
     ]
    },
    {
     "name": "stderr",
     "output_type": "stream",
     "text": [
      "100%|██████████| 6/6 [00:05<00:00,  1.17it/s]\n"
     ]
    },
    {
     "name": "stdout",
     "output_type": "stream",
     "text": [
      "discriminator_loss :  0.5154877491295338\n",
      "gan_loss : [0.07476510107517242, 0.0746636912226677, 0.10141143202781677]\n",
      "--------------- Epoch 261 ---------------\n"
     ]
    },
    {
     "name": "stderr",
     "output_type": "stream",
     "text": [
      "100%|██████████| 6/6 [00:05<00:00,  1.10it/s]\n"
     ]
    },
    {
     "name": "stdout",
     "output_type": "stream",
     "text": [
      "discriminator_loss :  0.5098861344158649\n",
      "gan_loss : [0.06950823217630386, 0.06941083818674088, 0.09739697724580765]\n",
      "--------------- Epoch 262 ---------------\n"
     ]
    },
    {
     "name": "stderr",
     "output_type": "stream",
     "text": [
      "100%|██████████| 6/6 [00:05<00:00,  1.05it/s]\n"
     ]
    },
    {
     "name": "stdout",
     "output_type": "stream",
     "text": [
      "discriminator_loss :  0.46657978370785713\n",
      "gan_loss : [0.06297986954450607, 0.06288954615592957, 0.09032180905342102]\n",
      "--------------- Epoch 263 ---------------\n"
     ]
    },
    {
     "name": "stderr",
     "output_type": "stream",
     "text": [
      "100%|██████████| 6/6 [00:05<00:00,  1.08it/s]\n"
     ]
    },
    {
     "name": "stdout",
     "output_type": "stream",
     "text": [
      "discriminator_loss :  0.508306622505188\n",
      "gan_loss : [0.07324472069740295, 0.07315418124198914, 0.09054277092218399]\n",
      "--------------- Epoch 264 ---------------\n"
     ]
    },
    {
     "name": "stderr",
     "output_type": "stream",
     "text": [
      "100%|██████████| 6/6 [00:05<00:00,  1.19it/s]\n"
     ]
    },
    {
     "name": "stdout",
     "output_type": "stream",
     "text": [
      "discriminator_loss :  0.5103823728859425\n",
      "gan_loss : [0.07327111065387726, 0.07317440956830978, 0.09669914096593857]\n",
      "--------------- Epoch 265 ---------------\n"
     ]
    },
    {
     "name": "stderr",
     "output_type": "stream",
     "text": [
      "100%|██████████| 6/6 [00:05<00:00,  1.13it/s]\n"
     ]
    },
    {
     "name": "stdout",
     "output_type": "stream",
     "text": [
      "discriminator_loss :  0.49714377522468567\n",
      "gan_loss : [0.07452637702226639, 0.07440043240785599, 0.12594282627105713]\n",
      "--------------- Epoch 266 ---------------\n"
     ]
    },
    {
     "name": "stderr",
     "output_type": "stream",
     "text": [
      "100%|██████████| 6/6 [00:05<00:00,  1.19it/s]\n"
     ]
    },
    {
     "name": "stdout",
     "output_type": "stream",
     "text": [
      "discriminator_loss :  0.5098142325878143\n",
      "gan_loss : [0.04798758029937744, 0.04792052134871483, 0.06705791503190994]\n",
      "--------------- Epoch 267 ---------------\n"
     ]
    },
    {
     "name": "stderr",
     "output_type": "stream",
     "text": [
      "100%|██████████| 6/6 [00:05<00:00,  1.18it/s]\n"
     ]
    },
    {
     "name": "stdout",
     "output_type": "stream",
     "text": [
      "discriminator_loss :  0.5043023824691772\n",
      "gan_loss : [0.08128367364406586, 0.08120499551296234, 0.07868114113807678]\n",
      "--------------- Epoch 268 ---------------\n"
     ]
    },
    {
     "name": "stderr",
     "output_type": "stream",
     "text": [
      "100%|██████████| 6/6 [00:05<00:00,  1.15it/s]\n"
     ]
    },
    {
     "name": "stdout",
     "output_type": "stream",
     "text": [
      "discriminator_loss :  0.4940835237503052\n",
      "gan_loss : [0.05610699579119682, 0.0560213178396225, 0.08567798137664795]\n",
      "--------------- Epoch 269 ---------------\n"
     ]
    },
    {
     "name": "stderr",
     "output_type": "stream",
     "text": [
      "100%|██████████| 6/6 [00:05<00:00,  1.10it/s]\n"
     ]
    },
    {
     "name": "stdout",
     "output_type": "stream",
     "text": [
      "discriminator_loss :  0.49013083428144455\n",
      "gan_loss : [0.11014523357152939, 0.110078364610672, 0.066858671605587]\n",
      "--------------- Epoch 270 ---------------\n"
     ]
    },
    {
     "name": "stderr",
     "output_type": "stream",
     "text": [
      "100%|██████████| 6/6 [00:05<00:00,  1.08it/s]\n"
     ]
    },
    {
     "name": "stdout",
     "output_type": "stream",
     "text": [
      "discriminator_loss :  0.49032874405384064\n",
      "gan_loss : [0.07883122563362122, 0.07871413230895996, 0.11709441989660263]\n",
      "--------------- Epoch 271 ---------------\n"
     ]
    },
    {
     "name": "stderr",
     "output_type": "stream",
     "text": [
      "100%|██████████| 6/6 [00:05<00:00,  1.19it/s]\n"
     ]
    },
    {
     "name": "stdout",
     "output_type": "stream",
     "text": [
      "discriminator_loss :  0.47317662835121155\n",
      "gan_loss : [0.09431784600019455, 0.09424462914466858, 0.07321325689554214]\n",
      "--------------- Epoch 272 ---------------\n"
     ]
    },
    {
     "name": "stderr",
     "output_type": "stream",
     "text": [
      "100%|██████████| 6/6 [00:05<00:00,  1.14it/s]\n"
     ]
    },
    {
     "name": "stdout",
     "output_type": "stream",
     "text": [
      "discriminator_loss :  0.48715346679091454\n",
      "gan_loss : [0.06973230838775635, 0.06960278004407883, 0.12953190505504608]\n",
      "--------------- Epoch 273 ---------------\n"
     ]
    },
    {
     "name": "stderr",
     "output_type": "stream",
     "text": [
      "100%|██████████| 6/6 [00:05<00:00,  1.16it/s]\n"
     ]
    },
    {
     "name": "stdout",
     "output_type": "stream",
     "text": [
      "discriminator_loss :  0.5130154453217983\n",
      "gan_loss : [0.070696622133255, 0.07059690356254578, 0.09971920400857925]\n",
      "--------------- Epoch 274 ---------------\n"
     ]
    },
    {
     "name": "stderr",
     "output_type": "stream",
     "text": [
      "100%|██████████| 6/6 [00:05<00:00,  1.11it/s]\n"
     ]
    },
    {
     "name": "stdout",
     "output_type": "stream",
     "text": [
      "discriminator_loss :  0.4988996051251888\n",
      "gan_loss : [0.07389596104621887, 0.07380625605583191, 0.0897047221660614]\n",
      "--------------- Epoch 275 ---------------\n"
     ]
    },
    {
     "name": "stderr",
     "output_type": "stream",
     "text": [
      "100%|██████████| 6/6 [00:05<00:00,  1.08it/s]\n"
     ]
    },
    {
     "name": "stdout",
     "output_type": "stream",
     "text": [
      "discriminator_loss :  0.5030361898243427\n",
      "gan_loss : [0.055994912981987, 0.05590340867638588, 0.09150245040655136]\n",
      "--------------- Epoch 276 ---------------\n"
     ]
    },
    {
     "name": "stderr",
     "output_type": "stream",
     "text": [
      "100%|██████████| 6/6 [00:05<00:00,  1.18it/s]\n"
     ]
    },
    {
     "name": "stdout",
     "output_type": "stream",
     "text": [
      "discriminator_loss :  0.48860375955700874\n",
      "gan_loss : [0.08165992796421051, 0.08156926929950714, 0.09065518528223038]\n",
      "--------------- Epoch 277 ---------------\n"
     ]
    },
    {
     "name": "stderr",
     "output_type": "stream",
     "text": [
      "100%|██████████| 6/6 [00:05<00:00,  1.18it/s]\n"
     ]
    },
    {
     "name": "stdout",
     "output_type": "stream",
     "text": [
      "discriminator_loss :  0.504013191908598\n",
      "gan_loss : [0.05912855267524719, 0.059045981615781784, 0.08257517963647842]\n",
      "--------------- Epoch 278 ---------------\n"
     ]
    },
    {
     "name": "stderr",
     "output_type": "stream",
     "text": [
      "100%|██████████| 6/6 [00:05<00:00,  1.14it/s]\n"
     ]
    },
    {
     "name": "stdout",
     "output_type": "stream",
     "text": [
      "discriminator_loss :  0.509551327675581\n",
      "gan_loss : [0.07613033801317215, 0.07605279982089996, 0.07754131406545639]\n",
      "--------------- Epoch 279 ---------------\n"
     ]
    },
    {
     "name": "stderr",
     "output_type": "stream",
     "text": [
      "100%|██████████| 6/6 [00:05<00:00,  1.18it/s]\n"
     ]
    },
    {
     "name": "stdout",
     "output_type": "stream",
     "text": [
      "discriminator_loss :  0.5005924813449383\n",
      "gan_loss : [0.06640692055225372, 0.06629963964223862, 0.10728447884321213]\n",
      "--------------- Epoch 280 ---------------\n"
     ]
    },
    {
     "name": "stderr",
     "output_type": "stream",
     "text": [
      "100%|██████████| 6/6 [00:05<00:00,  1.15it/s]\n"
     ]
    },
    {
     "name": "stdout",
     "output_type": "stream",
     "text": [
      "discriminator_loss :  0.4996922053396702\n",
      "gan_loss : [0.07981736212968826, 0.07971972972154617, 0.09763453155755997]\n",
      "--------------- Epoch 281 ---------------\n"
     ]
    },
    {
     "name": "stderr",
     "output_type": "stream",
     "text": [
      "100%|██████████| 6/6 [00:05<00:00,  1.08it/s]\n"
     ]
    },
    {
     "name": "stdout",
     "output_type": "stream",
     "text": [
      "discriminator_loss :  0.4990588016808033\n",
      "gan_loss : [0.07955227047204971, 0.07947195321321487, 0.08031434565782547]\n",
      "--------------- Epoch 282 ---------------\n"
     ]
    },
    {
     "name": "stderr",
     "output_type": "stream",
     "text": [
      "100%|██████████| 6/6 [00:05<00:00,  1.12it/s]\n"
     ]
    },
    {
     "name": "stdout",
     "output_type": "stream",
     "text": [
      "discriminator_loss :  0.5182062946259975\n",
      "gan_loss : [0.08115614950656891, 0.08109606802463531, 0.06008267030119896]\n",
      "--------------- Epoch 283 ---------------\n"
     ]
    },
    {
     "name": "stderr",
     "output_type": "stream",
     "text": [
      "100%|██████████| 6/6 [00:05<00:00,  1.19it/s]\n"
     ]
    },
    {
     "name": "stdout",
     "output_type": "stream",
     "text": [
      "discriminator_loss :  0.4725206810981035\n",
      "gan_loss : [0.07355046272277832, 0.07344844937324524, 0.10201116651296616]\n",
      "--------------- Epoch 284 ---------------\n"
     ]
    },
    {
     "name": "stderr",
     "output_type": "stream",
     "text": [
      "100%|██████████| 6/6 [00:05<00:00,  1.17it/s]\n"
     ]
    },
    {
     "name": "stdout",
     "output_type": "stream",
     "text": [
      "discriminator_loss :  0.49917735531926155\n",
      "gan_loss : [0.0995500385761261, 0.09941784292459488, 0.1321861296892166]\n",
      "--------------- Epoch 285 ---------------\n"
     ]
    },
    {
     "name": "stderr",
     "output_type": "stream",
     "text": [
      "100%|██████████| 6/6 [00:05<00:00,  1.18it/s]\n"
     ]
    },
    {
     "name": "stdout",
     "output_type": "stream",
     "text": [
      "discriminator_loss :  0.4782859794795513\n",
      "gan_loss : [0.06916359066963196, 0.06910182535648346, 0.06176730617880821]\n",
      "--------------- Epoch 286 ---------------\n"
     ]
    },
    {
     "name": "stderr",
     "output_type": "stream",
     "text": [
      "100%|██████████| 6/6 [00:05<00:00,  1.18it/s]\n"
     ]
    },
    {
     "name": "stdout",
     "output_type": "stream",
     "text": [
      "discriminator_loss :  0.4740861989557743\n",
      "gan_loss : [0.055627573281526566, 0.05552409589290619, 0.1034795269370079]\n",
      "--------------- Epoch 287 ---------------\n"
     ]
    },
    {
     "name": "stderr",
     "output_type": "stream",
     "text": [
      "100%|██████████| 6/6 [00:05<00:00,  1.05it/s]\n"
     ]
    },
    {
     "name": "stdout",
     "output_type": "stream",
     "text": [
      "discriminator_loss :  0.5027395002543926\n",
      "gan_loss : [0.055518459528684616, 0.05542873218655586, 0.08972341567277908]\n",
      "--------------- Epoch 288 ---------------\n"
     ]
    },
    {
     "name": "stderr",
     "output_type": "stream",
     "text": [
      "100%|██████████| 6/6 [00:05<00:00,  1.19it/s]\n"
     ]
    },
    {
     "name": "stdout",
     "output_type": "stream",
     "text": [
      "discriminator_loss :  0.5016136579215527\n",
      "gan_loss : [0.0651276707649231, 0.06507354229688644, 0.05412791296839714]\n",
      "--------------- Epoch 289 ---------------\n"
     ]
    },
    {
     "name": "stderr",
     "output_type": "stream",
     "text": [
      "100%|██████████| 6/6 [00:05<00:00,  1.14it/s]\n"
     ]
    },
    {
     "name": "stdout",
     "output_type": "stream",
     "text": [
      "discriminator_loss :  0.4904524087905884\n",
      "gan_loss : [0.059209275990724564, 0.059113819152116776, 0.09546062350273132]\n",
      "--------------- Epoch 290 ---------------\n"
     ]
    },
    {
     "name": "stderr",
     "output_type": "stream",
     "text": [
      "100%|██████████| 6/6 [00:05<00:00,  1.18it/s]\n"
     ]
    },
    {
     "name": "stdout",
     "output_type": "stream",
     "text": [
      "discriminator_loss :  0.4875628091394901\n",
      "gan_loss : [0.08422943204641342, 0.08414337038993835, 0.08605308085680008]\n",
      "--------------- Epoch 291 ---------------\n"
     ]
    },
    {
     "name": "stderr",
     "output_type": "stream",
     "text": [
      "100%|██████████| 6/6 [00:05<00:00,  1.10it/s]\n"
     ]
    },
    {
     "name": "stdout",
     "output_type": "stream",
     "text": [
      "discriminator_loss :  0.505548108369112\n",
      "gan_loss : [0.06952691078186035, 0.06942835450172424, 0.09855371713638306]\n",
      "--------------- Epoch 292 ---------------\n"
     ]
    },
    {
     "name": "stderr",
     "output_type": "stream",
     "text": [
      "100%|██████████| 6/6 [00:05<00:00,  1.20it/s]\n"
     ]
    },
    {
     "name": "stdout",
     "output_type": "stream",
     "text": [
      "discriminator_loss :  0.4930200092494488\n",
      "gan_loss : [0.06280110776424408, 0.06267406046390533, 0.12704773247241974]\n",
      "--------------- Epoch 293 ---------------\n"
     ]
    },
    {
     "name": "stderr",
     "output_type": "stream",
     "text": [
      "100%|██████████| 6/6 [00:05<00:00,  1.02it/s]\n"
     ]
    },
    {
     "name": "stdout",
     "output_type": "stream",
     "text": [
      "discriminator_loss :  0.5003857910633087\n",
      "gan_loss : [0.08381948620080948, 0.08370724320411682, 0.11224803328514099]\n",
      "--------------- Epoch 294 ---------------\n"
     ]
    },
    {
     "name": "stderr",
     "output_type": "stream",
     "text": [
      "100%|██████████| 6/6 [00:05<00:00,  1.19it/s]\n"
     ]
    },
    {
     "name": "stdout",
     "output_type": "stream",
     "text": [
      "discriminator_loss :  0.5046231262385845\n",
      "gan_loss : [0.06196591630578041, 0.061870086938142776, 0.09582465887069702]\n",
      "--------------- Epoch 295 ---------------\n"
     ]
    },
    {
     "name": "stderr",
     "output_type": "stream",
     "text": [
      "100%|██████████| 6/6 [00:05<00:00,  1.08it/s]\n"
     ]
    },
    {
     "name": "stdout",
     "output_type": "stream",
     "text": [
      "discriminator_loss :  0.5216285660862923\n",
      "gan_loss : [0.06369684636592865, 0.0635853111743927, 0.1115383505821228]\n",
      "--------------- Epoch 296 ---------------\n"
     ]
    },
    {
     "name": "stderr",
     "output_type": "stream",
     "text": [
      "100%|██████████| 6/6 [00:05<00:00,  1.18it/s]\n"
     ]
    },
    {
     "name": "stdout",
     "output_type": "stream",
     "text": [
      "discriminator_loss :  0.47324712947010994\n",
      "gan_loss : [0.06556593626737595, 0.0654493197798729, 0.11661375313997269]\n",
      "--------------- Epoch 297 ---------------\n"
     ]
    },
    {
     "name": "stderr",
     "output_type": "stream",
     "text": [
      "100%|██████████| 6/6 [00:05<00:00,  1.09it/s]\n"
     ]
    },
    {
     "name": "stdout",
     "output_type": "stream",
     "text": [
      "discriminator_loss :  0.5037654563784599\n",
      "gan_loss : [0.06942898780107498, 0.069333516061306, 0.09547298401594162]\n",
      "--------------- Epoch 298 ---------------\n"
     ]
    },
    {
     "name": "stderr",
     "output_type": "stream",
     "text": [
      "100%|██████████| 6/6 [00:05<00:00,  1.19it/s]\n"
     ]
    },
    {
     "name": "stdout",
     "output_type": "stream",
     "text": [
      "discriminator_loss :  0.4893360771238804\n",
      "gan_loss : [0.06415928900241852, 0.06409314274787903, 0.06614961475133896]\n",
      "--------------- Epoch 299 ---------------\n"
     ]
    },
    {
     "name": "stderr",
     "output_type": "stream",
     "text": [
      "100%|██████████| 6/6 [00:05<00:00,  1.03it/s]\n"
     ]
    },
    {
     "name": "stdout",
     "output_type": "stream",
     "text": [
      "discriminator_loss :  0.5256877318024635\n",
      "gan_loss : [0.07212569564580917, 0.07203403115272522, 0.09166169166564941]\n",
      "--------------- Epoch 300 ---------------\n"
     ]
    },
    {
     "name": "stderr",
     "output_type": "stream",
     "text": [
      "100%|██████████| 6/6 [00:05<00:00,  1.18it/s]\n"
     ]
    },
    {
     "name": "stdout",
     "output_type": "stream",
     "text": [
      "discriminator_loss :  0.47702169977128506\n",
      "gan_loss : [0.06046893075108528, 0.06039125844836235, 0.07767891883850098]\n",
      "--------------- Epoch 301 ---------------\n"
     ]
    },
    {
     "name": "stderr",
     "output_type": "stream",
     "text": [
      "100%|██████████| 6/6 [00:05<00:00,  1.07it/s]\n"
     ]
    },
    {
     "name": "stdout",
     "output_type": "stream",
     "text": [
      "discriminator_loss :  0.526728767901659\n",
      "gan_loss : [0.09263905137777328, 0.0925619974732399, 0.07704692333936691]\n",
      "--------------- Epoch 302 ---------------\n"
     ]
    },
    {
     "name": "stderr",
     "output_type": "stream",
     "text": [
      "100%|██████████| 6/6 [00:05<00:00,  1.17it/s]\n"
     ]
    },
    {
     "name": "stdout",
     "output_type": "stream",
     "text": [
      "discriminator_loss :  0.5236861929297447\n",
      "gan_loss : [0.07685903459787369, 0.07673975825309753, 0.11927461624145508]\n",
      "--------------- Epoch 303 ---------------\n"
     ]
    },
    {
     "name": "stderr",
     "output_type": "stream",
     "text": [
      "100%|██████████| 6/6 [00:05<00:00,  1.12it/s]\n"
     ]
    },
    {
     "name": "stdout",
     "output_type": "stream",
     "text": [
      "discriminator_loss :  0.4868005998432636\n",
      "gan_loss : [0.08317361772060394, 0.08310869336128235, 0.06492552161216736]\n",
      "--------------- Epoch 304 ---------------\n"
     ]
    },
    {
     "name": "stderr",
     "output_type": "stream",
     "text": [
      "100%|██████████| 6/6 [00:05<00:00,  1.16it/s]\n"
     ]
    },
    {
     "name": "stdout",
     "output_type": "stream",
     "text": [
      "discriminator_loss :  0.5064690858125687\n",
      "gan_loss : [0.09833721071481705, 0.09824027866125107, 0.09694331884384155]\n",
      "--------------- Epoch 305 ---------------\n"
     ]
    },
    {
     "name": "stderr",
     "output_type": "stream",
     "text": [
      "100%|██████████| 6/6 [00:05<00:00,  1.08it/s]\n"
     ]
    },
    {
     "name": "stdout",
     "output_type": "stream",
     "text": [
      "discriminator_loss :  0.5184014402329922\n",
      "gan_loss : [0.06564237177371979, 0.06552175432443619, 0.12061960250139236]\n",
      "--------------- Epoch 306 ---------------\n"
     ]
    },
    {
     "name": "stderr",
     "output_type": "stream",
     "text": [
      "100%|██████████| 6/6 [00:05<00:00,  1.14it/s]\n"
     ]
    },
    {
     "name": "stdout",
     "output_type": "stream",
     "text": [
      "discriminator_loss :  0.48276327922940254\n",
      "gan_loss : [0.0727919265627861, 0.07268858700990677, 0.10334042459726334]\n",
      "--------------- Epoch 307 ---------------\n"
     ]
    },
    {
     "name": "stderr",
     "output_type": "stream",
     "text": [
      "100%|██████████| 6/6 [00:05<00:00,  1.10it/s]\n"
     ]
    },
    {
     "name": "stdout",
     "output_type": "stream",
     "text": [
      "discriminator_loss :  0.5152119621634483\n",
      "gan_loss : [0.06092377379536629, 0.06084028258919716, 0.08349312096834183]\n",
      "--------------- Epoch 308 ---------------\n"
     ]
    },
    {
     "name": "stderr",
     "output_type": "stream",
     "text": [
      "100%|██████████| 6/6 [00:05<00:00,  1.20it/s]\n"
     ]
    },
    {
     "name": "stdout",
     "output_type": "stream",
     "text": [
      "discriminator_loss :  0.47122539207339287\n",
      "gan_loss : [0.06380148977041245, 0.06370744109153748, 0.09405117481946945]\n",
      "--------------- Epoch 309 ---------------\n"
     ]
    },
    {
     "name": "stderr",
     "output_type": "stream",
     "text": [
      "100%|██████████| 6/6 [00:05<00:00,  1.15it/s]\n"
     ]
    },
    {
     "name": "stdout",
     "output_type": "stream",
     "text": [
      "discriminator_loss :  0.5204971134662628\n",
      "gan_loss : [0.06703849881887436, 0.06692715734243393, 0.11134269088506699]\n",
      "--------------- Epoch 310 ---------------\n"
     ]
    },
    {
     "name": "stderr",
     "output_type": "stream",
     "text": [
      "100%|██████████| 6/6 [00:05<00:00,  1.13it/s]\n"
     ]
    },
    {
     "name": "stdout",
     "output_type": "stream",
     "text": [
      "discriminator_loss :  0.5191698260605335\n",
      "gan_loss : [0.0852397084236145, 0.08514675498008728, 0.0929546058177948]\n",
      "--------------- Epoch 311 ---------------\n"
     ]
    },
    {
     "name": "stderr",
     "output_type": "stream",
     "text": [
      "100%|██████████| 6/6 [00:05<00:00,  1.15it/s]\n"
     ]
    },
    {
     "name": "stdout",
     "output_type": "stream",
     "text": [
      "discriminator_loss :  0.4887274354696274\n",
      "gan_loss : [0.08866584300994873, 0.0885576382279396, 0.10820457339286804]\n",
      "--------------- Epoch 312 ---------------\n"
     ]
    },
    {
     "name": "stderr",
     "output_type": "stream",
     "text": [
      "100%|██████████| 6/6 [00:05<00:00,  1.01it/s]\n"
     ]
    },
    {
     "name": "stdout",
     "output_type": "stream",
     "text": [
      "discriminator_loss :  0.49738604202866554\n",
      "gan_loss : [0.0770769938826561, 0.0769965797662735, 0.08041160553693771]\n",
      "--------------- Epoch 313 ---------------\n"
     ]
    },
    {
     "name": "stderr",
     "output_type": "stream",
     "text": [
      "100%|██████████| 6/6 [00:05<00:00,  1.07it/s]\n"
     ]
    },
    {
     "name": "stdout",
     "output_type": "stream",
     "text": [
      "discriminator_loss :  0.49756237864494324\n",
      "gan_loss : [0.07396364957094193, 0.07381800562143326, 0.1456436812877655]\n",
      "--------------- Epoch 314 ---------------\n"
     ]
    },
    {
     "name": "stderr",
     "output_type": "stream",
     "text": [
      "100%|██████████| 6/6 [00:05<00:00,  1.18it/s]\n"
     ]
    },
    {
     "name": "stdout",
     "output_type": "stream",
     "text": [
      "discriminator_loss :  0.5013309419155121\n",
      "gan_loss : [0.06568223237991333, 0.065590038895607, 0.0921923890709877]\n",
      "--------------- Epoch 315 ---------------\n"
     ]
    },
    {
     "name": "stderr",
     "output_type": "stream",
     "text": [
      "100%|██████████| 6/6 [00:05<00:00,  1.07it/s]\n"
     ]
    },
    {
     "name": "stdout",
     "output_type": "stream",
     "text": [
      "discriminator_loss :  0.48332516476511955\n",
      "gan_loss : [0.08303417265415192, 0.08293013274669647, 0.10404276847839355]\n",
      "--------------- Epoch 316 ---------------\n"
     ]
    },
    {
     "name": "stderr",
     "output_type": "stream",
     "text": [
      "100%|██████████| 6/6 [00:05<00:00,  1.19it/s]\n"
     ]
    },
    {
     "name": "stdout",
     "output_type": "stream",
     "text": [
      "discriminator_loss :  0.5181399658322334\n",
      "gan_loss : [0.06855589151382446, 0.06845273077487946, 0.10316232591867447]\n",
      "--------------- Epoch 317 ---------------\n"
     ]
    },
    {
     "name": "stderr",
     "output_type": "stream",
     "text": [
      "100%|██████████| 6/6 [00:06<00:00,  1.04s/it]\n"
     ]
    },
    {
     "name": "stdout",
     "output_type": "stream",
     "text": [
      "discriminator_loss :  0.4914904050529003\n",
      "gan_loss : [0.057465311139822006, 0.05737419053912163, 0.09112602472305298]\n",
      "--------------- Epoch 318 ---------------\n"
     ]
    },
    {
     "name": "stderr",
     "output_type": "stream",
     "text": [
      "100%|██████████| 6/6 [00:05<00:00,  1.16it/s]\n"
     ]
    },
    {
     "name": "stdout",
     "output_type": "stream",
     "text": [
      "discriminator_loss :  0.5182215981185436\n",
      "gan_loss : [0.084590382874012, 0.08449330180883408, 0.09708520025014877]\n",
      "--------------- Epoch 319 ---------------\n"
     ]
    },
    {
     "name": "stderr",
     "output_type": "stream",
     "text": [
      "100%|██████████| 6/6 [00:05<00:00,  1.13it/s]\n"
     ]
    },
    {
     "name": "stdout",
     "output_type": "stream",
     "text": [
      "discriminator_loss :  0.5005955398082733\n",
      "gan_loss : [0.06910448521375656, 0.0689891055226326, 0.1153779849410057]\n",
      "--------------- Epoch 320 ---------------\n"
     ]
    },
    {
     "name": "stderr",
     "output_type": "stream",
     "text": [
      "100%|██████████| 6/6 [00:05<00:00,  1.13it/s]\n"
     ]
    },
    {
     "name": "stdout",
     "output_type": "stream",
     "text": [
      "discriminator_loss :  0.5100721158087254\n",
      "gan_loss : [0.06988995522260666, 0.06978604197502136, 0.10391538590192795]\n",
      "--------------- Epoch 321 ---------------\n"
     ]
    },
    {
     "name": "stderr",
     "output_type": "stream",
     "text": [
      "100%|██████████| 6/6 [00:05<00:00,  1.15it/s]\n"
     ]
    },
    {
     "name": "stdout",
     "output_type": "stream",
     "text": [
      "discriminator_loss :  0.5063821636140347\n",
      "gan_loss : [0.05588993430137634, 0.05579535663127899, 0.09457763284444809]\n",
      "--------------- Epoch 322 ---------------\n"
     ]
    },
    {
     "name": "stderr",
     "output_type": "stream",
     "text": [
      "100%|██████████| 6/6 [00:05<00:00,  1.19it/s]\n"
     ]
    },
    {
     "name": "stdout",
     "output_type": "stream",
     "text": [
      "discriminator_loss :  0.4687012564390898\n",
      "gan_loss : [0.08333788067102432, 0.08319035917520523, 0.14752979576587677]\n",
      "--------------- Epoch 323 ---------------\n"
     ]
    },
    {
     "name": "stderr",
     "output_type": "stream",
     "text": [
      "100%|██████████| 6/6 [00:05<00:00,  1.01it/s]\n"
     ]
    },
    {
     "name": "stdout",
     "output_type": "stream",
     "text": [
      "discriminator_loss :  0.5412118434906006\n",
      "gan_loss : [0.0674239844083786, 0.06730812788009644, 0.11585748195648193]\n",
      "--------------- Epoch 324 ---------------\n"
     ]
    },
    {
     "name": "stderr",
     "output_type": "stream",
     "text": [
      "100%|██████████| 6/6 [00:05<00:00,  1.11it/s]\n"
     ]
    },
    {
     "name": "stdout",
     "output_type": "stream",
     "text": [
      "discriminator_loss :  0.497455358505249\n",
      "gan_loss : [0.059610214084386826, 0.05953169986605644, 0.0785180851817131]\n",
      "--------------- Epoch 325 ---------------\n"
     ]
    },
    {
     "name": "stderr",
     "output_type": "stream",
     "text": [
      "100%|██████████| 6/6 [00:05<00:00,  1.13it/s]\n"
     ]
    },
    {
     "name": "stdout",
     "output_type": "stream",
     "text": [
      "discriminator_loss :  0.4994768612086773\n",
      "gan_loss : [0.0780821144580841, 0.07799287140369415, 0.08923973888158798]\n",
      "--------------- Epoch 326 ---------------\n"
     ]
    },
    {
     "name": "stderr",
     "output_type": "stream",
     "text": [
      "100%|██████████| 6/6 [00:04<00:00,  1.20it/s]\n"
     ]
    },
    {
     "name": "stdout",
     "output_type": "stream",
     "text": [
      "discriminator_loss :  0.5170589201152325\n",
      "gan_loss : [0.05621282383799553, 0.05610159412026405, 0.11122655868530273]\n",
      "--------------- Epoch 327 ---------------\n"
     ]
    },
    {
     "name": "stderr",
     "output_type": "stream",
     "text": [
      "100%|██████████| 6/6 [00:05<00:00,  1.15it/s]\n"
     ]
    },
    {
     "name": "stdout",
     "output_type": "stream",
     "text": [
      "discriminator_loss :  0.5123487710952759\n",
      "gan_loss : [0.06707418709993362, 0.06700386106967926, 0.07032915949821472]\n",
      "--------------- Epoch 328 ---------------\n"
     ]
    },
    {
     "name": "stderr",
     "output_type": "stream",
     "text": [
      "100%|██████████| 6/6 [00:05<00:00,  1.12it/s]\n"
     ]
    },
    {
     "name": "stdout",
     "output_type": "stream",
     "text": [
      "discriminator_loss :  0.49054770544171333\n",
      "gan_loss : [0.06310564279556274, 0.0629974976181984, 0.10814258456230164]\n",
      "--------------- Epoch 329 ---------------\n"
     ]
    },
    {
     "name": "stderr",
     "output_type": "stream",
     "text": [
      "100%|██████████| 6/6 [00:05<00:00,  1.14it/s]\n"
     ]
    },
    {
     "name": "stdout",
     "output_type": "stream",
     "text": [
      "discriminator_loss :  0.5227148942649364\n",
      "gan_loss : [0.07279487699270248, 0.07274634391069412, 0.048532500863075256]\n",
      "--------------- Epoch 330 ---------------\n"
     ]
    },
    {
     "name": "stderr",
     "output_type": "stream",
     "text": [
      "100%|██████████| 6/6 [00:05<00:00,  1.13it/s]\n"
     ]
    },
    {
     "name": "stdout",
     "output_type": "stream",
     "text": [
      "discriminator_loss :  0.49581146612763405\n",
      "gan_loss : [0.0690392330288887, 0.06894221901893616, 0.09701455384492874]\n",
      "--------------- Epoch 331 ---------------\n"
     ]
    },
    {
     "name": "stderr",
     "output_type": "stream",
     "text": [
      "100%|██████████| 6/6 [00:04<00:00,  1.20it/s]\n"
     ]
    },
    {
     "name": "stdout",
     "output_type": "stream",
     "text": [
      "discriminator_loss :  0.480691384524107\n",
      "gan_loss : [0.06568438559770584, 0.06557463109493256, 0.1097550317645073]\n",
      "--------------- Epoch 332 ---------------\n"
     ]
    },
    {
     "name": "stderr",
     "output_type": "stream",
     "text": [
      "100%|██████████| 6/6 [00:05<00:00,  1.11it/s]\n"
     ]
    },
    {
     "name": "stdout",
     "output_type": "stream",
     "text": [
      "discriminator_loss :  0.5157138183712959\n",
      "gan_loss : [0.052973512560129166, 0.05288328230381012, 0.09022852778434753]\n",
      "--------------- Epoch 333 ---------------\n"
     ]
    },
    {
     "name": "stderr",
     "output_type": "stream",
     "text": [
      "100%|██████████| 6/6 [00:05<00:00,  1.18it/s]\n"
     ]
    },
    {
     "name": "stdout",
     "output_type": "stream",
     "text": [
      "discriminator_loss :  0.5224011018872261\n",
      "gan_loss : [0.08282425254583359, 0.08273486793041229, 0.08938292413949966]\n",
      "--------------- Epoch 334 ---------------\n"
     ]
    },
    {
     "name": "stderr",
     "output_type": "stream",
     "text": [
      "100%|██████████| 6/6 [00:05<00:00,  1.16it/s]\n"
     ]
    },
    {
     "name": "stdout",
     "output_type": "stream",
     "text": [
      "discriminator_loss :  0.5170131660997868\n",
      "gan_loss : [0.08328288793563843, 0.08317342400550842, 0.109467051923275]\n",
      "--------------- Epoch 335 ---------------\n"
     ]
    },
    {
     "name": "stderr",
     "output_type": "stream",
     "text": [
      "100%|██████████| 6/6 [00:04<00:00,  1.20it/s]\n"
     ]
    },
    {
     "name": "stdout",
     "output_type": "stream",
     "text": [
      "discriminator_loss :  0.4831850826740265\n",
      "gan_loss : [0.046845708042383194, 0.046775948256254196, 0.06976285576820374]\n",
      "--------------- Epoch 336 ---------------\n"
     ]
    },
    {
     "name": "stderr",
     "output_type": "stream",
     "text": [
      "100%|██████████| 6/6 [00:05<00:00,  1.05it/s]\n"
     ]
    },
    {
     "name": "stdout",
     "output_type": "stream",
     "text": [
      "discriminator_loss :  0.486367154866457\n",
      "gan_loss : [0.062358275055885315, 0.06223107501864433, 0.1272037774324417]\n",
      "--------------- Epoch 337 ---------------\n"
     ]
    },
    {
     "name": "stderr",
     "output_type": "stream",
     "text": [
      "100%|██████████| 6/6 [00:05<00:00,  1.19it/s]\n"
     ]
    },
    {
     "name": "stdout",
     "output_type": "stream",
     "text": [
      "discriminator_loss :  0.4988088011741638\n",
      "gan_loss : [0.0789688304066658, 0.0788542777299881, 0.11455482244491577]\n",
      "--------------- Epoch 338 ---------------\n"
     ]
    },
    {
     "name": "stderr",
     "output_type": "stream",
     "text": [
      "100%|██████████| 6/6 [00:05<00:00,  1.12it/s]\n"
     ]
    },
    {
     "name": "stdout",
     "output_type": "stream",
     "text": [
      "discriminator_loss :  0.47695133090019226\n",
      "gan_loss : [0.09783337265253067, 0.09769970923662186, 0.13366913795471191]\n",
      "--------------- Epoch 339 ---------------\n"
     ]
    },
    {
     "name": "stderr",
     "output_type": "stream",
     "text": [
      "100%|██████████| 6/6 [00:05<00:00,  1.18it/s]\n"
     ]
    },
    {
     "name": "stdout",
     "output_type": "stream",
     "text": [
      "discriminator_loss :  0.49458664655685425\n",
      "gan_loss : [0.06685417890548706, 0.06677120178937912, 0.08297974616289139]\n",
      "--------------- Epoch 340 ---------------\n"
     ]
    },
    {
     "name": "stderr",
     "output_type": "stream",
     "text": [
      "100%|██████████| 6/6 [00:05<00:00,  1.18it/s]\n"
     ]
    },
    {
     "name": "stdout",
     "output_type": "stream",
     "text": [
      "discriminator_loss :  0.4872412346303463\n",
      "gan_loss : [0.09600427001714706, 0.09590477496385574, 0.09949588775634766]\n",
      "--------------- Epoch 341 ---------------\n"
     ]
    },
    {
     "name": "stderr",
     "output_type": "stream",
     "text": [
      "100%|██████████| 6/6 [00:05<00:00,  1.18it/s]\n"
     ]
    },
    {
     "name": "stdout",
     "output_type": "stream",
     "text": [
      "discriminator_loss :  0.4806162118911743\n",
      "gan_loss : [0.05266154929995537, 0.05256842449307442, 0.09312035888433456]\n",
      "--------------- Epoch 342 ---------------\n"
     ]
    },
    {
     "name": "stderr",
     "output_type": "stream",
     "text": [
      "100%|██████████| 6/6 [00:05<00:00,  1.01it/s]\n"
     ]
    },
    {
     "name": "stdout",
     "output_type": "stream",
     "text": [
      "discriminator_loss :  0.5065595284104347\n",
      "gan_loss : [0.07896571606397629, 0.07880567759275436, 0.16003628075122833]\n",
      "--------------- Epoch 343 ---------------\n"
     ]
    },
    {
     "name": "stderr",
     "output_type": "stream",
     "text": [
      "100%|██████████| 6/6 [00:04<00:00,  1.20it/s]\n"
     ]
    },
    {
     "name": "stdout",
     "output_type": "stream",
     "text": [
      "discriminator_loss :  0.5005734749138355\n",
      "gan_loss : [0.06395043432712555, 0.06388401240110397, 0.06642504781484604]\n",
      "--------------- Epoch 344 ---------------\n"
     ]
    },
    {
     "name": "stderr",
     "output_type": "stream",
     "text": [
      "100%|██████████| 6/6 [00:05<00:00,  1.17it/s]\n"
     ]
    },
    {
     "name": "stdout",
     "output_type": "stream",
     "text": [
      "discriminator_loss :  0.4867957830429077\n",
      "gan_loss : [0.06244903430342674, 0.062327463179826736, 0.12157230824232101]\n",
      "--------------- Epoch 345 ---------------\n"
     ]
    },
    {
     "name": "stderr",
     "output_type": "stream",
     "text": [
      "100%|██████████| 6/6 [00:05<00:00,  1.11it/s]\n"
     ]
    },
    {
     "name": "stdout",
     "output_type": "stream",
     "text": [
      "discriminator_loss :  0.5322991833090782\n",
      "gan_loss : [0.08101755380630493, 0.08094743639230728, 0.07012087851762772]\n",
      "--------------- Epoch 346 ---------------\n"
     ]
    },
    {
     "name": "stderr",
     "output_type": "stream",
     "text": [
      "100%|██████████| 6/6 [00:05<00:00,  1.06it/s]\n"
     ]
    },
    {
     "name": "stdout",
     "output_type": "stream",
     "text": [
      "discriminator_loss :  0.4814383275806904\n",
      "gan_loss : [0.05782003700733185, 0.0576888732612133, 0.13116325438022614]\n",
      "--------------- Epoch 347 ---------------\n"
     ]
    },
    {
     "name": "stderr",
     "output_type": "stream",
     "text": [
      "100%|██████████| 6/6 [00:05<00:00,  1.18it/s]\n"
     ]
    },
    {
     "name": "stdout",
     "output_type": "stream",
     "text": [
      "discriminator_loss :  0.4952351115643978\n",
      "gan_loss : [0.08191349357366562, 0.08181162178516388, 0.10186844319105148]\n",
      "--------------- Epoch 348 ---------------\n"
     ]
    },
    {
     "name": "stderr",
     "output_type": "stream",
     "text": [
      "100%|██████████| 6/6 [00:05<00:00,  1.06it/s]\n"
     ]
    },
    {
     "name": "stdout",
     "output_type": "stream",
     "text": [
      "discriminator_loss :  0.5115296132862568\n",
      "gan_loss : [0.062304090708494186, 0.062208276242017746, 0.09581116586923599]\n",
      "--------------- Epoch 349 ---------------\n"
     ]
    },
    {
     "name": "stderr",
     "output_type": "stream",
     "text": [
      "100%|██████████| 6/6 [00:05<00:00,  1.19it/s]\n"
     ]
    },
    {
     "name": "stdout",
     "output_type": "stream",
     "text": [
      "discriminator_loss :  0.46978653594851494\n",
      "gan_loss : [0.08523356169462204, 0.08518245816230774, 0.051106005907058716]\n",
      "--------------- Epoch 350 ---------------\n"
     ]
    },
    {
     "name": "stderr",
     "output_type": "stream",
     "text": [
      "100%|██████████| 6/6 [00:05<00:00,  1.19it/s]\n"
     ]
    },
    {
     "name": "stdout",
     "output_type": "stream",
     "text": [
      "discriminator_loss :  0.5062004067003727\n",
      "gan_loss : [0.06444208323955536, 0.06434395164251328, 0.09812977910041809]\n",
      "--------------- Epoch 351 ---------------\n"
     ]
    },
    {
     "name": "stderr",
     "output_type": "stream",
     "text": [
      "100%|██████████| 6/6 [00:05<00:00,  1.12it/s]\n"
     ]
    },
    {
     "name": "stdout",
     "output_type": "stream",
     "text": [
      "discriminator_loss :  0.5025172606110573\n",
      "gan_loss : [0.07710213214159012, 0.07699987292289734, 0.1022598147392273]\n",
      "--------------- Epoch 352 ---------------\n"
     ]
    },
    {
     "name": "stderr",
     "output_type": "stream",
     "text": [
      "100%|██████████| 6/6 [00:05<00:00,  1.16it/s]\n"
     ]
    },
    {
     "name": "stdout",
     "output_type": "stream",
     "text": [
      "discriminator_loss :  0.5185421630740166\n",
      "gan_loss : [0.06291348487138748, 0.06280270963907242, 0.11077658087015152]\n",
      "--------------- Epoch 353 ---------------\n"
     ]
    },
    {
     "name": "stderr",
     "output_type": "stream",
     "text": [
      "100%|██████████| 6/6 [00:05<00:00,  1.14it/s]\n"
     ]
    },
    {
     "name": "stdout",
     "output_type": "stream",
     "text": [
      "discriminator_loss :  0.49169497936964035\n",
      "gan_loss : [0.07654057443141937, 0.07645808905363083, 0.08248306065797806]\n",
      "--------------- Epoch 354 ---------------\n"
     ]
    },
    {
     "name": "stderr",
     "output_type": "stream",
     "text": [
      "100%|██████████| 6/6 [00:05<00:00,  1.12it/s]\n"
     ]
    },
    {
     "name": "stdout",
     "output_type": "stream",
     "text": [
      "discriminator_loss :  0.4803703408688307\n",
      "gan_loss : [0.056227609515190125, 0.056138455867767334, 0.08915194869041443]\n",
      "--------------- Epoch 355 ---------------\n"
     ]
    },
    {
     "name": "stderr",
     "output_type": "stream",
     "text": [
      "100%|██████████| 6/6 [00:05<00:00,  1.11it/s]\n"
     ]
    },
    {
     "name": "stdout",
     "output_type": "stream",
     "text": [
      "discriminator_loss :  0.5133589133620262\n",
      "gan_loss : [0.06990046054124832, 0.06977885961532593, 0.12160179764032364]\n",
      "--------------- Epoch 356 ---------------\n"
     ]
    },
    {
     "name": "stderr",
     "output_type": "stream",
     "text": [
      "100%|██████████| 6/6 [00:05<00:00,  1.14it/s]\n"
     ]
    },
    {
     "name": "stdout",
     "output_type": "stream",
     "text": [
      "discriminator_loss :  0.5118394792079926\n",
      "gan_loss : [0.08535059541463852, 0.08525911718606949, 0.09146975725889206]\n",
      "--------------- Epoch 357 ---------------\n"
     ]
    },
    {
     "name": "stderr",
     "output_type": "stream",
     "text": [
      "100%|██████████| 6/6 [00:05<00:00,  1.17it/s]\n"
     ]
    },
    {
     "name": "stdout",
     "output_type": "stream",
     "text": [
      "discriminator_loss :  0.5174795053899288\n",
      "gan_loss : [0.0772181823849678, 0.07709004729986191, 0.12813208997249603]\n",
      "--------------- Epoch 358 ---------------\n"
     ]
    },
    {
     "name": "stderr",
     "output_type": "stream",
     "text": [
      "100%|██████████| 6/6 [00:05<00:00,  1.19it/s]\n"
     ]
    },
    {
     "name": "stdout",
     "output_type": "stream",
     "text": [
      "discriminator_loss :  0.5147727131843567\n",
      "gan_loss : [0.0628867819905281, 0.06279037147760391, 0.09640877693891525]\n",
      "--------------- Epoch 359 ---------------\n"
     ]
    },
    {
     "name": "stderr",
     "output_type": "stream",
     "text": [
      "100%|██████████| 6/6 [00:05<00:00,  1.11it/s]\n"
     ]
    },
    {
     "name": "stdout",
     "output_type": "stream",
     "text": [
      "discriminator_loss :  0.4811081700026989\n",
      "gan_loss : [0.08176305890083313, 0.081655353307724, 0.10770493745803833]\n",
      "--------------- Epoch 360 ---------------\n"
     ]
    },
    {
     "name": "stderr",
     "output_type": "stream",
     "text": [
      "100%|██████████| 6/6 [00:05<00:00,  1.07it/s]\n"
     ]
    },
    {
     "name": "stdout",
     "output_type": "stream",
     "text": [
      "discriminator_loss :  0.4862371124327183\n",
      "gan_loss : [0.06728161126375198, 0.06716691702604294, 0.11469169706106186]\n",
      "--------------- Epoch 361 ---------------\n"
     ]
    },
    {
     "name": "stderr",
     "output_type": "stream",
     "text": [
      "100%|██████████| 6/6 [00:05<00:00,  1.11it/s]\n"
     ]
    },
    {
     "name": "stdout",
     "output_type": "stream",
     "text": [
      "discriminator_loss :  0.48580579832196236\n",
      "gan_loss : [0.07213208824396133, 0.07204940915107727, 0.08267857879400253]\n",
      "--------------- Epoch 362 ---------------\n"
     ]
    },
    {
     "name": "stderr",
     "output_type": "stream",
     "text": [
      "100%|██████████| 6/6 [00:05<00:00,  1.15it/s]\n"
     ]
    },
    {
     "name": "stdout",
     "output_type": "stream",
     "text": [
      "discriminator_loss :  0.5138116888701916\n",
      "gan_loss : [0.06923123449087143, 0.06912942230701447, 0.10181015729904175]\n",
      "--------------- Epoch 363 ---------------\n"
     ]
    },
    {
     "name": "stderr",
     "output_type": "stream",
     "text": [
      "100%|██████████| 6/6 [00:05<00:00,  1.11it/s]\n"
     ]
    },
    {
     "name": "stdout",
     "output_type": "stream",
     "text": [
      "discriminator_loss :  0.4771993774920702\n",
      "gan_loss : [0.06466858834028244, 0.06456170976161957, 0.10687559843063354]\n",
      "--------------- Epoch 364 ---------------\n"
     ]
    },
    {
     "name": "stderr",
     "output_type": "stream",
     "text": [
      "100%|██████████| 6/6 [00:05<00:00,  1.18it/s]\n"
     ]
    },
    {
     "name": "stdout",
     "output_type": "stream",
     "text": [
      "discriminator_loss :  0.4907964952290058\n",
      "gan_loss : [0.07530512660741806, 0.07521907240152359, 0.08605516701936722]\n",
      "--------------- Epoch 365 ---------------\n"
     ]
    },
    {
     "name": "stderr",
     "output_type": "stream",
     "text": [
      "100%|██████████| 6/6 [00:05<00:00,  1.14it/s]\n"
     ]
    },
    {
     "name": "stdout",
     "output_type": "stream",
     "text": [
      "discriminator_loss :  0.5036867968738079\n",
      "gan_loss : [0.058688949793577194, 0.058584291487932205, 0.10465893149375916]\n",
      "--------------- Epoch 366 ---------------\n"
     ]
    },
    {
     "name": "stderr",
     "output_type": "stream",
     "text": [
      "100%|██████████| 6/6 [00:05<00:00,  1.06it/s]\n"
     ]
    },
    {
     "name": "stdout",
     "output_type": "stream",
     "text": [
      "discriminator_loss :  0.48795943334698677\n",
      "gan_loss : [0.09406129270792007, 0.09401977807283401, 0.0415169857442379]\n",
      "--------------- Epoch 367 ---------------\n"
     ]
    },
    {
     "name": "stderr",
     "output_type": "stream",
     "text": [
      "100%|██████████| 6/6 [00:05<00:00,  1.13it/s]\n"
     ]
    },
    {
     "name": "stdout",
     "output_type": "stream",
     "text": [
      "discriminator_loss :  0.4609943516552448\n",
      "gan_loss : [0.05912056192755699, 0.05901399627327919, 0.10656710714101791]\n",
      "--------------- Epoch 368 ---------------\n"
     ]
    },
    {
     "name": "stderr",
     "output_type": "stream",
     "text": [
      "100%|██████████| 6/6 [00:05<00:00,  1.18it/s]\n"
     ]
    },
    {
     "name": "stdout",
     "output_type": "stream",
     "text": [
      "discriminator_loss :  0.5137044079601765\n",
      "gan_loss : [0.07073322683572769, 0.07063671946525574, 0.09650477766990662]\n",
      "--------------- Epoch 369 ---------------\n"
     ]
    },
    {
     "name": "stderr",
     "output_type": "stream",
     "text": [
      "100%|██████████| 6/6 [00:05<00:00,  1.13it/s]\n"
     ]
    },
    {
     "name": "stdout",
     "output_type": "stream",
     "text": [
      "discriminator_loss :  0.4917658157646656\n",
      "gan_loss : [0.06539937108755112, 0.06530704349279404, 0.09232822060585022]\n",
      "--------------- Epoch 370 ---------------\n"
     ]
    },
    {
     "name": "stderr",
     "output_type": "stream",
     "text": [
      "100%|██████████| 6/6 [00:05<00:00,  1.16it/s]\n"
     ]
    },
    {
     "name": "stdout",
     "output_type": "stream",
     "text": [
      "discriminator_loss :  0.5211830958724022\n",
      "gan_loss : [0.06223331391811371, 0.06212420389056206, 0.10911417752504349]\n",
      "--------------- Epoch 371 ---------------\n"
     ]
    },
    {
     "name": "stderr",
     "output_type": "stream",
     "text": [
      "100%|██████████| 6/6 [00:05<00:00,  1.11it/s]\n"
     ]
    },
    {
     "name": "stdout",
     "output_type": "stream",
     "text": [
      "discriminator_loss :  0.49936775863170624\n",
      "gan_loss : [0.04985688254237175, 0.0497807115316391, 0.07616940140724182]\n",
      "--------------- Epoch 372 ---------------\n"
     ]
    },
    {
     "name": "stderr",
     "output_type": "stream",
     "text": [
      "100%|██████████| 6/6 [00:05<00:00,  1.06it/s]\n"
     ]
    },
    {
     "name": "stdout",
     "output_type": "stream",
     "text": [
      "discriminator_loss :  0.49868080392479897\n",
      "gan_loss : [0.08977649360895157, 0.08966311812400818, 0.11337258666753769]\n",
      "--------------- Epoch 373 ---------------\n"
     ]
    },
    {
     "name": "stderr",
     "output_type": "stream",
     "text": [
      "100%|██████████| 6/6 [00:05<00:00,  1.07it/s]\n"
     ]
    },
    {
     "name": "stdout",
     "output_type": "stream",
     "text": [
      "discriminator_loss :  0.5304591283202171\n",
      "gan_loss : [0.08325052261352539, 0.08314986526966095, 0.10065660625696182]\n",
      "--------------- Epoch 374 ---------------\n"
     ]
    },
    {
     "name": "stderr",
     "output_type": "stream",
     "text": [
      "100%|██████████| 6/6 [00:05<00:00,  1.16it/s]\n"
     ]
    },
    {
     "name": "stdout",
     "output_type": "stream",
     "text": [
      "discriminator_loss :  0.478544183075428\n",
      "gan_loss : [0.060200322419404984, 0.06009756028652191, 0.10276351124048233]\n",
      "--------------- Epoch 375 ---------------\n"
     ]
    },
    {
     "name": "stderr",
     "output_type": "stream",
     "text": [
      "100%|██████████| 6/6 [00:05<00:00,  1.13it/s]\n"
     ]
    },
    {
     "name": "stdout",
     "output_type": "stream",
     "text": [
      "discriminator_loss :  0.5134709216654301\n",
      "gan_loss : [0.06851513683795929, 0.06845733523368835, 0.0577998049557209]\n",
      "--------------- Epoch 376 ---------------\n"
     ]
    },
    {
     "name": "stderr",
     "output_type": "stream",
     "text": [
      "100%|██████████| 6/6 [00:05<00:00,  1.19it/s]\n"
     ]
    },
    {
     "name": "stdout",
     "output_type": "stream",
     "text": [
      "discriminator_loss :  0.5084564387798309\n",
      "gan_loss : [0.0615571029484272, 0.06145967170596123, 0.09743628650903702]\n",
      "--------------- Epoch 377 ---------------\n"
     ]
    },
    {
     "name": "stderr",
     "output_type": "stream",
     "text": [
      "100%|██████████| 6/6 [00:05<00:00,  1.17it/s]\n"
     ]
    },
    {
     "name": "stdout",
     "output_type": "stream",
     "text": [
      "discriminator_loss :  0.4794018007814884\n",
      "gan_loss : [0.052783507853746414, 0.052660778164863586, 0.12273091822862625]\n",
      "--------------- Epoch 378 ---------------\n"
     ]
    },
    {
     "name": "stderr",
     "output_type": "stream",
     "text": [
      "100%|██████████| 6/6 [00:05<00:00,  1.13it/s]\n"
     ]
    },
    {
     "name": "stdout",
     "output_type": "stream",
     "text": [
      "discriminator_loss :  0.4759882241487503\n",
      "gan_loss : [0.05757945403456688, 0.05749848857522011, 0.08096537739038467]\n",
      "--------------- Epoch 379 ---------------\n"
     ]
    },
    {
     "name": "stderr",
     "output_type": "stream",
     "text": [
      "100%|██████████| 6/6 [00:05<00:00,  1.13it/s]\n"
     ]
    },
    {
     "name": "stdout",
     "output_type": "stream",
     "text": [
      "discriminator_loss :  0.5045678019523621\n",
      "gan_loss : [0.06851418316364288, 0.0684317797422409, 0.0824022963643074]\n",
      "--------------- Epoch 380 ---------------\n"
     ]
    },
    {
     "name": "stderr",
     "output_type": "stream",
     "text": [
      "100%|██████████| 6/6 [00:05<00:00,  1.10it/s]\n"
     ]
    },
    {
     "name": "stdout",
     "output_type": "stream",
     "text": [
      "discriminator_loss :  0.4966902881860733\n",
      "gan_loss : [0.04982863366603851, 0.049743637442588806, 0.08499729633331299]\n",
      "--------------- Epoch 381 ---------------\n"
     ]
    },
    {
     "name": "stderr",
     "output_type": "stream",
     "text": [
      "100%|██████████| 6/6 [00:05<00:00,  1.18it/s]\n"
     ]
    },
    {
     "name": "stdout",
     "output_type": "stream",
     "text": [
      "discriminator_loss :  0.49811429902911186\n",
      "gan_loss : [0.0662304162979126, 0.06608191132545471, 0.14850355684757233]\n",
      "--------------- Epoch 382 ---------------\n"
     ]
    },
    {
     "name": "stderr",
     "output_type": "stream",
     "text": [
      "100%|██████████| 6/6 [00:05<00:00,  1.11it/s]\n"
     ]
    },
    {
     "name": "stdout",
     "output_type": "stream",
     "text": [
      "discriminator_loss :  0.4949760027229786\n",
      "gan_loss : [0.08437026292085648, 0.08427859097719193, 0.09166904538869858]\n",
      "--------------- Epoch 383 ---------------\n"
     ]
    },
    {
     "name": "stderr",
     "output_type": "stream",
     "text": [
      "100%|██████████| 6/6 [00:05<00:00,  1.13it/s]\n"
     ]
    },
    {
     "name": "stdout",
     "output_type": "stream",
     "text": [
      "discriminator_loss :  0.4914885573089123\n",
      "gan_loss : [0.06891739368438721, 0.0688139945268631, 0.1033984124660492]\n",
      "--------------- Epoch 384 ---------------\n"
     ]
    },
    {
     "name": "stderr",
     "output_type": "stream",
     "text": [
      "100%|██████████| 6/6 [00:05<00:00,  1.16it/s]\n"
     ]
    },
    {
     "name": "stdout",
     "output_type": "stream",
     "text": [
      "discriminator_loss :  0.5109316483139992\n",
      "gan_loss : [0.07247250527143478, 0.07237112522125244, 0.10138306021690369]\n",
      "--------------- Epoch 385 ---------------\n"
     ]
    },
    {
     "name": "stderr",
     "output_type": "stream",
     "text": [
      "100%|██████████| 6/6 [00:05<00:00,  1.09it/s]\n"
     ]
    },
    {
     "name": "stdout",
     "output_type": "stream",
     "text": [
      "discriminator_loss :  0.5072098262608051\n",
      "gan_loss : [0.0858488455414772, 0.08572380989789963, 0.12504297494888306]\n",
      "--------------- Epoch 386 ---------------\n"
     ]
    },
    {
     "name": "stderr",
     "output_type": "stream",
     "text": [
      "100%|██████████| 6/6 [00:05<00:00,  1.12it/s]\n"
     ]
    },
    {
     "name": "stdout",
     "output_type": "stream",
     "text": [
      "discriminator_loss :  0.502668809145689\n",
      "gan_loss : [0.07617145776748657, 0.0760469064116478, 0.12455004453659058]\n",
      "--------------- Epoch 387 ---------------\n"
     ]
    },
    {
     "name": "stderr",
     "output_type": "stream",
     "text": [
      "100%|██████████| 6/6 [00:05<00:00,  1.18it/s]\n"
     ]
    },
    {
     "name": "stdout",
     "output_type": "stream",
     "text": [
      "discriminator_loss :  0.5183906368911266\n",
      "gan_loss : [0.06617499887943268, 0.06604980677366257, 0.12519431114196777]\n",
      "--------------- Epoch 388 ---------------\n"
     ]
    },
    {
     "name": "stderr",
     "output_type": "stream",
     "text": [
      "100%|██████████| 6/6 [00:05<00:00,  1.16it/s]\n"
     ]
    },
    {
     "name": "stdout",
     "output_type": "stream",
     "text": [
      "discriminator_loss :  0.4816194027662277\n",
      "gan_loss : [0.07491590827703476, 0.07480800151824951, 0.10790475457906723]\n",
      "--------------- Epoch 389 ---------------\n"
     ]
    },
    {
     "name": "stderr",
     "output_type": "stream",
     "text": [
      "100%|██████████| 6/6 [00:05<00:00,  1.20it/s]\n"
     ]
    },
    {
     "name": "stdout",
     "output_type": "stream",
     "text": [
      "discriminator_loss :  0.49662604182958603\n",
      "gan_loss : [0.06390178203582764, 0.06381567567586899, 0.0861077830195427]\n",
      "--------------- Epoch 390 ---------------\n"
     ]
    },
    {
     "name": "stderr",
     "output_type": "stream",
     "text": [
      "100%|██████████| 6/6 [00:05<00:00,  1.11it/s]\n"
     ]
    },
    {
     "name": "stdout",
     "output_type": "stream",
     "text": [
      "discriminator_loss :  0.5154585838317871\n",
      "gan_loss : [0.05799443647265434, 0.05791063979268074, 0.08379816263914108]\n",
      "--------------- Epoch 391 ---------------\n"
     ]
    },
    {
     "name": "stderr",
     "output_type": "stream",
     "text": [
      "100%|██████████| 6/6 [00:05<00:00,  1.06it/s]\n"
     ]
    },
    {
     "name": "stdout",
     "output_type": "stream",
     "text": [
      "discriminator_loss :  0.5134668052196503\n",
      "gan_loss : [0.054303720593452454, 0.05422087386250496, 0.08284687995910645]\n",
      "--------------- Epoch 392 ---------------\n"
     ]
    },
    {
     "name": "stderr",
     "output_type": "stream",
     "text": [
      "100%|██████████| 6/6 [00:05<00:00,  1.08it/s]\n"
     ]
    },
    {
     "name": "stdout",
     "output_type": "stream",
     "text": [
      "discriminator_loss :  0.49476341158151627\n",
      "gan_loss : [0.08640097826719284, 0.08631858974695206, 0.08237835764884949]\n",
      "--------------- Epoch 393 ---------------\n"
     ]
    },
    {
     "name": "stderr",
     "output_type": "stream",
     "text": [
      "100%|██████████| 6/6 [00:05<00:00,  1.16it/s]\n"
     ]
    },
    {
     "name": "stdout",
     "output_type": "stream",
     "text": [
      "discriminator_loss :  0.4903421513736248\n",
      "gan_loss : [0.06648395955562592, 0.06636284291744232, 0.1211191713809967]\n",
      "--------------- Epoch 394 ---------------\n"
     ]
    },
    {
     "name": "stderr",
     "output_type": "stream",
     "text": [
      "100%|██████████| 6/6 [00:05<00:00,  1.13it/s]\n"
     ]
    },
    {
     "name": "stdout",
     "output_type": "stream",
     "text": [
      "discriminator_loss :  0.516909271478653\n",
      "gan_loss : [0.05760445073246956, 0.05747010186314583, 0.1343475580215454]\n",
      "--------------- Epoch 395 ---------------\n"
     ]
    },
    {
     "name": "stderr",
     "output_type": "stream",
     "text": [
      "100%|██████████| 6/6 [00:05<00:00,  1.18it/s]\n"
     ]
    },
    {
     "name": "stdout",
     "output_type": "stream",
     "text": [
      "discriminator_loss :  0.4839147999882698\n",
      "gan_loss : [0.07796496152877808, 0.07784371823072433, 0.12124237418174744]\n",
      "--------------- Epoch 396 ---------------\n"
     ]
    },
    {
     "name": "stderr",
     "output_type": "stream",
     "text": [
      "100%|██████████| 6/6 [00:05<00:00,  1.18it/s]\n"
     ]
    },
    {
     "name": "stdout",
     "output_type": "stream",
     "text": [
      "discriminator_loss :  0.4982706159353256\n",
      "gan_loss : [0.08115875720977783, 0.08105475455522537, 0.10400283336639404]\n",
      "--------------- Epoch 397 ---------------\n"
     ]
    },
    {
     "name": "stderr",
     "output_type": "stream",
     "text": [
      "100%|██████████| 6/6 [00:05<00:00,  1.07it/s]\n"
     ]
    },
    {
     "name": "stdout",
     "output_type": "stream",
     "text": [
      "discriminator_loss :  0.4958373196423054\n",
      "gan_loss : [0.05567966774106026, 0.05559178814291954, 0.08788415044546127]\n",
      "--------------- Epoch 398 ---------------\n"
     ]
    },
    {
     "name": "stderr",
     "output_type": "stream",
     "text": [
      "100%|██████████| 6/6 [00:05<00:00,  1.12it/s]\n"
     ]
    },
    {
     "name": "stdout",
     "output_type": "stream",
     "text": [
      "discriminator_loss :  0.5246044956147671\n",
      "gan_loss : [0.06127944216132164, 0.061167240142822266, 0.11220309883356094]\n",
      "--------------- Epoch 399 ---------------\n"
     ]
    },
    {
     "name": "stderr",
     "output_type": "stream",
     "text": [
      "100%|██████████| 6/6 [00:05<00:00,  1.18it/s]\n"
     ]
    },
    {
     "name": "stdout",
     "output_type": "stream",
     "text": [
      "discriminator_loss :  0.4744680058211088\n",
      "gan_loss : [0.06815750896930695, 0.06806565821170807, 0.09185359627008438]\n",
      "--------------- Epoch 400 ---------------\n"
     ]
    },
    {
     "name": "stderr",
     "output_type": "stream",
     "text": [
      "100%|██████████| 6/6 [00:05<00:00,  1.09it/s]\n"
     ]
    },
    {
     "name": "stdout",
     "output_type": "stream",
     "text": [
      "discriminator_loss :  0.48961718939244747\n",
      "gan_loss : [0.07652276754379272, 0.07643375545740128, 0.08900976181030273]\n",
      "--------------- Epoch 401 ---------------\n"
     ]
    },
    {
     "name": "stderr",
     "output_type": "stream",
     "text": [
      "100%|██████████| 6/6 [00:05<00:00,  1.16it/s]\n"
     ]
    },
    {
     "name": "stdout",
     "output_type": "stream",
     "text": [
      "discriminator_loss :  0.5050769224762917\n",
      "gan_loss : [0.06912437826395035, 0.06904669106006622, 0.07768458127975464]\n",
      "--------------- Epoch 402 ---------------\n"
     ]
    },
    {
     "name": "stderr",
     "output_type": "stream",
     "text": [
      "100%|██████████| 6/6 [00:05<00:00,  1.13it/s]\n"
     ]
    },
    {
     "name": "stdout",
     "output_type": "stream",
     "text": [
      "discriminator_loss :  0.4935240410268307\n",
      "gan_loss : [0.0709252655506134, 0.07081609964370728, 0.10916725546121597]\n",
      "--------------- Epoch 403 ---------------\n"
     ]
    },
    {
     "name": "stderr",
     "output_type": "stream",
     "text": [
      "100%|██████████| 6/6 [00:05<00:00,  1.09it/s]\n"
     ]
    },
    {
     "name": "stdout",
     "output_type": "stream",
     "text": [
      "discriminator_loss :  0.5024095885455608\n",
      "gan_loss : [0.04824921861290932, 0.048157017678022385, 0.09220633655786514]\n",
      "--------------- Epoch 404 ---------------\n"
     ]
    },
    {
     "name": "stderr",
     "output_type": "stream",
     "text": [
      "100%|██████████| 6/6 [00:05<00:00,  1.14it/s]\n"
     ]
    },
    {
     "name": "stdout",
     "output_type": "stream",
     "text": [
      "discriminator_loss :  0.5056104548275471\n",
      "gan_loss : [0.05779587849974632, 0.05770757421851158, 0.08830419182777405]\n",
      "--------------- Epoch 405 ---------------\n"
     ]
    },
    {
     "name": "stderr",
     "output_type": "stream",
     "text": [
      "100%|██████████| 6/6 [00:05<00:00,  1.10it/s]\n"
     ]
    },
    {
     "name": "stdout",
     "output_type": "stream",
     "text": [
      "discriminator_loss :  0.5026916861534119\n",
      "gan_loss : [0.07628708332777023, 0.0761517658829689, 0.13531500101089478]\n",
      "--------------- Epoch 406 ---------------\n"
     ]
    },
    {
     "name": "stderr",
     "output_type": "stream",
     "text": [
      "100%|██████████| 6/6 [00:05<00:00,  1.18it/s]\n"
     ]
    },
    {
     "name": "stdout",
     "output_type": "stream",
     "text": [
      "discriminator_loss :  0.49512042105197906\n",
      "gan_loss : [0.048488911241292953, 0.04840913787484169, 0.07977333664894104]\n",
      "--------------- Epoch 407 ---------------\n"
     ]
    },
    {
     "name": "stderr",
     "output_type": "stream",
     "text": [
      "100%|██████████| 6/6 [00:05<00:00,  1.14it/s]\n"
     ]
    },
    {
     "name": "stdout",
     "output_type": "stream",
     "text": [
      "discriminator_loss :  0.5269593149423599\n",
      "gan_loss : [0.07314006239175797, 0.07304621487855911, 0.09384480863809586]\n",
      "--------------- Epoch 408 ---------------\n"
     ]
    },
    {
     "name": "stderr",
     "output_type": "stream",
     "text": [
      "100%|██████████| 6/6 [00:05<00:00,  1.18it/s]\n"
     ]
    },
    {
     "name": "stdout",
     "output_type": "stream",
     "text": [
      "discriminator_loss :  0.500457976013422\n",
      "gan_loss : [0.04902701452374458, 0.048945531249046326, 0.08148375898599625]\n",
      "--------------- Epoch 409 ---------------\n"
     ]
    },
    {
     "name": "stderr",
     "output_type": "stream",
     "text": [
      "100%|██████████| 6/6 [00:05<00:00,  1.11it/s]\n"
     ]
    },
    {
     "name": "stdout",
     "output_type": "stream",
     "text": [
      "discriminator_loss :  0.48903120309114456\n",
      "gan_loss : [0.0818312019109726, 0.0817268118262291, 0.10439014434814453]\n",
      "--------------- Epoch 410 ---------------\n"
     ]
    },
    {
     "name": "stderr",
     "output_type": "stream",
     "text": [
      "100%|██████████| 6/6 [00:05<00:00,  1.17it/s]\n"
     ]
    },
    {
     "name": "stdout",
     "output_type": "stream",
     "text": [
      "discriminator_loss :  0.5030721127986908\n",
      "gan_loss : [0.09498906135559082, 0.09485415369272232, 0.1348983198404312]\n",
      "--------------- Epoch 411 ---------------\n"
     ]
    },
    {
     "name": "stderr",
     "output_type": "stream",
     "text": [
      "100%|██████████| 6/6 [00:05<00:00,  1.16it/s]\n"
     ]
    },
    {
     "name": "stdout",
     "output_type": "stream",
     "text": [
      "discriminator_loss :  0.5229912512004375\n",
      "gan_loss : [0.0745229497551918, 0.07443524897098541, 0.0877014771103859]\n",
      "--------------- Epoch 412 ---------------\n"
     ]
    },
    {
     "name": "stderr",
     "output_type": "stream",
     "text": [
      "100%|██████████| 6/6 [00:05<00:00,  1.18it/s]\n"
     ]
    },
    {
     "name": "stdout",
     "output_type": "stream",
     "text": [
      "discriminator_loss :  0.4989701509475708\n",
      "gan_loss : [0.07679416239261627, 0.07668158411979675, 0.11257492750883102]\n",
      "--------------- Epoch 413 ---------------\n"
     ]
    },
    {
     "name": "stderr",
     "output_type": "stream",
     "text": [
      "100%|██████████| 6/6 [00:05<00:00,  1.19it/s]\n"
     ]
    },
    {
     "name": "stdout",
     "output_type": "stream",
     "text": [
      "discriminator_loss :  0.49110712110996246\n",
      "gan_loss : [0.07836567610502243, 0.07833091169595718, 0.03476792201399803]\n",
      "--------------- Epoch 414 ---------------\n"
     ]
    },
    {
     "name": "stderr",
     "output_type": "stream",
     "text": [
      "100%|██████████| 6/6 [00:05<00:00,  1.18it/s]\n"
     ]
    },
    {
     "name": "stdout",
     "output_type": "stream",
     "text": [
      "discriminator_loss :  0.4967331849038601\n",
      "gan_loss : [0.08153455704450607, 0.08146820962429047, 0.06635085493326187]\n",
      "--------------- Epoch 415 ---------------\n"
     ]
    },
    {
     "name": "stderr",
     "output_type": "stream",
     "text": [
      "100%|██████████| 6/6 [00:05<00:00,  1.03it/s]\n"
     ]
    },
    {
     "name": "stdout",
     "output_type": "stream",
     "text": [
      "discriminator_loss :  0.5215414240956306\n",
      "gan_loss : [0.06753766536712646, 0.06742164492607117, 0.11601806432008743]\n",
      "--------------- Epoch 416 ---------------\n"
     ]
    },
    {
     "name": "stderr",
     "output_type": "stream",
     "text": [
      "100%|██████████| 6/6 [00:05<00:00,  1.17it/s]\n"
     ]
    },
    {
     "name": "stdout",
     "output_type": "stream",
     "text": [
      "discriminator_loss :  0.48904356360435486\n",
      "gan_loss : [0.05658891424536705, 0.05646534636616707, 0.12356860190629959]\n",
      "--------------- Epoch 417 ---------------\n"
     ]
    },
    {
     "name": "stderr",
     "output_type": "stream",
     "text": [
      "100%|██████████| 6/6 [00:05<00:00,  1.16it/s]\n"
     ]
    },
    {
     "name": "stdout",
     "output_type": "stream",
     "text": [
      "discriminator_loss :  0.49978945776820183\n",
      "gan_loss : [0.0678001418709755, 0.0676586776971817, 0.1414606124162674]\n",
      "--------------- Epoch 418 ---------------\n"
     ]
    },
    {
     "name": "stderr",
     "output_type": "stream",
     "text": [
      "100%|██████████| 6/6 [00:05<00:00,  1.16it/s]\n"
     ]
    },
    {
     "name": "stdout",
     "output_type": "stream",
     "text": [
      "discriminator_loss :  0.5160737633705139\n",
      "gan_loss : [0.08746074885129929, 0.08732721209526062, 0.13353866338729858]\n",
      "--------------- Epoch 419 ---------------\n"
     ]
    },
    {
     "name": "stderr",
     "output_type": "stream",
     "text": [
      "100%|██████████| 6/6 [00:05<00:00,  1.13it/s]\n"
     ]
    },
    {
     "name": "stdout",
     "output_type": "stream",
     "text": [
      "discriminator_loss :  0.5310246385633945\n",
      "gan_loss : [0.0766591876745224, 0.07656833529472351, 0.0908525213599205]\n",
      "--------------- Epoch 420 ---------------\n"
     ]
    },
    {
     "name": "stderr",
     "output_type": "stream",
     "text": [
      "100%|██████████| 6/6 [00:05<00:00,  1.13it/s]\n"
     ]
    },
    {
     "name": "stdout",
     "output_type": "stream",
     "text": [
      "discriminator_loss :  0.4942164979875088\n",
      "gan_loss : [0.07678432017564774, 0.076680026948452, 0.10429095476865768]\n",
      "--------------- Epoch 421 ---------------\n"
     ]
    },
    {
     "name": "stderr",
     "output_type": "stream",
     "text": [
      "100%|██████████| 6/6 [00:05<00:00,  1.14it/s]\n"
     ]
    },
    {
     "name": "stdout",
     "output_type": "stream",
     "text": [
      "discriminator_loss :  0.49167926609516144\n",
      "gan_loss : [0.0561353974044323, 0.05602240562438965, 0.11298749595880508]\n",
      "--------------- Epoch 422 ---------------\n"
     ]
    },
    {
     "name": "stderr",
     "output_type": "stream",
     "text": [
      "100%|██████████| 6/6 [00:05<00:00,  1.17it/s]\n"
     ]
    },
    {
     "name": "stdout",
     "output_type": "stream",
     "text": [
      "discriminator_loss :  0.5204491205513477\n",
      "gan_loss : [0.07021032273769379, 0.07011101394891739, 0.09930539131164551]\n",
      "--------------- Epoch 423 ---------------\n"
     ]
    },
    {
     "name": "stderr",
     "output_type": "stream",
     "text": [
      "100%|██████████| 6/6 [00:05<00:00,  1.14it/s]\n"
     ]
    },
    {
     "name": "stdout",
     "output_type": "stream",
     "text": [
      "discriminator_loss :  0.5162994004786015\n",
      "gan_loss : [0.07163107395172119, 0.07151336222887039, 0.11770883202552795]\n",
      "--------------- Epoch 424 ---------------\n"
     ]
    },
    {
     "name": "stderr",
     "output_type": "stream",
     "text": [
      "100%|██████████| 6/6 [00:05<00:00,  1.17it/s]\n"
     ]
    },
    {
     "name": "stdout",
     "output_type": "stream",
     "text": [
      "discriminator_loss :  0.47800952196121216\n",
      "gan_loss : [0.06392432749271393, 0.06383808702230453, 0.08624330908060074]\n",
      "--------------- Epoch 425 ---------------\n"
     ]
    },
    {
     "name": "stderr",
     "output_type": "stream",
     "text": [
      "100%|██████████| 6/6 [00:05<00:00,  1.12it/s]\n"
     ]
    },
    {
     "name": "stdout",
     "output_type": "stream",
     "text": [
      "discriminator_loss :  0.47963725961744785\n",
      "gan_loss : [0.06327567994594574, 0.06323026865720749, 0.04541270062327385]\n",
      "--------------- Epoch 426 ---------------\n"
     ]
    },
    {
     "name": "stderr",
     "output_type": "stream",
     "text": [
      "100%|██████████| 6/6 [00:05<00:00,  1.20it/s]\n"
     ]
    },
    {
     "name": "stdout",
     "output_type": "stream",
     "text": [
      "discriminator_loss :  0.4950882438570261\n",
      "gan_loss : [0.06293493509292603, 0.06280083954334259, 0.1340979039669037]\n",
      "--------------- Epoch 427 ---------------\n"
     ]
    },
    {
     "name": "stderr",
     "output_type": "stream",
     "text": [
      "100%|██████████| 6/6 [00:05<00:00,  1.10it/s]\n"
     ]
    },
    {
     "name": "stdout",
     "output_type": "stream",
     "text": [
      "discriminator_loss :  0.4632858391851187\n",
      "gan_loss : [0.06607446819543839, 0.06596807390451431, 0.10639137774705887]\n",
      "--------------- Epoch 428 ---------------\n"
     ]
    },
    {
     "name": "stderr",
     "output_type": "stream",
     "text": [
      "100%|██████████| 6/6 [00:05<00:00,  1.14it/s]\n"
     ]
    },
    {
     "name": "stdout",
     "output_type": "stream",
     "text": [
      "discriminator_loss :  0.5096260644495487\n",
      "gan_loss : [0.05518041178584099, 0.05505795776844025, 0.12245116382837296]\n",
      "--------------- Epoch 429 ---------------\n"
     ]
    },
    {
     "name": "stderr",
     "output_type": "stream",
     "text": [
      "100%|██████████| 6/6 [00:05<00:00,  1.18it/s]\n"
     ]
    },
    {
     "name": "stdout",
     "output_type": "stream",
     "text": [
      "discriminator_loss :  0.5020613595843315\n",
      "gan_loss : [0.07098667323589325, 0.07088113576173782, 0.10553906112909317]\n",
      "--------------- Epoch 430 ---------------\n"
     ]
    },
    {
     "name": "stderr",
     "output_type": "stream",
     "text": [
      "100%|██████████| 6/6 [00:05<00:00,  1.12it/s]\n"
     ]
    },
    {
     "name": "stdout",
     "output_type": "stream",
     "text": [
      "discriminator_loss :  0.4761984348297119\n",
      "gan_loss : [0.06859191507101059, 0.06851134449243546, 0.08057009428739548]\n",
      "--------------- Epoch 431 ---------------\n"
     ]
    },
    {
     "name": "stderr",
     "output_type": "stream",
     "text": [
      "100%|██████████| 6/6 [00:05<00:00,  1.18it/s]\n"
     ]
    },
    {
     "name": "stdout",
     "output_type": "stream",
     "text": [
      "discriminator_loss :  0.5127229541540146\n",
      "gan_loss : [0.0691201314330101, 0.0690309926867485, 0.08914115279912949]\n",
      "--------------- Epoch 432 ---------------\n"
     ]
    },
    {
     "name": "stderr",
     "output_type": "stream",
     "text": [
      "100%|██████████| 6/6 [00:05<00:00,  1.11it/s]\n"
     ]
    },
    {
     "name": "stdout",
     "output_type": "stream",
     "text": [
      "discriminator_loss :  0.4759761840105057\n",
      "gan_loss : [0.06525076925754547, 0.06518003344535828, 0.07073679566383362]\n",
      "--------------- Epoch 433 ---------------\n"
     ]
    },
    {
     "name": "stderr",
     "output_type": "stream",
     "text": [
      "100%|██████████| 6/6 [00:05<00:00,  1.09it/s]\n"
     ]
    },
    {
     "name": "stdout",
     "output_type": "stream",
     "text": [
      "discriminator_loss :  0.5103846043348312\n",
      "gan_loss : [0.1024271622300148, 0.10237465053796768, 0.052508395165205]\n",
      "--------------- Epoch 434 ---------------\n"
     ]
    },
    {
     "name": "stderr",
     "output_type": "stream",
     "text": [
      "100%|██████████| 6/6 [00:05<00:00,  1.04it/s]\n"
     ]
    },
    {
     "name": "stdout",
     "output_type": "stream",
     "text": [
      "discriminator_loss :  0.482447013258934\n",
      "gan_loss : [0.09815017133951187, 0.09802400320768356, 0.12616875767707825]\n",
      "--------------- Epoch 435 ---------------\n"
     ]
    },
    {
     "name": "stderr",
     "output_type": "stream",
     "text": [
      "100%|██████████| 6/6 [00:05<00:00,  1.18it/s]\n"
     ]
    },
    {
     "name": "stdout",
     "output_type": "stream",
     "text": [
      "discriminator_loss :  0.47927863523364067\n",
      "gan_loss : [0.0671032965183258, 0.06699486821889877, 0.10842952877283096]\n",
      "--------------- Epoch 436 ---------------\n"
     ]
    },
    {
     "name": "stderr",
     "output_type": "stream",
     "text": [
      "100%|██████████| 6/6 [00:05<00:00,  1.14it/s]\n"
     ]
    },
    {
     "name": "stdout",
     "output_type": "stream",
     "text": [
      "discriminator_loss :  0.5151563063263893\n",
      "gan_loss : [0.05816928669810295, 0.058074891567230225, 0.09439001232385635]\n",
      "--------------- Epoch 437 ---------------\n"
     ]
    },
    {
     "name": "stderr",
     "output_type": "stream",
     "text": [
      "100%|██████████| 6/6 [00:05<00:00,  1.19it/s]\n"
     ]
    },
    {
     "name": "stdout",
     "output_type": "stream",
     "text": [
      "discriminator_loss :  0.5019628815352917\n",
      "gan_loss : [0.06292688846588135, 0.06281670928001404, 0.1101817712187767]\n",
      "--------------- Epoch 438 ---------------\n"
     ]
    },
    {
     "name": "stderr",
     "output_type": "stream",
     "text": [
      "100%|██████████| 6/6 [00:05<00:00,  1.14it/s]\n"
     ]
    },
    {
     "name": "stdout",
     "output_type": "stream",
     "text": [
      "discriminator_loss :  0.49486812949180603\n",
      "gan_loss : [0.06976713985204697, 0.0696338415145874, 0.13330061733722687]\n",
      "--------------- Epoch 439 ---------------\n"
     ]
    },
    {
     "name": "stderr",
     "output_type": "stream",
     "text": [
      "100%|██████████| 6/6 [00:05<00:00,  1.11it/s]\n"
     ]
    },
    {
     "name": "stdout",
     "output_type": "stream",
     "text": [
      "discriminator_loss :  0.4981517605483532\n",
      "gan_loss : [0.0886225476861, 0.08854468911886215, 0.07785680145025253]\n",
      "--------------- Epoch 440 ---------------\n"
     ]
    },
    {
     "name": "stderr",
     "output_type": "stream",
     "text": [
      "100%|██████████| 6/6 [00:05<00:00,  1.09it/s]\n"
     ]
    },
    {
     "name": "stdout",
     "output_type": "stream",
     "text": [
      "discriminator_loss :  0.4986833333969116\n",
      "gan_loss : [0.055103641003370285, 0.05501219257712364, 0.09144917875528336]\n",
      "--------------- Epoch 441 ---------------\n"
     ]
    },
    {
     "name": "stderr",
     "output_type": "stream",
     "text": [
      "100%|██████████| 6/6 [00:05<00:00,  1.17it/s]\n"
     ]
    },
    {
     "name": "stdout",
     "output_type": "stream",
     "text": [
      "discriminator_loss :  0.4605479184538126\n",
      "gan_loss : [0.05679110065102577, 0.05671289190649986, 0.07820805162191391]\n",
      "--------------- Epoch 442 ---------------\n"
     ]
    },
    {
     "name": "stderr",
     "output_type": "stream",
     "text": [
      "100%|██████████| 6/6 [00:05<00:00,  1.11it/s]\n"
     ]
    },
    {
     "name": "stdout",
     "output_type": "stream",
     "text": [
      "discriminator_loss :  0.49898364022374153\n",
      "gan_loss : [0.07075271755456924, 0.07062962651252747, 0.12309100478887558]\n",
      "--------------- Epoch 443 ---------------\n"
     ]
    },
    {
     "name": "stderr",
     "output_type": "stream",
     "text": [
      "100%|██████████| 6/6 [00:04<00:00,  1.21it/s]\n"
     ]
    },
    {
     "name": "stdout",
     "output_type": "stream",
     "text": [
      "discriminator_loss :  0.5072670094668865\n",
      "gan_loss : [0.05540747568011284, 0.055334147065877914, 0.07332871109247208]\n",
      "--------------- Epoch 444 ---------------\n"
     ]
    },
    {
     "name": "stderr",
     "output_type": "stream",
     "text": [
      "100%|██████████| 6/6 [00:05<00:00,  1.09it/s]\n"
     ]
    },
    {
     "name": "stdout",
     "output_type": "stream",
     "text": [
      "discriminator_loss :  0.4953089114278555\n",
      "gan_loss : [0.08145057410001755, 0.08135604113340378, 0.09453105926513672]\n",
      "--------------- Epoch 445 ---------------\n"
     ]
    },
    {
     "name": "stderr",
     "output_type": "stream",
     "text": [
      "100%|██████████| 6/6 [00:04<00:00,  1.21it/s]\n"
     ]
    },
    {
     "name": "stdout",
     "output_type": "stream",
     "text": [
      "discriminator_loss :  0.504535224288702\n",
      "gan_loss : [0.07398799806833267, 0.07392075657844543, 0.06724465638399124]\n",
      "--------------- Epoch 446 ---------------\n"
     ]
    },
    {
     "name": "stderr",
     "output_type": "stream",
     "text": [
      "100%|██████████| 6/6 [00:05<00:00,  1.05it/s]\n"
     ]
    },
    {
     "name": "stdout",
     "output_type": "stream",
     "text": [
      "discriminator_loss :  0.4930477850139141\n",
      "gan_loss : [0.06054828688502312, 0.0604424923658371, 0.10579010844230652]\n",
      "--------------- Epoch 447 ---------------\n"
     ]
    },
    {
     "name": "stderr",
     "output_type": "stream",
     "text": [
      "100%|██████████| 6/6 [00:05<00:00,  1.13it/s]\n"
     ]
    },
    {
     "name": "stdout",
     "output_type": "stream",
     "text": [
      "discriminator_loss :  0.4893583208322525\n",
      "gan_loss : [0.05575164780020714, 0.055631984025239944, 0.11966099590063095]\n",
      "--------------- Epoch 448 ---------------\n"
     ]
    },
    {
     "name": "stderr",
     "output_type": "stream",
     "text": [
      "100%|██████████| 6/6 [00:05<00:00,  1.13it/s]\n"
     ]
    },
    {
     "name": "stdout",
     "output_type": "stream",
     "text": [
      "discriminator_loss :  0.49729666113853455\n",
      "gan_loss : [0.08416828513145447, 0.08409309387207031, 0.07518964260816574]\n",
      "--------------- Epoch 449 ---------------\n"
     ]
    },
    {
     "name": "stderr",
     "output_type": "stream",
     "text": [
      "100%|██████████| 6/6 [00:04<00:00,  1.20it/s]\n"
     ]
    },
    {
     "name": "stdout",
     "output_type": "stream",
     "text": [
      "discriminator_loss :  0.5090152323246002\n",
      "gan_loss : [0.07394586503505707, 0.0738331750035286, 0.11269259452819824]\n",
      "--------------- Epoch 450 ---------------\n"
     ]
    },
    {
     "name": "stderr",
     "output_type": "stream",
     "text": [
      "100%|██████████| 6/6 [00:05<00:00,  1.13it/s]\n"
     ]
    },
    {
     "name": "stdout",
     "output_type": "stream",
     "text": [
      "discriminator_loss :  0.4798140674829483\n",
      "gan_loss : [0.08990604430437088, 0.08978865295648575, 0.1173868477344513]\n",
      "--------------- Epoch 451 ---------------\n"
     ]
    },
    {
     "name": "stderr",
     "output_type": "stream",
     "text": [
      "100%|██████████| 6/6 [00:05<00:00,  1.17it/s]\n"
     ]
    },
    {
     "name": "stdout",
     "output_type": "stream",
     "text": [
      "discriminator_loss :  0.4747905880212784\n",
      "gan_loss : [0.0880027487874031, 0.08790401369333267, 0.09873833507299423]\n",
      "--------------- Epoch 452 ---------------\n"
     ]
    },
    {
     "name": "stderr",
     "output_type": "stream",
     "text": [
      "100%|██████████| 6/6 [00:05<00:00,  1.04it/s]\n"
     ]
    },
    {
     "name": "stdout",
     "output_type": "stream",
     "text": [
      "discriminator_loss :  0.48951445892453194\n",
      "gan_loss : [0.057424161583185196, 0.05733714997768402, 0.08701024204492569]\n",
      "--------------- Epoch 453 ---------------\n"
     ]
    },
    {
     "name": "stderr",
     "output_type": "stream",
     "text": [
      "100%|██████████| 6/6 [00:04<00:00,  1.20it/s]\n"
     ]
    },
    {
     "name": "stdout",
     "output_type": "stream",
     "text": [
      "discriminator_loss :  0.5099100060760975\n",
      "gan_loss : [0.06672317534685135, 0.06661757081747055, 0.10560176521539688]\n",
      "--------------- Epoch 454 ---------------\n"
     ]
    },
    {
     "name": "stderr",
     "output_type": "stream",
     "text": [
      "100%|██████████| 6/6 [00:05<00:00,  1.18it/s]\n"
     ]
    },
    {
     "name": "stdout",
     "output_type": "stream",
     "text": [
      "discriminator_loss :  0.49998729303479195\n",
      "gan_loss : [0.06733203679323196, 0.06723956763744354, 0.09246814996004105]\n",
      "--------------- Epoch 455 ---------------\n"
     ]
    },
    {
     "name": "stderr",
     "output_type": "stream",
     "text": [
      "100%|██████████| 6/6 [00:05<00:00,  1.10it/s]\n"
     ]
    },
    {
     "name": "stdout",
     "output_type": "stream",
     "text": [
      "discriminator_loss :  0.4928722493350506\n",
      "gan_loss : [0.07868721336126328, 0.07858555763959885, 0.10165771096944809]\n",
      "--------------- Epoch 456 ---------------\n"
     ]
    },
    {
     "name": "stderr",
     "output_type": "stream",
     "text": [
      "100%|██████████| 6/6 [00:05<00:00,  1.19it/s]\n"
     ]
    },
    {
     "name": "stdout",
     "output_type": "stream",
     "text": [
      "discriminator_loss :  0.502008393406868\n",
      "gan_loss : [0.057096052914857864, 0.057005833834409714, 0.09022360295057297]\n",
      "--------------- Epoch 457 ---------------\n"
     ]
    },
    {
     "name": "stderr",
     "output_type": "stream",
     "text": [
      "100%|██████████| 6/6 [00:05<00:00,  1.13it/s]\n"
     ]
    },
    {
     "name": "stdout",
     "output_type": "stream",
     "text": [
      "discriminator_loss :  0.4771035872399807\n",
      "gan_loss : [0.07190221548080444, 0.0718052014708519, 0.09701312333345413]\n",
      "--------------- Epoch 458 ---------------\n"
     ]
    },
    {
     "name": "stderr",
     "output_type": "stream",
     "text": [
      "100%|██████████| 6/6 [00:05<00:00,  1.07it/s]\n"
     ]
    },
    {
     "name": "stdout",
     "output_type": "stream",
     "text": [
      "discriminator_loss :  0.4815055578947067\n",
      "gan_loss : [0.07896147668361664, 0.07884915918111801, 0.11231887340545654]\n",
      "--------------- Epoch 459 ---------------\n"
     ]
    },
    {
     "name": "stderr",
     "output_type": "stream",
     "text": [
      "100%|██████████| 6/6 [00:05<00:00,  1.07it/s]\n"
     ]
    },
    {
     "name": "stdout",
     "output_type": "stream",
     "text": [
      "discriminator_loss :  0.5048586763441563\n",
      "gan_loss : [0.0781564712524414, 0.07806208729743958, 0.09438624233007431]\n",
      "--------------- Epoch 460 ---------------\n"
     ]
    },
    {
     "name": "stderr",
     "output_type": "stream",
     "text": [
      "100%|██████████| 6/6 [00:05<00:00,  1.18it/s]\n"
     ]
    },
    {
     "name": "stdout",
     "output_type": "stream",
     "text": [
      "discriminator_loss :  0.4854278936982155\n",
      "gan_loss : [0.06578753888607025, 0.06570743769407272, 0.08009893447160721]\n",
      "--------------- Epoch 461 ---------------\n"
     ]
    },
    {
     "name": "stderr",
     "output_type": "stream",
     "text": [
      "100%|██████████| 6/6 [00:05<00:00,  1.08it/s]\n"
     ]
    },
    {
     "name": "stdout",
     "output_type": "stream",
     "text": [
      "discriminator_loss :  0.49597248435020447\n",
      "gan_loss : [0.07274233549833298, 0.072588711977005, 0.1536254733800888]\n",
      "--------------- Epoch 462 ---------------\n"
     ]
    },
    {
     "name": "stderr",
     "output_type": "stream",
     "text": [
      "100%|██████████| 6/6 [00:05<00:00,  1.16it/s]\n"
     ]
    },
    {
     "name": "stdout",
     "output_type": "stream",
     "text": [
      "discriminator_loss :  0.5086749531328678\n",
      "gan_loss : [0.060904014855623245, 0.06081508472561836, 0.08892659097909927]\n",
      "--------------- Epoch 463 ---------------\n"
     ]
    },
    {
     "name": "stderr",
     "output_type": "stream",
     "text": [
      "100%|██████████| 6/6 [00:05<00:00,  1.10it/s]\n"
     ]
    },
    {
     "name": "stdout",
     "output_type": "stream",
     "text": [
      "discriminator_loss :  0.5078515224158764\n",
      "gan_loss : [0.0729699358344078, 0.07280954718589783, 0.16038869321346283]\n",
      "--------------- Epoch 464 ---------------\n"
     ]
    },
    {
     "name": "stderr",
     "output_type": "stream",
     "text": [
      "100%|██████████| 6/6 [00:06<00:00,  1.01s/it]\n"
     ]
    },
    {
     "name": "stdout",
     "output_type": "stream",
     "text": [
      "discriminator_loss :  0.46846021339297295\n",
      "gan_loss : [0.07969261705875397, 0.0796150341629982, 0.0775853767991066]\n",
      "--------------- Epoch 465 ---------------\n"
     ]
    },
    {
     "name": "stderr",
     "output_type": "stream",
     "text": [
      "100%|██████████| 6/6 [00:05<00:00,  1.15it/s]\n"
     ]
    },
    {
     "name": "stdout",
     "output_type": "stream",
     "text": [
      "discriminator_loss :  0.4838120825588703\n",
      "gan_loss : [0.0729241743683815, 0.07279065251350403, 0.1335182785987854]\n",
      "--------------- Epoch 466 ---------------\n"
     ]
    },
    {
     "name": "stderr",
     "output_type": "stream",
     "text": [
      "100%|██████████| 6/6 [00:05<00:00,  1.18it/s]\n"
     ]
    },
    {
     "name": "stdout",
     "output_type": "stream",
     "text": [
      "discriminator_loss :  0.5054476857185364\n",
      "gan_loss : [0.06543222069740295, 0.06532517075538635, 0.10705268383026123]\n",
      "--------------- Epoch 467 ---------------\n"
     ]
    },
    {
     "name": "stderr",
     "output_type": "stream",
     "text": [
      "100%|██████████| 6/6 [00:05<00:00,  1.12it/s]\n"
     ]
    },
    {
     "name": "stdout",
     "output_type": "stream",
     "text": [
      "discriminator_loss :  0.5065738745033741\n",
      "gan_loss : [0.06198916211724281, 0.06190678849816322, 0.08237356692552567]\n",
      "--------------- Epoch 468 ---------------\n"
     ]
    },
    {
     "name": "stderr",
     "output_type": "stream",
     "text": [
      "100%|██████████| 6/6 [00:05<00:00,  1.10it/s]\n"
     ]
    },
    {
     "name": "stdout",
     "output_type": "stream",
     "text": [
      "discriminator_loss :  0.4920816421508789\n",
      "gan_loss : [0.07098790258169174, 0.07088430225849152, 0.10359848290681839]\n",
      "--------------- Epoch 469 ---------------\n"
     ]
    },
    {
     "name": "stderr",
     "output_type": "stream",
     "text": [
      "100%|██████████| 6/6 [00:05<00:00,  1.12it/s]\n"
     ]
    },
    {
     "name": "stdout",
     "output_type": "stream",
     "text": [
      "discriminator_loss :  0.48451049253344536\n",
      "gan_loss : [0.06035877391695976, 0.0602564811706543, 0.10229089111089706]\n",
      "--------------- Epoch 470 ---------------\n"
     ]
    },
    {
     "name": "stderr",
     "output_type": "stream",
     "text": [
      "100%|██████████| 6/6 [00:05<00:00,  1.08it/s]\n"
     ]
    },
    {
     "name": "stdout",
     "output_type": "stream",
     "text": [
      "discriminator_loss :  0.5174879245460033\n",
      "gan_loss : [0.0826624259352684, 0.08255153149366379, 0.11089631170034409]\n",
      "--------------- Epoch 471 ---------------\n"
     ]
    },
    {
     "name": "stderr",
     "output_type": "stream",
     "text": [
      "100%|██████████| 6/6 [00:05<00:00,  1.13it/s]\n"
     ]
    },
    {
     "name": "stdout",
     "output_type": "stream",
     "text": [
      "discriminator_loss :  0.5329190120100975\n",
      "gan_loss : [0.0841096043586731, 0.08402886241674423, 0.08074615895748138]\n",
      "--------------- Epoch 472 ---------------\n"
     ]
    },
    {
     "name": "stderr",
     "output_type": "stream",
     "text": [
      "100%|██████████| 6/6 [00:05<00:00,  1.19it/s]\n"
     ]
    },
    {
     "name": "stdout",
     "output_type": "stream",
     "text": [
      "discriminator_loss :  0.49358293786644936\n",
      "gan_loss : [0.0849781408905983, 0.08489485830068588, 0.08329557627439499]\n",
      "--------------- Epoch 473 ---------------\n"
     ]
    },
    {
     "name": "stderr",
     "output_type": "stream",
     "text": [
      "100%|██████████| 6/6 [00:05<00:00,  1.12it/s]\n"
     ]
    },
    {
     "name": "stdout",
     "output_type": "stream",
     "text": [
      "discriminator_loss :  0.49998312443494797\n",
      "gan_loss : [0.06923294067382812, 0.06911349296569824, 0.11944720894098282]\n",
      "--------------- Epoch 474 ---------------\n"
     ]
    },
    {
     "name": "stderr",
     "output_type": "stream",
     "text": [
      "100%|██████████| 6/6 [00:05<00:00,  1.14it/s]\n"
     ]
    },
    {
     "name": "stdout",
     "output_type": "stream",
     "text": [
      "discriminator_loss :  0.483712624758482\n",
      "gan_loss : [0.06913913786411285, 0.06910329312086105, 0.03584418073296547]\n",
      "--------------- Epoch 475 ---------------\n"
     ]
    },
    {
     "name": "stderr",
     "output_type": "stream",
     "text": [
      "100%|██████████| 6/6 [00:05<00:00,  1.10it/s]\n"
     ]
    },
    {
     "name": "stdout",
     "output_type": "stream",
     "text": [
      "discriminator_loss :  0.4977131672203541\n",
      "gan_loss : [0.06146618723869324, 0.06134263798594475, 0.12354999780654907]\n",
      "--------------- Epoch 476 ---------------\n"
     ]
    },
    {
     "name": "stderr",
     "output_type": "stream",
     "text": [
      "100%|██████████| 6/6 [00:05<00:00,  1.11it/s]\n"
     ]
    },
    {
     "name": "stdout",
     "output_type": "stream",
     "text": [
      "discriminator_loss :  0.4912486970424652\n",
      "gan_loss : [0.06220616027712822, 0.06212259456515312, 0.08356904983520508]\n",
      "--------------- Epoch 477 ---------------\n"
     ]
    },
    {
     "name": "stderr",
     "output_type": "stream",
     "text": [
      "100%|██████████| 6/6 [00:05<00:00,  1.10it/s]\n"
     ]
    },
    {
     "name": "stdout",
     "output_type": "stream",
     "text": [
      "discriminator_loss :  0.4950771629810333\n",
      "gan_loss : [0.042665835469961166, 0.04256780818104744, 0.09802793711423874]\n",
      "--------------- Epoch 478 ---------------\n"
     ]
    },
    {
     "name": "stderr",
     "output_type": "stream",
     "text": [
      "100%|██████████| 6/6 [00:05<00:00,  1.16it/s]\n"
     ]
    },
    {
     "name": "stdout",
     "output_type": "stream",
     "text": [
      "discriminator_loss :  0.4789648521691561\n",
      "gan_loss : [0.053088024258613586, 0.0530124194920063, 0.07560016959905624]\n",
      "--------------- Epoch 479 ---------------\n"
     ]
    },
    {
     "name": "stderr",
     "output_type": "stream",
     "text": [
      "100%|██████████| 6/6 [00:05<00:00,  1.14it/s]\n"
     ]
    },
    {
     "name": "stdout",
     "output_type": "stream",
     "text": [
      "discriminator_loss :  0.5172196514904499\n",
      "gan_loss : [0.05759040638804436, 0.05745627358555794, 0.13413399457931519]\n",
      "--------------- Epoch 480 ---------------\n"
     ]
    },
    {
     "name": "stderr",
     "output_type": "stream",
     "text": [
      "100%|██████████| 6/6 [00:05<00:00,  1.15it/s]\n"
     ]
    },
    {
     "name": "stdout",
     "output_type": "stream",
     "text": [
      "discriminator_loss :  0.495245099067688\n",
      "gan_loss : [0.069302499294281, 0.06918980181217194, 0.11269917339086533]\n",
      "--------------- Epoch 481 ---------------\n"
     ]
    },
    {
     "name": "stderr",
     "output_type": "stream",
     "text": [
      "100%|██████████| 6/6 [00:05<00:00,  1.12it/s]\n"
     ]
    },
    {
     "name": "stdout",
     "output_type": "stream",
     "text": [
      "discriminator_loss :  0.4820702262222767\n",
      "gan_loss : [0.06181669235229492, 0.061740443110466, 0.07624834775924683]\n",
      "--------------- Epoch 482 ---------------\n"
     ]
    },
    {
     "name": "stderr",
     "output_type": "stream",
     "text": [
      "100%|██████████| 6/6 [00:05<00:00,  1.07it/s]\n"
     ]
    },
    {
     "name": "stdout",
     "output_type": "stream",
     "text": [
      "discriminator_loss :  0.5136365741491318\n",
      "gan_loss : [0.06536167860031128, 0.0652407854795456, 0.12089600414037704]\n",
      "--------------- Epoch 483 ---------------\n"
     ]
    },
    {
     "name": "stderr",
     "output_type": "stream",
     "text": [
      "100%|██████████| 6/6 [00:05<00:00,  1.18it/s]\n"
     ]
    },
    {
     "name": "stdout",
     "output_type": "stream",
     "text": [
      "discriminator_loss :  0.5324278175830841\n",
      "gan_loss : [0.06318001449108124, 0.06307940185070038, 0.10061347484588623]\n",
      "--------------- Epoch 484 ---------------\n"
     ]
    },
    {
     "name": "stderr",
     "output_type": "stream",
     "text": [
      "100%|██████████| 6/6 [00:05<00:00,  1.19it/s]\n"
     ]
    },
    {
     "name": "stdout",
     "output_type": "stream",
     "text": [
      "discriminator_loss :  0.4707908071577549\n",
      "gan_loss : [0.07303124666213989, 0.0729343444108963, 0.09689869731664658]\n",
      "--------------- Epoch 485 ---------------\n"
     ]
    },
    {
     "name": "stderr",
     "output_type": "stream",
     "text": [
      "100%|██████████| 6/6 [00:04<00:00,  1.20it/s]\n"
     ]
    },
    {
     "name": "stdout",
     "output_type": "stream",
     "text": [
      "discriminator_loss :  0.5167311131954193\n",
      "gan_loss : [0.08115145564079285, 0.08100160956382751, 0.14984643459320068]\n",
      "--------------- Epoch 486 ---------------\n"
     ]
    },
    {
     "name": "stderr",
     "output_type": "stream",
     "text": [
      "100%|██████████| 6/6 [00:05<00:00,  1.15it/s]\n"
     ]
    },
    {
     "name": "stdout",
     "output_type": "stream",
     "text": [
      "discriminator_loss :  0.5175956785678864\n",
      "gan_loss : [0.0796593502163887, 0.07956408709287643, 0.09526296705007553]\n",
      "--------------- Epoch 487 ---------------\n"
     ]
    },
    {
     "name": "stderr",
     "output_type": "stream",
     "text": [
      "100%|██████████| 6/6 [00:05<00:00,  1.18it/s]\n"
     ]
    },
    {
     "name": "stdout",
     "output_type": "stream",
     "text": [
      "discriminator_loss :  0.47673681750893593\n",
      "gan_loss : [0.0673227533698082, 0.06727048009634018, 0.05227385088801384]\n",
      "--------------- Epoch 488 ---------------\n"
     ]
    },
    {
     "name": "stderr",
     "output_type": "stream",
     "text": [
      "100%|██████████| 6/6 [00:05<00:00,  1.04it/s]\n"
     ]
    },
    {
     "name": "stdout",
     "output_type": "stream",
     "text": [
      "discriminator_loss :  0.5051295645534992\n",
      "gan_loss : [0.07199819386005402, 0.07191067934036255, 0.08751758188009262]\n",
      "--------------- Epoch 489 ---------------\n"
     ]
    },
    {
     "name": "stderr",
     "output_type": "stream",
     "text": [
      "100%|██████████| 6/6 [00:05<00:00,  1.14it/s]\n"
     ]
    },
    {
     "name": "stdout",
     "output_type": "stream",
     "text": [
      "discriminator_loss :  0.5158182606101036\n",
      "gan_loss : [0.0717327818274498, 0.07160261273384094, 0.13016633689403534]\n",
      "--------------- Epoch 490 ---------------\n"
     ]
    },
    {
     "name": "stderr",
     "output_type": "stream",
     "text": [
      "100%|██████████| 6/6 [00:05<00:00,  1.15it/s]\n"
     ]
    },
    {
     "name": "stdout",
     "output_type": "stream",
     "text": [
      "discriminator_loss :  0.4870670475065708\n",
      "gan_loss : [0.05688699707388878, 0.056811001151800156, 0.07599639147520065]\n",
      "--------------- Epoch 491 ---------------\n"
     ]
    },
    {
     "name": "stderr",
     "output_type": "stream",
     "text": [
      "100%|██████████| 6/6 [00:05<00:00,  1.17it/s]\n"
     ]
    },
    {
     "name": "stdout",
     "output_type": "stream",
     "text": [
      "discriminator_loss :  0.4836362265050411\n",
      "gan_loss : [0.05674004182219505, 0.05664495751261711, 0.0950852632522583]\n",
      "--------------- Epoch 492 ---------------\n"
     ]
    },
    {
     "name": "stderr",
     "output_type": "stream",
     "text": [
      "100%|██████████| 6/6 [00:05<00:00,  1.19it/s]\n"
     ]
    },
    {
     "name": "stdout",
     "output_type": "stream",
     "text": [
      "discriminator_loss :  0.47833436354994774\n",
      "gan_loss : [0.05087484046816826, 0.05077981948852539, 0.09501785784959793]\n",
      "--------------- Epoch 493 ---------------\n"
     ]
    },
    {
     "name": "stderr",
     "output_type": "stream",
     "text": [
      "100%|██████████| 6/6 [00:05<00:00,  1.18it/s]\n"
     ]
    },
    {
     "name": "stdout",
     "output_type": "stream",
     "text": [
      "discriminator_loss :  0.5102820545434952\n",
      "gan_loss : [0.07617050409317017, 0.07609257102012634, 0.07793287932872772]\n",
      "--------------- Epoch 494 ---------------\n"
     ]
    },
    {
     "name": "stderr",
     "output_type": "stream",
     "text": [
      "100%|██████████| 6/6 [00:05<00:00,  1.01it/s]\n"
     ]
    },
    {
     "name": "stdout",
     "output_type": "stream",
     "text": [
      "discriminator_loss :  0.49660173431038857\n",
      "gan_loss : [0.0771561786532402, 0.07704149931669235, 0.11467748880386353]\n",
      "--------------- Epoch 495 ---------------\n"
     ]
    },
    {
     "name": "stderr",
     "output_type": "stream",
     "text": [
      "100%|██████████| 6/6 [00:05<00:00,  1.11it/s]\n"
     ]
    },
    {
     "name": "stdout",
     "output_type": "stream",
     "text": [
      "discriminator_loss :  0.4863215684890747\n",
      "gan_loss : [0.0634659007191658, 0.06334683299064636, 0.11907080560922623]\n",
      "--------------- Epoch 496 ---------------\n"
     ]
    },
    {
     "name": "stderr",
     "output_type": "stream",
     "text": [
      "100%|██████████| 6/6 [00:05<00:00,  1.13it/s]\n"
     ]
    },
    {
     "name": "stdout",
     "output_type": "stream",
     "text": [
      "discriminator_loss :  0.5216516405344009\n",
      "gan_loss : [0.06928785890340805, 0.06915362179279327, 0.134237602353096]\n",
      "--------------- Epoch 497 ---------------\n"
     ]
    },
    {
     "name": "stderr",
     "output_type": "stream",
     "text": [
      "100%|██████████| 6/6 [00:05<00:00,  1.15it/s]\n"
     ]
    },
    {
     "name": "stdout",
     "output_type": "stream",
     "text": [
      "discriminator_loss :  0.5015269033610821\n",
      "gan_loss : [0.09112662076950073, 0.09103274345397949, 0.09387511014938354]\n",
      "--------------- Epoch 498 ---------------\n"
     ]
    },
    {
     "name": "stderr",
     "output_type": "stream",
     "text": [
      "100%|██████████| 6/6 [00:05<00:00,  1.13it/s]\n"
     ]
    },
    {
     "name": "stdout",
     "output_type": "stream",
     "text": [
      "discriminator_loss :  0.48949213698506355\n",
      "gan_loss : [0.08979672938585281, 0.08973515033721924, 0.06157746538519859]\n",
      "--------------- Epoch 499 ---------------\n"
     ]
    },
    {
     "name": "stderr",
     "output_type": "stream",
     "text": [
      "100%|██████████| 6/6 [00:05<00:00,  1.20it/s]\n"
     ]
    },
    {
     "name": "stdout",
     "output_type": "stream",
     "text": [
      "discriminator_loss :  0.4975813142955303\n",
      "gan_loss : [0.07190247625112534, 0.07178634405136108, 0.11613357812166214]\n",
      "--------------- Epoch 500 ---------------\n"
     ]
    },
    {
     "name": "stderr",
     "output_type": "stream",
     "text": [
      "100%|██████████| 6/6 [00:05<00:00,  1.08it/s]\n",
      "/opt/conda/lib/python3.7/site-packages/keras/utils/generic_utils.py:497: CustomMaskWarning: Custom mask layers require a config and must override get_config. When loading, the custom mask layer must be passed to the custom_objects argument.\n",
      "  category=CustomMaskWarning)\n",
      "2022-07-03 09:20:26.257082: W tensorflow/core/framework/cpu_allocator_impl.cc:80] Allocation of 1073741824 exceeds 10% of free system memory.\n"
     ]
    },
    {
     "name": "stdout",
     "output_type": "stream",
     "text": [
      "discriminator_loss :  0.4610885325819254\n",
      "gan_loss : [0.06670945137739182, 0.0666067823767662, 0.10266970843076706]\n"
     ]
    },
    {
     "name": "stderr",
     "output_type": "stream",
     "text": [
      "2022-07-03 09:20:27.467132: W tensorflow/core/framework/cpu_allocator_impl.cc:80] Allocation of 1073741824 exceeds 10% of free system memory.\n",
      "2022-07-03 09:20:31.763824: W tensorflow/core/framework/cpu_allocator_impl.cc:80] Allocation of 1073741824 exceeds 10% of free system memory.\n",
      "2022-07-03 09:20:36.236594: W tensorflow/core/framework/cpu_allocator_impl.cc:80] Allocation of 1073741824 exceeds 10% of free system memory.\n",
      "2022-07-03 09:20:38.360796: W tensorflow/core/framework/cpu_allocator_impl.cc:80] Allocation of 1073741824 exceeds 10% of free system memory.\n"
     ]
    }
   ],
   "source": [
    "train(epochs, batch_size, gt_dir, in_dir1, in_dir2, output_dir, model_save_dir, number_of_images, train_test_ratio)"
   ]
  },
  {
   "cell_type": "code",
   "execution_count": 14,
   "metadata": {
    "execution": {
     "iopub.execute_input": "2022-07-03T09:28:39.795186Z",
     "iopub.status.busy": "2022-07-03T09:28:39.794796Z",
     "iopub.status.idle": "2022-07-03T09:28:40.521698Z",
     "shell.execute_reply": "2022-07-03T09:28:40.520404Z",
     "shell.execute_reply.started": "2022-07-03T09:28:39.795147Z"
    },
    "papermill": {
     "duration": 1.183103,
     "end_time": "2022-06-22T06:21:02.099321",
     "exception": false,
     "start_time": "2022-06-22T06:21:00.916218",
     "status": "completed"
    },
    "tags": []
   },
   "outputs": [
    {
     "name": "stdout",
     "output_type": "stream",
     "text": [
      "__notebook_source__.ipynb  get_model500.h5  panorama\n",
      "dis_model500.h5\t\t   losses.txt\n"
     ]
    }
   ],
   "source": [
    "!ls "
   ]
  },
  {
   "cell_type": "code",
   "execution_count": 15,
   "metadata": {
    "execution": {
     "iopub.execute_input": "2022-07-03T09:28:43.309745Z",
     "iopub.status.busy": "2022-07-03T09:28:43.309363Z",
     "iopub.status.idle": "2022-07-03T09:28:43.314856Z",
     "shell.execute_reply": "2022-07-03T09:28:43.313871Z",
     "shell.execute_reply.started": "2022-07-03T09:28:43.309712Z"
    },
    "papermill": {
     "duration": 0.751699,
     "end_time": "2022-06-22T06:21:03.148188",
     "exception": false,
     "start_time": "2022-06-22T06:21:02.396489",
     "status": "completed"
    },
    "tags": []
   },
   "outputs": [],
   "source": [
    "out_dir = 'output'\n",
    "os.mkdir(out_dir)"
   ]
  },
  {
   "cell_type": "code",
   "execution_count": 16,
   "metadata": {
    "execution": {
     "iopub.execute_input": "2022-07-03T09:28:43.622770Z",
     "iopub.status.busy": "2022-07-03T09:28:43.622424Z",
     "iopub.status.idle": "2022-07-03T09:28:43.631912Z",
     "shell.execute_reply": "2022-07-03T09:28:43.630962Z",
     "shell.execute_reply.started": "2022-07-03T09:28:43.622742Z"
    },
    "id": "OTHCAuLFgmyZ",
    "papermill": {
     "duration": 0.363125,
     "end_time": "2022-06-22T06:21:03.811029",
     "exception": false,
     "start_time": "2022-06-22T06:21:03.447904",
     "status": "completed"
    },
    "tags": []
   },
   "outputs": [],
   "source": [
    "def test_model(gt_dir, in_dir1, in_dir2, model, number_of_images, output_dir):\n",
    "    \n",
    "    x_test_in, x_test_gt = load_test_data_for_model(gt_dir, in_dir1, in_dir2, 'jpg', number_of_images)\n",
    "    get_test_gen_images_for_model(output_dir, model, x_test_gt, x_test_in)\n",
    "\n",
    "def test_model_for_in_images(in_dir1, in_dir2 , model, number_of_images, output_dir):\n",
    "    x_test_in = load_test_data(in_dir1, in_dir2, 'jpg', number_of_images)\n",
    "    plot_test_gen_images(output_dir, model, x_test_in)"
   ]
  },
  {
   "cell_type": "code",
   "execution_count": null,
   "metadata": {
    "execution": {
     "iopub.execute_input": "2022-07-02T10:37:15.62068Z",
     "iopub.status.busy": "2022-07-02T10:37:15.620323Z",
     "iopub.status.idle": "2022-07-02T10:37:15.627212Z",
     "shell.execute_reply": "2022-07-02T10:37:15.62512Z",
     "shell.execute_reply.started": "2022-07-02T10:37:15.620649Z"
    },
    "id": "j91RMr1Tgmya",
    "papermill": {
     "duration": 0.307512,
     "end_time": "2022-06-22T06:21:04.417925",
     "exception": false,
     "start_time": "2022-06-22T06:21:04.110413",
     "status": "completed"
    },
    "tags": []
   },
   "outputs": [],
   "source": [
    "gt_dir = './panorama/hr/'\n",
    "in_dir1 = './panorama/lr1/'\n",
    "in_dir2 = './panorama/lr2/'\n",
    "output_dir = f'./{out_dir}/'\n",
    "model_dir = './get_model500.h5'\n",
    "number_of_images = 1"
   ]
  },
  {
   "cell_type": "code",
   "execution_count": null,
   "metadata": {
    "execution": {
     "iopub.execute_input": "2022-07-02T10:37:17.596379Z",
     "iopub.status.busy": "2022-07-02T10:37:17.596021Z"
    },
    "id": "Mvi_InQxgmya",
    "papermill": {
     "duration": 30.378261,
     "end_time": "2022-06-22T06:21:35.103255",
     "exception": false,
     "start_time": "2022-06-22T06:21:04.724994",
     "status": "completed"
    },
    "scrolled": true,
    "tags": []
   },
   "outputs": [],
   "source": [
    "loss = PERCEPTUAL_VGG_LOSS(image_shape)  \n",
    "model = load_model(model_dir , custom_objects={'vgg_loss': loss.vgg_loss})\n",
    " \n",
    "test_model(gt_dir, in_dir1, in_dir2, model, number_of_images, output_dir)\n",
    "# loss = PERCEPTUAL_VGG_LOSS(image_shape)  \n",
    "# model = load_model(model_dir , custom_objects={'vgg_loss': loss.vgg_loss})\n",
    " \n",
    "# test_model_for_in_images(in_dir1, in_dir2, model, number_of_images, output_dir)"
   ]
  },
  {
   "cell_type": "code",
   "execution_count": null,
   "metadata": {
    "execution": {
     "iopub.execute_input": "2022-06-23T05:01:32.63106Z",
     "iopub.status.busy": "2022-06-23T05:01:32.630174Z",
     "iopub.status.idle": "2022-06-23T05:01:33.347168Z",
     "shell.execute_reply": "2022-06-23T05:01:33.345978Z",
     "shell.execute_reply.started": "2022-06-23T05:01:32.631013Z"
    },
    "papermill": {
     "duration": 1.063501,
     "end_time": "2022-06-22T06:21:36.466011",
     "exception": false,
     "start_time": "2022-06-22T06:21:35.40251",
     "status": "completed"
    },
    "tags": []
   },
   "outputs": [],
   "source": [
    "!ls  test"
   ]
  },
  {
   "cell_type": "code",
   "execution_count": 67,
   "metadata": {
    "execution": {
     "iopub.execute_input": "2022-07-03T10:22:11.507874Z",
     "iopub.status.busy": "2022-07-03T10:22:11.507509Z",
     "iopub.status.idle": "2022-07-03T10:22:13.751731Z",
     "shell.execute_reply": "2022-07-03T10:22:13.750334Z",
     "shell.execute_reply.started": "2022-07-03T10:22:11.507844Z"
    },
    "papermill": {
     "duration": 0.311193,
     "end_time": "2022-06-22T06:21:37.074633",
     "exception": false,
     "start_time": "2022-06-22T06:21:36.76344",
     "status": "completed"
    },
    "tags": []
   },
   "outputs": [],
   "source": [
    "!rm -r testhr\n",
    "!rm -r test0\n",
    "!rm -r test"
   ]
  },
  {
   "cell_type": "code",
   "execution_count": 68,
   "metadata": {
    "execution": {
     "iopub.execute_input": "2022-07-03T10:22:13.754625Z",
     "iopub.status.busy": "2022-07-03T10:22:13.754292Z",
     "iopub.status.idle": "2022-07-03T10:22:13.763047Z",
     "shell.execute_reply": "2022-07-03T10:22:13.762081Z",
     "shell.execute_reply.started": "2022-07-03T10:22:13.754590Z"
    }
   },
   "outputs": [],
   "source": [
    "import os\n",
    "os.mkdir('test')"
   ]
  },
  {
   "cell_type": "code",
   "execution_count": 69,
   "metadata": {
    "execution": {
     "iopub.execute_input": "2022-07-03T10:22:13.765705Z",
     "iopub.status.busy": "2022-07-03T10:22:13.764906Z",
     "iopub.status.idle": "2022-07-03T10:22:13.770815Z",
     "shell.execute_reply": "2022-07-03T10:22:13.769515Z",
     "shell.execute_reply.started": "2022-07-03T10:22:13.765667Z"
    }
   },
   "outputs": [],
   "source": [
    "os.mkdir('test0')"
   ]
  },
  {
   "cell_type": "code",
   "execution_count": 70,
   "metadata": {
    "execution": {
     "iopub.execute_input": "2022-07-03T10:22:13.773837Z",
     "iopub.status.busy": "2022-07-03T10:22:13.773340Z",
     "iopub.status.idle": "2022-07-03T10:22:13.780531Z",
     "shell.execute_reply": "2022-07-03T10:22:13.779535Z",
     "shell.execute_reply.started": "2022-07-03T10:22:13.773798Z"
    }
   },
   "outputs": [],
   "source": [
    "os.mkdir('testhr')"
   ]
  },
  {
   "cell_type": "code",
   "execution_count": 71,
   "metadata": {
    "execution": {
     "iopub.execute_input": "2022-07-03T10:22:22.197845Z",
     "iopub.status.busy": "2022-07-03T10:22:22.197084Z",
     "iopub.status.idle": "2022-07-03T10:22:24.447331Z",
     "shell.execute_reply": "2022-07-03T10:22:24.446031Z",
     "shell.execute_reply.started": "2022-07-03T10:22:22.197809Z"
    }
   },
   "outputs": [],
   "source": [
    "!cp   ./panorama/lr2/043.jpg  ./test/043.jpg \n",
    "!cp   ./panorama/lr1/043.jpg  ./test0/043.jpg \n",
    "!cp   ./panorama/hr/043.jpg  ./testhr/043.jpg "
   ]
  },
  {
   "cell_type": "code",
   "execution_count": 64,
   "metadata": {
    "execution": {
     "iopub.execute_input": "2022-07-03T10:20:45.793246Z",
     "iopub.status.busy": "2022-07-03T10:20:45.792771Z",
     "iopub.status.idle": "2022-07-03T10:20:46.542568Z",
     "shell.execute_reply": "2022-07-03T10:20:46.541440Z",
     "shell.execute_reply.started": "2022-07-03T10:20:45.793200Z"
    }
   },
   "outputs": [
    {
     "name": "stdout",
     "output_type": "stream",
     "text": [
      "__notebook_source__.ipynb  losses.txt  test\t\t\t   testhr\n",
      "dis_model500.h5\t\t   output      test0\n",
      "get_model500.h5\t\t   panorama    test_generated_image_0.png\n"
     ]
    }
   ],
   "source": [
    "!ls"
   ]
  },
  {
   "cell_type": "code",
   "execution_count": null,
   "metadata": {
    "execution": {
     "iopub.execute_input": "2022-07-02T10:40:19.445266Z",
     "iopub.status.busy": "2022-07-02T10:40:19.44492Z",
     "iopub.status.idle": "2022-07-02T10:40:19.450548Z",
     "shell.execute_reply": "2022-07-02T10:40:19.449367Z",
     "shell.execute_reply.started": "2022-07-02T10:40:19.445225Z"
    },
    "id": "5qAhsVmurpia",
    "papermill": {
     "duration": 0.306344,
     "end_time": "2022-06-22T06:21:37.683481",
     "exception": false,
     "start_time": "2022-06-22T06:21:37.377137",
     "status": "completed"
    },
    "tags": []
   },
   "outputs": [],
   "source": [
    "# !zip -r output.zip output"
   ]
  },
  {
   "cell_type": "code",
   "execution_count": 72,
   "metadata": {
    "execution": {
     "iopub.execute_input": "2022-07-03T10:22:24.450281Z",
     "iopub.status.busy": "2022-07-03T10:22:24.449884Z",
     "iopub.status.idle": "2022-07-03T10:22:24.456301Z",
     "shell.execute_reply": "2022-07-03T10:22:24.455036Z",
     "shell.execute_reply.started": "2022-07-03T10:22:24.450243Z"
    }
   },
   "outputs": [],
   "source": [
    "gt_dir = './testhr/'\n",
    "in_dir1 = './test0/'\n",
    "in_dir2 = './test/'\n",
    "\n",
    "output_dir = './'\n",
    "model_dir = './get_model500.h5'\n",
    "number_of_images = 1"
   ]
  },
  {
   "cell_type": "code",
   "execution_count": 73,
   "metadata": {
    "execution": {
     "iopub.execute_input": "2022-07-03T10:22:25.939896Z",
     "iopub.status.busy": "2022-07-03T10:22:25.939558Z",
     "iopub.status.idle": "2022-07-03T10:22:27.271974Z",
     "shell.execute_reply": "2022-07-03T10:22:27.271009Z",
     "shell.execute_reply.started": "2022-07-03T10:22:25.939867Z"
    },
    "papermill": {
     "duration": 0.296832,
     "end_time": "2022-06-22T06:21:38.278019",
     "exception": false,
     "start_time": "2022-06-22T06:21:37.981187",
     "status": "completed"
    },
    "scrolled": true,
    "tags": []
   },
   "outputs": [
    {
     "name": "stdout",
     "output_type": "stream",
     "text": [
      "(480, 1247, 3)\n",
      "(480, 1247, 3)\n",
      "(480, 1247, 3)\n"
     ]
    }
   ],
   "source": [
    "loss = PERCEPTUAL_VGG_LOSS((image_shape[0], image_shape[1], 3))  \n",
    "model = load_model(model_dir , custom_objects={'vgg_loss': loss.vgg_loss, 'charbonnier_loss':charbonnier_loss})\n",
    " \n",
    "test_model(gt_dir, in_dir1, in_dir2, model, number_of_images, output_dir)"
   ]
  },
  {
   "cell_type": "code",
   "execution_count": null,
   "metadata": {},
   "outputs": [],
   "source": [
    "!ls"
   ]
  },
  {
   "cell_type": "code",
   "execution_count": null,
   "metadata": {},
   "outputs": [],
   "source": []
  }
 ],
 "metadata": {
  "kernelspec": {
   "display_name": "Python 3 (ipykernel)",
   "language": "python",
   "name": "python3"
  },
  "language_info": {
   "codemirror_mode": {
    "name": "ipython",
    "version": 3
   },
   "file_extension": ".py",
   "mimetype": "text/x-python",
   "name": "python",
   "nbconvert_exporter": "python",
   "pygments_lexer": "ipython3",
   "version": "3.9.7"
  }
 },
 "nbformat": 4,
 "nbformat_minor": 4
}
